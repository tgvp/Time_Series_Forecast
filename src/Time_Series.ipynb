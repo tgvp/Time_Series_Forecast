{
 "cells": [
  {
   "attachments": {},
   "cell_type": "markdown",
   "metadata": {},
   "source": [
    "### Importando libraries"
   ]
  },
  {
   "cell_type": "code",
   "execution_count": 184,
   "metadata": {
    "vscode": {
     "languageId": "r"
    }
   },
   "outputs": [],
   "source": [
    "library(rlang)"
   ]
  },
  {
   "cell_type": "code",
   "execution_count": 185,
   "metadata": {
    "vscode": {
     "languageId": "r"
    }
   },
   "outputs": [],
   "source": [
    "library(ggfortify)"
   ]
  },
  {
   "cell_type": "code",
   "execution_count": 186,
   "metadata": {
    "vscode": {
     "languageId": "r"
    }
   },
   "outputs": [],
   "source": [
    "library(ggcorrplot)"
   ]
  },
  {
   "cell_type": "code",
   "execution_count": 187,
   "metadata": {
    "vscode": {
     "languageId": "r"
    }
   },
   "outputs": [],
   "source": [
    "library(dplyr)"
   ]
  },
  {
   "cell_type": "code",
   "execution_count": 188,
   "metadata": {
    "vscode": {
     "languageId": "r"
    }
   },
   "outputs": [],
   "source": [
    "library(tsibble)\n",
    "library(forecast)\n",
    "library(ggplot2)"
   ]
  },
  {
   "cell_type": "code",
   "execution_count": 189,
   "metadata": {
    "vscode": {
     "languageId": "r"
    }
   },
   "outputs": [],
   "source": [
    "library(fpp3)"
   ]
  },
  {
   "attachments": {},
   "cell_type": "markdown",
   "metadata": {},
   "source": [
    "### Explorando os dados"
   ]
  },
  {
   "cell_type": "code",
   "execution_count": 190,
   "metadata": {
    "vscode": {
     "languageId": "r"
    }
   },
   "outputs": [
    {
     "data": {
      "text/html": [
       "<table class=\"dataframe\">\n",
       "<caption>A data.frame: 6 × 21</caption>\n",
       "<thead>\n",
       "\t<tr><th></th><th scope=col>Row.ID</th><th scope=col>Order.ID</th><th scope=col>Order.Date</th><th scope=col>Ship.Date</th><th scope=col>Ship.Mode</th><th scope=col>Customer.ID</th><th scope=col>Customer.Name</th><th scope=col>Segment</th><th scope=col>Country</th><th scope=col>City</th><th scope=col>...</th><th scope=col>Postal.Code</th><th scope=col>Region</th><th scope=col>Product.ID</th><th scope=col>Category</th><th scope=col>Sub.Category</th><th scope=col>Product.Name</th><th scope=col>Sales</th><th scope=col>Quantity</th><th scope=col>Discount</th><th scope=col>Profit</th></tr>\n",
       "\t<tr><th></th><th scope=col>&lt;int&gt;</th><th scope=col>&lt;chr&gt;</th><th scope=col>&lt;chr&gt;</th><th scope=col>&lt;chr&gt;</th><th scope=col>&lt;chr&gt;</th><th scope=col>&lt;chr&gt;</th><th scope=col>&lt;chr&gt;</th><th scope=col>&lt;chr&gt;</th><th scope=col>&lt;chr&gt;</th><th scope=col>&lt;chr&gt;</th><th scope=col>...</th><th scope=col>&lt;int&gt;</th><th scope=col>&lt;chr&gt;</th><th scope=col>&lt;chr&gt;</th><th scope=col>&lt;chr&gt;</th><th scope=col>&lt;chr&gt;</th><th scope=col>&lt;chr&gt;</th><th scope=col>&lt;dbl&gt;</th><th scope=col>&lt;int&gt;</th><th scope=col>&lt;dbl&gt;</th><th scope=col>&lt;dbl&gt;</th></tr>\n",
       "</thead>\n",
       "<tbody>\n",
       "\t<tr><th scope=row>1</th><td>1</td><td>CA-2016-152156</td><td>2016/11/08</td><td>2016/11/11</td><td>Second Class  </td><td>CG-12520</td><td>Claire Gute    </td><td>Consumer </td><td>United States</td><td>Henderson      </td><td>...</td><td>42420</td><td>South</td><td>FUR-BO-10001798</td><td>Furniture      </td><td>Bookcases  </td><td>Bush Somerset Collection Bookcase                               </td><td>261.9600</td><td>2</td><td>0.00</td><td>  41.9136</td></tr>\n",
       "\t<tr><th scope=row>2</th><td>2</td><td>CA-2016-152156</td><td>2016/11/08</td><td>2016/11/11</td><td>Second Class  </td><td>CG-12520</td><td>Claire Gute    </td><td>Consumer </td><td>United States</td><td>Henderson      </td><td>...</td><td>42420</td><td>South</td><td>FUR-CH-10000454</td><td>Furniture      </td><td>Chairs     </td><td>Hon Deluxe Fabric Upholstered Stacking Chairs, Rounded Back     </td><td>731.9400</td><td>3</td><td>0.00</td><td> 219.5820</td></tr>\n",
       "\t<tr><th scope=row>3</th><td>3</td><td>CA-2016-138688</td><td>2016/06/12</td><td>2016/06/16</td><td>Second Class  </td><td>DV-13045</td><td>Darrin Van Huff</td><td>Corporate</td><td>United States</td><td>Los Angeles    </td><td>...</td><td>90036</td><td>West </td><td>OFF-LA-10000240</td><td>Office Supplies</td><td>Labels     </td><td>Self-Adhesive Address Labels for Typewriters by Universal       </td><td> 14.6200</td><td>2</td><td>0.00</td><td>   6.8714</td></tr>\n",
       "\t<tr><th scope=row>4</th><td>4</td><td>US-2015-108966</td><td>2015/10/11</td><td>2015/10/18</td><td>Standard Class</td><td>SO-20335</td><td>Sean O'Donnell </td><td>Consumer </td><td>United States</td><td>Fort Lauderdale</td><td>...</td><td>33311</td><td>South</td><td>FUR-TA-10000577</td><td>Furniture      </td><td>Tables     </td><td>Bretford CR4500 Series Slim Rectangular Table                   </td><td>957.5775</td><td>5</td><td>0.45</td><td>-383.0310</td></tr>\n",
       "\t<tr><th scope=row>5</th><td>5</td><td>US-2015-108966</td><td>2015/10/11</td><td>2015/10/18</td><td>Standard Class</td><td>SO-20335</td><td>Sean O'Donnell </td><td>Consumer </td><td>United States</td><td>Fort Lauderdale</td><td>...</td><td>33311</td><td>South</td><td>OFF-ST-10000760</td><td>Office Supplies</td><td>Storage    </td><td>Eldon Fold 'N Roll Cart System                                  </td><td> 22.3680</td><td>2</td><td>0.20</td><td>   2.5164</td></tr>\n",
       "\t<tr><th scope=row>6</th><td>6</td><td>CA-2014-115812</td><td>2014/06/09</td><td>2014/06/14</td><td>Standard Class</td><td>BH-11710</td><td>Brosina Hoffman</td><td>Consumer </td><td>United States</td><td>Los Angeles    </td><td>...</td><td>90032</td><td>West </td><td>FUR-FU-10001487</td><td>Furniture      </td><td>Furnishings</td><td>Eldon Expressions Wood and Plastic Desk Accessories, Cherry Wood</td><td> 48.8600</td><td>7</td><td>0.00</td><td>  14.1694</td></tr>\n",
       "</tbody>\n",
       "</table>\n"
      ],
      "text/latex": [
       "A data.frame: 6 × 21\n",
       "\\begin{tabular}{r|lllllllllllllllllllll}\n",
       "  & Row.ID & Order.ID & Order.Date & Ship.Date & Ship.Mode & Customer.ID & Customer.Name & Segment & Country & City & ... & Postal.Code & Region & Product.ID & Category & Sub.Category & Product.Name & Sales & Quantity & Discount & Profit\\\\\n",
       "  & <int> & <chr> & <chr> & <chr> & <chr> & <chr> & <chr> & <chr> & <chr> & <chr> & ... & <int> & <chr> & <chr> & <chr> & <chr> & <chr> & <dbl> & <int> & <dbl> & <dbl>\\\\\n",
       "\\hline\n",
       "\t1 & 1 & CA-2016-152156 & 2016/11/08 & 2016/11/11 & Second Class   & CG-12520 & Claire Gute     & Consumer  & United States & Henderson       & ... & 42420 & South & FUR-BO-10001798 & Furniture       & Bookcases   & Bush Somerset Collection Bookcase                                & 261.9600 & 2 & 0.00 &   41.9136\\\\\n",
       "\t2 & 2 & CA-2016-152156 & 2016/11/08 & 2016/11/11 & Second Class   & CG-12520 & Claire Gute     & Consumer  & United States & Henderson       & ... & 42420 & South & FUR-CH-10000454 & Furniture       & Chairs      & Hon Deluxe Fabric Upholstered Stacking Chairs, Rounded Back      & 731.9400 & 3 & 0.00 &  219.5820\\\\\n",
       "\t3 & 3 & CA-2016-138688 & 2016/06/12 & 2016/06/16 & Second Class   & DV-13045 & Darrin Van Huff & Corporate & United States & Los Angeles     & ... & 90036 & West  & OFF-LA-10000240 & Office Supplies & Labels      & Self-Adhesive Address Labels for Typewriters by Universal        &  14.6200 & 2 & 0.00 &    6.8714\\\\\n",
       "\t4 & 4 & US-2015-108966 & 2015/10/11 & 2015/10/18 & Standard Class & SO-20335 & Sean O'Donnell  & Consumer  & United States & Fort Lauderdale & ... & 33311 & South & FUR-TA-10000577 & Furniture       & Tables      & Bretford CR4500 Series Slim Rectangular Table                    & 957.5775 & 5 & 0.45 & -383.0310\\\\\n",
       "\t5 & 5 & US-2015-108966 & 2015/10/11 & 2015/10/18 & Standard Class & SO-20335 & Sean O'Donnell  & Consumer  & United States & Fort Lauderdale & ... & 33311 & South & OFF-ST-10000760 & Office Supplies & Storage     & Eldon Fold 'N Roll Cart System                                   &  22.3680 & 2 & 0.20 &    2.5164\\\\\n",
       "\t6 & 6 & CA-2014-115812 & 2014/06/09 & 2014/06/14 & Standard Class & BH-11710 & Brosina Hoffman & Consumer  & United States & Los Angeles     & ... & 90032 & West  & FUR-FU-10001487 & Furniture       & Furnishings & Eldon Expressions Wood and Plastic Desk Accessories, Cherry Wood &  48.8600 & 7 & 0.00 &   14.1694\\\\\n",
       "\\end{tabular}\n"
      ],
      "text/markdown": [
       "\n",
       "A data.frame: 6 × 21\n",
       "\n",
       "| <!--/--> | Row.ID &lt;int&gt; | Order.ID &lt;chr&gt; | Order.Date &lt;chr&gt; | Ship.Date &lt;chr&gt; | Ship.Mode &lt;chr&gt; | Customer.ID &lt;chr&gt; | Customer.Name &lt;chr&gt; | Segment &lt;chr&gt; | Country &lt;chr&gt; | City &lt;chr&gt; | ... ... | Postal.Code &lt;int&gt; | Region &lt;chr&gt; | Product.ID &lt;chr&gt; | Category &lt;chr&gt; | Sub.Category &lt;chr&gt; | Product.Name &lt;chr&gt; | Sales &lt;dbl&gt; | Quantity &lt;int&gt; | Discount &lt;dbl&gt; | Profit &lt;dbl&gt; |\n",
       "|---|---|---|---|---|---|---|---|---|---|---|---|---|---|---|---|---|---|---|---|---|---|\n",
       "| 1 | 1 | CA-2016-152156 | 2016/11/08 | 2016/11/11 | Second Class   | CG-12520 | Claire Gute     | Consumer  | United States | Henderson       | ... | 42420 | South | FUR-BO-10001798 | Furniture       | Bookcases   | Bush Somerset Collection Bookcase                                | 261.9600 | 2 | 0.00 |   41.9136 |\n",
       "| 2 | 2 | CA-2016-152156 | 2016/11/08 | 2016/11/11 | Second Class   | CG-12520 | Claire Gute     | Consumer  | United States | Henderson       | ... | 42420 | South | FUR-CH-10000454 | Furniture       | Chairs      | Hon Deluxe Fabric Upholstered Stacking Chairs, Rounded Back      | 731.9400 | 3 | 0.00 |  219.5820 |\n",
       "| 3 | 3 | CA-2016-138688 | 2016/06/12 | 2016/06/16 | Second Class   | DV-13045 | Darrin Van Huff | Corporate | United States | Los Angeles     | ... | 90036 | West  | OFF-LA-10000240 | Office Supplies | Labels      | Self-Adhesive Address Labels for Typewriters by Universal        |  14.6200 | 2 | 0.00 |    6.8714 |\n",
       "| 4 | 4 | US-2015-108966 | 2015/10/11 | 2015/10/18 | Standard Class | SO-20335 | Sean O'Donnell  | Consumer  | United States | Fort Lauderdale | ... | 33311 | South | FUR-TA-10000577 | Furniture       | Tables      | Bretford CR4500 Series Slim Rectangular Table                    | 957.5775 | 5 | 0.45 | -383.0310 |\n",
       "| 5 | 5 | US-2015-108966 | 2015/10/11 | 2015/10/18 | Standard Class | SO-20335 | Sean O'Donnell  | Consumer  | United States | Fort Lauderdale | ... | 33311 | South | OFF-ST-10000760 | Office Supplies | Storage     | Eldon Fold 'N Roll Cart System                                   |  22.3680 | 2 | 0.20 |    2.5164 |\n",
       "| 6 | 6 | CA-2014-115812 | 2014/06/09 | 2014/06/14 | Standard Class | BH-11710 | Brosina Hoffman | Consumer  | United States | Los Angeles     | ... | 90032 | West  | FUR-FU-10001487 | Furniture       | Furnishings | Eldon Expressions Wood and Plastic Desk Accessories, Cherry Wood |  48.8600 | 7 | 0.00 |   14.1694 |\n",
       "\n"
      ],
      "text/plain": [
       "  Row.ID Order.ID       Order.Date Ship.Date \n",
       "1 1      CA-2016-152156 2016/11/08 2016/11/11\n",
       "2 2      CA-2016-152156 2016/11/08 2016/11/11\n",
       "3 3      CA-2016-138688 2016/06/12 2016/06/16\n",
       "4 4      US-2015-108966 2015/10/11 2015/10/18\n",
       "5 5      US-2015-108966 2015/10/11 2015/10/18\n",
       "6 6      CA-2014-115812 2014/06/09 2014/06/14\n",
       "  Ship.Mode      Customer.ID Customer.Name   Segment  \n",
       "1 Second Class   CG-12520    Claire Gute     Consumer \n",
       "2 Second Class   CG-12520    Claire Gute     Consumer \n",
       "3 Second Class   DV-13045    Darrin Van Huff Corporate\n",
       "4 Standard Class SO-20335    Sean O'Donnell  Consumer \n",
       "5 Standard Class SO-20335    Sean O'Donnell  Consumer \n",
       "6 Standard Class BH-11710    Brosina Hoffman Consumer \n",
       "  Country       City            ... Postal.Code Region\n",
       "1 United States Henderson       ... 42420       South \n",
       "2 United States Henderson       ... 42420       South \n",
       "3 United States Los Angeles     ... 90036       West  \n",
       "4 United States Fort Lauderdale ... 33311       South \n",
       "5 United States Fort Lauderdale ... 33311       South \n",
       "6 United States Los Angeles     ... 90032       West  \n",
       "  Product.ID      Category        Sub.Category\n",
       "1 FUR-BO-10001798 Furniture       Bookcases   \n",
       "2 FUR-CH-10000454 Furniture       Chairs      \n",
       "3 OFF-LA-10000240 Office Supplies Labels      \n",
       "4 FUR-TA-10000577 Furniture       Tables      \n",
       "5 OFF-ST-10000760 Office Supplies Storage     \n",
       "6 FUR-FU-10001487 Furniture       Furnishings \n",
       "  Product.Name                                                    \n",
       "1 Bush Somerset Collection Bookcase                               \n",
       "2 Hon Deluxe Fabric Upholstered Stacking Chairs, Rounded Back     \n",
       "3 Self-Adhesive Address Labels for Typewriters by Universal       \n",
       "4 Bretford CR4500 Series Slim Rectangular Table                   \n",
       "5 Eldon Fold 'N Roll Cart System                                  \n",
       "6 Eldon Expressions Wood and Plastic Desk Accessories, Cherry Wood\n",
       "  Sales    Quantity Discount Profit   \n",
       "1 261.9600 2        0.00       41.9136\n",
       "2 731.9400 3        0.00      219.5820\n",
       "3  14.6200 2        0.00        6.8714\n",
       "4 957.5775 5        0.45     -383.0310\n",
       "5  22.3680 2        0.20        2.5164\n",
       "6  48.8600 7        0.00       14.1694"
      ]
     },
     "metadata": {},
     "output_type": "display_data"
    }
   ],
   "source": [
    "# read dataset from csv file and ignore rows with NA values and empty strings or columns with NA values or empty values\n",
    "\n",
    "df <- read.csv(\"../data/Dataset- Superstore (2015-2018).csv\", header = TRUE, sep = \",\", stringsAsFactors = FALSE, na.strings=c(\"\",\"NA\"), dec = \".\", strip.white = TRUE, fileEncoding = \"UTF-8-BOM\", encoding = \"UTF-8\")\n",
    "head(df)"
   ]
  },
  {
   "cell_type": "code",
   "execution_count": 191,
   "metadata": {
    "vscode": {
     "languageId": "r"
    }
   },
   "outputs": [
    {
     "data": {
      "text/html": [
       "<style>\n",
       ".list-inline {list-style: none; margin:0; padding: 0}\n",
       ".list-inline>li {display: inline-block}\n",
       ".list-inline>li:not(:last-child)::after {content: \"\\00b7\"; padding: 0 .5ex}\n",
       "</style>\n",
       "<ol class=list-inline><li>9994</li><li>21</li></ol>\n"
      ],
      "text/latex": [
       "\\begin{enumerate*}\n",
       "\\item 9994\n",
       "\\item 21\n",
       "\\end{enumerate*}\n"
      ],
      "text/markdown": [
       "1. 9994\n",
       "2. 21\n",
       "\n",
       "\n"
      ],
      "text/plain": [
       "[1] 9994   21"
      ]
     },
     "metadata": {},
     "output_type": "display_data"
    }
   ],
   "source": [
    "# dimensão do dataset (linhas x colunas)\n",
    "dim(df)"
   ]
  },
  {
   "cell_type": "code",
   "execution_count": 192,
   "metadata": {
    "vscode": {
     "languageId": "r"
    }
   },
   "outputs": [
    {
     "name": "stdout",
     "output_type": "stream",
     "text": [
      "'data.frame':\t9994 obs. of  21 variables:\n",
      " $ Row.ID       : int  1 2 3 4 5 6 7 8 9 10 ...\n",
      " $ Order.ID     : chr  \"CA-2016-152156\" \"CA-2016-152156\" \"CA-2016-138688\" \"US-2015-108966\" ...\n",
      " $ Order.Date   : chr  \"2016/11/08\" \"2016/11/08\" \"2016/06/12\" \"2015/10/11\" ...\n",
      " $ Ship.Date    : chr  \"2016/11/11\" \"2016/11/11\" \"2016/06/16\" \"2015/10/18\" ...\n",
      " $ Ship.Mode    : chr  \"Second Class\" \"Second Class\" \"Second Class\" \"Standard Class\" ...\n",
      " $ Customer.ID  : chr  \"CG-12520\" \"CG-12520\" \"DV-13045\" \"SO-20335\" ...\n",
      " $ Customer.Name: chr  \"Claire Gute\" \"Claire Gute\" \"Darrin Van Huff\" \"Sean O'Donnell\" ...\n",
      " $ Segment      : chr  \"Consumer\" \"Consumer\" \"Corporate\" \"Consumer\" ...\n",
      " $ Country      : chr  \"United States\" \"United States\" \"United States\" \"United States\" ...\n",
      " $ City         : chr  \"Henderson\" \"Henderson\" \"Los Angeles\" \"Fort Lauderdale\" ...\n",
      " $ State        : chr  \"Kentucky\" \"Kentucky\" \"California\" \"Florida\" ...\n",
      " $ Postal.Code  : int  42420 42420 90036 33311 33311 90032 90032 90032 90032 90032 ...\n",
      " $ Region       : chr  \"South\" \"South\" \"West\" \"South\" ...\n",
      " $ Product.ID   : chr  \"FUR-BO-10001798\" \"FUR-CH-10000454\" \"OFF-LA-10000240\" \"FUR-TA-10000577\" ...\n",
      " $ Category     : chr  \"Furniture\" \"Furniture\" \"Office Supplies\" \"Furniture\" ...\n",
      " $ Sub.Category : chr  \"Bookcases\" \"Chairs\" \"Labels\" \"Tables\" ...\n",
      " $ Product.Name : chr  \"Bush Somerset Collection Bookcase\" \"Hon Deluxe Fabric Upholstered Stacking Chairs, Rounded Back\" \"Self-Adhesive Address Labels for Typewriters by Universal\" \"Bretford CR4500 Series Slim Rectangular Table\" ...\n",
      " $ Sales        : num  262 731.9 14.6 957.6 22.4 ...\n",
      " $ Quantity     : int  2 3 2 5 2 7 4 6 3 5 ...\n",
      " $ Discount     : num  0 0 0 0.45 0.2 0 0 0.2 0.2 0 ...\n",
      " $ Profit       : num  41.91 219.58 6.87 -383.03 2.52 ...\n"
     ]
    }
   ],
   "source": [
    "# info do dataset\n",
    "str(df)"
   ]
  },
  {
   "cell_type": "code",
   "execution_count": 193,
   "metadata": {
    "vscode": {
     "languageId": "r"
    }
   },
   "outputs": [
    {
     "data": {
      "text/plain": [
       "     Row.ID       Order.ID          Order.Date       \n",
       " Min.   :   1   Length:9994        Length:9994       \n",
       " 1st Qu.:2499   Class :character   Class :character  \n",
       " Median :4998   Mode  :character   Mode  :character  \n",
       " Mean   :4998                                        \n",
       " 3rd Qu.:7496                                        \n",
       " Max.   :9994                                        \n",
       "  Ship.Date          Ship.Mode         Customer.ID       \n",
       " Length:9994        Length:9994        Length:9994       \n",
       " Class :character   Class :character   Class :character  \n",
       " Mode  :character   Mode  :character   Mode  :character  \n",
       "                                                         \n",
       "                                                         \n",
       "                                                         \n",
       " Customer.Name        Segment            Country         \n",
       " Length:9994        Length:9994        Length:9994       \n",
       " Class :character   Class :character   Class :character  \n",
       " Mode  :character   Mode  :character   Mode  :character  \n",
       "                                                         \n",
       "                                                         \n",
       "                                                         \n",
       "     City              State            Postal.Code   \n",
       " Length:9994        Length:9994        Min.   : 1040  \n",
       " Class :character   Class :character   1st Qu.:23223  \n",
       " Mode  :character   Mode  :character   Median :56431  \n",
       "                                       Mean   :55190  \n",
       "                                       3rd Qu.:90008  \n",
       "                                       Max.   :99301  \n",
       "    Region           Product.ID          Category        \n",
       " Length:9994        Length:9994        Length:9994       \n",
       " Class :character   Class :character   Class :character  \n",
       " Mode  :character   Mode  :character   Mode  :character  \n",
       "                                                         \n",
       "                                                         \n",
       "                                                         \n",
       " Sub.Category       Product.Name           Sales          \n",
       " Length:9994        Length:9994        Min.   :    0.444  \n",
       " Class :character   Class :character   1st Qu.:   17.280  \n",
       " Mode  :character   Mode  :character   Median :   54.490  \n",
       "                                       Mean   :  229.858  \n",
       "                                       3rd Qu.:  209.940  \n",
       "                                       Max.   :22638.480  \n",
       "    Quantity        Discount          Profit         \n",
       " Min.   : 1.00   Min.   :0.0000   Min.   :-6599.978  \n",
       " 1st Qu.: 2.00   1st Qu.:0.0000   1st Qu.:    1.729  \n",
       " Median : 3.00   Median :0.2000   Median :    8.666  \n",
       " Mean   : 3.79   Mean   :0.1562   Mean   :   28.657  \n",
       " 3rd Qu.: 5.00   3rd Qu.:0.2000   3rd Qu.:   29.364  \n",
       " Max.   :14.00   Max.   :0.8000   Max.   : 8399.976  "
      ]
     },
     "metadata": {},
     "output_type": "display_data"
    }
   ],
   "source": [
    "# dataset summary\n",
    "summary(df)"
   ]
  },
  {
   "attachments": {},
   "cell_type": "markdown",
   "metadata": {},
   "source": [
    "Tipos de dados por coluna"
   ]
  },
  {
   "cell_type": "code",
   "execution_count": 194,
   "metadata": {
    "vscode": {
     "languageId": "r"
    }
   },
   "outputs": [
    {
     "data": {
      "text/plain": [
       "\n",
       "character   integer   numeric \n",
       "       15         3         3 "
      ]
     },
     "metadata": {},
     "output_type": "display_data"
    }
   ],
   "source": [
    "table(sapply(df, class))"
   ]
  },
  {
   "attachments": {},
   "cell_type": "markdown",
   "metadata": {},
   "source": [
    "`Unique values` em cada coluna"
   ]
  },
  {
   "cell_type": "code",
   "execution_count": 195,
   "metadata": {
    "vscode": {
     "languageId": "r"
    }
   },
   "outputs": [
    {
     "data": {
      "text/html": [
       "<style>\n",
       ".dl-inline {width: auto; margin:0; padding: 0}\n",
       ".dl-inline>dt, .dl-inline>dd {float: none; width: auto; display: inline-block}\n",
       ".dl-inline>dt::after {content: \":\\0020\"; padding-right: .5ex}\n",
       ".dl-inline>dt:not(:first-of-type) {padding-left: .5ex}\n",
       "</style><dl class=dl-inline><dt>Row.ID</dt><dd>9994</dd><dt>Order.ID</dt><dd>5009</dd><dt>Order.Date</dt><dd>1237</dd><dt>Ship.Date</dt><dd>1334</dd><dt>Ship.Mode</dt><dd>4</dd><dt>Customer.ID</dt><dd>793</dd><dt>Customer.Name</dt><dd>793</dd><dt>Segment</dt><dd>3</dd><dt>Country</dt><dd>1</dd><dt>City</dt><dd>531</dd><dt>State</dt><dd>49</dd><dt>Postal.Code</dt><dd>631</dd><dt>Region</dt><dd>4</dd><dt>Product.ID</dt><dd>1862</dd><dt>Category</dt><dd>3</dd><dt>Sub.Category</dt><dd>17</dd><dt>Product.Name</dt><dd>1850</dd><dt>Sales</dt><dd>5825</dd><dt>Quantity</dt><dd>14</dd><dt>Discount</dt><dd>12</dd><dt>Profit</dt><dd>7287</dd></dl>\n"
      ],
      "text/latex": [
       "\\begin{description*}\n",
       "\\item[Row.ID] 9994\n",
       "\\item[Order.ID] 5009\n",
       "\\item[Order.Date] 1237\n",
       "\\item[Ship.Date] 1334\n",
       "\\item[Ship.Mode] 4\n",
       "\\item[Customer.ID] 793\n",
       "\\item[Customer.Name] 793\n",
       "\\item[Segment] 3\n",
       "\\item[Country] 1\n",
       "\\item[City] 531\n",
       "\\item[State] 49\n",
       "\\item[Postal.Code] 631\n",
       "\\item[Region] 4\n",
       "\\item[Product.ID] 1862\n",
       "\\item[Category] 3\n",
       "\\item[Sub.Category] 17\n",
       "\\item[Product.Name] 1850\n",
       "\\item[Sales] 5825\n",
       "\\item[Quantity] 14\n",
       "\\item[Discount] 12\n",
       "\\item[Profit] 7287\n",
       "\\end{description*}\n"
      ],
      "text/markdown": [
       "Row.ID\n",
       ":   9994Order.ID\n",
       ":   5009Order.Date\n",
       ":   1237Ship.Date\n",
       ":   1334Ship.Mode\n",
       ":   4Customer.ID\n",
       ":   793Customer.Name\n",
       ":   793Segment\n",
       ":   3Country\n",
       ":   1City\n",
       ":   531State\n",
       ":   49Postal.Code\n",
       ":   631Region\n",
       ":   4Product.ID\n",
       ":   1862Category\n",
       ":   3Sub.Category\n",
       ":   17Product.Name\n",
       ":   1850Sales\n",
       ":   5825Quantity\n",
       ":   14Discount\n",
       ":   12Profit\n",
       ":   7287\n",
       "\n"
      ],
      "text/plain": [
       "       Row.ID      Order.ID    Order.Date     Ship.Date \n",
       "         9994          5009          1237          1334 \n",
       "    Ship.Mode   Customer.ID Customer.Name       Segment \n",
       "            4           793           793             3 \n",
       "      Country          City         State   Postal.Code \n",
       "            1           531            49           631 \n",
       "       Region    Product.ID      Category  Sub.Category \n",
       "            4          1862             3            17 \n",
       " Product.Name         Sales      Quantity      Discount \n",
       "         1850          5825            14            12 \n",
       "       Profit \n",
       "         7287 "
      ]
     },
     "metadata": {},
     "output_type": "display_data"
    }
   ],
   "source": [
    "sapply(df, function(x) length(unique(x)))"
   ]
  },
  {
   "attachments": {},
   "cell_type": "markdown",
   "metadata": {},
   "source": [
    "Procurando por missing values"
   ]
  },
  {
   "cell_type": "code",
   "execution_count": 196,
   "metadata": {
    "vscode": {
     "languageId": "r"
    }
   },
   "outputs": [
    {
     "data": {
      "text/html": [
       "<style>\n",
       ".dl-inline {width: auto; margin:0; padding: 0}\n",
       ".dl-inline>dt, .dl-inline>dd {float: none; width: auto; display: inline-block}\n",
       ".dl-inline>dt::after {content: \":\\0020\"; padding-right: .5ex}\n",
       ".dl-inline>dt:not(:first-of-type) {padding-left: .5ex}\n",
       "</style><dl class=dl-inline><dt>Row.ID</dt><dd>0</dd><dt>Order.ID</dt><dd>0</dd><dt>Order.Date</dt><dd>0</dd><dt>Ship.Date</dt><dd>0</dd><dt>Ship.Mode</dt><dd>0</dd><dt>Customer.ID</dt><dd>0</dd><dt>Customer.Name</dt><dd>0</dd><dt>Segment</dt><dd>0</dd><dt>Country</dt><dd>0</dd><dt>City</dt><dd>0</dd><dt>State</dt><dd>0</dd><dt>Postal.Code</dt><dd>0</dd><dt>Region</dt><dd>0</dd><dt>Product.ID</dt><dd>0</dd><dt>Category</dt><dd>0</dd><dt>Sub.Category</dt><dd>0</dd><dt>Product.Name</dt><dd>0</dd><dt>Sales</dt><dd>0</dd><dt>Quantity</dt><dd>0</dd><dt>Discount</dt><dd>0</dd><dt>Profit</dt><dd>0</dd></dl>\n"
      ],
      "text/latex": [
       "\\begin{description*}\n",
       "\\item[Row.ID] 0\n",
       "\\item[Order.ID] 0\n",
       "\\item[Order.Date] 0\n",
       "\\item[Ship.Date] 0\n",
       "\\item[Ship.Mode] 0\n",
       "\\item[Customer.ID] 0\n",
       "\\item[Customer.Name] 0\n",
       "\\item[Segment] 0\n",
       "\\item[Country] 0\n",
       "\\item[City] 0\n",
       "\\item[State] 0\n",
       "\\item[Postal.Code] 0\n",
       "\\item[Region] 0\n",
       "\\item[Product.ID] 0\n",
       "\\item[Category] 0\n",
       "\\item[Sub.Category] 0\n",
       "\\item[Product.Name] 0\n",
       "\\item[Sales] 0\n",
       "\\item[Quantity] 0\n",
       "\\item[Discount] 0\n",
       "\\item[Profit] 0\n",
       "\\end{description*}\n"
      ],
      "text/markdown": [
       "Row.ID\n",
       ":   0Order.ID\n",
       ":   0Order.Date\n",
       ":   0Ship.Date\n",
       ":   0Ship.Mode\n",
       ":   0Customer.ID\n",
       ":   0Customer.Name\n",
       ":   0Segment\n",
       ":   0Country\n",
       ":   0City\n",
       ":   0State\n",
       ":   0Postal.Code\n",
       ":   0Region\n",
       ":   0Product.ID\n",
       ":   0Category\n",
       ":   0Sub.Category\n",
       ":   0Product.Name\n",
       ":   0Sales\n",
       ":   0Quantity\n",
       ":   0Discount\n",
       ":   0Profit\n",
       ":   0\n",
       "\n"
      ],
      "text/plain": [
       "       Row.ID      Order.ID    Order.Date     Ship.Date \n",
       "            0             0             0             0 \n",
       "    Ship.Mode   Customer.ID Customer.Name       Segment \n",
       "            0             0             0             0 \n",
       "      Country          City         State   Postal.Code \n",
       "            0             0             0             0 \n",
       "       Region    Product.ID      Category  Sub.Category \n",
       "            0             0             0             0 \n",
       " Product.Name         Sales      Quantity      Discount \n",
       "            0             0             0             0 \n",
       "       Profit \n",
       "            0 "
      ]
     },
     "metadata": {},
     "output_type": "display_data"
    }
   ],
   "source": [
    "sapply(df, function(x) sum(is.na(x)))"
   ]
  },
  {
   "cell_type": "code",
   "execution_count": 197,
   "metadata": {
    "vscode": {
     "languageId": "r"
    }
   },
   "outputs": [
    {
     "name": "stdout",
     "output_type": "stream",
     "text": [
      "Total de missing values: 0"
     ]
    }
   ],
   "source": [
    " cat(\"Total de missing values:\", sum(is.na(df)))"
   ]
  },
  {
   "attachments": {},
   "cell_type": "markdown",
   "metadata": {},
   "source": [
    "Procurando por outliers em Sales"
   ]
  },
  {
   "cell_type": "code",
   "execution_count": 243,
   "metadata": {
    "vscode": {
     "languageId": "r"
    }
   },
   "outputs": [
    {
     "data": {
      "image/png": "[encoded data removed]",
      "text/plain": [
       "Plot with title \"Boxplot de Vendas\""
      ]
     },
     "metadata": {
      "image/png": {
       "height": 420,
       "width": 420
      }
     },
     "output_type": "display_data"
    }
   ],
   "source": [
    "# procurando por outliers em Sales\n",
    "boxplot(df$Sales, main=\"Boxplot de Vendas\", ylab=\"Vendas\")\n",
    "\n",
    "# TODO: verificar o que fazer quanto a isto - TG"
   ]
  },
  {
   "attachments": {},
   "cell_type": "markdown",
   "metadata": {},
   "source": [
    "Convertendo as colunas \"Order.Date\" e Ship.Date que est'ao como `<chr>` para `<date>`"
   ]
  },
  {
   "cell_type": "code",
   "execution_count": 199,
   "metadata": {
    "vscode": {
     "languageId": "r"
    }
   },
   "outputs": [],
   "source": [
    "# Transformar a coluna \"Order.Date\" e Ship.Date em objeto de data\n",
    "df$Order.Date <- as_date(df$Order.Date)\n",
    "df$Ship.Date <- as_date(df$Ship.Date)"
   ]
  },
  {
   "attachments": {},
   "cell_type": "markdown",
   "metadata": {},
   "source": []
  },
  {
   "cell_type": "code",
   "execution_count": 200,
   "metadata": {
    "vscode": {
     "languageId": "r"
    }
   },
   "outputs": [
    {
     "name": "stdout",
     "output_type": "stream",
     "text": [
      "[1] \"Linhas duplicadas encontradas:\"\n",
      "\u001b[90m# A tibble: 2,471 x 3\u001b[39m\n",
      "\u001b[90m# Groups:   Order.ID [2,471]\u001b[39m\n",
      "   Order.ID       Order.Date     n\n",
      "   \u001b[3m\u001b[90m<chr>\u001b[39m\u001b[23m          \u001b[3m\u001b[90m<date>\u001b[39m\u001b[23m     \u001b[3m\u001b[90m<int>\u001b[39m\u001b[23m\n",
      "\u001b[90m 1\u001b[39m CA-2014-100090 2014-07-08     2\n",
      "\u001b[90m 2\u001b[39m CA-2014-100363 2014-04-08     2\n",
      "\u001b[90m 3\u001b[39m CA-2014-100678 2014-04-18     4\n",
      "\u001b[90m 4\u001b[39m CA-2014-100706 2014-12-16     2\n",
      "\u001b[90m 5\u001b[39m CA-2014-100762 2014-11-24     4\n",
      "\u001b[90m 6\u001b[39m CA-2014-100895 2014-06-02     3\n",
      "\u001b[90m 7\u001b[39m CA-2014-100916 2014-10-21     3\n",
      "\u001b[90m 8\u001b[39m CA-2014-101560 2014-11-28     4\n",
      "\u001b[90m 9\u001b[39m CA-2014-101602 2014-12-15     2\n",
      "\u001b[90m10\u001b[39m CA-2014-101931 2014-10-28     5\n",
      "\u001b[90m# i 2,461 more rows\u001b[39m\n",
      "[1] \"Linhas duplicadas removidas.\"\n"
     ]
    }
   ],
   "source": [
    "# Verificar e remover linhas duplicadas\n",
    "dupes <- df %>%\n",
    "  group_by(Order.ID, Order.Date) %>%\n",
    "  \n",
    "  # Contar o número de linhas duplicadas da combinacão de Order.ID e Order.Date\n",
    "  tally() %>%\n",
    "  \n",
    "  # Filtrar apenas as linhas duplicadas - ocorrências maiores que 1\n",
    "  filter(n > 1)\n",
    "\n",
    "# Se houver linhas duplicadas, remover as linhas duplicadas\n",
    "if (nrow(dupes) > 0) {\n",
    "  print(\"Linhas duplicadas encontradas:\")\n",
    "  print(dupes)\n",
    "  df <- df %>%\n",
    "    # Remover linhas duplicadas - distinct mantém a primeira ocorrência\n",
    "    distinct(Order.ID, Order.Date, .keep_all = TRUE)\n",
    "  print(\"Linhas duplicadas removidas.\")\n",
    "}\n",
    "\n",
    "# Transformar o data.frame em um objeto tsibble\n",
    "tsib <- as_tsibble(df, key = Order.ID, index = Order.Date)"
   ]
  },
  {
   "attachments": {},
   "cell_type": "markdown",
   "metadata": {},
   "source": [
    "Convertendo para tsibble e testando o plot"
   ]
  },
  {
   "cell_type": "code",
   "execution_count": 201,
   "metadata": {
    "vscode": {
     "languageId": "r"
    }
   },
   "outputs": [
    {
     "data": {
      "image/png": "[encoded data removed]",
      "text/plain": [
       "plot without title"
      ]
     },
     "metadata": {
      "image/png": {
       "height": 420,
       "width": 420
      }
     },
     "output_type": "display_data"
    }
   ],
   "source": [
    "df_ts <- df %>%\n",
    "  select(Order.Date, Sales) %>%\n",
    "  group_by(Order.Date) %>%\n",
    "  summarise(Sales = sum(Sales)) %>%\n",
    "  ungroup() %>%\n",
    "  mutate(Order.Date = as.Date(Order.Date)) %>%\n",
    "  as_tsibble(index = Order.Date)\n",
    "\n",
    "df_ts %>%\n",
    "  autoplot(Sales) +\n",
    "  ggtitle(\"Vendas por data\") +\n",
    "  geom_line()\n"
   ]
  },
  {
   "cell_type": "code",
   "execution_count": 205,
   "metadata": {
    "vscode": {
     "languageId": "r"
    }
   },
   "outputs": [
    {
     "data": {
      "text/html": [
       "<table class=\"dataframe\">\n",
       "<caption>A tbl_ts: 6 × 21</caption>\n",
       "<thead>\n",
       "\t<tr><th scope=col>Row.ID</th><th scope=col>Order.ID</th><th scope=col>Order.Date</th><th scope=col>Ship.Date</th><th scope=col>Ship.Mode</th><th scope=col>Customer.ID</th><th scope=col>Customer.Name</th><th scope=col>Segment</th><th scope=col>Country</th><th scope=col>City</th><th scope=col>...</th><th scope=col>Postal.Code</th><th scope=col>Region</th><th scope=col>Product.ID</th><th scope=col>Category</th><th scope=col>Sub.Category</th><th scope=col>Product.Name</th><th scope=col>Sales</th><th scope=col>Quantity</th><th scope=col>Discount</th><th scope=col>Profit</th></tr>\n",
       "\t<tr><th scope=col>&lt;int&gt;</th><th scope=col>&lt;chr&gt;</th><th scope=col>&lt;date&gt;</th><th scope=col>&lt;date&gt;</th><th scope=col>&lt;chr&gt;</th><th scope=col>&lt;chr&gt;</th><th scope=col>&lt;chr&gt;</th><th scope=col>&lt;chr&gt;</th><th scope=col>&lt;chr&gt;</th><th scope=col>&lt;chr&gt;</th><th scope=col>...</th><th scope=col>&lt;int&gt;</th><th scope=col>&lt;chr&gt;</th><th scope=col>&lt;chr&gt;</th><th scope=col>&lt;chr&gt;</th><th scope=col>&lt;chr&gt;</th><th scope=col>&lt;chr&gt;</th><th scope=col>&lt;dbl&gt;</th><th scope=col>&lt;int&gt;</th><th scope=col>&lt;dbl&gt;</th><th scope=col>&lt;dbl&gt;</th></tr>\n",
       "</thead>\n",
       "<tbody>\n",
       "\t<tr><td>2718</td><td>CA-2014-100006</td><td>2014-09-07</td><td>2014-09-13</td><td>Standard Class</td><td>DK-13375</td><td><span style=white-space:pre-wrap>Dennis Kane        </span></td><td><span style=white-space:pre-wrap>Consumer   </span></td><td>United States</td><td>New York City</td><td>...</td><td>10024</td><td>East </td><td>TEC-PH-10002075</td><td><span style=white-space:pre-wrap>Technology     </span></td><td><span style=white-space:pre-wrap>Phones   </span></td><td><span style=white-space:pre-wrap>AT&amp;T EL51110 DECT                                             </span></td><td>377.970</td><td>3</td><td>0.0</td><td>109.6113</td></tr>\n",
       "\t<tr><td>6288</td><td>CA-2014-100090</td><td>2014-07-08</td><td>2014-07-12</td><td>Standard Class</td><td>EB-13705</td><td>Ed Braxton         </td><td>Corporate  </td><td>United States</td><td>San Francisco</td><td>...</td><td>94122</td><td>West </td><td>FUR-TA-10003715</td><td>Furniture      </td><td>Tables   </td><td>Hon 2111 Invitation Series Corner Table                       </td><td>502.488</td><td>3</td><td>0.2</td><td>-87.9354</td></tr>\n",
       "\t<tr><td>9515</td><td>CA-2014-100293</td><td>2014-03-14</td><td>2014-03-18</td><td>Standard Class</td><td>NF-18475</td><td>Neil Franz&lt;f6&gt;sisch</td><td>Home Office</td><td>United States</td><td>Jacksonville </td><td>...</td><td>32216</td><td>South</td><td>OFF-PA-10000176</td><td>Office Supplies</td><td><span style=white-space:pre-wrap>Paper    </span></td><td><span style=white-space:pre-wrap>Xerox 1887                                                    </span></td><td> 91.056</td><td>6</td><td>0.2</td><td> 31.8696</td></tr>\n",
       "\t<tr><td>3084</td><td>CA-2014-100328</td><td>2014-01-28</td><td>2014-02-03</td><td>Standard Class</td><td>JC-15340</td><td>Jasper Cacioppo    </td><td>Consumer   </td><td>United States</td><td>New York City</td><td>...</td><td>10024</td><td>East </td><td>OFF-BI-10000343</td><td>Office Supplies</td><td>Binders  </td><td>Pressboard Covers with Storage Hooks, 9 1/2\" x 11\", Light Blue</td><td>  3.928</td><td>1</td><td>0.2</td><td>  1.3257</td></tr>\n",
       "\t<tr><td>3836</td><td>CA-2014-100363</td><td>2014-04-08</td><td>2014-04-15</td><td>Standard Class</td><td>JM-15655</td><td>Jim Mitchum        </td><td>Corporate  </td><td>United States</td><td>Glendale     </td><td>...</td><td>85301</td><td>West </td><td>OFF-FA-10000611</td><td>Office Supplies</td><td>Fasteners</td><td>Binder Clips by OIC                                           </td><td>  2.368</td><td>2</td><td>0.2</td><td>  0.8288</td></tr>\n",
       "\t<tr><td>9441</td><td>CA-2014-100391</td><td>2014-05-25</td><td>2014-05-29</td><td>Standard Class</td><td>BW-11065</td><td>Barry Weirich      </td><td>Consumer   </td><td>United States</td><td>New York City</td><td>...</td><td>10035</td><td>East </td><td>OFF-PA-10001471</td><td>Office Supplies</td><td>Paper    </td><td>Strathmore Photo Frame Cards                                  </td><td> 14.620</td><td>2</td><td>0.0</td><td>  6.7252</td></tr>\n",
       "</tbody>\n",
       "</table>\n"
      ],
      "text/latex": [
       "A tbl\\_ts: 6 × 21\n",
       "\\begin{tabular}{lllllllllllllllllllll}\n",
       " Row.ID & Order.ID & Order.Date & Ship.Date & Ship.Mode & Customer.ID & Customer.Name & Segment & Country & City & ... & Postal.Code & Region & Product.ID & Category & Sub.Category & Product.Name & Sales & Quantity & Discount & Profit\\\\\n",
       " <int> & <chr> & <date> & <date> & <chr> & <chr> & <chr> & <chr> & <chr> & <chr> & ... & <int> & <chr> & <chr> & <chr> & <chr> & <chr> & <dbl> & <int> & <dbl> & <dbl>\\\\\n",
       "\\hline\n",
       "\t 2718 & CA-2014-100006 & 2014-09-07 & 2014-09-13 & Standard Class & DK-13375 & Dennis Kane         & Consumer    & United States & New York City & ... & 10024 & East  & TEC-PH-10002075 & Technology      & Phones    & AT\\&T EL51110 DECT                                              & 377.970 & 3 & 0.0 & 109.6113\\\\\n",
       "\t 6288 & CA-2014-100090 & 2014-07-08 & 2014-07-12 & Standard Class & EB-13705 & Ed Braxton          & Corporate   & United States & San Francisco & ... & 94122 & West  & FUR-TA-10003715 & Furniture       & Tables    & Hon 2111 Invitation Series Corner Table                        & 502.488 & 3 & 0.2 & -87.9354\\\\\n",
       "\t 9515 & CA-2014-100293 & 2014-03-14 & 2014-03-18 & Standard Class & NF-18475 & Neil Franz<f6>sisch & Home Office & United States & Jacksonville  & ... & 32216 & South & OFF-PA-10000176 & Office Supplies & Paper     & Xerox 1887                                                     &  91.056 & 6 & 0.2 &  31.8696\\\\\n",
       "\t 3084 & CA-2014-100328 & 2014-01-28 & 2014-02-03 & Standard Class & JC-15340 & Jasper Cacioppo     & Consumer    & United States & New York City & ... & 10024 & East  & OFF-BI-10000343 & Office Supplies & Binders   & Pressboard Covers with Storage Hooks, 9 1/2\" x 11\", Light Blue &   3.928 & 1 & 0.2 &   1.3257\\\\\n",
       "\t 3836 & CA-2014-100363 & 2014-04-08 & 2014-04-15 & Standard Class & JM-15655 & Jim Mitchum         & Corporate   & United States & Glendale      & ... & 85301 & West  & OFF-FA-10000611 & Office Supplies & Fasteners & Binder Clips by OIC                                            &   2.368 & 2 & 0.2 &   0.8288\\\\\n",
       "\t 9441 & CA-2014-100391 & 2014-05-25 & 2014-05-29 & Standard Class & BW-11065 & Barry Weirich       & Consumer    & United States & New York City & ... & 10035 & East  & OFF-PA-10001471 & Office Supplies & Paper     & Strathmore Photo Frame Cards                                   &  14.620 & 2 & 0.0 &   6.7252\\\\\n",
       "\\end{tabular}\n"
      ],
      "text/markdown": [
       "\n",
       "A tbl_ts: 6 × 21\n",
       "\n",
       "| Row.ID &lt;int&gt; | Order.ID &lt;chr&gt; | Order.Date &lt;date&gt; | Ship.Date &lt;date&gt; | Ship.Mode &lt;chr&gt; | Customer.ID &lt;chr&gt; | Customer.Name &lt;chr&gt; | Segment &lt;chr&gt; | Country &lt;chr&gt; | City &lt;chr&gt; | ... ... | Postal.Code &lt;int&gt; | Region &lt;chr&gt; | Product.ID &lt;chr&gt; | Category &lt;chr&gt; | Sub.Category &lt;chr&gt; | Product.Name &lt;chr&gt; | Sales &lt;dbl&gt; | Quantity &lt;int&gt; | Discount &lt;dbl&gt; | Profit &lt;dbl&gt; |\n",
       "|---|---|---|---|---|---|---|---|---|---|---|---|---|---|---|---|---|---|---|---|---|\n",
       "| 2718 | CA-2014-100006 | 2014-09-07 | 2014-09-13 | Standard Class | DK-13375 | Dennis Kane         | Consumer    | United States | New York City | ... | 10024 | East  | TEC-PH-10002075 | Technology      | Phones    | AT&amp;T EL51110 DECT                                              | 377.970 | 3 | 0.0 | 109.6113 |\n",
       "| 6288 | CA-2014-100090 | 2014-07-08 | 2014-07-12 | Standard Class | EB-13705 | Ed Braxton          | Corporate   | United States | San Francisco | ... | 94122 | West  | FUR-TA-10003715 | Furniture       | Tables    | Hon 2111 Invitation Series Corner Table                        | 502.488 | 3 | 0.2 | -87.9354 |\n",
       "| 9515 | CA-2014-100293 | 2014-03-14 | 2014-03-18 | Standard Class | NF-18475 | Neil Franz&lt;f6&gt;sisch | Home Office | United States | Jacksonville  | ... | 32216 | South | OFF-PA-10000176 | Office Supplies | Paper     | Xerox 1887                                                     |  91.056 | 6 | 0.2 |  31.8696 |\n",
       "| 3084 | CA-2014-100328 | 2014-01-28 | 2014-02-03 | Standard Class | JC-15340 | Jasper Cacioppo     | Consumer    | United States | New York City | ... | 10024 | East  | OFF-BI-10000343 | Office Supplies | Binders   | Pressboard Covers with Storage Hooks, 9 1/2\" x 11\", Light Blue |   3.928 | 1 | 0.2 |   1.3257 |\n",
       "| 3836 | CA-2014-100363 | 2014-04-08 | 2014-04-15 | Standard Class | JM-15655 | Jim Mitchum         | Corporate   | United States | Glendale      | ... | 85301 | West  | OFF-FA-10000611 | Office Supplies | Fasteners | Binder Clips by OIC                                            |   2.368 | 2 | 0.2 |   0.8288 |\n",
       "| 9441 | CA-2014-100391 | 2014-05-25 | 2014-05-29 | Standard Class | BW-11065 | Barry Weirich       | Consumer    | United States | New York City | ... | 10035 | East  | OFF-PA-10001471 | Office Supplies | Paper     | Strathmore Photo Frame Cards                                   |  14.620 | 2 | 0.0 |   6.7252 |\n",
       "\n"
      ],
      "text/plain": [
       "  Row.ID Order.ID       Order.Date Ship.Date \n",
       "1 2718   CA-2014-100006 2014-09-07 2014-09-13\n",
       "2 6288   CA-2014-100090 2014-07-08 2014-07-12\n",
       "3 9515   CA-2014-100293 2014-03-14 2014-03-18\n",
       "4 3084   CA-2014-100328 2014-01-28 2014-02-03\n",
       "5 3836   CA-2014-100363 2014-04-08 2014-04-15\n",
       "6 9441   CA-2014-100391 2014-05-25 2014-05-29\n",
       "  Ship.Mode      Customer.ID Customer.Name      \n",
       "1 Standard Class DK-13375    Dennis Kane        \n",
       "2 Standard Class EB-13705    Ed Braxton         \n",
       "3 Standard Class NF-18475    Neil Franz<f6>sisch\n",
       "4 Standard Class JC-15340    Jasper Cacioppo    \n",
       "5 Standard Class JM-15655    Jim Mitchum        \n",
       "6 Standard Class BW-11065    Barry Weirich      \n",
       "  Segment     Country       City          ... Postal.Code\n",
       "1 Consumer    United States New York City ... 10024      \n",
       "2 Corporate   United States San Francisco ... 94122      \n",
       "3 Home Office United States Jacksonville  ... 32216      \n",
       "4 Consumer    United States New York City ... 10024      \n",
       "5 Corporate   United States Glendale      ... 85301      \n",
       "6 Consumer    United States New York City ... 10035      \n",
       "  Region Product.ID      Category        Sub.Category\n",
       "1 East   TEC-PH-10002075 Technology      Phones      \n",
       "2 West   FUR-TA-10003715 Furniture       Tables      \n",
       "3 South  OFF-PA-10000176 Office Supplies Paper       \n",
       "4 East   OFF-BI-10000343 Office Supplies Binders     \n",
       "5 West   OFF-FA-10000611 Office Supplies Fasteners   \n",
       "6 East   OFF-PA-10001471 Office Supplies Paper       \n",
       "  Product.Name                                                  \n",
       "1 AT&T EL51110 DECT                                             \n",
       "2 Hon 2111 Invitation Series Corner Table                       \n",
       "3 Xerox 1887                                                    \n",
       "4 Pressboard Covers with Storage Hooks, 9 1/2\" x 11\", Light Blue\n",
       "5 Binder Clips by OIC                                           \n",
       "6 Strathmore Photo Frame Cards                                  \n",
       "  Sales   Quantity Discount Profit  \n",
       "1 377.970 3        0.0      109.6113\n",
       "2 502.488 3        0.2      -87.9354\n",
       "3  91.056 6        0.2       31.8696\n",
       "4   3.928 1        0.2        1.3257\n",
       "5   2.368 2        0.2        0.8288\n",
       "6  14.620 2        0.0        6.7252"
      ]
     },
     "metadata": {},
     "output_type": "display_data"
    }
   ],
   "source": [
    "head(tsib)"
   ]
  },
  {
   "attachments": {},
   "cell_type": "markdown",
   "metadata": {},
   "source": [
    "Estudando a `autocorrelação` e `ACF`"
   ]
  },
  {
   "cell_type": "code",
   "execution_count": 206,
   "metadata": {
    "vscode": {
     "languageId": "r"
    }
   },
   "outputs": [
    {
     "data": {
      "image/png": "[encoded data removed]",
      "text/plain": [
       "plot without title"
      ]
     },
     "metadata": {
      "image/png": {
       "height": 420,
       "width": 420
      }
     },
     "output_type": "display_data"
    }
   ],
   "source": [
    "# Criar a matriz de correlação\n",
    "cor_matrix <- cor(df[,c(\"Sales\", \"Quantity\", \"Discount\", \"Profit\")])\n",
    "\n",
    "# Plotar a matriz de correlação\n",
    "ggcorrplot(cor_matrix, hc.order = TRUE, type = \"upper\", lab = TRUE)"
   ]
  },
  {
   "attachments": {},
   "cell_type": "markdown",
   "metadata": {},
   "source": [
    "- Verifica-se uma correlação `positiva maior` entre as `vendas` e o `lucro`\n",
    "- Verifica-se uma correlação `negativa` entre o `lucro` e `desconto`\n",
    "- Verifica-se uma correlação `positiva modesta` entre a `quantidade` e `vendas`\n",
    "- Verifica-se uma correlação `negativa tênue` entre a `vendas` e `desconto`\n",
    "- Verifica-se uma correlação `positiva tênue` entre a `quantidade` e `desconto`"
   ]
  },
  {
   "cell_type": "code",
   "execution_count": 207,
   "metadata": {
    "vscode": {
     "languageId": "r"
    }
   },
   "outputs": [
    {
     "data": {
      "image/png": "[encoded data removed]",
      "text/plain": [
       "plot without title"
      ]
     },
     "metadata": {
      "image/png": {
       "height": 420,
       "width": 420
      }
     },
     "output_type": "display_data"
    }
   ],
   "source": [
    "# Plotando a ACF de \"Sales\"\n",
    "ggAcf(tsib$Sales)"
   ]
  },
  {
   "attachments": {},
   "cell_type": "markdown",
   "metadata": {},
   "source": [
    "Aumentando o lag para tentar identificar padrões"
   ]
  },
  {
   "cell_type": "code",
   "execution_count": 208,
   "metadata": {
    "vscode": {
     "languageId": "r"
    }
   },
   "outputs": [
    {
     "data": {
      "image/png": "[encoded data removed]",
      "text/plain": [
       "plot without title"
      ]
     },
     "metadata": {
      "image/png": {
       "height": 420,
       "width": 420
      }
     },
     "output_type": "display_data"
    }
   ],
   "source": [
    "# aumentando o lag para visualizar mais gerações\n",
    "ggAcf(tsib$Sales, lag.max = 100)"
   ]
  },
  {
   "attachments": {},
   "cell_type": "markdown",
   "metadata": {},
   "source": [
    "Verificando Profit"
   ]
  },
  {
   "cell_type": "code",
   "execution_count": 209,
   "metadata": {
    "vscode": {
     "languageId": "r"
    }
   },
   "outputs": [
    {
     "data": {
      "image/png": "[encoded data removed]",
      "text/plain": [
       "plot without title"
      ]
     },
     "metadata": {
      "image/png": {
       "height": 420,
       "width": 420
      }
     },
     "output_type": "display_data"
    }
   ],
   "source": [
    "ggAcf(tsib$Profit, lag.max = 100)"
   ]
  },
  {
   "attachments": {},
   "cell_type": "markdown",
   "metadata": {},
   "source": [
    "Verificando o comportamento de `Sales`, `Quantity`, `Profit` e `Discount` com agregamento mensal"
   ]
  },
  {
   "cell_type": "code",
   "execution_count": 210,
   "metadata": {
    "vscode": {
     "languageId": "r"
    }
   },
   "outputs": [
    {
     "data": {
      "text/html": [
       "<table class=\"dataframe\">\n",
       "<caption>A tbl_ts: 48 × 5</caption>\n",
       "<thead>\n",
       "\t<tr><th scope=col>year_month</th><th scope=col>Sales</th><th scope=col>Quantity</th><th scope=col>Profit</th><th scope=col>Discount</th></tr>\n",
       "\t<tr><th scope=col>&lt;dbl&gt;</th><th scope=col>&lt;dbl&gt;</th><th scope=col>&lt;int&gt;</th><th scope=col>&lt;dbl&gt;</th><th scope=col>&lt;dbl&gt;</th></tr>\n",
       "</thead>\n",
       "<tbody>\n",
       "\t<tr><td>201401</td><td> 6417.102</td><td> 114</td><td> 1322.8412</td><td> 4.45</td></tr>\n",
       "\t<tr><td>201402</td><td> 1860.736</td><td> 104</td><td>  547.6046</td><td> 5.90</td></tr>\n",
       "\t<tr><td>201403</td><td>19023.950</td><td> 250</td><td> 1212.3814</td><td>11.90</td></tr>\n",
       "\t<tr><td>201404</td><td>12415.656</td><td> 249</td><td> 1897.6388</td><td> 6.80</td></tr>\n",
       "\t<tr><td>201405</td><td>15939.349</td><td> 272</td><td> 2116.0751</td><td>10.95</td></tr>\n",
       "\t<tr><td>201406</td><td>13837.698</td><td> 275</td><td> 2724.4740</td><td>10.40</td></tr>\n",
       "\t<tr><td>201407</td><td>13562.944</td><td> 231</td><td>-2199.3749</td><td>10.00</td></tr>\n",
       "\t<tr><td>201408</td><td>14667.032</td><td> 282</td><td> 2388.8566</td><td> 9.10</td></tr>\n",
       "\t<tr><td>201409</td><td>26681.761</td><td> 491</td><td> 1695.0435</td><td>23.15</td></tr>\n",
       "\t<tr><td>201410</td><td>13501.259</td><td> 293</td><td>  639.9629</td><td>11.60</td></tr>\n",
       "\t<tr><td>201411</td><td>33182.735</td><td> 567</td><td> 3259.4889</td><td>23.20</td></tr>\n",
       "\t<tr><td>201412</td><td>36905.774</td><td> 555</td><td> 5201.9446</td><td>27.90</td></tr>\n",
       "\t<tr><td>201501</td><td>10876.268</td><td> 129</td><td>-1962.9362</td><td> 4.20</td></tr>\n",
       "\t<tr><td>201502</td><td> 7178.193</td><td> 140</td><td> 2222.1196</td><td> 4.30</td></tr>\n",
       "\t<tr><td>201503</td><td>16185.652</td><td> 276</td><td> 2974.7642</td><td>11.00</td></tr>\n",
       "\t<tr><td>201504</td><td>13873.637</td><td> 240</td><td>   55.6754</td><td>12.35</td></tr>\n",
       "\t<tr><td>201505</td><td>14107.253</td><td> 292</td><td> 1861.2597</td><td>11.55</td></tr>\n",
       "\t<tr><td>201506</td><td>13281.756</td><td> 236</td><td> 2251.5108</td><td>10.80</td></tr>\n",
       "\t<tr><td>201507</td><td>11818.287</td><td> 229</td><td> 1202.4416</td><td>12.25</td></tr>\n",
       "\t<tr><td>201508</td><td>18997.201</td><td> 267</td><td> 3848.4560</td><td> 8.90</td></tr>\n",
       "\t<tr><td>201509</td><td>27161.584</td><td> 539</td><td> 1939.6420</td><td>20.25</td></tr>\n",
       "\t<tr><td>201510</td><td>16833.985</td><td> 323</td><td> 1623.8108</td><td>15.10</td></tr>\n",
       "\t<tr><td>201511</td><td>39154.531</td><td> 661</td><td> 5852.1365</td><td>26.79</td></tr>\n",
       "\t<tr><td>201512</td><td>32410.577</td><td> 597</td><td> 2675.5333</td><td>22.25</td></tr>\n",
       "\t<tr><td>201601</td><td>10871.001</td><td> 182</td><td> 2365.2036</td><td> 5.80</td></tr>\n",
       "\t<tr><td>201602</td><td>17602.606</td><td> 167</td><td> 4087.5706</td><td> 5.30</td></tr>\n",
       "\t<tr><td>201603</td><td>19516.761</td><td> 302</td><td> -227.8062</td><td>14.92</td></tr>\n",
       "\t<tr><td>201604</td><td>26868.998</td><td> 342</td><td> 4884.4514</td><td>13.00</td></tr>\n",
       "\t<tr><td>201605</td><td>35449.818</td><td> 409</td><td> 5020.6368</td><td>19.70</td></tr>\n",
       "\t<tr><td>201606</td><td>24496.227</td><td> 370</td><td> 2794.6698</td><td>13.50</td></tr>\n",
       "\t<tr><td>201607</td><td>16087.580</td><td> 359</td><td> 1978.8554</td><td>16.80</td></tr>\n",
       "\t<tr><td>201608</td><td>14750.264</td><td> 346</td><td>  356.8515</td><td>17.35</td></tr>\n",
       "\t<tr><td>201609</td><td>30724.170</td><td> 679</td><td> 2873.9932</td><td>31.32</td></tr>\n",
       "\t<tr><td>201610</td><td>19639.751</td><td> 430</td><td>  879.1301</td><td>17.05</td></tr>\n",
       "\t<tr><td>201611</td><td>38113.410</td><td> 674</td><td> 4449.1299</td><td>28.35</td></tr>\n",
       "\t<tr><td>201612</td><td>58606.279</td><td> 747</td><td>12992.8570</td><td>25.42</td></tr>\n",
       "\t<tr><td>201701</td><td>22749.976</td><td> 274</td><td> 4728.5683</td><td> 9.60</td></tr>\n",
       "\t<tr><td>201702</td><td> 9769.588</td><td> 180</td><td>  374.4746</td><td> 8.67</td></tr>\n",
       "\t<tr><td>201703</td><td>20081.992</td><td> 449</td><td> 2952.4944</td><td>16.34</td></tr>\n",
       "\t<tr><td>201704</td><td>17424.475</td><td> 430</td><td> 1700.1245</td><td>20.95</td></tr>\n",
       "\t<tr><td>201705</td><td>20244.376</td><td> 468</td><td> 3373.4210</td><td>16.62</td></tr>\n",
       "\t<tr><td>201706</td><td>32929.086</td><td> 521</td><td> 5643.9232</td><td>24.45</td></tr>\n",
       "\t<tr><td>201707</td><td>18629.000</td><td> 388</td><td> 3221.4040</td><td>16.00</td></tr>\n",
       "\t<tr><td>201708</td><td>32833.176</td><td> 425</td><td> 3519.0427</td><td>16.40</td></tr>\n",
       "\t<tr><td>201709</td><td>36546.915</td><td> 841</td><td> 5021.9393</td><td>32.35</td></tr>\n",
       "\t<tr><td>201710</td><td>38363.974</td><td> 551</td><td> 5211.5555</td><td>26.00</td></tr>\n",
       "\t<tr><td>201711</td><td>62912.310</td><td>1080</td><td> 6645.2956</td><td>41.07</td></tr>\n",
       "\t<tr><td>201712</td><td>44775.418</td><td> 818</td><td> 2316.6065</td><td>34.40</td></tr>\n",
       "</tbody>\n",
       "</table>\n"
      ],
      "text/latex": [
       "A tbl\\_ts: 48 × 5\n",
       "\\begin{tabular}{lllll}\n",
       " year\\_month & Sales & Quantity & Profit & Discount\\\\\n",
       " <dbl> & <dbl> & <int> & <dbl> & <dbl>\\\\\n",
       "\\hline\n",
       "\t 201401 &  6417.102 &  114 &  1322.8412 &  4.45\\\\\n",
       "\t 201402 &  1860.736 &  104 &   547.6046 &  5.90\\\\\n",
       "\t 201403 & 19023.950 &  250 &  1212.3814 & 11.90\\\\\n",
       "\t 201404 & 12415.656 &  249 &  1897.6388 &  6.80\\\\\n",
       "\t 201405 & 15939.349 &  272 &  2116.0751 & 10.95\\\\\n",
       "\t 201406 & 13837.698 &  275 &  2724.4740 & 10.40\\\\\n",
       "\t 201407 & 13562.944 &  231 & -2199.3749 & 10.00\\\\\n",
       "\t 201408 & 14667.032 &  282 &  2388.8566 &  9.10\\\\\n",
       "\t 201409 & 26681.761 &  491 &  1695.0435 & 23.15\\\\\n",
       "\t 201410 & 13501.259 &  293 &   639.9629 & 11.60\\\\\n",
       "\t 201411 & 33182.735 &  567 &  3259.4889 & 23.20\\\\\n",
       "\t 201412 & 36905.774 &  555 &  5201.9446 & 27.90\\\\\n",
       "\t 201501 & 10876.268 &  129 & -1962.9362 &  4.20\\\\\n",
       "\t 201502 &  7178.193 &  140 &  2222.1196 &  4.30\\\\\n",
       "\t 201503 & 16185.652 &  276 &  2974.7642 & 11.00\\\\\n",
       "\t 201504 & 13873.637 &  240 &    55.6754 & 12.35\\\\\n",
       "\t 201505 & 14107.253 &  292 &  1861.2597 & 11.55\\\\\n",
       "\t 201506 & 13281.756 &  236 &  2251.5108 & 10.80\\\\\n",
       "\t 201507 & 11818.287 &  229 &  1202.4416 & 12.25\\\\\n",
       "\t 201508 & 18997.201 &  267 &  3848.4560 &  8.90\\\\\n",
       "\t 201509 & 27161.584 &  539 &  1939.6420 & 20.25\\\\\n",
       "\t 201510 & 16833.985 &  323 &  1623.8108 & 15.10\\\\\n",
       "\t 201511 & 39154.531 &  661 &  5852.1365 & 26.79\\\\\n",
       "\t 201512 & 32410.577 &  597 &  2675.5333 & 22.25\\\\\n",
       "\t 201601 & 10871.001 &  182 &  2365.2036 &  5.80\\\\\n",
       "\t 201602 & 17602.606 &  167 &  4087.5706 &  5.30\\\\\n",
       "\t 201603 & 19516.761 &  302 &  -227.8062 & 14.92\\\\\n",
       "\t 201604 & 26868.998 &  342 &  4884.4514 & 13.00\\\\\n",
       "\t 201605 & 35449.818 &  409 &  5020.6368 & 19.70\\\\\n",
       "\t 201606 & 24496.227 &  370 &  2794.6698 & 13.50\\\\\n",
       "\t 201607 & 16087.580 &  359 &  1978.8554 & 16.80\\\\\n",
       "\t 201608 & 14750.264 &  346 &   356.8515 & 17.35\\\\\n",
       "\t 201609 & 30724.170 &  679 &  2873.9932 & 31.32\\\\\n",
       "\t 201610 & 19639.751 &  430 &   879.1301 & 17.05\\\\\n",
       "\t 201611 & 38113.410 &  674 &  4449.1299 & 28.35\\\\\n",
       "\t 201612 & 58606.279 &  747 & 12992.8570 & 25.42\\\\\n",
       "\t 201701 & 22749.976 &  274 &  4728.5683 &  9.60\\\\\n",
       "\t 201702 &  9769.588 &  180 &   374.4746 &  8.67\\\\\n",
       "\t 201703 & 20081.992 &  449 &  2952.4944 & 16.34\\\\\n",
       "\t 201704 & 17424.475 &  430 &  1700.1245 & 20.95\\\\\n",
       "\t 201705 & 20244.376 &  468 &  3373.4210 & 16.62\\\\\n",
       "\t 201706 & 32929.086 &  521 &  5643.9232 & 24.45\\\\\n",
       "\t 201707 & 18629.000 &  388 &  3221.4040 & 16.00\\\\\n",
       "\t 201708 & 32833.176 &  425 &  3519.0427 & 16.40\\\\\n",
       "\t 201709 & 36546.915 &  841 &  5021.9393 & 32.35\\\\\n",
       "\t 201710 & 38363.974 &  551 &  5211.5555 & 26.00\\\\\n",
       "\t 201711 & 62912.310 & 1080 &  6645.2956 & 41.07\\\\\n",
       "\t 201712 & 44775.418 &  818 &  2316.6065 & 34.40\\\\\n",
       "\\end{tabular}\n"
      ],
      "text/markdown": [
       "\n",
       "A tbl_ts: 48 × 5\n",
       "\n",
       "| year_month &lt;dbl&gt; | Sales &lt;dbl&gt; | Quantity &lt;int&gt; | Profit &lt;dbl&gt; | Discount &lt;dbl&gt; |\n",
       "|---|---|---|---|---|\n",
       "| 201401 |  6417.102 |  114 |  1322.8412 |  4.45 |\n",
       "| 201402 |  1860.736 |  104 |   547.6046 |  5.90 |\n",
       "| 201403 | 19023.950 |  250 |  1212.3814 | 11.90 |\n",
       "| 201404 | 12415.656 |  249 |  1897.6388 |  6.80 |\n",
       "| 201405 | 15939.349 |  272 |  2116.0751 | 10.95 |\n",
       "| 201406 | 13837.698 |  275 |  2724.4740 | 10.40 |\n",
       "| 201407 | 13562.944 |  231 | -2199.3749 | 10.00 |\n",
       "| 201408 | 14667.032 |  282 |  2388.8566 |  9.10 |\n",
       "| 201409 | 26681.761 |  491 |  1695.0435 | 23.15 |\n",
       "| 201410 | 13501.259 |  293 |   639.9629 | 11.60 |\n",
       "| 201411 | 33182.735 |  567 |  3259.4889 | 23.20 |\n",
       "| 201412 | 36905.774 |  555 |  5201.9446 | 27.90 |\n",
       "| 201501 | 10876.268 |  129 | -1962.9362 |  4.20 |\n",
       "| 201502 |  7178.193 |  140 |  2222.1196 |  4.30 |\n",
       "| 201503 | 16185.652 |  276 |  2974.7642 | 11.00 |\n",
       "| 201504 | 13873.637 |  240 |    55.6754 | 12.35 |\n",
       "| 201505 | 14107.253 |  292 |  1861.2597 | 11.55 |\n",
       "| 201506 | 13281.756 |  236 |  2251.5108 | 10.80 |\n",
       "| 201507 | 11818.287 |  229 |  1202.4416 | 12.25 |\n",
       "| 201508 | 18997.201 |  267 |  3848.4560 |  8.90 |\n",
       "| 201509 | 27161.584 |  539 |  1939.6420 | 20.25 |\n",
       "| 201510 | 16833.985 |  323 |  1623.8108 | 15.10 |\n",
       "| 201511 | 39154.531 |  661 |  5852.1365 | 26.79 |\n",
       "| 201512 | 32410.577 |  597 |  2675.5333 | 22.25 |\n",
       "| 201601 | 10871.001 |  182 |  2365.2036 |  5.80 |\n",
       "| 201602 | 17602.606 |  167 |  4087.5706 |  5.30 |\n",
       "| 201603 | 19516.761 |  302 |  -227.8062 | 14.92 |\n",
       "| 201604 | 26868.998 |  342 |  4884.4514 | 13.00 |\n",
       "| 201605 | 35449.818 |  409 |  5020.6368 | 19.70 |\n",
       "| 201606 | 24496.227 |  370 |  2794.6698 | 13.50 |\n",
       "| 201607 | 16087.580 |  359 |  1978.8554 | 16.80 |\n",
       "| 201608 | 14750.264 |  346 |   356.8515 | 17.35 |\n",
       "| 201609 | 30724.170 |  679 |  2873.9932 | 31.32 |\n",
       "| 201610 | 19639.751 |  430 |   879.1301 | 17.05 |\n",
       "| 201611 | 38113.410 |  674 |  4449.1299 | 28.35 |\n",
       "| 201612 | 58606.279 |  747 | 12992.8570 | 25.42 |\n",
       "| 201701 | 22749.976 |  274 |  4728.5683 |  9.60 |\n",
       "| 201702 |  9769.588 |  180 |   374.4746 |  8.67 |\n",
       "| 201703 | 20081.992 |  449 |  2952.4944 | 16.34 |\n",
       "| 201704 | 17424.475 |  430 |  1700.1245 | 20.95 |\n",
       "| 201705 | 20244.376 |  468 |  3373.4210 | 16.62 |\n",
       "| 201706 | 32929.086 |  521 |  5643.9232 | 24.45 |\n",
       "| 201707 | 18629.000 |  388 |  3221.4040 | 16.00 |\n",
       "| 201708 | 32833.176 |  425 |  3519.0427 | 16.40 |\n",
       "| 201709 | 36546.915 |  841 |  5021.9393 | 32.35 |\n",
       "| 201710 | 38363.974 |  551 |  5211.5555 | 26.00 |\n",
       "| 201711 | 62912.310 | 1080 |  6645.2956 | 41.07 |\n",
       "| 201712 | 44775.418 |  818 |  2316.6065 | 34.40 |\n",
       "\n"
      ],
      "text/plain": [
       "   year_month Sales     Quantity Profit     Discount\n",
       "1  201401      6417.102  114      1322.8412  4.45   \n",
       "2  201402      1860.736  104       547.6046  5.90   \n",
       "3  201403     19023.950  250      1212.3814 11.90   \n",
       "4  201404     12415.656  249      1897.6388  6.80   \n",
       "5  201405     15939.349  272      2116.0751 10.95   \n",
       "6  201406     13837.698  275      2724.4740 10.40   \n",
       "7  201407     13562.944  231     -2199.3749 10.00   \n",
       "8  201408     14667.032  282      2388.8566  9.10   \n",
       "9  201409     26681.761  491      1695.0435 23.15   \n",
       "10 201410     13501.259  293       639.9629 11.60   \n",
       "11 201411     33182.735  567      3259.4889 23.20   \n",
       "12 201412     36905.774  555      5201.9446 27.90   \n",
       "13 201501     10876.268  129     -1962.9362  4.20   \n",
       "14 201502      7178.193  140      2222.1196  4.30   \n",
       "15 201503     16185.652  276      2974.7642 11.00   \n",
       "16 201504     13873.637  240        55.6754 12.35   \n",
       "17 201505     14107.253  292      1861.2597 11.55   \n",
       "18 201506     13281.756  236      2251.5108 10.80   \n",
       "19 201507     11818.287  229      1202.4416 12.25   \n",
       "20 201508     18997.201  267      3848.4560  8.90   \n",
       "21 201509     27161.584  539      1939.6420 20.25   \n",
       "22 201510     16833.985  323      1623.8108 15.10   \n",
       "23 201511     39154.531  661      5852.1365 26.79   \n",
       "24 201512     32410.577  597      2675.5333 22.25   \n",
       "25 201601     10871.001  182      2365.2036  5.80   \n",
       "26 201602     17602.606  167      4087.5706  5.30   \n",
       "27 201603     19516.761  302      -227.8062 14.92   \n",
       "28 201604     26868.998  342      4884.4514 13.00   \n",
       "29 201605     35449.818  409      5020.6368 19.70   \n",
       "30 201606     24496.227  370      2794.6698 13.50   \n",
       "31 201607     16087.580  359      1978.8554 16.80   \n",
       "32 201608     14750.264  346       356.8515 17.35   \n",
       "33 201609     30724.170  679      2873.9932 31.32   \n",
       "34 201610     19639.751  430       879.1301 17.05   \n",
       "35 201611     38113.410  674      4449.1299 28.35   \n",
       "36 201612     58606.279  747     12992.8570 25.42   \n",
       "37 201701     22749.976  274      4728.5683  9.60   \n",
       "38 201702      9769.588  180       374.4746  8.67   \n",
       "39 201703     20081.992  449      2952.4944 16.34   \n",
       "40 201704     17424.475  430      1700.1245 20.95   \n",
       "41 201705     20244.376  468      3373.4210 16.62   \n",
       "42 201706     32929.086  521      5643.9232 24.45   \n",
       "43 201707     18629.000  388      3221.4040 16.00   \n",
       "44 201708     32833.176  425      3519.0427 16.40   \n",
       "45 201709     36546.915  841      5021.9393 32.35   \n",
       "46 201710     38363.974  551      5211.5555 26.00   \n",
       "47 201711     62912.310 1080      6645.2956 41.07   \n",
       "48 201712     44775.418  818      2316.6065 34.40   "
      ]
     },
     "metadata": {},
     "output_type": "display_data"
    }
   ],
   "source": [
    "# criando uma nova coluna com o ano e mês\n",
    "tsib_monthly <- tsib %>%\n",
    "\n",
    "  # multiplicando por 100 pra criar uma valor sequencial\n",
    "  mutate(year_month = year(Order.Date) * 100 + month(Order.Date))\n",
    "\n",
    "# agregando os dados por mês\n",
    "tsib_monthly <- tsib_monthly %>%\n",
    "  index_by(year_month) %>%\n",
    "  summarise(Sales = sum(Sales), Quantity = sum(Quantity), Profit = sum(Profit), Discount = sum(Discount))\n",
    "\n",
    "tsib_monthly\n"
   ]
  },
  {
   "attachments": {},
   "cell_type": "markdown",
   "metadata": {},
   "source": [
    "Verificando o comportamento das vendas por mês"
   ]
  },
  {
   "cell_type": "code",
   "execution_count": 211,
   "metadata": {
    "vscode": {
     "languageId": "r"
    }
   },
   "outputs": [
    {
     "data": {
      "image/png": "[encoded data removed]",
      "text/plain": [
       "plot without title"
      ]
     },
     "metadata": {
      "image/png": {
       "height": 420,
       "width": 420
      }
     },
     "output_type": "display_data"
    }
   ],
   "source": [
    "tsib_monthly %>%\n",
    "  autoplot(Sales)"
   ]
  },
  {
   "cell_type": "code",
   "execution_count": 212,
   "metadata": {
    "vscode": {
     "languageId": "r"
    }
   },
   "outputs": [
    {
     "data": {
      "image/png": "[encoded data removed]",
      "text/plain": [
       "plot without title"
      ]
     },
     "metadata": {
      "image/png": {
       "height": 420,
       "width": 420
      }
     },
     "output_type": "display_data"
    }
   ],
   "source": [
    "tsib_monthly %>%\n",
    "  autoplot(Quantity)"
   ]
  },
  {
   "cell_type": "code",
   "execution_count": 213,
   "metadata": {
    "vscode": {
     "languageId": "r"
    }
   },
   "outputs": [
    {
     "data": {
      "image/png": "[encoded data removed]",
      "text/plain": [
       "plot without title"
      ]
     },
     "metadata": {
      "image/png": {
       "height": 420,
       "width": 420
      }
     },
     "output_type": "display_data"
    }
   ],
   "source": [
    "tsib_monthly %>%\n",
    "  autoplot(Profit)"
   ]
  },
  {
   "cell_type": "code",
   "execution_count": 214,
   "metadata": {
    "vscode": {
     "languageId": "r"
    }
   },
   "outputs": [
    {
     "data": {
      "image/png": "[encoded data removed]",
      "text/plain": [
       "plot without title"
      ]
     },
     "metadata": {
      "image/png": {
       "height": 420,
       "width": 420
      }
     },
     "output_type": "display_data"
    }
   ],
   "source": [
    "tsib_monthly %>%\n",
    "  autoplot(Discount)"
   ]
  },
  {
   "attachments": {},
   "cell_type": "markdown",
   "metadata": {},
   "source": [
    "Preenchendo os gaps com 0"
   ]
  },
  {
   "cell_type": "code",
   "execution_count": 215,
   "metadata": {
    "vscode": {
     "languageId": "r"
    }
   },
   "outputs": [],
   "source": [
    "tsib_monthly_filled <- tsib_monthly %>%\n",
    "  fill_gaps(Sales = 0)"
   ]
  },
  {
   "cell_type": "code",
   "execution_count": 216,
   "metadata": {
    "vscode": {
     "languageId": "r"
    }
   },
   "outputs": [],
   "source": [
    "tsib_monthly_filled <- tsib_monthly %>%\n",
    "  fill_gaps(Sales = 0, Quantity = 0, Profit = 0, Discount = 0)"
   ]
  },
  {
   "cell_type": "code",
   "execution_count": 217,
   "metadata": {
    "vscode": {
     "languageId": "r"
    }
   },
   "outputs": [
    {
     "data": {
      "image/png": "[encoded data removed]",
      "text/plain": [
       "plot without title"
      ]
     },
     "metadata": {
      "image/png": {
       "height": 420,
       "width": 420
      }
     },
     "output_type": "display_data"
    }
   ],
   "source": [
    "options(width = 60)\n",
    "tsib_monthly_filled  |>\n",
    "  autoplot(Sales) +\n",
    "  labs(title=\"Vendas ao longo do tempo\",\n",
    "       x=\"Ano sequencial\",\n",
    "       y=\"Vendas\")"
   ]
  },
  {
   "attachments": {},
   "cell_type": "markdown",
   "metadata": {},
   "source": [
    "- É possivel perceber que as vendas disparam no início do ano e caem vertiginosamente até assumir valores bem baixo no fim do ano dando início a outro ciclo de crescimento de modo que é possível perceber efeitos de tendência e sazonalidade.\n",
    "- Posso optar por `Sales` ou qualquer uma das demais vistas acima para previsão visto que o padrão e comportamento é basicamente o mesmo\n",
    "- A partir daqui vou trabalhar com `Sales`, mas seria proveitoso também utilizar `Profit` em análises futuras pois este deve considerar o lucro frente aos fatores de custos e despesas."
   ]
  },
  {
   "cell_type": "code",
   "execution_count": 219,
   "metadata": {
    "vscode": {
     "languageId": "r"
    }
   },
   "outputs": [
    {
     "data": {
      "text/html": [
       "<table class=\"dataframe\">\n",
       "<caption>A tbl_ts: 6 × 5</caption>\n",
       "<thead>\n",
       "\t<tr><th scope=col>year_month</th><th scope=col>Sales</th><th scope=col>Quantity</th><th scope=col>Profit</th><th scope=col>Discount</th></tr>\n",
       "\t<tr><th scope=col>&lt;dbl&gt;</th><th scope=col>&lt;dbl&gt;</th><th scope=col>&lt;int&gt;</th><th scope=col>&lt;dbl&gt;</th><th scope=col>&lt;dbl&gt;</th></tr>\n",
       "</thead>\n",
       "<tbody>\n",
       "\t<tr><td>201401</td><td> 6417.102</td><td>114</td><td>1322.8412</td><td> 4.45</td></tr>\n",
       "\t<tr><td>201402</td><td> 1860.736</td><td>104</td><td> 547.6046</td><td> 5.90</td></tr>\n",
       "\t<tr><td>201403</td><td>19023.950</td><td>250</td><td>1212.3814</td><td>11.90</td></tr>\n",
       "\t<tr><td>201404</td><td>12415.656</td><td>249</td><td>1897.6388</td><td> 6.80</td></tr>\n",
       "\t<tr><td>201405</td><td>15939.349</td><td>272</td><td>2116.0751</td><td>10.95</td></tr>\n",
       "\t<tr><td>201406</td><td>13837.698</td><td>275</td><td>2724.4740</td><td>10.40</td></tr>\n",
       "</tbody>\n",
       "</table>\n"
      ],
      "text/latex": [
       "A tbl\\_ts: 6 × 5\n",
       "\\begin{tabular}{lllll}\n",
       " year\\_month & Sales & Quantity & Profit & Discount\\\\\n",
       " <dbl> & <dbl> & <int> & <dbl> & <dbl>\\\\\n",
       "\\hline\n",
       "\t 201401 &  6417.102 & 114 & 1322.8412 &  4.45\\\\\n",
       "\t 201402 &  1860.736 & 104 &  547.6046 &  5.90\\\\\n",
       "\t 201403 & 19023.950 & 250 & 1212.3814 & 11.90\\\\\n",
       "\t 201404 & 12415.656 & 249 & 1897.6388 &  6.80\\\\\n",
       "\t 201405 & 15939.349 & 272 & 2116.0751 & 10.95\\\\\n",
       "\t 201406 & 13837.698 & 275 & 2724.4740 & 10.40\\\\\n",
       "\\end{tabular}\n"
      ],
      "text/markdown": [
       "\n",
       "A tbl_ts: 6 × 5\n",
       "\n",
       "| year_month &lt;dbl&gt; | Sales &lt;dbl&gt; | Quantity &lt;int&gt; | Profit &lt;dbl&gt; | Discount &lt;dbl&gt; |\n",
       "|---|---|---|---|---|\n",
       "| 201401 |  6417.102 | 114 | 1322.8412 |  4.45 |\n",
       "| 201402 |  1860.736 | 104 |  547.6046 |  5.90 |\n",
       "| 201403 | 19023.950 | 250 | 1212.3814 | 11.90 |\n",
       "| 201404 | 12415.656 | 249 | 1897.6388 |  6.80 |\n",
       "| 201405 | 15939.349 | 272 | 2116.0751 | 10.95 |\n",
       "| 201406 | 13837.698 | 275 | 2724.4740 | 10.40 |\n",
       "\n"
      ],
      "text/plain": [
       "  year_month Sales     Quantity Profit    Discount\n",
       "1 201401      6417.102 114      1322.8412  4.45   \n",
       "2 201402      1860.736 104       547.6046  5.90   \n",
       "3 201403     19023.950 250      1212.3814 11.90   \n",
       "4 201404     12415.656 249      1897.6388  6.80   \n",
       "5 201405     15939.349 272      2116.0751 10.95   \n",
       "6 201406     13837.698 275      2724.4740 10.40   "
      ]
     },
     "metadata": {},
     "output_type": "display_data"
    }
   ],
   "source": [
    "# Agregar os dados por mês\n",
    "tsib_monthly <- tsib_monthly %>%\n",
    "  index_by(year_month) %>%\n",
    "  summarise(Sales = sum(Sales), Quantity = sum(Quantity), Profit = sum(Profit), Discount = sum(Discount))\n",
    "head(tsib_monthly)"
   ]
  },
  {
   "attachments": {},
   "cell_type": "markdown",
   "metadata": {},
   "source": [
    "Plotando a Série Temporal de Vendas"
   ]
  },
  {
   "cell_type": "code",
   "execution_count": 220,
   "metadata": {
    "vscode": {
     "languageId": "r"
    }
   },
   "outputs": [
    {
     "data": {
      "image/png": "[encoded data removed]",
      "text/plain": [
       "plot without title"
      ]
     },
     "metadata": {
      "image/png": {
       "height": 420,
       "width": 420
      }
     },
     "output_type": "display_data"
    }
   ],
   "source": [
    "# Plotar a série temporal de vendas\n",
    "ggplot(tsib, aes(x = Order.Date, y = Sales)) +\n",
    "  geom_line() +\n",
    "  labs(title = \"Vendas ao longo do tempo\",\n",
    "       x = \"Data do pedido\",\n",
    "       y = \"Vendas\")"
   ]
  },
  {
   "attachments": {},
   "cell_type": "markdown",
   "metadata": {},
   "source": [
    "A fim de garantir, removendo `missing values` e `substituindo por 0`"
   ]
  },
  {
   "cell_type": "code",
   "execution_count": 239,
   "metadata": {
    "vscode": {
     "languageId": "r"
    }
   },
   "outputs": [],
   "source": [
    "df_ts_filled <- df_ts %>%\n",
    "  tsibble::fill_gaps(Sales = 0)"
   ]
  },
  {
   "attachments": {},
   "cell_type": "markdown",
   "metadata": {},
   "source": [
    "Decompondo a Série Temporal de Vendas"
   ]
  },
  {
   "cell_type": "code",
   "execution_count": 221,
   "metadata": {
    "vscode": {
     "languageId": "r"
    }
   },
   "outputs": [
    {
     "data": {
      "text/html": [
       "<table class=\"dataframe\">\n",
       "<caption>A dcmp_ts: 1458 × 8</caption>\n",
       "<thead>\n",
       "\t<tr><th scope=col>.model</th><th scope=col>Order.Date</th><th scope=col>Sales</th><th scope=col>trend</th><th scope=col>season_week</th><th scope=col>season_year</th><th scope=col>remainder</th><th scope=col>season_adjust</th></tr>\n",
       "\t<tr><th scope=col>&lt;chr&gt;</th><th scope=col>&lt;date&gt;</th><th scope=col>&lt;dbl&gt;</th><th scope=col>&lt;dbl&gt;</th><th scope=col>&lt;dbl&gt;</th><th scope=col>&lt;dbl&gt;</th><th scope=col>&lt;dbl&gt;</th><th scope=col>&lt;dbl&gt;</th></tr>\n",
       "</thead>\n",
       "<tbody>\n",
       "\t<tr><td>stl</td><td>2014-01-03</td><td>  16.448</td><td>546.6315</td><td>-130.954620</td><td> -74.49014</td><td> -324.738771</td><td> 221.8928</td></tr>\n",
       "\t<tr><td>stl</td><td>2014-01-04</td><td>  11.784</td><td>546.7766</td><td> -16.386812</td><td> 100.29131</td><td> -618.897061</td><td> -72.1205</td></tr>\n",
       "\t<tr><td>stl</td><td>2014-01-05</td><td>  19.536</td><td>546.9216</td><td>-217.957855</td><td>-251.74324</td><td>  -57.684507</td><td> 489.2371</td></tr>\n",
       "\t<tr><td>stl</td><td>2014-01-06</td><td>2606.040</td><td>547.0666</td><td> 639.148224</td><td>  49.27667</td><td> 1370.548466</td><td>1917.6151</td></tr>\n",
       "\t<tr><td>stl</td><td>2014-01-07</td><td>  76.728</td><td>547.2117</td><td>  -7.658663</td><td>-672.60359</td><td>  209.778564</td><td> 756.9902</td></tr>\n",
       "\t<tr><td>stl</td><td>2014-01-08</td><td>   0.000</td><td>547.3567</td><td>-153.322583</td><td> 350.21816</td><td> -744.252301</td><td>-196.8956</td></tr>\n",
       "\t<tr><td>stl</td><td>2014-01-09</td><td>   9.344</td><td>547.5018</td><td>-118.034998</td><td>-459.93243</td><td>   39.809668</td><td> 587.3114</td></tr>\n",
       "\t<tr><td>stl</td><td>2014-01-10</td><td>   2.890</td><td>547.6468</td><td>-117.870656</td><td>-465.08310</td><td>   38.196950</td><td> 585.8438</td></tr>\n",
       "\t<tr><td>stl</td><td>2014-01-11</td><td>   9.940</td><td>547.7918</td><td>  -8.702446</td><td>-597.03211</td><td>   67.882715</td><td> 615.6746</td></tr>\n",
       "\t<tr><td>stl</td><td>2014-01-12</td><td>   0.000</td><td>547.9369</td><td>-214.640843</td><td>-338.67121</td><td>    5.375167</td><td> 553.3120</td></tr>\n",
       "\t<tr><td>stl</td><td>2014-01-13</td><td>1920.558</td><td>548.0819</td><td> 602.671877</td><td>  40.18157</td><td>  729.622635</td><td>1277.7046</td></tr>\n",
       "\t<tr><td>stl</td><td>2014-01-14</td><td>  61.960</td><td>548.2270</td><td>  -4.587361</td><td>-639.91234</td><td>  158.232741</td><td> 706.4597</td></tr>\n",
       "\t<tr><td>stl</td><td>2014-01-15</td><td> 149.950</td><td>548.3720</td><td>-143.964253</td><td>-481.80780</td><td>  227.350055</td><td> 775.7221</td></tr>\n",
       "\t<tr><td>stl</td><td>2014-01-16</td><td> 127.104</td><td>548.5170</td><td>-118.271950</td><td>-719.73177</td><td>  416.590683</td><td> 965.1077</td></tr>\n",
       "\t<tr><td>stl</td><td>2014-01-17</td><td>   0.000</td><td>548.6621</td><td>-104.904373</td><td> 628.85724</td><td>-1072.614951</td><td>-523.9529</td></tr>\n",
       "\t<tr><td>stl</td><td>2014-01-18</td><td>  64.864</td><td>548.8071</td><td>  -1.471056</td><td>-548.24198</td><td>   65.769914</td><td> 614.5770</td></tr>\n",
       "\t<tr><td>stl</td><td>2014-01-19</td><td>  32.340</td><td>548.9522</td><td>-212.138874</td><td>-526.72542</td><td>  222.252138</td><td> 771.2043</td></tr>\n",
       "\t<tr><td>stl</td><td>2014-01-20</td><td> 800.464</td><td>549.0972</td><td> 565.173496</td><td>-359.78762</td><td>   45.980931</td><td> 595.0781</td></tr>\n",
       "\t<tr><td>stl</td><td>2014-01-21</td><td>  25.248</td><td>549.2422</td><td>  -2.483524</td><td>-543.39121</td><td>   21.880502</td><td> 571.1227</td></tr>\n",
       "\t<tr><td>stl</td><td>2014-01-22</td><td>   0.000</td><td>549.3873</td><td>-135.294747</td><td>-403.40019</td><td>  -10.692340</td><td> 538.6949</td></tr>\n",
       "\t<tr><td>stl</td><td>2014-01-23</td><td>  46.020</td><td>549.5323</td><td>-118.763453</td><td> -28.14561</td><td> -356.603251</td><td> 192.9291</td></tr>\n",
       "\t<tr><td>stl</td><td>2014-01-24</td><td>   0.000</td><td>549.6774</td><td> -80.438840</td><td>-749.07383</td><td>  279.835318</td><td> 829.5127</td></tr>\n",
       "\t<tr><td>stl</td><td>2014-01-25</td><td>   0.000</td><td>549.8224</td><td>  28.199661</td><td>-530.44169</td><td>  -47.580364</td><td> 502.2420</td></tr>\n",
       "\t<tr><td>stl</td><td>2014-01-26</td><td>  73.500</td><td>549.9674</td><td>-196.281992</td><td>-572.90813</td><td>  292.722687</td><td> 842.6901</td></tr>\n",
       "\t<tr><td>stl</td><td>2014-01-27</td><td>  57.230</td><td>550.1125</td><td> 458.828817</td><td> 121.07608</td><td>-1072.787372</td><td>-522.6749</td></tr>\n",
       "\t<tr><td>stl</td><td>2014-01-28</td><td>   3.928</td><td>550.2575</td><td>  -4.665227</td><td> 499.54947</td><td>-1041.213758</td><td>-490.9562</td></tr>\n",
       "\t<tr><td>stl</td><td>2014-01-29</td><td>   0.000</td><td>550.4026</td><td> -97.370275</td><td>-420.00021</td><td>  -33.032072</td><td> 517.3705</td></tr>\n",
       "\t<tr><td>stl</td><td>2014-01-30</td><td>  10.560</td><td>550.5476</td><td>-121.470940</td><td> -83.23385</td><td> -335.282806</td><td> 215.2648</td></tr>\n",
       "\t<tr><td>stl</td><td>2014-01-31</td><td> 290.666</td><td>550.6926</td><td> -54.998549</td><td>-104.35813</td><td> -100.669954</td><td> 450.0227</td></tr>\n",
       "\t<tr><td>stl</td><td>2014-02-01</td><td> 468.900</td><td>550.8377</td><td>  57.558737</td><td>-371.56416</td><td>  232.067749</td><td> 782.9054</td></tr>\n",
       "\t<tr><td>...</td><td>...</td><td>...</td><td>...</td><td>...</td><td>...</td><td>...</td><td>...</td></tr>\n",
       "\t<tr><td>stl</td><td>2017-12-01</td><td>1722.774</td><td>1148.786</td><td> 1377.0921</td><td> 487.40790</td><td>-1290.51176</td><td> -141.7260245</td></tr>\n",
       "\t<tr><td>stl</td><td>2017-12-02</td><td>5378.294</td><td>1149.822</td><td>  590.5567</td><td>1789.08399</td><td> 1848.83147</td><td> 2998.6533133</td></tr>\n",
       "\t<tr><td>stl</td><td>2017-12-03</td><td> 902.832</td><td>1150.858</td><td>  300.1257</td><td> 547.50710</td><td>-1095.65871</td><td>   55.1992466</td></tr>\n",
       "\t<tr><td>stl</td><td>2017-12-04</td><td>1263.680</td><td>1151.894</td><td> -447.3077</td><td> 287.99395</td><td>  271.09966</td><td> 1422.9937271</td></tr>\n",
       "\t<tr><td>stl</td><td>2017-12-05</td><td> 552.646</td><td>1152.930</td><td> -694.3048</td><td>1073.85174</td><td> -979.83116</td><td>  173.0990188</td></tr>\n",
       "\t<tr><td>stl</td><td>2017-12-06</td><td>  10.680</td><td>1153.966</td><td>-1492.4141</td><td> 193.87407</td><td>  155.25373</td><td> 1309.2200176</td></tr>\n",
       "\t<tr><td>stl</td><td>2017-12-07</td><td>2848.962</td><td>1155.002</td><td>  504.8681</td><td> 223.09460</td><td>  965.99692</td><td> 2120.9993150</td></tr>\n",
       "\t<tr><td>stl</td><td>2017-12-08</td><td>1476.262</td><td>1156.039</td><td> 1312.1866</td><td>-119.85149</td><td> -872.11158</td><td>  283.9269268</td></tr>\n",
       "\t<tr><td>stl</td><td>2017-12-09</td><td>2331.123</td><td>1157.075</td><td>  486.1340</td><td>  89.27034</td><td>  598.64405</td><td> 1755.7186654</td></tr>\n",
       "\t<tr><td>stl</td><td>2017-12-10</td><td>2541.491</td><td>1158.111</td><td>  348.8940</td><td> 150.29706</td><td>  884.18926</td><td> 2042.2999804</td></tr>\n",
       "\t<tr><td>stl</td><td>2017-12-11</td><td>1134.815</td><td>1159.147</td><td> -501.3961</td><td> 262.15216</td><td>  214.91213</td><td> 1374.0589627</td></tr>\n",
       "\t<tr><td>stl</td><td>2017-12-12</td><td>   0.000</td><td>1160.183</td><td> -662.7428</td><td> -10.14080</td><td> -487.29939</td><td>  672.8835554</td></tr>\n",
       "\t<tr><td>stl</td><td>2017-12-13</td><td> 328.056</td><td>1161.219</td><td>-1463.0020</td><td>1451.94344</td><td> -822.10448</td><td>  339.1145786</td></tr>\n",
       "\t<tr><td>stl</td><td>2017-12-14</td><td>2855.346</td><td>1162.255</td><td>  554.7579</td><td> 825.79977</td><td>  312.53318</td><td> 1474.7883426</td></tr>\n",
       "\t<tr><td>stl</td><td>2017-12-15</td><td>  55.792</td><td>1163.291</td><td> 1262.7070</td><td> 243.34548</td><td>-2613.55179</td><td>-1450.2605156</td></tr>\n",
       "\t<tr><td>stl</td><td>2017-12-16</td><td> 145.088</td><td>1164.327</td><td>  395.6125</td><td>-654.70231</td><td> -760.14961</td><td>  404.1777766</td></tr>\n",
       "\t<tr><td>stl</td><td>2017-12-17</td><td>1851.372</td><td>1165.363</td><td>  408.2241</td><td>2545.20577</td><td>-2267.42131</td><td>-1102.0578188</td></tr>\n",
       "\t<tr><td>stl</td><td>2017-12-18</td><td> 255.404</td><td>1166.400</td><td> -549.2637</td><td> 674.82847</td><td>-1036.56032</td><td>  129.8392791</td></tr>\n",
       "\t<tr><td>stl</td><td>2017-12-19</td><td>1715.652</td><td>1167.436</td><td> -629.5131</td><td> 503.75927</td><td>  673.97008</td><td> 1841.4057883</td></tr>\n",
       "\t<tr><td>stl</td><td>2017-12-20</td><td> 286.380</td><td>1168.472</td><td>-1435.8868</td><td> 599.60295</td><td>  -45.80801</td><td> 1122.6638168</td></tr>\n",
       "\t<tr><td>stl</td><td>2017-12-21</td><td>1899.120</td><td>1169.508</td><td>  599.5228</td><td>  13.33557</td><td>  116.75370</td><td> 1286.2616304</td></tr>\n",
       "\t<tr><td>stl</td><td>2017-12-22</td><td>4116.031</td><td>1170.544</td><td> 1218.7876</td><td> 428.69288</td><td> 1298.00647</td><td> 2468.5505163</td></tr>\n",
       "\t<tr><td>stl</td><td>2017-12-23</td><td> 400.146</td><td>1171.580</td><td>  364.5892</td><td> 524.04407</td><td>-1660.06739</td><td> -488.4872329</td></tr>\n",
       "\t<tr><td>stl</td><td>2017-12-24</td><td>5040.642</td><td>1172.616</td><td>  437.4607</td><td>1192.63663</td><td> 2237.92837</td><td> 3410.5446298</td></tr>\n",
       "\t<tr><td>stl</td><td>2017-12-25</td><td> 834.682</td><td>1173.652</td><td> -579.5580</td><td>1413.56572</td><td>-1172.97812</td><td>    0.6742554</td></tr>\n",
       "\t<tr><td>stl</td><td>2017-12-26</td><td> 814.594</td><td>1174.688</td><td> -610.2041</td><td> 700.17481</td><td> -450.06519</td><td>  724.6232955</td></tr>\n",
       "\t<tr><td>stl</td><td>2017-12-27</td><td> 164.388</td><td>1175.725</td><td>-1419.9654</td><td> 534.69721</td><td> -126.06841</td><td> 1049.6561807</td></tr>\n",
       "\t<tr><td>stl</td><td>2017-12-28</td><td>1361.944</td><td>1176.761</td><td>  633.1407</td><td>-262.97517</td><td> -184.98219</td><td>  991.7785156</td></tr>\n",
       "\t<tr><td>stl</td><td>2017-12-29</td><td>1937.858</td><td>1177.797</td><td> 1176.0351</td><td>  86.95944</td><td> -502.93335</td><td>  674.8634640</td></tr>\n",
       "\t<tr><td>stl</td><td>2017-12-30</td><td> 549.364</td><td>1178.833</td><td>  335.0411</td><td> 177.80377</td><td>-1142.31375</td><td>   36.5191710</td></tr>\n",
       "</tbody>\n",
       "</table>\n"
      ],
      "text/latex": [
       "A dcmp\\_ts: 1458 × 8\n",
       "\\begin{tabular}{llllllll}\n",
       " .model & Order.Date & Sales & trend & season\\_week & season\\_year & remainder & season\\_adjust\\\\\n",
       " <chr> & <date> & <dbl> & <dbl> & <dbl> & <dbl> & <dbl> & <dbl>\\\\\n",
       "\\hline\n",
       "\t stl & 2014-01-03 &   16.448 & 546.6315 & -130.954620 &  -74.49014 &  -324.738771 &  221.8928\\\\\n",
       "\t stl & 2014-01-04 &   11.784 & 546.7766 &  -16.386812 &  100.29131 &  -618.897061 &  -72.1205\\\\\n",
       "\t stl & 2014-01-05 &   19.536 & 546.9216 & -217.957855 & -251.74324 &   -57.684507 &  489.2371\\\\\n",
       "\t stl & 2014-01-06 & 2606.040 & 547.0666 &  639.148224 &   49.27667 &  1370.548466 & 1917.6151\\\\\n",
       "\t stl & 2014-01-07 &   76.728 & 547.2117 &   -7.658663 & -672.60359 &   209.778564 &  756.9902\\\\\n",
       "\t stl & 2014-01-08 &    0.000 & 547.3567 & -153.322583 &  350.21816 &  -744.252301 & -196.8956\\\\\n",
       "\t stl & 2014-01-09 &    9.344 & 547.5018 & -118.034998 & -459.93243 &    39.809668 &  587.3114\\\\\n",
       "\t stl & 2014-01-10 &    2.890 & 547.6468 & -117.870656 & -465.08310 &    38.196950 &  585.8438\\\\\n",
       "\t stl & 2014-01-11 &    9.940 & 547.7918 &   -8.702446 & -597.03211 &    67.882715 &  615.6746\\\\\n",
       "\t stl & 2014-01-12 &    0.000 & 547.9369 & -214.640843 & -338.67121 &     5.375167 &  553.3120\\\\\n",
       "\t stl & 2014-01-13 & 1920.558 & 548.0819 &  602.671877 &   40.18157 &   729.622635 & 1277.7046\\\\\n",
       "\t stl & 2014-01-14 &   61.960 & 548.2270 &   -4.587361 & -639.91234 &   158.232741 &  706.4597\\\\\n",
       "\t stl & 2014-01-15 &  149.950 & 548.3720 & -143.964253 & -481.80780 &   227.350055 &  775.7221\\\\\n",
       "\t stl & 2014-01-16 &  127.104 & 548.5170 & -118.271950 & -719.73177 &   416.590683 &  965.1077\\\\\n",
       "\t stl & 2014-01-17 &    0.000 & 548.6621 & -104.904373 &  628.85724 & -1072.614951 & -523.9529\\\\\n",
       "\t stl & 2014-01-18 &   64.864 & 548.8071 &   -1.471056 & -548.24198 &    65.769914 &  614.5770\\\\\n",
       "\t stl & 2014-01-19 &   32.340 & 548.9522 & -212.138874 & -526.72542 &   222.252138 &  771.2043\\\\\n",
       "\t stl & 2014-01-20 &  800.464 & 549.0972 &  565.173496 & -359.78762 &    45.980931 &  595.0781\\\\\n",
       "\t stl & 2014-01-21 &   25.248 & 549.2422 &   -2.483524 & -543.39121 &    21.880502 &  571.1227\\\\\n",
       "\t stl & 2014-01-22 &    0.000 & 549.3873 & -135.294747 & -403.40019 &   -10.692340 &  538.6949\\\\\n",
       "\t stl & 2014-01-23 &   46.020 & 549.5323 & -118.763453 &  -28.14561 &  -356.603251 &  192.9291\\\\\n",
       "\t stl & 2014-01-24 &    0.000 & 549.6774 &  -80.438840 & -749.07383 &   279.835318 &  829.5127\\\\\n",
       "\t stl & 2014-01-25 &    0.000 & 549.8224 &   28.199661 & -530.44169 &   -47.580364 &  502.2420\\\\\n",
       "\t stl & 2014-01-26 &   73.500 & 549.9674 & -196.281992 & -572.90813 &   292.722687 &  842.6901\\\\\n",
       "\t stl & 2014-01-27 &   57.230 & 550.1125 &  458.828817 &  121.07608 & -1072.787372 & -522.6749\\\\\n",
       "\t stl & 2014-01-28 &    3.928 & 550.2575 &   -4.665227 &  499.54947 & -1041.213758 & -490.9562\\\\\n",
       "\t stl & 2014-01-29 &    0.000 & 550.4026 &  -97.370275 & -420.00021 &   -33.032072 &  517.3705\\\\\n",
       "\t stl & 2014-01-30 &   10.560 & 550.5476 & -121.470940 &  -83.23385 &  -335.282806 &  215.2648\\\\\n",
       "\t stl & 2014-01-31 &  290.666 & 550.6926 &  -54.998549 & -104.35813 &  -100.669954 &  450.0227\\\\\n",
       "\t stl & 2014-02-01 &  468.900 & 550.8377 &   57.558737 & -371.56416 &   232.067749 &  782.9054\\\\\n",
       "\t ... & ... & ... & ... & ... & ... & ... & ...\\\\\n",
       "\t stl & 2017-12-01 & 1722.774 & 1148.786 &  1377.0921 &  487.40790 & -1290.51176 &  -141.7260245\\\\\n",
       "\t stl & 2017-12-02 & 5378.294 & 1149.822 &   590.5567 & 1789.08399 &  1848.83147 &  2998.6533133\\\\\n",
       "\t stl & 2017-12-03 &  902.832 & 1150.858 &   300.1257 &  547.50710 & -1095.65871 &    55.1992466\\\\\n",
       "\t stl & 2017-12-04 & 1263.680 & 1151.894 &  -447.3077 &  287.99395 &   271.09966 &  1422.9937271\\\\\n",
       "\t stl & 2017-12-05 &  552.646 & 1152.930 &  -694.3048 & 1073.85174 &  -979.83116 &   173.0990188\\\\\n",
       "\t stl & 2017-12-06 &   10.680 & 1153.966 & -1492.4141 &  193.87407 &   155.25373 &  1309.2200176\\\\\n",
       "\t stl & 2017-12-07 & 2848.962 & 1155.002 &   504.8681 &  223.09460 &   965.99692 &  2120.9993150\\\\\n",
       "\t stl & 2017-12-08 & 1476.262 & 1156.039 &  1312.1866 & -119.85149 &  -872.11158 &   283.9269268\\\\\n",
       "\t stl & 2017-12-09 & 2331.123 & 1157.075 &   486.1340 &   89.27034 &   598.64405 &  1755.7186654\\\\\n",
       "\t stl & 2017-12-10 & 2541.491 & 1158.111 &   348.8940 &  150.29706 &   884.18926 &  2042.2999804\\\\\n",
       "\t stl & 2017-12-11 & 1134.815 & 1159.147 &  -501.3961 &  262.15216 &   214.91213 &  1374.0589627\\\\\n",
       "\t stl & 2017-12-12 &    0.000 & 1160.183 &  -662.7428 &  -10.14080 &  -487.29939 &   672.8835554\\\\\n",
       "\t stl & 2017-12-13 &  328.056 & 1161.219 & -1463.0020 & 1451.94344 &  -822.10448 &   339.1145786\\\\\n",
       "\t stl & 2017-12-14 & 2855.346 & 1162.255 &   554.7579 &  825.79977 &   312.53318 &  1474.7883426\\\\\n",
       "\t stl & 2017-12-15 &   55.792 & 1163.291 &  1262.7070 &  243.34548 & -2613.55179 & -1450.2605156\\\\\n",
       "\t stl & 2017-12-16 &  145.088 & 1164.327 &   395.6125 & -654.70231 &  -760.14961 &   404.1777766\\\\\n",
       "\t stl & 2017-12-17 & 1851.372 & 1165.363 &   408.2241 & 2545.20577 & -2267.42131 & -1102.0578188\\\\\n",
       "\t stl & 2017-12-18 &  255.404 & 1166.400 &  -549.2637 &  674.82847 & -1036.56032 &   129.8392791\\\\\n",
       "\t stl & 2017-12-19 & 1715.652 & 1167.436 &  -629.5131 &  503.75927 &   673.97008 &  1841.4057883\\\\\n",
       "\t stl & 2017-12-20 &  286.380 & 1168.472 & -1435.8868 &  599.60295 &   -45.80801 &  1122.6638168\\\\\n",
       "\t stl & 2017-12-21 & 1899.120 & 1169.508 &   599.5228 &   13.33557 &   116.75370 &  1286.2616304\\\\\n",
       "\t stl & 2017-12-22 & 4116.031 & 1170.544 &  1218.7876 &  428.69288 &  1298.00647 &  2468.5505163\\\\\n",
       "\t stl & 2017-12-23 &  400.146 & 1171.580 &   364.5892 &  524.04407 & -1660.06739 &  -488.4872329\\\\\n",
       "\t stl & 2017-12-24 & 5040.642 & 1172.616 &   437.4607 & 1192.63663 &  2237.92837 &  3410.5446298\\\\\n",
       "\t stl & 2017-12-25 &  834.682 & 1173.652 &  -579.5580 & 1413.56572 & -1172.97812 &     0.6742554\\\\\n",
       "\t stl & 2017-12-26 &  814.594 & 1174.688 &  -610.2041 &  700.17481 &  -450.06519 &   724.6232955\\\\\n",
       "\t stl & 2017-12-27 &  164.388 & 1175.725 & -1419.9654 &  534.69721 &  -126.06841 &  1049.6561807\\\\\n",
       "\t stl & 2017-12-28 & 1361.944 & 1176.761 &   633.1407 & -262.97517 &  -184.98219 &   991.7785156\\\\\n",
       "\t stl & 2017-12-29 & 1937.858 & 1177.797 &  1176.0351 &   86.95944 &  -502.93335 &   674.8634640\\\\\n",
       "\t stl & 2017-12-30 &  549.364 & 1178.833 &   335.0411 &  177.80377 & -1142.31375 &    36.5191710\\\\\n",
       "\\end{tabular}\n"
      ],
      "text/markdown": [
       "\n",
       "A dcmp_ts: 1458 × 8\n",
       "\n",
       "| .model &lt;chr&gt; | Order.Date &lt;date&gt; | Sales &lt;dbl&gt; | trend &lt;dbl&gt; | season_week &lt;dbl&gt; | season_year &lt;dbl&gt; | remainder &lt;dbl&gt; | season_adjust &lt;dbl&gt; |\n",
       "|---|---|---|---|---|---|---|---|\n",
       "| stl | 2014-01-03 |   16.448 | 546.6315 | -130.954620 |  -74.49014 |  -324.738771 |  221.8928 |\n",
       "| stl | 2014-01-04 |   11.784 | 546.7766 |  -16.386812 |  100.29131 |  -618.897061 |  -72.1205 |\n",
       "| stl | 2014-01-05 |   19.536 | 546.9216 | -217.957855 | -251.74324 |   -57.684507 |  489.2371 |\n",
       "| stl | 2014-01-06 | 2606.040 | 547.0666 |  639.148224 |   49.27667 |  1370.548466 | 1917.6151 |\n",
       "| stl | 2014-01-07 |   76.728 | 547.2117 |   -7.658663 | -672.60359 |   209.778564 |  756.9902 |\n",
       "| stl | 2014-01-08 |    0.000 | 547.3567 | -153.322583 |  350.21816 |  -744.252301 | -196.8956 |\n",
       "| stl | 2014-01-09 |    9.344 | 547.5018 | -118.034998 | -459.93243 |    39.809668 |  587.3114 |\n",
       "| stl | 2014-01-10 |    2.890 | 547.6468 | -117.870656 | -465.08310 |    38.196950 |  585.8438 |\n",
       "| stl | 2014-01-11 |    9.940 | 547.7918 |   -8.702446 | -597.03211 |    67.882715 |  615.6746 |\n",
       "| stl | 2014-01-12 |    0.000 | 547.9369 | -214.640843 | -338.67121 |     5.375167 |  553.3120 |\n",
       "| stl | 2014-01-13 | 1920.558 | 548.0819 |  602.671877 |   40.18157 |   729.622635 | 1277.7046 |\n",
       "| stl | 2014-01-14 |   61.960 | 548.2270 |   -4.587361 | -639.91234 |   158.232741 |  706.4597 |\n",
       "| stl | 2014-01-15 |  149.950 | 548.3720 | -143.964253 | -481.80780 |   227.350055 |  775.7221 |\n",
       "| stl | 2014-01-16 |  127.104 | 548.5170 | -118.271950 | -719.73177 |   416.590683 |  965.1077 |\n",
       "| stl | 2014-01-17 |    0.000 | 548.6621 | -104.904373 |  628.85724 | -1072.614951 | -523.9529 |\n",
       "| stl | 2014-01-18 |   64.864 | 548.8071 |   -1.471056 | -548.24198 |    65.769914 |  614.5770 |\n",
       "| stl | 2014-01-19 |   32.340 | 548.9522 | -212.138874 | -526.72542 |   222.252138 |  771.2043 |\n",
       "| stl | 2014-01-20 |  800.464 | 549.0972 |  565.173496 | -359.78762 |    45.980931 |  595.0781 |\n",
       "| stl | 2014-01-21 |   25.248 | 549.2422 |   -2.483524 | -543.39121 |    21.880502 |  571.1227 |\n",
       "| stl | 2014-01-22 |    0.000 | 549.3873 | -135.294747 | -403.40019 |   -10.692340 |  538.6949 |\n",
       "| stl | 2014-01-23 |   46.020 | 549.5323 | -118.763453 |  -28.14561 |  -356.603251 |  192.9291 |\n",
       "| stl | 2014-01-24 |    0.000 | 549.6774 |  -80.438840 | -749.07383 |   279.835318 |  829.5127 |\n",
       "| stl | 2014-01-25 |    0.000 | 549.8224 |   28.199661 | -530.44169 |   -47.580364 |  502.2420 |\n",
       "| stl | 2014-01-26 |   73.500 | 549.9674 | -196.281992 | -572.90813 |   292.722687 |  842.6901 |\n",
       "| stl | 2014-01-27 |   57.230 | 550.1125 |  458.828817 |  121.07608 | -1072.787372 | -522.6749 |\n",
       "| stl | 2014-01-28 |    3.928 | 550.2575 |   -4.665227 |  499.54947 | -1041.213758 | -490.9562 |\n",
       "| stl | 2014-01-29 |    0.000 | 550.4026 |  -97.370275 | -420.00021 |   -33.032072 |  517.3705 |\n",
       "| stl | 2014-01-30 |   10.560 | 550.5476 | -121.470940 |  -83.23385 |  -335.282806 |  215.2648 |\n",
       "| stl | 2014-01-31 |  290.666 | 550.6926 |  -54.998549 | -104.35813 |  -100.669954 |  450.0227 |\n",
       "| stl | 2014-02-01 |  468.900 | 550.8377 |   57.558737 | -371.56416 |   232.067749 |  782.9054 |\n",
       "| ... | ... | ... | ... | ... | ... | ... | ... |\n",
       "| stl | 2017-12-01 | 1722.774 | 1148.786 |  1377.0921 |  487.40790 | -1290.51176 |  -141.7260245 |\n",
       "| stl | 2017-12-02 | 5378.294 | 1149.822 |   590.5567 | 1789.08399 |  1848.83147 |  2998.6533133 |\n",
       "| stl | 2017-12-03 |  902.832 | 1150.858 |   300.1257 |  547.50710 | -1095.65871 |    55.1992466 |\n",
       "| stl | 2017-12-04 | 1263.680 | 1151.894 |  -447.3077 |  287.99395 |   271.09966 |  1422.9937271 |\n",
       "| stl | 2017-12-05 |  552.646 | 1152.930 |  -694.3048 | 1073.85174 |  -979.83116 |   173.0990188 |\n",
       "| stl | 2017-12-06 |   10.680 | 1153.966 | -1492.4141 |  193.87407 |   155.25373 |  1309.2200176 |\n",
       "| stl | 2017-12-07 | 2848.962 | 1155.002 |   504.8681 |  223.09460 |   965.99692 |  2120.9993150 |\n",
       "| stl | 2017-12-08 | 1476.262 | 1156.039 |  1312.1866 | -119.85149 |  -872.11158 |   283.9269268 |\n",
       "| stl | 2017-12-09 | 2331.123 | 1157.075 |   486.1340 |   89.27034 |   598.64405 |  1755.7186654 |\n",
       "| stl | 2017-12-10 | 2541.491 | 1158.111 |   348.8940 |  150.29706 |   884.18926 |  2042.2999804 |\n",
       "| stl | 2017-12-11 | 1134.815 | 1159.147 |  -501.3961 |  262.15216 |   214.91213 |  1374.0589627 |\n",
       "| stl | 2017-12-12 |    0.000 | 1160.183 |  -662.7428 |  -10.14080 |  -487.29939 |   672.8835554 |\n",
       "| stl | 2017-12-13 |  328.056 | 1161.219 | -1463.0020 | 1451.94344 |  -822.10448 |   339.1145786 |\n",
       "| stl | 2017-12-14 | 2855.346 | 1162.255 |   554.7579 |  825.79977 |   312.53318 |  1474.7883426 |\n",
       "| stl | 2017-12-15 |   55.792 | 1163.291 |  1262.7070 |  243.34548 | -2613.55179 | -1450.2605156 |\n",
       "| stl | 2017-12-16 |  145.088 | 1164.327 |   395.6125 | -654.70231 |  -760.14961 |   404.1777766 |\n",
       "| stl | 2017-12-17 | 1851.372 | 1165.363 |   408.2241 | 2545.20577 | -2267.42131 | -1102.0578188 |\n",
       "| stl | 2017-12-18 |  255.404 | 1166.400 |  -549.2637 |  674.82847 | -1036.56032 |   129.8392791 |\n",
       "| stl | 2017-12-19 | 1715.652 | 1167.436 |  -629.5131 |  503.75927 |   673.97008 |  1841.4057883 |\n",
       "| stl | 2017-12-20 |  286.380 | 1168.472 | -1435.8868 |  599.60295 |   -45.80801 |  1122.6638168 |\n",
       "| stl | 2017-12-21 | 1899.120 | 1169.508 |   599.5228 |   13.33557 |   116.75370 |  1286.2616304 |\n",
       "| stl | 2017-12-22 | 4116.031 | 1170.544 |  1218.7876 |  428.69288 |  1298.00647 |  2468.5505163 |\n",
       "| stl | 2017-12-23 |  400.146 | 1171.580 |   364.5892 |  524.04407 | -1660.06739 |  -488.4872329 |\n",
       "| stl | 2017-12-24 | 5040.642 | 1172.616 |   437.4607 | 1192.63663 |  2237.92837 |  3410.5446298 |\n",
       "| stl | 2017-12-25 |  834.682 | 1173.652 |  -579.5580 | 1413.56572 | -1172.97812 |     0.6742554 |\n",
       "| stl | 2017-12-26 |  814.594 | 1174.688 |  -610.2041 |  700.17481 |  -450.06519 |   724.6232955 |\n",
       "| stl | 2017-12-27 |  164.388 | 1175.725 | -1419.9654 |  534.69721 |  -126.06841 |  1049.6561807 |\n",
       "| stl | 2017-12-28 | 1361.944 | 1176.761 |   633.1407 | -262.97517 |  -184.98219 |   991.7785156 |\n",
       "| stl | 2017-12-29 | 1937.858 | 1177.797 |  1176.0351 |   86.95944 |  -502.93335 |   674.8634640 |\n",
       "| stl | 2017-12-30 |  549.364 | 1178.833 |   335.0411 |  177.80377 | -1142.31375 |    36.5191710 |\n",
       "\n"
      ],
      "text/plain": [
       "     .model Order.Date Sales    trend    season_week\n",
       "1    stl    2014-01-03   16.448 546.6315 -130.954620\n",
       "2    stl    2014-01-04   11.784 546.7766  -16.386812\n",
       "3    stl    2014-01-05   19.536 546.9216 -217.957855\n",
       "4    stl    2014-01-06 2606.040 547.0666  639.148224\n",
       "5    stl    2014-01-07   76.728 547.2117   -7.658663\n",
       "6    stl    2014-01-08    0.000 547.3567 -153.322583\n",
       "7    stl    2014-01-09    9.344 547.5018 -118.034998\n",
       "8    stl    2014-01-10    2.890 547.6468 -117.870656\n",
       "9    stl    2014-01-11    9.940 547.7918   -8.702446\n",
       "10   stl    2014-01-12    0.000 547.9369 -214.640843\n",
       "11   stl    2014-01-13 1920.558 548.0819  602.671877\n",
       "12   stl    2014-01-14   61.960 548.2270   -4.587361\n",
       "13   stl    2014-01-15  149.950 548.3720 -143.964253\n",
       "14   stl    2014-01-16  127.104 548.5170 -118.271950\n",
       "15   stl    2014-01-17    0.000 548.6621 -104.904373\n",
       "16   stl    2014-01-18   64.864 548.8071   -1.471056\n",
       "17   stl    2014-01-19   32.340 548.9522 -212.138874\n",
       "18   stl    2014-01-20  800.464 549.0972  565.173496\n",
       "19   stl    2014-01-21   25.248 549.2422   -2.483524\n",
       "20   stl    2014-01-22    0.000 549.3873 -135.294747\n",
       "21   stl    2014-01-23   46.020 549.5323 -118.763453\n",
       "22   stl    2014-01-24    0.000 549.6774  -80.438840\n",
       "23   stl    2014-01-25    0.000 549.8224   28.199661\n",
       "24   stl    2014-01-26   73.500 549.9674 -196.281992\n",
       "25   stl    2014-01-27   57.230 550.1125  458.828817\n",
       "26   stl    2014-01-28    3.928 550.2575   -4.665227\n",
       "27   stl    2014-01-29    0.000 550.4026  -97.370275\n",
       "28   stl    2014-01-30   10.560 550.5476 -121.470940\n",
       "29   stl    2014-01-31  290.666 550.6926  -54.998549\n",
       "30   stl    2014-02-01  468.900 550.8377   57.558737\n",
       "...  ...    ...        ...      ...      ...        \n",
       "1429 stl    2017-12-01 1722.774 1148.786  1377.0921 \n",
       "1430 stl    2017-12-02 5378.294 1149.822   590.5567 \n",
       "1431 stl    2017-12-03  902.832 1150.858   300.1257 \n",
       "1432 stl    2017-12-04 1263.680 1151.894  -447.3077 \n",
       "1433 stl    2017-12-05  552.646 1152.930  -694.3048 \n",
       "1434 stl    2017-12-06   10.680 1153.966 -1492.4141 \n",
       "1435 stl    2017-12-07 2848.962 1155.002   504.8681 \n",
       "1436 stl    2017-12-08 1476.262 1156.039  1312.1866 \n",
       "1437 stl    2017-12-09 2331.123 1157.075   486.1340 \n",
       "1438 stl    2017-12-10 2541.491 1158.111   348.8940 \n",
       "1439 stl    2017-12-11 1134.815 1159.147  -501.3961 \n",
       "1440 stl    2017-12-12    0.000 1160.183  -662.7428 \n",
       "1441 stl    2017-12-13  328.056 1161.219 -1463.0020 \n",
       "1442 stl    2017-12-14 2855.346 1162.255   554.7579 \n",
       "1443 stl    2017-12-15   55.792 1163.291  1262.7070 \n",
       "1444 stl    2017-12-16  145.088 1164.327   395.6125 \n",
       "1445 stl    2017-12-17 1851.372 1165.363   408.2241 \n",
       "1446 stl    2017-12-18  255.404 1166.400  -549.2637 \n",
       "1447 stl    2017-12-19 1715.652 1167.436  -629.5131 \n",
       "1448 stl    2017-12-20  286.380 1168.472 -1435.8868 \n",
       "1449 stl    2017-12-21 1899.120 1169.508   599.5228 \n",
       "1450 stl    2017-12-22 4116.031 1170.544  1218.7876 \n",
       "1451 stl    2017-12-23  400.146 1171.580   364.5892 \n",
       "1452 stl    2017-12-24 5040.642 1172.616   437.4607 \n",
       "1453 stl    2017-12-25  834.682 1173.652  -579.5580 \n",
       "1454 stl    2017-12-26  814.594 1174.688  -610.2041 \n",
       "1455 stl    2017-12-27  164.388 1175.725 -1419.9654 \n",
       "1456 stl    2017-12-28 1361.944 1176.761   633.1407 \n",
       "1457 stl    2017-12-29 1937.858 1177.797  1176.0351 \n",
       "1458 stl    2017-12-30  549.364 1178.833   335.0411 \n",
       "     season_year remainder    season_adjust\n",
       "1     -74.49014   -324.738771  221.8928    \n",
       "2     100.29131   -618.897061  -72.1205    \n",
       "3    -251.74324    -57.684507  489.2371    \n",
       "4      49.27667   1370.548466 1917.6151    \n",
       "5    -672.60359    209.778564  756.9902    \n",
       "6     350.21816   -744.252301 -196.8956    \n",
       "7    -459.93243     39.809668  587.3114    \n",
       "8    -465.08310     38.196950  585.8438    \n",
       "9    -597.03211     67.882715  615.6746    \n",
       "10   -338.67121      5.375167  553.3120    \n",
       "11     40.18157    729.622635 1277.7046    \n",
       "12   -639.91234    158.232741  706.4597    \n",
       "13   -481.80780    227.350055  775.7221    \n",
       "14   -719.73177    416.590683  965.1077    \n",
       "15    628.85724  -1072.614951 -523.9529    \n",
       "16   -548.24198     65.769914  614.5770    \n",
       "17   -526.72542    222.252138  771.2043    \n",
       "18   -359.78762     45.980931  595.0781    \n",
       "19   -543.39121     21.880502  571.1227    \n",
       "20   -403.40019    -10.692340  538.6949    \n",
       "21    -28.14561   -356.603251  192.9291    \n",
       "22   -749.07383    279.835318  829.5127    \n",
       "23   -530.44169    -47.580364  502.2420    \n",
       "24   -572.90813    292.722687  842.6901    \n",
       "25    121.07608  -1072.787372 -522.6749    \n",
       "26    499.54947  -1041.213758 -490.9562    \n",
       "27   -420.00021    -33.032072  517.3705    \n",
       "28    -83.23385   -335.282806  215.2648    \n",
       "29   -104.35813   -100.669954  450.0227    \n",
       "30   -371.56416    232.067749  782.9054    \n",
       "...  ...         ...          ...          \n",
       "1429  487.40790  -1290.51176   -141.7260245\n",
       "1430 1789.08399   1848.83147   2998.6533133\n",
       "1431  547.50710  -1095.65871     55.1992466\n",
       "1432  287.99395    271.09966   1422.9937271\n",
       "1433 1073.85174   -979.83116    173.0990188\n",
       "1434  193.87407    155.25373   1309.2200176\n",
       "1435  223.09460    965.99692   2120.9993150\n",
       "1436 -119.85149   -872.11158    283.9269268\n",
       "1437   89.27034    598.64405   1755.7186654\n",
       "1438  150.29706    884.18926   2042.2999804\n",
       "1439  262.15216    214.91213   1374.0589627\n",
       "1440  -10.14080   -487.29939    672.8835554\n",
       "1441 1451.94344   -822.10448    339.1145786\n",
       "1442  825.79977    312.53318   1474.7883426\n",
       "1443  243.34548  -2613.55179  -1450.2605156\n",
       "1444 -654.70231   -760.14961    404.1777766\n",
       "1445 2545.20577  -2267.42131  -1102.0578188\n",
       "1446  674.82847  -1036.56032    129.8392791\n",
       "1447  503.75927    673.97008   1841.4057883\n",
       "1448  599.60295    -45.80801   1122.6638168\n",
       "1449   13.33557    116.75370   1286.2616304\n",
       "1450  428.69288   1298.00647   2468.5505163\n",
       "1451  524.04407  -1660.06739   -488.4872329\n",
       "1452 1192.63663   2237.92837   3410.5446298\n",
       "1453 1413.56572  -1172.97812      0.6742554\n",
       "1454  700.17481   -450.06519    724.6232955\n",
       "1455  534.69721   -126.06841   1049.6561807\n",
       "1456 -262.97517   -184.98219    991.7785156\n",
       "1457   86.95944   -502.93335    674.8634640\n",
       "1458  177.80377  -1142.31375     36.5191710"
      ]
     },
     "metadata": {},
     "output_type": "display_data"
    }
   ],
   "source": [
    "dcmp <- df_ts_filled %>%\n",
    "  model(stl = STL(Sales))\n",
    "components(dcmp)"
   ]
  },
  {
   "cell_type": "code",
   "execution_count": 242,
   "metadata": {
    "vscode": {
     "languageId": "r"
    }
   },
   "outputs": [
    {
     "data": {
      "image/png": "[encoded data removed]",
      "text/plain": [
       "plot without title"
      ]
     },
     "metadata": {
      "image/png": {
       "height": 420,
       "width": 420
      }
     },
     "output_type": "display_data"
    }
   ],
   "source": [
    "df_ts_filled %>%\n",
    "  autoplot(Sales, color='gray') +\n",
    "  autolayer(components(dcmp), season_adjust, color='#0072B2') +\n",
    "  labs(y=\"Vendas\", title=\"Total de vendas por data ao longo dos anos de 2014 a 2018\")"
   ]
  },
  {
   "attachments": {},
   "cell_type": "markdown",
   "metadata": {},
   "source": [
    "Decomposição clássica aditiva"
   ]
  },
  {
   "cell_type": "code",
   "execution_count": 223,
   "metadata": {
    "vscode": {
     "languageId": "r"
    }
   },
   "outputs": [
    {
     "name": "stderr",
     "output_type": "stream",
     "text": [
      "Warning message:\n",
      "\"\u001b[1m\u001b[22mRemoved 3 rows containing missing values (`geom_line()`).\"\n"
     ]
    },
    {
     "data": {
      "image/png": "[encoded data removed]",
      "text/plain": [
       "plot without title"
      ]
     },
     "metadata": {
      "image/png": {
       "height": 420,
       "width": 420
      }
     },
     "output_type": "display_data"
    }
   ],
   "source": [
    "# decompondo a serie temporal com decomposição clássica\n",
    "df_ts_filled %>%\n",
    "  model(classical_decomposition(Sales, type = \"additive\")) %>%\n",
    "  components() %>%\n",
    "  autoplot()"
   ]
  },
  {
   "attachments": {},
   "cell_type": "markdown",
   "metadata": {},
   "source": [
    "Multiplicativa"
   ]
  },
  {
   "cell_type": "code",
   "execution_count": 224,
   "metadata": {
    "vscode": {
     "languageId": "r"
    }
   },
   "outputs": [
    {
     "name": "stderr",
     "output_type": "stream",
     "text": [
      "Warning message:\n",
      "\"\u001b[1m\u001b[22mRemoved 3 rows containing missing values (`geom_line()`).\"\n"
     ]
    },
    {
     "data": {
      "image/png": "[encoded data removed]",
      "text/plain": [
       "plot without title"
      ]
     },
     "metadata": {
      "image/png": {
       "height": 420,
       "width": 420
      }
     },
     "output_type": "display_data"
    }
   ],
   "source": [
    "df_ts_filled %>%\n",
    "  model(classical_decomposition(Sales, type = \"multiplicative\")) %>%\n",
    "  components() %>%\n",
    "  replace_na(list(y = 0)) %>%\n",
    "  autoplot()"
   ]
  },
  {
   "cell_type": "code",
   "execution_count": 225,
   "metadata": {
    "vscode": {
     "languageId": "r"
    }
   },
   "outputs": [
    {
     "name": "stderr",
     "output_type": "stream",
     "text": [
      "Warning message:\n",
      "\"\u001b[1m\u001b[22mRemoved 7 rows containing missing values (`geom_line()`).\"\n"
     ]
    },
    {
     "data": {
      "image/png": "[encoded data removed]",
      "text/plain": [
       "plot without title"
      ]
     },
     "metadata": {
      "image/png": {
       "height": 420,
       "width": 420
      }
     },
     "output_type": "display_data"
    }
   ],
   "source": [
    "ts_dec <- df_ts_filled %>% \n",
    "  \n",
    "  model(ets = ETS(Sales)) %>% \n",
    "  \n",
    "  components() %>%\n",
    "  autoplot() +\n",
    "  labs(title = \"ETS de Sales\")\n",
    "ts_dec"
   ]
  },
  {
   "attachments": {},
   "cell_type": "markdown",
   "metadata": {},
   "source": [
    "Fit usando o modelo TSLM"
   ]
  },
  {
   "cell_type": "code",
   "execution_count": 226,
   "metadata": {
    "vscode": {
     "languageId": "r"
    }
   },
   "outputs": [
    {
     "data": {
      "text/html": [
       "<table class=\"dataframe\">\n",
       "<caption>A mdl_df: 1 × 1</caption>\n",
       "<thead>\n",
       "\t<tr><th scope=col>trend_model</th></tr>\n",
       "\t<tr><th scope=col>&lt;model&gt;</th></tr>\n",
       "</thead>\n",
       "<tbody>\n",
       "\t<tr><td>&lt;TSLM&gt;</td></tr>\n",
       "</tbody>\n",
       "</table>\n"
      ],
      "text/latex": [
       "A mdl\\_df: 1 × 1\n",
       "\\begin{tabular}{l}\n",
       " trend\\_model\\\\\n",
       " <model>\\\\\n",
       "\\hline\n",
       "\t <TSLM>\\\\\n",
       "\\end{tabular}\n"
      ],
      "text/markdown": [
       "\n",
       "A mdl_df: 1 × 1\n",
       "\n",
       "| trend_model &lt;model&gt; |\n",
       "|---|\n",
       "| &lt;TSLM&gt; |\n",
       "\n"
      ],
      "text/plain": [
       "  trend_model\n",
       "1 <TSLM>     "
      ]
     },
     "metadata": {},
     "output_type": "display_data"
    }
   ],
   "source": [
    "fit <- df_ts_filled |>\n",
    "  model(trend_model = TSLM(Sales ~ trend()))\n",
    "fit"
   ]
  },
  {
   "attachments": {},
   "cell_type": "markdown",
   "metadata": {},
   "source": [
    "Produzindo Forecast para 3 anos"
   ]
  },
  {
   "cell_type": "code",
   "execution_count": 227,
   "metadata": {
    "vscode": {
     "languageId": "r"
    }
   },
   "outputs": [
    {
     "data": {
      "text/html": [
       "<table class=\"dataframe\">\n",
       "<caption>A fbl_ts: 1096 × 4</caption>\n",
       "<thead>\n",
       "\t<tr><th scope=col>.model</th><th scope=col>Order.Date</th><th scope=col>Sales</th><th scope=col>.mean</th></tr>\n",
       "\t<tr><th scope=col>&lt;chr&gt;</th><th scope=col>&lt;date&gt;</th><th scope=col>&lt;dist&gt;</th><th scope=col>&lt;dbl&gt;</th></tr>\n",
       "</thead>\n",
       "<tbody>\n",
       "\t<tr><td>trend_model</td><td>2017-12-31</td><td>N(1153, 1409293)</td><td>1152.573</td></tr>\n",
       "\t<tr><td>trend_model</td><td>2018-01-01</td><td>N(1153, 1409301)</td><td>1153.118</td></tr>\n",
       "\t<tr><td>trend_model</td><td>2018-01-02</td><td>N(1154, 1409309)</td><td>1153.664</td></tr>\n",
       "\t<tr><td>trend_model</td><td>2018-01-03</td><td>N(1154, 1409317)</td><td>1154.210</td></tr>\n",
       "\t<tr><td>trend_model</td><td>2018-01-04</td><td>N(1155, 1409325)</td><td>1154.756</td></tr>\n",
       "\t<tr><td>trend_model</td><td>2018-01-05</td><td>N(1155, 1409333)</td><td>1155.302</td></tr>\n",
       "\t<tr><td>trend_model</td><td>2018-01-06</td><td>N(1156, 1409341)</td><td>1155.848</td></tr>\n",
       "\t<tr><td>trend_model</td><td>2018-01-07</td><td>N(1156, 1409349)</td><td>1156.394</td></tr>\n",
       "\t<tr><td>trend_model</td><td>2018-01-08</td><td>N(1157, 1409357)</td><td>1156.940</td></tr>\n",
       "\t<tr><td>trend_model</td><td>2018-01-09</td><td>N(1157, 1409365)</td><td>1157.485</td></tr>\n",
       "\t<tr><td>trend_model</td><td>2018-01-10</td><td>N(1158, 1409373)</td><td>1158.031</td></tr>\n",
       "\t<tr><td>trend_model</td><td>2018-01-11</td><td>N(1159, 1409381)</td><td>1158.577</td></tr>\n",
       "\t<tr><td>trend_model</td><td>2018-01-12</td><td>N(1159, 1409389)</td><td>1159.123</td></tr>\n",
       "\t<tr><td>trend_model</td><td>2018-01-13</td><td>N(1160, 1409397)</td><td>1159.669</td></tr>\n",
       "\t<tr><td>trend_model</td><td>2018-01-14</td><td>N(1160, 1409406)</td><td>1160.215</td></tr>\n",
       "\t<tr><td>trend_model</td><td>2018-01-15</td><td>N(1161, 1409414)</td><td>1160.761</td></tr>\n",
       "\t<tr><td>trend_model</td><td>2018-01-16</td><td>N(1161, 1409422)</td><td>1161.306</td></tr>\n",
       "\t<tr><td>trend_model</td><td>2018-01-17</td><td>N(1162, 1409430)</td><td>1161.852</td></tr>\n",
       "\t<tr><td>trend_model</td><td>2018-01-18</td><td>N(1162, 1409438)</td><td>1162.398</td></tr>\n",
       "\t<tr><td>trend_model</td><td>2018-01-19</td><td>N(1163, 1409446)</td><td>1162.944</td></tr>\n",
       "\t<tr><td>trend_model</td><td>2018-01-20</td><td>N(1163, 1409454)</td><td>1163.490</td></tr>\n",
       "\t<tr><td>trend_model</td><td>2018-01-21</td><td>N(1164, 1409462)</td><td>1164.036</td></tr>\n",
       "\t<tr><td>trend_model</td><td>2018-01-22</td><td>N(1165, 1409471)</td><td>1164.582</td></tr>\n",
       "\t<tr><td>trend_model</td><td>2018-01-23</td><td>N(1165, 1409479)</td><td>1165.128</td></tr>\n",
       "\t<tr><td>trend_model</td><td>2018-01-24</td><td>N(1166, 1409487)</td><td>1165.673</td></tr>\n",
       "\t<tr><td>trend_model</td><td>2018-01-25</td><td>N(1166, 1409495)</td><td>1166.219</td></tr>\n",
       "\t<tr><td>trend_model</td><td>2018-01-26</td><td>N(1167, 1409503)</td><td>1166.765</td></tr>\n",
       "\t<tr><td>trend_model</td><td>2018-01-27</td><td>N(1167, 1409512)</td><td>1167.311</td></tr>\n",
       "\t<tr><td>trend_model</td><td>2018-01-28</td><td>N(1168, 1409520)</td><td>1167.857</td></tr>\n",
       "\t<tr><td>trend_model</td><td>2018-01-29</td><td>N(1168, 1409528)</td><td>1168.403</td></tr>\n",
       "\t<tr><td>...</td><td>...</td><td>...</td><td>...</td></tr>\n",
       "\t<tr><td>trend_model</td><td>2020-12-01</td><td>N(1734, 1423940)</td><td>1734.465</td></tr>\n",
       "\t<tr><td>trend_model</td><td>2020-12-02</td><td>N(1735, 1423960)</td><td>1735.011</td></tr>\n",
       "\t<tr><td>trend_model</td><td>2020-12-03</td><td>N(1736, 1423979)</td><td>1735.557</td></tr>\n",
       "\t<tr><td>trend_model</td><td>2020-12-04</td><td>N(1736, 1423999)</td><td>1736.103</td></tr>\n",
       "\t<tr><td>trend_model</td><td>2020-12-05</td><td>N(1737, 1424018)</td><td>1736.649</td></tr>\n",
       "\t<tr><td>trend_model</td><td>2020-12-06</td><td>N(1737, 1424038)</td><td>1737.195</td></tr>\n",
       "\t<tr><td>trend_model</td><td>2020-12-07</td><td>N(1738, 1424057)</td><td>1737.741</td></tr>\n",
       "\t<tr><td>trend_model</td><td>2020-12-08</td><td>N(1738, 1424077)</td><td>1738.287</td></tr>\n",
       "\t<tr><td>trend_model</td><td>2020-12-09</td><td>N(1739, 1424097)</td><td>1738.832</td></tr>\n",
       "\t<tr><td>trend_model</td><td>2020-12-10</td><td>N(1739, 1424116)</td><td>1739.378</td></tr>\n",
       "\t<tr><td>trend_model</td><td>2020-12-11</td><td>N(1740, 1424136)</td><td>1739.924</td></tr>\n",
       "\t<tr><td>trend_model</td><td>2020-12-12</td><td>N(1740, 1424156)</td><td>1740.470</td></tr>\n",
       "\t<tr><td>trend_model</td><td>2020-12-13</td><td>N(1741, 1424175)</td><td>1741.016</td></tr>\n",
       "\t<tr><td>trend_model</td><td>2020-12-14</td><td>N(1742, 1424195)</td><td>1741.562</td></tr>\n",
       "\t<tr><td>trend_model</td><td>2020-12-15</td><td>N(1742, 1424215)</td><td>1742.108</td></tr>\n",
       "\t<tr><td>trend_model</td><td>2020-12-16</td><td>N(1743, 1424234)</td><td>1742.653</td></tr>\n",
       "\t<tr><td>trend_model</td><td>2020-12-17</td><td>N(1743, 1424254)</td><td>1743.199</td></tr>\n",
       "\t<tr><td>trend_model</td><td>2020-12-18</td><td>N(1744, 1424274)</td><td>1743.745</td></tr>\n",
       "\t<tr><td>trend_model</td><td>2020-12-19</td><td>N(1744, 1424293)</td><td>1744.291</td></tr>\n",
       "\t<tr><td>trend_model</td><td>2020-12-20</td><td>N(1745, 1424313)</td><td>1744.837</td></tr>\n",
       "\t<tr><td>trend_model</td><td>2020-12-21</td><td>N(1745, 1424333)</td><td>1745.383</td></tr>\n",
       "\t<tr><td>trend_model</td><td>2020-12-22</td><td>N(1746, 1424353)</td><td>1745.929</td></tr>\n",
       "\t<tr><td>trend_model</td><td>2020-12-23</td><td>N(1746, 1424372)</td><td>1746.475</td></tr>\n",
       "\t<tr><td>trend_model</td><td>2020-12-24</td><td>N(1747, 1424392)</td><td>1747.020</td></tr>\n",
       "\t<tr><td>trend_model</td><td>2020-12-25</td><td>N(1748, 1424412)</td><td>1747.566</td></tr>\n",
       "\t<tr><td>trend_model</td><td>2020-12-26</td><td>N(1748, 1424432)</td><td>1748.112</td></tr>\n",
       "\t<tr><td>trend_model</td><td>2020-12-27</td><td>N(1749, 1424452)</td><td>1748.658</td></tr>\n",
       "\t<tr><td>trend_model</td><td>2020-12-28</td><td>N(1749, 1424472)</td><td>1749.204</td></tr>\n",
       "\t<tr><td>trend_model</td><td>2020-12-29</td><td>N(1750, 1424491)</td><td>1749.750</td></tr>\n",
       "\t<tr><td>trend_model</td><td>2020-12-30</td><td>N(1750, 1424511)</td><td>1750.296</td></tr>\n",
       "</tbody>\n",
       "</table>\n"
      ],
      "text/latex": [
       "A fbl\\_ts: 1096 × 4\n",
       "\\begin{tabular}{llll}\n",
       " .model & Order.Date & Sales & .mean\\\\\n",
       " <chr> & <date> & <dist> & <dbl>\\\\\n",
       "\\hline\n",
       "\t trend\\_model & 2017-12-31 & N(1153, 1409293) & 1152.573\\\\\n",
       "\t trend\\_model & 2018-01-01 & N(1153, 1409301) & 1153.118\\\\\n",
       "\t trend\\_model & 2018-01-02 & N(1154, 1409309) & 1153.664\\\\\n",
       "\t trend\\_model & 2018-01-03 & N(1154, 1409317) & 1154.210\\\\\n",
       "\t trend\\_model & 2018-01-04 & N(1155, 1409325) & 1154.756\\\\\n",
       "\t trend\\_model & 2018-01-05 & N(1155, 1409333) & 1155.302\\\\\n",
       "\t trend\\_model & 2018-01-06 & N(1156, 1409341) & 1155.848\\\\\n",
       "\t trend\\_model & 2018-01-07 & N(1156, 1409349) & 1156.394\\\\\n",
       "\t trend\\_model & 2018-01-08 & N(1157, 1409357) & 1156.940\\\\\n",
       "\t trend\\_model & 2018-01-09 & N(1157, 1409365) & 1157.485\\\\\n",
       "\t trend\\_model & 2018-01-10 & N(1158, 1409373) & 1158.031\\\\\n",
       "\t trend\\_model & 2018-01-11 & N(1159, 1409381) & 1158.577\\\\\n",
       "\t trend\\_model & 2018-01-12 & N(1159, 1409389) & 1159.123\\\\\n",
       "\t trend\\_model & 2018-01-13 & N(1160, 1409397) & 1159.669\\\\\n",
       "\t trend\\_model & 2018-01-14 & N(1160, 1409406) & 1160.215\\\\\n",
       "\t trend\\_model & 2018-01-15 & N(1161, 1409414) & 1160.761\\\\\n",
       "\t trend\\_model & 2018-01-16 & N(1161, 1409422) & 1161.306\\\\\n",
       "\t trend\\_model & 2018-01-17 & N(1162, 1409430) & 1161.852\\\\\n",
       "\t trend\\_model & 2018-01-18 & N(1162, 1409438) & 1162.398\\\\\n",
       "\t trend\\_model & 2018-01-19 & N(1163, 1409446) & 1162.944\\\\\n",
       "\t trend\\_model & 2018-01-20 & N(1163, 1409454) & 1163.490\\\\\n",
       "\t trend\\_model & 2018-01-21 & N(1164, 1409462) & 1164.036\\\\\n",
       "\t trend\\_model & 2018-01-22 & N(1165, 1409471) & 1164.582\\\\\n",
       "\t trend\\_model & 2018-01-23 & N(1165, 1409479) & 1165.128\\\\\n",
       "\t trend\\_model & 2018-01-24 & N(1166, 1409487) & 1165.673\\\\\n",
       "\t trend\\_model & 2018-01-25 & N(1166, 1409495) & 1166.219\\\\\n",
       "\t trend\\_model & 2018-01-26 & N(1167, 1409503) & 1166.765\\\\\n",
       "\t trend\\_model & 2018-01-27 & N(1167, 1409512) & 1167.311\\\\\n",
       "\t trend\\_model & 2018-01-28 & N(1168, 1409520) & 1167.857\\\\\n",
       "\t trend\\_model & 2018-01-29 & N(1168, 1409528) & 1168.403\\\\\n",
       "\t ... & ... & ... & ...\\\\\n",
       "\t trend\\_model & 2020-12-01 & N(1734, 1423940) & 1734.465\\\\\n",
       "\t trend\\_model & 2020-12-02 & N(1735, 1423960) & 1735.011\\\\\n",
       "\t trend\\_model & 2020-12-03 & N(1736, 1423979) & 1735.557\\\\\n",
       "\t trend\\_model & 2020-12-04 & N(1736, 1423999) & 1736.103\\\\\n",
       "\t trend\\_model & 2020-12-05 & N(1737, 1424018) & 1736.649\\\\\n",
       "\t trend\\_model & 2020-12-06 & N(1737, 1424038) & 1737.195\\\\\n",
       "\t trend\\_model & 2020-12-07 & N(1738, 1424057) & 1737.741\\\\\n",
       "\t trend\\_model & 2020-12-08 & N(1738, 1424077) & 1738.287\\\\\n",
       "\t trend\\_model & 2020-12-09 & N(1739, 1424097) & 1738.832\\\\\n",
       "\t trend\\_model & 2020-12-10 & N(1739, 1424116) & 1739.378\\\\\n",
       "\t trend\\_model & 2020-12-11 & N(1740, 1424136) & 1739.924\\\\\n",
       "\t trend\\_model & 2020-12-12 & N(1740, 1424156) & 1740.470\\\\\n",
       "\t trend\\_model & 2020-12-13 & N(1741, 1424175) & 1741.016\\\\\n",
       "\t trend\\_model & 2020-12-14 & N(1742, 1424195) & 1741.562\\\\\n",
       "\t trend\\_model & 2020-12-15 & N(1742, 1424215) & 1742.108\\\\\n",
       "\t trend\\_model & 2020-12-16 & N(1743, 1424234) & 1742.653\\\\\n",
       "\t trend\\_model & 2020-12-17 & N(1743, 1424254) & 1743.199\\\\\n",
       "\t trend\\_model & 2020-12-18 & N(1744, 1424274) & 1743.745\\\\\n",
       "\t trend\\_model & 2020-12-19 & N(1744, 1424293) & 1744.291\\\\\n",
       "\t trend\\_model & 2020-12-20 & N(1745, 1424313) & 1744.837\\\\\n",
       "\t trend\\_model & 2020-12-21 & N(1745, 1424333) & 1745.383\\\\\n",
       "\t trend\\_model & 2020-12-22 & N(1746, 1424353) & 1745.929\\\\\n",
       "\t trend\\_model & 2020-12-23 & N(1746, 1424372) & 1746.475\\\\\n",
       "\t trend\\_model & 2020-12-24 & N(1747, 1424392) & 1747.020\\\\\n",
       "\t trend\\_model & 2020-12-25 & N(1748, 1424412) & 1747.566\\\\\n",
       "\t trend\\_model & 2020-12-26 & N(1748, 1424432) & 1748.112\\\\\n",
       "\t trend\\_model & 2020-12-27 & N(1749, 1424452) & 1748.658\\\\\n",
       "\t trend\\_model & 2020-12-28 & N(1749, 1424472) & 1749.204\\\\\n",
       "\t trend\\_model & 2020-12-29 & N(1750, 1424491) & 1749.750\\\\\n",
       "\t trend\\_model & 2020-12-30 & N(1750, 1424511) & 1750.296\\\\\n",
       "\\end{tabular}\n"
      ],
      "text/markdown": [
       "\n",
       "A fbl_ts: 1096 × 4\n",
       "\n",
       "| .model &lt;chr&gt; | Order.Date &lt;date&gt; | Sales &lt;dist&gt; | .mean &lt;dbl&gt; |\n",
       "|---|---|---|---|\n",
       "| trend_model | 2017-12-31 | N(1153, 1409293) | 1152.573 |\n",
       "| trend_model | 2018-01-01 | N(1153, 1409301) | 1153.118 |\n",
       "| trend_model | 2018-01-02 | N(1154, 1409309) | 1153.664 |\n",
       "| trend_model | 2018-01-03 | N(1154, 1409317) | 1154.210 |\n",
       "| trend_model | 2018-01-04 | N(1155, 1409325) | 1154.756 |\n",
       "| trend_model | 2018-01-05 | N(1155, 1409333) | 1155.302 |\n",
       "| trend_model | 2018-01-06 | N(1156, 1409341) | 1155.848 |\n",
       "| trend_model | 2018-01-07 | N(1156, 1409349) | 1156.394 |\n",
       "| trend_model | 2018-01-08 | N(1157, 1409357) | 1156.940 |\n",
       "| trend_model | 2018-01-09 | N(1157, 1409365) | 1157.485 |\n",
       "| trend_model | 2018-01-10 | N(1158, 1409373) | 1158.031 |\n",
       "| trend_model | 2018-01-11 | N(1159, 1409381) | 1158.577 |\n",
       "| trend_model | 2018-01-12 | N(1159, 1409389) | 1159.123 |\n",
       "| trend_model | 2018-01-13 | N(1160, 1409397) | 1159.669 |\n",
       "| trend_model | 2018-01-14 | N(1160, 1409406) | 1160.215 |\n",
       "| trend_model | 2018-01-15 | N(1161, 1409414) | 1160.761 |\n",
       "| trend_model | 2018-01-16 | N(1161, 1409422) | 1161.306 |\n",
       "| trend_model | 2018-01-17 | N(1162, 1409430) | 1161.852 |\n",
       "| trend_model | 2018-01-18 | N(1162, 1409438) | 1162.398 |\n",
       "| trend_model | 2018-01-19 | N(1163, 1409446) | 1162.944 |\n",
       "| trend_model | 2018-01-20 | N(1163, 1409454) | 1163.490 |\n",
       "| trend_model | 2018-01-21 | N(1164, 1409462) | 1164.036 |\n",
       "| trend_model | 2018-01-22 | N(1165, 1409471) | 1164.582 |\n",
       "| trend_model | 2018-01-23 | N(1165, 1409479) | 1165.128 |\n",
       "| trend_model | 2018-01-24 | N(1166, 1409487) | 1165.673 |\n",
       "| trend_model | 2018-01-25 | N(1166, 1409495) | 1166.219 |\n",
       "| trend_model | 2018-01-26 | N(1167, 1409503) | 1166.765 |\n",
       "| trend_model | 2018-01-27 | N(1167, 1409512) | 1167.311 |\n",
       "| trend_model | 2018-01-28 | N(1168, 1409520) | 1167.857 |\n",
       "| trend_model | 2018-01-29 | N(1168, 1409528) | 1168.403 |\n",
       "| ... | ... | ... | ... |\n",
       "| trend_model | 2020-12-01 | N(1734, 1423940) | 1734.465 |\n",
       "| trend_model | 2020-12-02 | N(1735, 1423960) | 1735.011 |\n",
       "| trend_model | 2020-12-03 | N(1736, 1423979) | 1735.557 |\n",
       "| trend_model | 2020-12-04 | N(1736, 1423999) | 1736.103 |\n",
       "| trend_model | 2020-12-05 | N(1737, 1424018) | 1736.649 |\n",
       "| trend_model | 2020-12-06 | N(1737, 1424038) | 1737.195 |\n",
       "| trend_model | 2020-12-07 | N(1738, 1424057) | 1737.741 |\n",
       "| trend_model | 2020-12-08 | N(1738, 1424077) | 1738.287 |\n",
       "| trend_model | 2020-12-09 | N(1739, 1424097) | 1738.832 |\n",
       "| trend_model | 2020-12-10 | N(1739, 1424116) | 1739.378 |\n",
       "| trend_model | 2020-12-11 | N(1740, 1424136) | 1739.924 |\n",
       "| trend_model | 2020-12-12 | N(1740, 1424156) | 1740.470 |\n",
       "| trend_model | 2020-12-13 | N(1741, 1424175) | 1741.016 |\n",
       "| trend_model | 2020-12-14 | N(1742, 1424195) | 1741.562 |\n",
       "| trend_model | 2020-12-15 | N(1742, 1424215) | 1742.108 |\n",
       "| trend_model | 2020-12-16 | N(1743, 1424234) | 1742.653 |\n",
       "| trend_model | 2020-12-17 | N(1743, 1424254) | 1743.199 |\n",
       "| trend_model | 2020-12-18 | N(1744, 1424274) | 1743.745 |\n",
       "| trend_model | 2020-12-19 | N(1744, 1424293) | 1744.291 |\n",
       "| trend_model | 2020-12-20 | N(1745, 1424313) | 1744.837 |\n",
       "| trend_model | 2020-12-21 | N(1745, 1424333) | 1745.383 |\n",
       "| trend_model | 2020-12-22 | N(1746, 1424353) | 1745.929 |\n",
       "| trend_model | 2020-12-23 | N(1746, 1424372) | 1746.475 |\n",
       "| trend_model | 2020-12-24 | N(1747, 1424392) | 1747.020 |\n",
       "| trend_model | 2020-12-25 | N(1748, 1424412) | 1747.566 |\n",
       "| trend_model | 2020-12-26 | N(1748, 1424432) | 1748.112 |\n",
       "| trend_model | 2020-12-27 | N(1749, 1424452) | 1748.658 |\n",
       "| trend_model | 2020-12-28 | N(1749, 1424472) | 1749.204 |\n",
       "| trend_model | 2020-12-29 | N(1750, 1424491) | 1749.750 |\n",
       "| trend_model | 2020-12-30 | N(1750, 1424511) | 1750.296 |\n",
       "\n"
      ],
      "text/plain": [
       "     .model      Order.Date Sales            .mean   \n",
       "1    trend_model 2017-12-31 N(1153, 1409293) 1152.573\n",
       "2    trend_model 2018-01-01 N(1153, 1409301) 1153.118\n",
       "3    trend_model 2018-01-02 N(1154, 1409309) 1153.664\n",
       "4    trend_model 2018-01-03 N(1154, 1409317) 1154.210\n",
       "5    trend_model 2018-01-04 N(1155, 1409325) 1154.756\n",
       "6    trend_model 2018-01-05 N(1155, 1409333) 1155.302\n",
       "7    trend_model 2018-01-06 N(1156, 1409341) 1155.848\n",
       "8    trend_model 2018-01-07 N(1156, 1409349) 1156.394\n",
       "9    trend_model 2018-01-08 N(1157, 1409357) 1156.940\n",
       "10   trend_model 2018-01-09 N(1157, 1409365) 1157.485\n",
       "11   trend_model 2018-01-10 N(1158, 1409373) 1158.031\n",
       "12   trend_model 2018-01-11 N(1159, 1409381) 1158.577\n",
       "13   trend_model 2018-01-12 N(1159, 1409389) 1159.123\n",
       "14   trend_model 2018-01-13 N(1160, 1409397) 1159.669\n",
       "15   trend_model 2018-01-14 N(1160, 1409406) 1160.215\n",
       "16   trend_model 2018-01-15 N(1161, 1409414) 1160.761\n",
       "17   trend_model 2018-01-16 N(1161, 1409422) 1161.306\n",
       "18   trend_model 2018-01-17 N(1162, 1409430) 1161.852\n",
       "19   trend_model 2018-01-18 N(1162, 1409438) 1162.398\n",
       "20   trend_model 2018-01-19 N(1163, 1409446) 1162.944\n",
       "21   trend_model 2018-01-20 N(1163, 1409454) 1163.490\n",
       "22   trend_model 2018-01-21 N(1164, 1409462) 1164.036\n",
       "23   trend_model 2018-01-22 N(1165, 1409471) 1164.582\n",
       "24   trend_model 2018-01-23 N(1165, 1409479) 1165.128\n",
       "25   trend_model 2018-01-24 N(1166, 1409487) 1165.673\n",
       "26   trend_model 2018-01-25 N(1166, 1409495) 1166.219\n",
       "27   trend_model 2018-01-26 N(1167, 1409503) 1166.765\n",
       "28   trend_model 2018-01-27 N(1167, 1409512) 1167.311\n",
       "29   trend_model 2018-01-28 N(1168, 1409520) 1167.857\n",
       "30   trend_model 2018-01-29 N(1168, 1409528) 1168.403\n",
       "...  ...         ...        ...              ...     \n",
       "1067 trend_model 2020-12-01 N(1734, 1423940) 1734.465\n",
       "1068 trend_model 2020-12-02 N(1735, 1423960) 1735.011\n",
       "1069 trend_model 2020-12-03 N(1736, 1423979) 1735.557\n",
       "1070 trend_model 2020-12-04 N(1736, 1423999) 1736.103\n",
       "1071 trend_model 2020-12-05 N(1737, 1424018) 1736.649\n",
       "1072 trend_model 2020-12-06 N(1737, 1424038) 1737.195\n",
       "1073 trend_model 2020-12-07 N(1738, 1424057) 1737.741\n",
       "1074 trend_model 2020-12-08 N(1738, 1424077) 1738.287\n",
       "1075 trend_model 2020-12-09 N(1739, 1424097) 1738.832\n",
       "1076 trend_model 2020-12-10 N(1739, 1424116) 1739.378\n",
       "1077 trend_model 2020-12-11 N(1740, 1424136) 1739.924\n",
       "1078 trend_model 2020-12-12 N(1740, 1424156) 1740.470\n",
       "1079 trend_model 2020-12-13 N(1741, 1424175) 1741.016\n",
       "1080 trend_model 2020-12-14 N(1742, 1424195) 1741.562\n",
       "1081 trend_model 2020-12-15 N(1742, 1424215) 1742.108\n",
       "1082 trend_model 2020-12-16 N(1743, 1424234) 1742.653\n",
       "1083 trend_model 2020-12-17 N(1743, 1424254) 1743.199\n",
       "1084 trend_model 2020-12-18 N(1744, 1424274) 1743.745\n",
       "1085 trend_model 2020-12-19 N(1744, 1424293) 1744.291\n",
       "1086 trend_model 2020-12-20 N(1745, 1424313) 1744.837\n",
       "1087 trend_model 2020-12-21 N(1745, 1424333) 1745.383\n",
       "1088 trend_model 2020-12-22 N(1746, 1424353) 1745.929\n",
       "1089 trend_model 2020-12-23 N(1746, 1424372) 1746.475\n",
       "1090 trend_model 2020-12-24 N(1747, 1424392) 1747.020\n",
       "1091 trend_model 2020-12-25 N(1748, 1424412) 1747.566\n",
       "1092 trend_model 2020-12-26 N(1748, 1424432) 1748.112\n",
       "1093 trend_model 2020-12-27 N(1749, 1424452) 1748.658\n",
       "1094 trend_model 2020-12-28 N(1749, 1424472) 1749.204\n",
       "1095 trend_model 2020-12-29 N(1750, 1424491) 1749.750\n",
       "1096 trend_model 2020-12-30 N(1750, 1424511) 1750.296"
      ]
     },
     "metadata": {},
     "output_type": "display_data"
    }
   ],
   "source": [
    "fit |> forecast(h = \"3 years\")"
   ]
  },
  {
   "attachments": {},
   "cell_type": "markdown",
   "metadata": {},
   "source": [
    "Visualizando o Forecast"
   ]
  },
  {
   "cell_type": "code",
   "execution_count": 228,
   "metadata": {
    "vscode": {
     "languageId": "r"
    }
   },
   "outputs": [
    {
     "data": {
      "image/png": "[encoded data removed]",
      "text/plain": [
       "plot without title"
      ]
     },
     "metadata": {
      "image/png": {
       "height": 420,
       "width": 420
      }
     },
     "output_type": "display_data"
    }
   ],
   "source": [
    "fit %>% forecast(h = \"3 years\") |>\n",
    "  \n",
    "  autoplot(df_ts_filled) +\n",
    "    labs(title = \"GDP per capita for Sweden\", y = \"$US\")"
   ]
  },
  {
   "attachments": {},
   "cell_type": "markdown",
   "metadata": {},
   "source": [
    "Usando `MEAN` para prever os próximos 3 anos\n",
    "\n",
    "  * Forecast de todos os valores futuros é igual a média dos dados históricos $\\{y_1,\\dots,y_T\\}$.\n",
    "  * Forecasts: $\\hat{y}_{T+h|T} = \\bar{y} = (y_1+\\dots+y_T)/T$"
   ]
  },
  {
   "cell_type": "code",
   "execution_count": 229,
   "metadata": {
    "vscode": {
     "languageId": "r"
    }
   },
   "outputs": [],
   "source": [
    "#filter com Sales not na (pra garantir) e maior que 0 \n",
    "sales <- df_ts_filled |>\n",
    "  filter(!is.na(Sales) & Sales > 0) |>\n",
    "  mutate(average = mean(Sales))"
   ]
  },
  {
   "cell_type": "code",
   "execution_count": 230,
   "metadata": {
    "vscode": {
     "languageId": "r"
    }
   },
   "outputs": [
    {
     "data": {
      "text/html": [
       "<table class=\"dataframe\">\n",
       "<caption>A tbl_ts: 6 × 3</caption>\n",
       "<thead>\n",
       "\t<tr><th scope=col>Order.Date</th><th scope=col>Sales</th><th scope=col>average</th></tr>\n",
       "\t<tr><th scope=col>&lt;date&gt;</th><th scope=col>&lt;dbl&gt;</th><th scope=col>&lt;dbl&gt;</th></tr>\n",
       "</thead>\n",
       "<tbody>\n",
       "\t<tr><td>2014-01-03</td><td>  16.448</td><td>889.1367</td></tr>\n",
       "\t<tr><td>2014-01-04</td><td>  11.784</td><td>889.1367</td></tr>\n",
       "\t<tr><td>2014-01-05</td><td>  19.536</td><td>889.1367</td></tr>\n",
       "\t<tr><td>2014-01-06</td><td>2606.040</td><td>889.1367</td></tr>\n",
       "\t<tr><td>2014-01-07</td><td>  76.728</td><td>889.1367</td></tr>\n",
       "\t<tr><td>2014-01-09</td><td>   9.344</td><td>889.1367</td></tr>\n",
       "</tbody>\n",
       "</table>\n"
      ],
      "text/latex": [
       "A tbl\\_ts: 6 × 3\n",
       "\\begin{tabular}{lll}\n",
       " Order.Date & Sales & average\\\\\n",
       " <date> & <dbl> & <dbl>\\\\\n",
       "\\hline\n",
       "\t 2014-01-03 &   16.448 & 889.1367\\\\\n",
       "\t 2014-01-04 &   11.784 & 889.1367\\\\\n",
       "\t 2014-01-05 &   19.536 & 889.1367\\\\\n",
       "\t 2014-01-06 & 2606.040 & 889.1367\\\\\n",
       "\t 2014-01-07 &   76.728 & 889.1367\\\\\n",
       "\t 2014-01-09 &    9.344 & 889.1367\\\\\n",
       "\\end{tabular}\n"
      ],
      "text/markdown": [
       "\n",
       "A tbl_ts: 6 × 3\n",
       "\n",
       "| Order.Date &lt;date&gt; | Sales &lt;dbl&gt; | average &lt;dbl&gt; |\n",
       "|---|---|---|\n",
       "| 2014-01-03 |   16.448 | 889.1367 |\n",
       "| 2014-01-04 |   11.784 | 889.1367 |\n",
       "| 2014-01-05 |   19.536 | 889.1367 |\n",
       "| 2014-01-06 | 2606.040 | 889.1367 |\n",
       "| 2014-01-07 |   76.728 | 889.1367 |\n",
       "| 2014-01-09 |    9.344 | 889.1367 |\n",
       "\n"
      ],
      "text/plain": [
       "  Order.Date Sales    average \n",
       "1 2014-01-03   16.448 889.1367\n",
       "2 2014-01-04   11.784 889.1367\n",
       "3 2014-01-05   19.536 889.1367\n",
       "4 2014-01-06 2606.040 889.1367\n",
       "5 2014-01-07   76.728 889.1367\n",
       "6 2014-01-09    9.344 889.1367"
      ]
     },
     "metadata": {},
     "output_type": "display_data"
    }
   ],
   "source": [
    "head(sales)"
   ]
  },
  {
   "cell_type": "code",
   "execution_count": 231,
   "metadata": {
    "vscode": {
     "languageId": "r"
    }
   },
   "outputs": [
    {
     "name": "stderr",
     "output_type": "stream",
     "text": [
      "Warning message:\n",
      "\"\u001b[1m\u001b[22m`unnest()` has a new interface. See `?unnest` for details.\n",
      "\u001b[36mi\u001b[39m Try `df %>% unnest(c(Order.Date))`, with `mutate()` if\n",
      "  needed.\"\n"
     ]
    },
    {
     "data": {
      "text/html": [
       "<table class=\"dataframe\">\n",
       "<caption>A tibble: 2 × 3</caption>\n",
       "<thead>\n",
       "\t<tr><th scope=col>Order.Date</th><th scope=col>Sales</th><th scope=col>average</th></tr>\n",
       "\t<tr><th scope=col>&lt;date&gt;</th><th scope=col>&lt;dbl&gt;</th><th scope=col>&lt;dbl&gt;</th></tr>\n",
       "</thead>\n",
       "<tbody>\n",
       "\t<tr><td>2017-12-30</td><td>549.364</td><td>889.1367</td></tr>\n",
       "\t<tr><td>2022-12-30</td><td>549.364</td><td>889.1367</td></tr>\n",
       "</tbody>\n",
       "</table>\n"
      ],
      "text/latex": [
       "A tibble: 2 × 3\n",
       "\\begin{tabular}{lll}\n",
       " Order.Date & Sales & average\\\\\n",
       " <date> & <dbl> & <dbl>\\\\\n",
       "\\hline\n",
       "\t 2017-12-30 & 549.364 & 889.1367\\\\\n",
       "\t 2022-12-30 & 549.364 & 889.1367\\\\\n",
       "\\end{tabular}\n"
      ],
      "text/markdown": [
       "\n",
       "A tibble: 2 × 3\n",
       "\n",
       "| Order.Date &lt;date&gt; | Sales &lt;dbl&gt; | average &lt;dbl&gt; |\n",
       "|---|---|---|\n",
       "| 2017-12-30 | 549.364 | 889.1367 |\n",
       "| 2022-12-30 | 549.364 | 889.1367 |\n",
       "\n"
      ],
      "text/plain": [
       "  Order.Date Sales   average \n",
       "1 2017-12-30 549.364 889.1367\n",
       "2 2022-12-30 549.364 889.1367"
      ]
     },
     "metadata": {},
     "output_type": "display_data"
    }
   ],
   "source": [
    "fc <- sales |>\n",
    "  filter(row_number() == n()) %>% as_tibble() |>\n",
    "  unnest(Order.Date = list(as.Date(Order.Date) + months(c(0, 12*5))))\n",
    "\n",
    "fc"
   ]
  },
  {
   "cell_type": "code",
   "execution_count": 232,
   "metadata": {
    "vscode": {
     "languageId": "r"
    }
   },
   "outputs": [
    {
     "data": {
      "image/png": "[encoded data removed]",
      "text/plain": [
       "plot without title"
      ]
     },
     "metadata": {
      "image/png": {
       "height": 420,
       "width": 420
      }
     },
     "output_type": "display_data"
    }
   ],
   "source": [
    "sales |>\n",
    "  ggplot(aes(x = Order.Date, y = Sales)) +\n",
    "  geom_line() +\n",
    "  geom_line(aes(y = average), colour = \"#0072B2\", linetype = \"dashed\") +\n",
    "  geom_line(aes(y = average), data = fc, colour = \"#0072B2\") +\n",
    "  labs(title = \"Vendas ao longo do ano\",\n",
    "       x = \"Data do pedido\",\n",
    "       y = \"Vendas\")"
   ]
  },
  {
   "cell_type": "code",
   "execution_count": 233,
   "metadata": {
    "vscode": {
     "languageId": "r"
    }
   },
   "outputs": [
    {
     "name": "stderr",
     "output_type": "stream",
     "text": [
      "Plot variable not specified, automatically selected `.vars = Sales`\n"
     ]
    },
    {
     "data": {
      "image/png": "[encoded data removed]",
      "text/plain": [
       "plot without title"
      ]
     },
     "metadata": {
      "image/png": {
       "height": 420,
       "width": 420
      }
     },
     "output_type": "display_data"
    }
   ],
   "source": [
    "df_ts_filled %>%\n",
    "  filter(!is.na(Sales) & Sales > 0) %>%\n",
    "  mutate(Sales = mean(Sales)) %>%\n",
    "  autoplot() +\n",
    "  labs(title = \"Previsão de vendas com a média\",\n",
    "       x = \"Data do pedido\",\n",
    "       y = \"Vendas\")"
   ]
  },
  {
   "attachments": {},
   "cell_type": "markdown",
   "metadata": {},
   "source": [
    "`Naive` method\n",
    "\n",
    "  * Forecasts iguais ao último valor observado.\n",
    "  * Forecasts: $\\hat{y}_{T+h|T} =y_T$.\n",
    "  * Consequência da hipótese de mercado eficiente."
   ]
  },
  {
   "cell_type": "code",
   "execution_count": 234,
   "metadata": {
    "vscode": {
     "languageId": "r"
    }
   },
   "outputs": [],
   "source": [
    "sales <- df_ts_filled |>\n",
    "  filter(!is.na(Sales) & Sales > 0)"
   ]
  },
  {
   "cell_type": "code",
   "execution_count": 235,
   "metadata": {
    "vscode": {
     "languageId": "r"
    }
   },
   "outputs": [
    {
     "name": "stderr",
     "output_type": "stream",
     "text": [
      "Warning message:\n",
      "\"1 error encountered for NAIVE(Sales)\n",
      "[1] .data contains implicit gaps in time. You should check your data and convert implicit gaps into explicit missing values using `tsibble::fill_gaps()` if required.\n",
      "\"\n",
      "Warning message:\n",
      "\"\u001b[1m\u001b[22mRemoved 1096 rows containing missing values (`()`).\"\n"
     ]
    },
    {
     "data": {
      "image/png": "[encoded data removed]",
      "text/plain": [
       "plot without title"
      ]
     },
     "metadata": {
      "image/png": {
       "height": 420,
       "width": 420
      }
     },
     "output_type": "display_data"
    }
   ],
   "source": [
    "sales |>\n",
    "  filter(!is.na(Sales) & Sales > 0 & Sales ) |>\n",
    "  model(NAIVE(Sales)) |>\n",
    "  forecast(h = \"3 years\") |>\n",
    "  autoplot(filter(sales, year(Order.Date) >= 2014), level = NULL) +\n",
    "  geom_point(data = slice(sales, n()), aes(y=Sales), colour = \"#0072B2\") +\n",
    "  labs(title = \"Clay brick production in Australia\")"
   ]
  },
  {
   "cell_type": "code",
   "execution_count": 236,
   "metadata": {
    "vscode": {
     "languageId": "r"
    }
   },
   "outputs": [
    {
     "data": {
      "image/png": "[encoded data removed]",
      "text/plain": [
       "plot without title"
      ]
     },
     "metadata": {
      "image/png": {
       "height": 420,
       "width": 420
      }
     },
     "output_type": "display_data"
    }
   ],
   "source": [
    "# Specify, estimate and forecast\n",
    "df_ts_filled %>%\n",
    "  model(\n",
    "    Mean = MEAN(Sales),\n",
    "    Naive = NAIVE(Sales),\n",
    "    Drift = RW(Sales ~ drift())\n",
    "  ) |>\n",
    "  \n",
    "  forecast(h=42) %>%\n",
    "  autoplot(df_ts_filled, level = NULL) +\n",
    "  labs(title = \"Vendas por ano\", y=\"Vendas\") +\n",
    "  guides(colour=guide_legend(title=\"Forecast\"))"
   ]
  },
  {
   "cell_type": "code",
   "execution_count": 237,
   "metadata": {
    "vscode": {
     "languageId": "r"
    }
   },
   "outputs": [
    {
     "data": {
      "image/png": "[encoded data removed]",
      "text/plain": [
       "plot without title"
      ]
     },
     "metadata": {
      "image/png": {
       "height": 420,
       "width": 420
      }
     },
     "output_type": "display_data"
    }
   ],
   "source": [
    "# Extract training data\n",
    "fb_stock <- gafa_stock |>\n",
    "  filter(Symbol == \"FB\") |>\n",
    "  mutate(trading_day = row_number()) |>\n",
    "  update_tsibble(index=trading_day, regular=TRUE)\n",
    "\n",
    "# Specify, estimate and forecast\n",
    "fb_stock |>\n",
    "  model(\n",
    "    Mean = MEAN(Close),\n",
    "    Naive = NAIVE(Close),\n",
    "    Drift = RW(Close ~ drift())\n",
    "  ) |>\n",
    "  forecast(h=42) |>\n",
    "  autoplot(fb_stock, level = NULL) +\n",
    "  labs(title = \"Facebook closing stock price\", y=\"$US\") +\n",
    "  guides(colour=guide_legend(title=\"Forecast\"))"
   ]
  },
  {
   "cell_type": "code",
   "execution_count": null,
   "metadata": {
    "vscode": {
     "languageId": "r"
    }
   },
   "outputs": [],
   "source": []
  },
  {
   "cell_type": "code",
   "execution_count": null,
   "metadata": {
    "vscode": {
     "languageId": "r"
    }
   },
   "outputs": [
    {
     "name": "stderr",
     "output_type": "stream",
     "text": [
      "Warning message:\n",
      "\"\u001b[1m\u001b[22mattributes are not identical across measure variables; they\n",
      "will be dropped\"\n"
     ]
    },
    {
     "ename": "ERROR",
     "evalue": "\u001b[1m\u001b[33mError\u001b[39m in `build_tsibble()`:\u001b[22m\n\u001b[33m!\u001b[39m Can't subset columns that don't exist.\n\u001b[31mx\u001b[39m Column `Order.ID` doesn't exist.\n",
     "output_type": "error",
     "traceback": [
      "\u001b[1m\u001b[33mError\u001b[39m in `build_tsibble()`:\u001b[22m\n\u001b[33m!\u001b[39m Can't subset columns that don't exist.\n\u001b[31mx\u001b[39m Column `Order.ID` doesn't exist.\nTraceback:\n",
      "1. fill_all_gaps(tsib)",
      "2. df %>% gather(col, val) %>% group_by(col) %>% mutate(idx = row_number()) %>% \n .     ungroup() %>% complete(col, idx = min(idx):max(idx)) %>% \n .     fill(val, .direction = \"downup\", fill_value) %>% spread(col, \n .     val)   # at line 2-5 of file <text>",
      "3. spread(., col, val)",
      "4. fill(., val, .direction = \"downup\", fill_value)",
      "5. complete(., col, idx = min(idx):max(idx))",
      "6. ungroup(.)",
      "7. mutate(., idx = row_number())",
      "8. group_by(., col)",
      "9. gather(., col, val)",
      "10. gather.tbl_ts(., col, val)",
      "11. build_tsibble(tbl, key = !!new_key, index = !!index(data), index2 = !!index2(data), \n  .     ordered = is_ordered(data), interval = interval(data), validate = FALSE)",
      "12. eval_select(enquo(key), data = x)",
      "13. eval_select_impl(data, names(data), as_quosure(expr, env), include = include, \n  .     exclude = exclude, strict = strict, name_spec = name_spec, \n  .     allow_rename = allow_rename, allow_empty = allow_empty, allow_predicates = allow_predicates, \n  .     error_call = error_call, )",
      "14. with_subscript_errors(out <- vars_select_eval(vars, expr, strict = strict, \n  .     data = x, name_spec = name_spec, uniquely_named = uniquely_named, \n  .     allow_rename = allow_rename, allow_empty = allow_empty, allow_predicates = allow_predicates, \n  .     type = type, error_call = error_call), type = type)",
      "15. try_fetch(expr, vctrs_error_subscript = function(cnd) {\n  .     cnd$subscript_action <- subscript_action(type)\n  .     cnd$subscript_elt <- \"column\"\n  .     cnd_signal(cnd)\n  . })",
      "16. withCallingHandlers(expr, condition = function(cnd) {\n  .     {\n  .         .__handler_frame__. <- TRUE\n  .         .__setup_frame__. <- frame\n  .         if (inherits(cnd, \"message\")) {\n  .             except <- c(\"warning\", \"error\")\n  .         }\n  .         else if (inherits(cnd, \"warning\")) {\n  .             except <- \"error\"\n  .         }\n  .         else {\n  .             except <- \"\"\n  .         }\n  .     }\n  .     while (!is_null(cnd)) {\n  .         if (inherits(cnd, \"vctrs_error_subscript\")) {\n  .             out <- handlers[[1L]](cnd)\n  .             if (!inherits(out, \"rlang_zap\")) \n  .                 throw(out)\n  .         }\n  .         inherit <- .subset2(.subset2(cnd, \"rlang\"), \"inherit\")\n  .         if (is_false(inherit)) {\n  .             return()\n  .         }\n  .         cnd <- .subset2(cnd, \"parent\")\n  .     }\n  . })",
      "17. vars_select_eval(vars, expr, strict = strict, data = x, name_spec = name_spec, \n  .     uniquely_named = uniquely_named, allow_rename = allow_rename, \n  .     allow_empty = allow_empty, allow_predicates = allow_predicates, \n  .     type = type, error_call = error_call)",
      "18. as_indices_sel_impl(wrapped, vars = vars, strict = strict, data = data, \n  .     allow_predicates = allow_predicates, call = error_call)",
      "19. as_indices_impl(x, vars, call = call, arg = arg, strict = strict)",
      "20. chr_as_locations(x, vars, call = call, arg = arg)",
      "21. vctrs::vec_as_location(x, n = length(vars), names = vars, call = call, \n  .     arg = arg)",
      "22. (function () \n  . stop_subscript_oob(i = i, subscript_type = subscript_type, names = names, \n  .     subscript_action = subscript_action, subscript_arg = subscript_arg, \n  .     call = call))()",
      "23. stop_subscript_oob(i = i, subscript_type = subscript_type, names = names, \n  .     subscript_action = subscript_action, subscript_arg = subscript_arg, \n  .     call = call)",
      "24. stop_subscript(class = \"vctrs_error_subscript_oob\", i = i, subscript_type = subscript_type, \n  .     ..., call = call)",
      "25. abort(class = c(class, \"vctrs_error_subscript\"), i = i, ..., \n  .     call = call)",
      "26. signal_abort(cnd, .file)",
      "27. signalCondition(cnd)",
      "28. (function (cnd) \n  . {\n  .     {\n  .         .__handler_frame__. <- TRUE\n  .         .__setup_frame__. <- frame\n  .         if (inherits(cnd, \"message\")) {\n  .             except <- c(\"warning\", \"error\")\n  .         }\n  .         else if (inherits(cnd, \"warning\")) {\n  .             except <- \"error\"\n  .         }\n  .         else {\n  .             except <- \"\"\n  .         }\n  .     }\n  .     while (!is_null(cnd)) {\n  .         if (inherits(cnd, \"vctrs_error_subscript\")) {\n  .             out <- handlers[[1L]](cnd)\n  .             if (!inherits(out, \"rlang_zap\")) \n  .                 throw(out)\n  .         }\n  .         inherit <- .subset2(.subset2(cnd, \"rlang\"), \"inherit\")\n  .         if (is_false(inherit)) {\n  .             return()\n  .         }\n  .         cnd <- .subset2(cnd, \"parent\")\n  .     }\n  . })(structure(list(message = \"\", trace = structure(list(call = list(\n  .     IRkernel::main(), kernel$run(), handle_shell(), executor$execute(msg), \n  .     tryCatch(evaluate(request$content$code, envir = .GlobalEnv, \n  .         output_handler = oh, stop_on_error = 1L), interrupt = function(cond) {\n  .         log_debug(\"Interrupt during execution\")\n  .         interrupted <<- TRUE\n  .     }, error = .self$handle_error), tryCatchList(expr, classes, \n  .         parentenv, handlers), tryCatchOne(tryCatchList(expr, \n  .         names[-nh], parentenv, handlers[-nh]), names[nh], parentenv, \n  .         handlers[[nh]]), doTryCatch(return(expr), name, parentenv, \n  .         handler), tryCatchList(expr, names[-nh], parentenv, handlers[-nh]), \n  .     tryCatchOne(expr, names, parentenv, handlers[[1L]]), doTryCatch(return(expr), \n  .         name, parentenv, handler), evaluate(request$content$code, \n  .         envir = .GlobalEnv, output_handler = oh, stop_on_error = 1L), \n  .     evaluate_call(expr, parsed$src[[i]], envir = envir, enclos = enclos, \n  .         debug = debug, last = i == length(out), use_try = stop_on_error != \n  .             2L, keep_warning = keep_warning, keep_message = keep_message, \n  .         output_handler = output_handler, include_timing = include_timing), \n  .     timing_fn(handle(ev <- withCallingHandlers(withVisible(eval_with_user_handlers(expr, \n  .         envir, enclos, user_handlers)), warning = wHandler, error = eHandler, \n  .         message = mHandler))), handle(ev <- withCallingHandlers(withVisible(eval_with_user_handlers(expr, \n  .         envir, enclos, user_handlers)), warning = wHandler, error = eHandler, \n  .         message = mHandler)), try(f, silent = TRUE), tryCatch(expr, \n  .         error = function(e) {\n  .             call <- conditionCall(e)\n  .             if (!is.null(call)) {\n  .                 if (identical(call[[1L]], quote(doTryCatch))) \n  .                   call <- sys.call(-4L)\n  .                 dcall <- deparse(call, nlines = 1L)\n  .                 prefix <- paste(\"Error in\", dcall, \": \")\n  .                 LONG <- 75L\n  .                 sm <- strsplit(conditionMessage(e), \"\\n\")[[1L]]\n  .                 w <- 14L + nchar(dcall, type = \"w\") + nchar(sm[1L], \n  .                   type = \"w\")\n  .                 if (is.na(w)) \n  .                   w <- 14L + nchar(dcall, type = \"b\") + nchar(sm[1L], \n  .                     type = \"b\")\n  .                 if (w > LONG) \n  .                   prefix <- paste0(prefix, \"\\n  \")\n  .             }\n  .             else prefix <- \"Error : \"\n  .             msg <- paste0(prefix, conditionMessage(e), \"\\n\")\n  .             .Internal(seterrmessage(msg[1L]))\n  .             if (!silent && isTRUE(getOption(\"show.error.messages\"))) {\n  .                 cat(msg, file = outFile)\n  .                 .Internal(printDeferredWarnings())\n  .             }\n  .             invisible(structure(msg, class = \"try-error\", condition = e))\n  .         }), tryCatchList(expr, classes, parentenv, handlers), \n  .     tryCatchOne(expr, names, parentenv, handlers[[1L]]), doTryCatch(return(expr), \n  .         name, parentenv, handler), withCallingHandlers(withVisible(eval_with_user_handlers(expr, \n  .         envir, enclos, user_handlers)), warning = wHandler, error = eHandler, \n  .         message = mHandler), withVisible(eval_with_user_handlers(expr, \n  .         envir, enclos, user_handlers)), eval_with_user_handlers(expr, \n  .         envir, enclos, user_handlers), eval(expr, envir, enclos), \n  .     eval(expr, envir, enclos), fill_all_gaps(tsib), df %>% gather(col, \n  .         val) %>% group_by(col) %>% mutate(idx = row_number()) %>% \n  .         ungroup() %>% complete(col, idx = min(idx):max(idx)) %>% \n  .         fill(val, .direction = \"downup\", fill_value) %>% spread(col, \n  .         val), spread(., col, val), fill(., val, .direction = \"downup\", \n  .         fill_value), complete(., col, idx = min(idx):max(idx)), \n  .     ungroup(.), mutate(., idx = row_number()), group_by(., col), \n  .     gather(., col, val), gather.tbl_ts(., col, val), build_tsibble(tbl, \n  .         key = !!new_key, index = !!index(data), index2 = !!index2(data), \n  .         ordered = is_ordered(data), interval = interval(data), \n  .         validate = FALSE), eval_select(enquo(key), data = x), \n  .     eval_select_impl(data, names(data), as_quosure(expr, env), \n  .         include = include, exclude = exclude, strict = strict, \n  .         name_spec = name_spec, allow_rename = allow_rename, allow_empty = allow_empty, \n  .         allow_predicates = allow_predicates, error_call = error_call, \n  .         ), with_subscript_errors(out <- vars_select_eval(vars, \n  .         expr, strict = strict, data = x, name_spec = name_spec, \n  .         uniquely_named = uniquely_named, allow_rename = allow_rename, \n  .         allow_empty = allow_empty, allow_predicates = allow_predicates, \n  .         type = type, error_call = error_call), type = type), \n  .     try_fetch(expr, vctrs_error_subscript = function(cnd) {\n  .         cnd$subscript_action <- subscript_action(type)\n  .         cnd$subscript_elt <- \"column\"\n  .         cnd_signal(cnd)\n  .     }), withCallingHandlers(expr, condition = function(cnd) {\n  .         {\n  .             .__handler_frame__. <- TRUE\n  .             .__setup_frame__. <- frame\n  .             if (inherits(cnd, \"message\")) {\n  .                 except <- c(\"warning\", \"error\")\n  .             }\n  .             else if (inherits(cnd, \"warning\")) {\n  .                 except <- \"error\"\n  .             }\n  .             else {\n  .                 except <- \"\"\n  .             }\n  .         }\n  .         while (!is_null(cnd)) {\n  .             if (inherits(cnd, \"vctrs_error_subscript\")) {\n  .                 out <- handlers[[1L]](cnd)\n  .                 if (!inherits(out, \"rlang_zap\")) \n  .                   throw(out)\n  .             }\n  .             inherit <- .subset2(.subset2(cnd, \"rlang\"), \"inherit\")\n  .             if (is_false(inherit)) {\n  .                 return()\n  .             }\n  .             cnd <- .subset2(cnd, \"parent\")\n  .         }\n  .     }), vars_select_eval(vars, expr, strict = strict, data = x, \n  .         name_spec = name_spec, uniquely_named = uniquely_named, \n  .         allow_rename = allow_rename, allow_empty = allow_empty, \n  .         allow_predicates = allow_predicates, type = type, error_call = error_call), \n  .     as_indices_sel_impl(wrapped, vars = vars, strict = strict, \n  .         data = data, allow_predicates = allow_predicates, call = error_call), \n  .     as_indices_impl(x, vars, call = call, arg = arg, strict = strict), \n  .     chr_as_locations(x, vars, call = call, arg = arg), vctrs::vec_as_location(x, \n  .         n = length(vars), names = vars, call = call, arg = arg), \n  .     `<fn>`(), stop_subscript_oob(i = i, subscript_type = subscript_type, \n  .         names = names, subscript_action = subscript_action, subscript_arg = subscript_arg, \n  .         call = call), stop_subscript(class = \"vctrs_error_subscript_oob\", \n  .         i = i, subscript_type = subscript_type, ..., call = call), \n  .     abort(class = c(class, \"vctrs_error_subscript\"), i = i, ..., \n  .         call = call)), parent = c(0L, 1L, 2L, 3L, 4L, 5L, 6L, \n  . 7L, 6L, 9L, 10L, 4L, 12L, 13L, 13L, 15L, 16L, 17L, 18L, 19L, \n  . 13L, 13L, 13L, 23L, 24L, 0L, 26L, 0L, 0L, 0L, 0L, 0L, 0L, 0L, \n  . 0L, 35L, 36L, 37L, 38L, 39L, 40L, 38L, 42L, 43L, 44L, 45L, 0L, \n  . 47L, 48L, 49L), visible = c(TRUE, TRUE, TRUE, TRUE, TRUE, TRUE, \n  . TRUE, TRUE, TRUE, TRUE, TRUE, TRUE, TRUE, TRUE, TRUE, TRUE, TRUE, \n  . TRUE, TRUE, TRUE, TRUE, TRUE, TRUE, TRUE, TRUE, TRUE, TRUE, TRUE, \n  . TRUE, TRUE, TRUE, TRUE, TRUE, TRUE, TRUE, TRUE, FALSE, FALSE, \n  . FALSE, FALSE, FALSE, FALSE, FALSE, FALSE, FALSE, FALSE, FALSE, \n  . FALSE, FALSE, FALSE), namespace = c(\"IRkernel\", NA, \"IRkernel\", \n  . NA, \"base\", \"base\", \"base\", \"base\", \"base\", \"base\", \"base\", \"evaluate\", \n  . \"evaluate\", \"evaluate\", \"evaluate\", \"base\", \"base\", \"base\", \"base\", \n  . \"base\", \"base\", \"base\", \"evaluate\", \"base\", \"base\", NA, NA, \"tidyr\", \n  . \"tidyr\", \"tidyr\", \"dplyr\", \"dplyr\", \"dplyr\", \"tidyr\", \"tsibble\", \n  . \"tsibble\", \"tidyselect\", \"tidyselect\", \"tidyselect\", \"rlang\", \n  . \"base\", \"tidyselect\", \"tidyselect\", \"tidyselect\", \"tidyselect\", \n  . \"vctrs\", \"vctrs\", \"vctrs\", \"vctrs\", \"rlang\"), scope = c(\"::\", \n  . NA, \"local\", NA, \"::\", \"local\", \"local\", \"local\", \"local\", \"local\", \n  . \"local\", \"::\", \":::\", \"local\", \"local\", \"::\", \"::\", \"local\", \n  . \"local\", \"local\", \"::\", \"::\", \":::\", \"::\", \"::\", \"global\", NA, \n  . \"::\", \"::\", \"::\", \"::\", \"::\", \"::\", \"::\", \":::\", \"::\", \"::\", \n  . \":::\", \":::\", \"::\", \"::\", \":::\", \":::\", \":::\", \":::\", \"::\", \"local\", \n  . \":::\", \":::\", \"::\"), error_frame = c(FALSE, FALSE, FALSE, FALSE, \n  . FALSE, FALSE, FALSE, FALSE, FALSE, FALSE, FALSE, FALSE, FALSE, \n  . FALSE, FALSE, FALSE, FALSE, FALSE, FALSE, FALSE, FALSE, FALSE, \n  . FALSE, FALSE, FALSE, FALSE, FALSE, FALSE, FALSE, FALSE, FALSE, \n  . FALSE, FALSE, FALSE, FALSE, TRUE, FALSE, FALSE, FALSE, FALSE, \n  . FALSE, FALSE, FALSE, FALSE, FALSE, FALSE, FALSE, FALSE, FALSE, \n  . FALSE)), row.names = c(NA, -50L), version = 2L, class = c(\"rlang_trace\", \n  . \"rlib_trace\", \"tbl\", \"data.frame\")), parent = NULL, i = c(\"Order.ID\", \n  . \"col\"), subscript_type = \"character\", names = c(\"Order.Date\", \n  . \"col\", \"val\"), subscript_action = NULL, subscript_arg = \"\", rlang = list(\n  .     inherit = TRUE), call = build_tsibble(tbl, key = !!new_key, \n  .     index = !!index(data), index2 = !!index2(data), ordered = is_ordered(data), \n  .     interval = interval(data), validate = FALSE)), class = c(\"vctrs_error_subscript_oob\", \n  . \"vctrs_error_subscript\", \"rlang_error\", \"error\", \"condition\")))",
      "29. handlers[[1L]](cnd)",
      "30. cnd_signal(cnd)",
      "31. signal_abort(cnd)"
     ]
    }
   ],
   "source": [
    "fill_all_gaps <- function(df, fill_value = 0) {\n",
    "  ts <- df %>% gather(col, val) %>% group_by(col) %>% mutate(idx = row_number()) %>% \n",
    "    ungroup() %>% complete(col, idx = min(idx):max(idx)) %>% \n",
    "    fill(val, .direction = \"downup\", fill_value) %>% \n",
    "    spread(col, val)\n",
    "  return(ts)\n",
    "}\n",
    "\n",
    "\n",
    "\n",
    "tsib_filled <- fill_all_gaps(tsib)\n",
    "head(tsib_filled)"
   ]
  },
  {
   "cell_type": "code",
   "execution_count": null,
   "metadata": {
    "vscode": {
     "languageId": "r"
    }
   },
   "outputs": [
    {
     "data": {
      "text/html": [
       "<table class=\"dataframe\">\n",
       "<caption>A tbl_ts: 5009 × 22</caption>\n",
       "<thead>\n",
       "\t<tr><th scope=col>ï..Row.ID</th><th scope=col>Order.ID</th><th scope=col>Order.Date</th><th scope=col>Ship.Date</th><th scope=col>Ship.Mode</th><th scope=col>Customer.ID</th><th scope=col>Customer.Name</th><th scope=col>Segment</th><th scope=col>Country</th><th scope=col>City</th><th scope=col>...</th><th scope=col>Region</th><th scope=col>Product.ID</th><th scope=col>Category</th><th scope=col>Sub.Category</th><th scope=col>Product.Name</th><th scope=col>Sales</th><th scope=col>Quantity</th><th scope=col>Discount</th><th scope=col>Profit</th><th scope=col>year_month</th></tr>\n",
       "\t<tr><th scope=col>&lt;int&gt;</th><th scope=col>&lt;chr&gt;</th><th scope=col>&lt;date&gt;</th><th scope=col>&lt;date&gt;</th><th scope=col>&lt;chr&gt;</th><th scope=col>&lt;chr&gt;</th><th scope=col>&lt;chr&gt;</th><th scope=col>&lt;chr&gt;</th><th scope=col>&lt;chr&gt;</th><th scope=col>&lt;chr&gt;</th><th scope=col>...</th><th scope=col>&lt;chr&gt;</th><th scope=col>&lt;chr&gt;</th><th scope=col>&lt;chr&gt;</th><th scope=col>&lt;chr&gt;</th><th scope=col>&lt;chr&gt;</th><th scope=col>&lt;dbl&gt;</th><th scope=col>&lt;int&gt;</th><th scope=col>&lt;dbl&gt;</th><th scope=col>&lt;dbl&gt;</th><th scope=col>&lt;dbl&gt;</th></tr>\n",
       "</thead>\n",
       "<tbody>\n",
       "\t<tr><td>2718</td><td>CA-2014-100006</td><td>2014-09-07</td><td>2014-09-13</td><td>Standard Class</td><td>DK-13375</td><td><span style=white-space:pre-wrap>Dennis Kane       </span></td><td><span style=white-space:pre-wrap>Consumer   </span></td><td>United States</td><td>New York City </td><td>...</td><td><span style=white-space:pre-wrap>East   </span></td><td>TEC-PH-10002075</td><td><span style=white-space:pre-wrap>Technology     </span></td><td><span style=white-space:pre-wrap>Phones     </span></td><td><span style=white-space:pre-wrap>AT&amp;T EL51110 DECT                                             </span></td><td>377.970</td><td> 3</td><td>0.0</td><td>109.6113</td><td>201409</td></tr>\n",
       "\t<tr><td>6288</td><td>CA-2014-100090</td><td>2014-07-08</td><td>2014-07-12</td><td>Standard Class</td><td>EB-13705</td><td>Ed Braxton        </td><td>Corporate  </td><td>United States</td><td>San Francisco </td><td>...</td><td>West   </td><td>FUR-TA-10003715</td><td>Furniture      </td><td>Tables     </td><td>Hon 2111 Invitation Series Corner Table                       </td><td>502.488</td><td> 3</td><td>0.2</td><td>-87.9354</td><td>201407</td></tr>\n",
       "\t<tr><td>9515</td><td>CA-2014-100293</td><td>2014-03-14</td><td>2014-03-18</td><td>Standard Class</td><td>NF-18475</td><td>Neil FranzÃ¶sisch </td><td>Home Office</td><td>United States</td><td>Jacksonville  </td><td>...</td><td>South  </td><td>OFF-PA-10000176</td><td>Office Supplies</td><td>Paper      </td><td>Xerox 1887                                                    </td><td> 91.056</td><td> 6</td><td>0.2</td><td> 31.8696</td><td>201403</td></tr>\n",
       "\t<tr><td>3084</td><td>CA-2014-100328</td><td>2014-01-28</td><td>2014-02-03</td><td>Standard Class</td><td>JC-15340</td><td>Jasper Cacioppo   </td><td>Consumer   </td><td>United States</td><td>New York City </td><td>...</td><td>East   </td><td>OFF-BI-10000343</td><td>Office Supplies</td><td>Binders    </td><td>Pressboard Covers with Storage Hooks, 9 1/2\" x 11\", Light Blue</td><td>  3.928</td><td> 1</td><td>0.2</td><td>  1.3257</td><td>201401</td></tr>\n",
       "\t<tr><td>3836</td><td>CA-2014-100363</td><td>2014-04-08</td><td>2014-04-15</td><td>Standard Class</td><td>JM-15655</td><td>Jim Mitchum       </td><td>Corporate  </td><td>United States</td><td>Glendale      </td><td>...</td><td>West   </td><td>OFF-FA-10000611</td><td>Office Supplies</td><td>Fasteners  </td><td>Binder Clips by OIC                                           </td><td>  2.368</td><td> 2</td><td>0.2</td><td>  0.8288</td><td>201404</td></tr>\n",
       "\t<tr><td>9441</td><td>CA-2014-100391</td><td>2014-05-25</td><td>2014-05-29</td><td>Standard Class</td><td>BW-11065</td><td>Barry Weirich     </td><td>Consumer   </td><td>United States</td><td>New York City </td><td>...</td><td>East   </td><td>OFF-PA-10001471</td><td>Office Supplies</td><td>Paper      </td><td>Strathmore Photo Frame Cards                                  </td><td> 14.620</td><td> 2</td><td>0.0</td><td>  6.7252</td><td>201405</td></tr>\n",
       "\t<tr><td>6569</td><td>CA-2014-100678</td><td>2014-04-18</td><td>2014-04-22</td><td>Standard Class</td><td>KM-16720</td><td>Kunst Miller      </td><td>Consumer   </td><td>United States</td><td>Houston       </td><td>...</td><td>Central</td><td>OFF-AR-10001868</td><td>Office Supplies</td><td>Art        </td><td>Prang Dustless Chalk Sticks                                   </td><td>  2.688</td><td> 2</td><td>0.2</td><td>  1.0080</td><td>201404</td></tr>\n",
       "\t<tr><td>9020</td><td>CA-2014-100706</td><td>2014-12-16</td><td>2014-12-18</td><td>Second Class  </td><td>LE-16810</td><td>Laurel Elliston   </td><td>Consumer   </td><td>United States</td><td>Springfield   </td><td>...</td><td>South  </td><td>TEC-AC-10001314</td><td>Technology     </td><td>Accessories</td><td>Case Logic 2.4GHz Wireless Keyboard                           </td><td> 99.980</td><td> 2</td><td>0.0</td><td>  7.9984</td><td>201412</td></tr>\n",
       "\t<tr><td>6315</td><td>CA-2014-100762</td><td>2014-11-24</td><td>2014-11-29</td><td>Standard Class</td><td>NG-18355</td><td>Nat Gilpin        </td><td>Corporate  </td><td>United States</td><td>Jackson       </td><td>...</td><td>Central</td><td>OFF-AR-10000380</td><td>Office Supplies</td><td>Art        </td><td>Hunt PowerHouse Electric Pencil Sharpener, Blue               </td><td>151.920</td><td> 4</td><td>0.0</td><td> 45.5760</td><td>201411</td></tr>\n",
       "\t<tr><td>9660</td><td>CA-2014-100860</td><td>2014-03-26</td><td>2014-03-30</td><td>Second Class  </td><td>CS-12505</td><td>Cindy Stewart     </td><td>Consumer   </td><td>United States</td><td>Pomona        </td><td>...</td><td>West   </td><td>OFF-LA-10001982</td><td>Office Supplies</td><td>Labels     </td><td>Smead Alpha-Z Color-Coded Name Labels First Letter Starter Set</td><td> 18.750</td><td> 5</td><td>0.0</td><td>  9.0000</td><td>201403</td></tr>\n",
       "\t<tr><td>9462</td><td>CA-2014-100867</td><td>2014-10-19</td><td>2014-10-24</td><td>Standard Class</td><td>EH-14125</td><td>Eugene Hildebrand </td><td>Home Office</td><td>United States</td><td>Lakewood      </td><td>...</td><td>West   </td><td>TEC-PH-10004922</td><td>Technology     </td><td>Phones     </td><td>RCA Visys Integrated PBX 8-Line Router                        </td><td>321.552</td><td> 6</td><td>0.2</td><td> 20.0970</td><td>201410</td></tr>\n",
       "\t<tr><td>8464</td><td>CA-2014-100881</td><td>2014-03-28</td><td>2014-04-01</td><td>Standard Class</td><td>DR-12940</td><td><span style=white-space:pre-wrap>Daniel Raglin     </span></td><td>Home Office</td><td>United States</td><td><span style=white-space:pre-wrap>Albuquerque   </span></td><td>...</td><td><span style=white-space:pre-wrap>West   </span></td><td>TEC-PH-10003273</td><td><span style=white-space:pre-wrap>Technology     </span></td><td><span style=white-space:pre-wrap>Phones     </span></td><td><span style=white-space:pre-wrap>AT&amp;T TR1909W                                                  </span></td><td>302.376</td><td> 3</td><td>0.2</td><td> 22.6782</td><td>201403</td></tr>\n",
       "\t<tr><td>3888</td><td>CA-2014-100895</td><td>2014-06-02</td><td>2014-06-06</td><td>Standard Class</td><td>SV-20785</td><td>Stewart Visinsky  </td><td>Consumer   </td><td>United States</td><td>Roswell       </td><td>...</td><td>South  </td><td>OFF-AR-10004511</td><td>Office Supplies</td><td>Art        </td><td>Sanford Colorific Scented Colored Pencils, 12/Pack            </td><td>  8.560</td><td> 2</td><td>0.0</td><td>  2.6536</td><td>201406</td></tr>\n",
       "\t<tr><td>7572</td><td>CA-2014-100916</td><td>2014-10-21</td><td>2014-10-26</td><td>Standard Class</td><td>FH-14275</td><td>Frank Hawley      </td><td>Corporate  </td><td>United States</td><td>Newport News  </td><td>...</td><td>South  </td><td>OFF-ST-10003479</td><td>Office Supplies</td><td>Storage    </td><td>Eldon Base for stackable storage shelf, platinum              </td><td>194.700</td><td> 5</td><td>0.0</td><td>  9.7350</td><td>201410</td></tr>\n",
       "\t<tr><td>7868</td><td>CA-2014-100972</td><td>2014-11-19</td><td>2014-11-24</td><td>Second Class  </td><td>DB-13360</td><td>Dennis Bolton     </td><td>Home Office</td><td>United States</td><td>Salt Lake City</td><td>...</td><td>West   </td><td>OFF-PA-10000357</td><td>Office Supplies</td><td>Paper      </td><td>Xerox 1888                                                    </td><td>166.440</td><td> 3</td><td>0.0</td><td> 79.8912</td><td>201411</td></tr>\n",
       "\t<tr><td>6252</td><td>CA-2014-101147</td><td>2014-12-02</td><td>2014-12-04</td><td>First Class   </td><td>MC-17575</td><td>Matt Collins      </td><td>Consumer   </td><td>United States</td><td>Chicago       </td><td>...</td><td>Central</td><td>OFF-AP-10004249</td><td>Office Supplies</td><td>Appliances </td><td>Staple holder                                                 </td><td>  2.394</td><td> 1</td><td>0.8</td><td> -6.3441</td><td>201412</td></tr>\n",
       "\t<tr><td>4565</td><td>CA-2014-101175</td><td>2014-12-09</td><td>2014-12-14</td><td>Standard Class</td><td>DM-12955</td><td>Dario Medina      </td><td>Corporate  </td><td>United States</td><td>Mesa          </td><td>...</td><td>West   </td><td>OFF-ST-10004950</td><td>Office Supplies</td><td>Storage    </td><td>Acco Perma 3000 Stacking Storage Drawers                      </td><td>100.704</td><td> 6</td><td>0.2</td><td> -1.2588</td><td>201412</td></tr>\n",
       "\t<tr><td>6170</td><td>CA-2014-101266</td><td>2014-08-27</td><td>2014-08-30</td><td>Second Class  </td><td>MM-17920</td><td>Michael Moore     </td><td>Consumer   </td><td>United States</td><td>Springfield   </td><td>...</td><td>South  </td><td>OFF-PA-10002986</td><td>Office Supplies</td><td>Paper      </td><td>Xerox 1898                                                    </td><td> 13.360</td><td> 2</td><td>0.0</td><td>  6.4128</td><td>201408</td></tr>\n",
       "\t<tr><td>9724</td><td>CA-2014-101364</td><td>2014-12-22</td><td>2014-12-26</td><td>Standard Class</td><td>TW-21025</td><td>Tamara Willingham </td><td>Home Office</td><td>United States</td><td>New York City </td><td>...</td><td>East   </td><td>OFF-BI-10003984</td><td>Office Supplies</td><td>Binders    </td><td>Lock-Up Easel 'Spel-Binder'                                   </td><td>296.712</td><td>13</td><td>0.2</td><td>100.1403</td><td>201412</td></tr>\n",
       "\t<tr><td>8091</td><td>CA-2014-101392</td><td>2014-12-07</td><td>2014-12-13</td><td>Standard Class</td><td>AS-10630</td><td>Ann Steele        </td><td>Home Office</td><td>United States</td><td>Seattle       </td><td>...</td><td>West   </td><td>OFF-ST-10000532</td><td>Office Supplies</td><td>Storage    </td><td>Advantus Rolling Drawer Organizers                            </td><td>269.360</td><td> 7</td><td>0.0</td><td> 70.0336</td><td>201412</td></tr>\n",
       "\t<tr><td>8690</td><td>CA-2014-101427</td><td>2014-12-26</td><td>2014-12-30</td><td>Standard Class</td><td>AY-10555</td><td>Andy Yotov        </td><td>Corporate  </td><td>United States</td><td>Philadelphia  </td><td>...</td><td>East   </td><td>OFF-AR-10002257</td><td>Office Supplies</td><td>Art        </td><td>Eldon Spacemaker Box, Quick-Snap Lid, Clear                   </td><td>  8.016</td><td> 3</td><td>0.2</td><td>  1.1022</td><td>201412</td></tr>\n",
       "\t<tr><td>6850</td><td>CA-2014-101462</td><td>2014-04-20</td><td>2014-04-25</td><td>Standard Class</td><td>BP-11230</td><td>Benjamin Patterson</td><td>Consumer   </td><td>United States</td><td>Los Angeles   </td><td>...</td><td>West   </td><td>FUR-FU-10000409</td><td>Furniture      </td><td>Furnishings</td><td>GE 4 Foot Flourescent Tube, 40 Watt                           </td><td> 59.920</td><td> 4</td><td>0.0</td><td> 27.5632</td><td>201404</td></tr>\n",
       "\t<tr><td> 428</td><td>CA-2014-101476</td><td>2014-09-12</td><td>2014-09-13</td><td>First Class   </td><td>SD-20485</td><td>Shirley Daniels   </td><td>Home Office</td><td>United States</td><td>New Rochelle  </td><td>...</td><td>East   </td><td>TEC-MA-10000029</td><td>Technology     </td><td>Machines   </td><td>Epson WorkForce WF-2530 All-in-One Printer, Copier Scanner    </td><td> 69.990</td><td> 1</td><td>0.0</td><td> 30.0957</td><td>201409</td></tr>\n",
       "\t<tr><td>5193</td><td>CA-2014-101560</td><td>2014-11-28</td><td>2014-12-01</td><td>Second Class  </td><td>CS-12250</td><td>Chris Selesnick   </td><td>Corporate  </td><td>United States</td><td>Columbia      </td><td>...</td><td>South  </td><td>FUR-FU-10003773</td><td>Furniture      </td><td>Furnishings</td><td>Eldon Cleatmat Plus Chair Mats for High Pile Carpets          </td><td>397.600</td><td> 5</td><td>0.0</td><td> 43.7360</td><td>201411</td></tr>\n",
       "\t<tr><td>1575</td><td>CA-2014-101602</td><td>2014-12-15</td><td>2014-12-18</td><td>First Class   </td><td>MC-18100</td><td>Mick Crebagga     </td><td>Consumer   </td><td>United States</td><td>El Paso       </td><td>...</td><td>Central</td><td>TEC-PH-10000169</td><td>Technology     </td><td>Phones     </td><td>ARKON Windshield Dashboard Air Vent Car Mount Holder          </td><td> 40.680</td><td> 3</td><td>0.2</td><td> -9.1530</td><td>201412</td></tr>\n",
       "\t<tr><td>5480</td><td>CA-2014-101770</td><td>2014-03-31</td><td>2014-04-04</td><td>Standard Class</td><td>KB-16240</td><td>Karen Bern        </td><td>Corporate  </td><td>United States</td><td>Miami         </td><td>...</td><td>South  </td><td>OFF-BI-10001097</td><td>Office Supplies</td><td>Binders    </td><td>Avery Hole Reinforcements                                     </td><td>  1.869</td><td> 1</td><td>0.7</td><td> -1.3083</td><td>201403</td></tr>\n",
       "\t<tr><td>9461</td><td>CA-2014-101833</td><td>2014-11-17</td><td>2014-11-22</td><td>Second Class  </td><td>FG-14260</td><td>Frank Gastineau   </td><td>Home Office</td><td>United States</td><td>New York City </td><td>...</td><td>East   </td><td>OFF-PA-10003591</td><td>Office Supplies</td><td>Paper      </td><td>Southworth 100% Cotton The Best Paper                         </td><td> 34.440</td><td> 3</td><td>0.0</td><td> 17.2200</td><td>201411</td></tr>\n",
       "\t<tr><td>3843</td><td>CA-2014-101931</td><td>2014-10-28</td><td>2014-10-31</td><td>First Class   </td><td>TS-21370</td><td>Todd Sumrall      </td><td>Corporate  </td><td>United States</td><td>Los Angeles   </td><td>...</td><td>West   </td><td>OFF-BI-10004140</td><td>Office Supplies</td><td>Binders    </td><td>Avery Non-Stick Binders                                       </td><td>  7.184</td><td> 2</td><td>0.2</td><td>  2.2450</td><td>201410</td></tr>\n",
       "\t<tr><td>1791</td><td>CA-2014-102008</td><td>2014-09-30</td><td>2014-10-04</td><td>Standard Class</td><td>RA-19915</td><td>Russell Applegate </td><td>Consumer   </td><td>United States</td><td>New York City </td><td>...</td><td>East   </td><td>OFF-PA-10004092</td><td>Office Supplies</td><td>Paper      </td><td>Tops Green Bar Computer Printout Paper                        </td><td> 48.940</td><td> 1</td><td>0.0</td><td> 24.4700</td><td>201409</td></tr>\n",
       "\t<tr><td>4948</td><td>CA-2014-102085</td><td>2014-10-04</td><td>2014-10-09</td><td>Standard Class</td><td>JD-16015</td><td>Joy Daniels       </td><td>Consumer   </td><td>United States</td><td>Seattle       </td><td>...</td><td>West   </td><td>OFF-LA-10002475</td><td>Office Supplies</td><td>Labels     </td><td>Avery 519                                                     </td><td> 29.240</td><td> 4</td><td>0.0</td><td> 13.7428</td><td>201410</td></tr>\n",
       "\t<tr><td>...</td><td>...</td><td>...</td><td>...</td><td>...</td><td>...</td><td>...</td><td>...</td><td>...</td><td>...</td><td></td><td>...</td><td>...</td><td>...</td><td>...</td><td>...</td><td>...</td><td>...</td><td>...</td><td>...</td><td>...</td></tr>\n",
       "\t<tr><td>6853</td><td>US-2017-162670</td><td>2017-12-23</td><td>2017-12-28</td><td>Second Class  </td><td>MF-18250</td><td>Monica Federle    </td><td>Corporate  </td><td>United States</td><td>Little Rock  </td><td>...</td><td>South  </td><td>OFF-ST-10001328</td><td>Office Supplies</td><td>Storage    </td><td>Personal Filing Tote with Lid, Black/Gray                                                      </td><td>  62.040</td><td>4</td><td>0.0</td><td>   17.3712</td><td>201712</td></tr>\n",
       "\t<tr><td>4362</td><td>US-2017-163195</td><td>2017-02-17</td><td>2017-02-21</td><td>Second Class  </td><td>LL-16840</td><td>Lauren Leatherbury</td><td>Consumer   </td><td>United States</td><td>Lafayette    </td><td>...</td><td>South  </td><td>TEC-PH-10003875</td><td>Technology     </td><td>Phones     </td><td>KLD Oscar II Style Snap-on Ultra Thin Side Flip Synthetic Leather Cover Case for HTC One HTC M7</td><td>  29.160</td><td>3</td><td>0.0</td><td>    8.4564</td><td>201702</td></tr>\n",
       "\t<tr><td>5991</td><td>US-2017-163300</td><td>2017-09-15</td><td>2017-09-21</td><td>Standard Class</td><td>ES-14020</td><td>Erica Smith       </td><td>Consumer   </td><td>United States</td><td>Los Angeles  </td><td>...</td><td>West   </td><td>OFF-BI-10004390</td><td>Office Supplies</td><td>Binders    </td><td>GBC DocuBind 200 Manual Binding Machine                                                        </td><td>2357.488</td><td>7</td><td>0.2</td><td>  884.0580</td><td>201709</td></tr>\n",
       "\t<tr><td>7440</td><td>US-2017-163657</td><td>2017-09-02</td><td>2017-09-06</td><td>Standard Class</td><td>JL-15235</td><td>Janet Lee         </td><td>Consumer   </td><td>United States</td><td>Los Angeles  </td><td>...</td><td>West   </td><td>OFF-BI-10000138</td><td>Office Supplies</td><td>Binders    </td><td>Acco Translucent Poly Ring Binders                                                             </td><td>  18.720</td><td>5</td><td>0.2</td><td>    6.5520</td><td>201709</td></tr>\n",
       "\t<tr><td>4585</td><td>US-2017-163790</td><td>2017-11-02</td><td>2017-11-04</td><td>Second Class  </td><td>NL-18310</td><td>Nancy Lomonaco    </td><td>Home Office</td><td>United States</td><td>Danville     </td><td>...</td><td>West   </td><td>OFF-EN-10001335</td><td>Office Supplies</td><td>Envelopes  </td><td>White Business Envelopes with Contemporary Seam, Recycled White Business Envelopes             </td><td>  76.580</td><td>7</td><td>0.0</td><td>   38.2900</td><td>201711</td></tr>\n",
       "\t<tr><td>1728</td><td>US-2017-164056</td><td>2017-04-29</td><td>2017-05-04</td><td>Second Class  </td><td>FM-14215</td><td>Filia McAdams     </td><td>Corporate  </td><td>United States</td><td>Dublin       </td><td>...</td><td>East   </td><td>FUR-TA-10001307</td><td>Furniture      </td><td>Tables     </td><td>SAFCO PlanMaster Heigh-Adjustable Drafting Table Base, 43w x 30d x 30-37h, Black               </td><td>1048.350</td><td>5</td><td>0.4</td><td>  -69.8900</td><td>201704</td></tr>\n",
       "\t<tr><td> 131</td><td>US-2017-164147</td><td>2017-02-02</td><td>2017-02-05</td><td>First Class   </td><td>DW-13585</td><td>Dorothy Wardle    </td><td>Corporate  </td><td>United States</td><td>Columbus     </td><td>...</td><td>East   </td><td>TEC-PH-10002293</td><td>Technology     </td><td>Phones     </td><td>Anker 36W 4-Port USB Wall Charger Travel Power Adapter for iPhone 5s 5c 5                      </td><td>  59.970</td><td>5</td><td>0.4</td><td>  -11.9940</td><td>201702</td></tr>\n",
       "\t<tr><td>2628</td><td>US-2017-165344</td><td>2017-11-13</td><td>2017-11-15</td><td>First Class   </td><td>SB-20290</td><td>Sean Braxton      </td><td>Corporate  </td><td>United States</td><td>Springfield  </td><td>...</td><td>East   </td><td>TEC-AC-10002399</td><td>Technology     </td><td>Accessories</td><td>SanDisk Cruzer 32 GB USB Flash Drive                                                           </td><td>  60.864</td><td>4</td><td>0.2</td><td>    9.1296</td><td>201711</td></tr>\n",
       "\t<tr><td>7043</td><td>US-2017-165358</td><td>2017-07-18</td><td>2017-07-23</td><td>Standard Class</td><td>SV-20365</td><td>Seth Vernon       </td><td>Consumer   </td><td>United States</td><td>Philadelphia </td><td>...</td><td>East   </td><td>TEC-CO-10001943</td><td>Technology     </td><td>Copiers    </td><td>Canon PC-428 Personal Copier                                                                   </td><td> 599.970</td><td>5</td><td>0.4</td><td>   69.9965</td><td>201707</td></tr>\n",
       "\t<tr><td>9289</td><td>US-2017-165456</td><td>2017-11-30</td><td>2017-12-03</td><td>First Class   </td><td>TB-21625</td><td>Trudy Brown       </td><td>Consumer   </td><td>United States</td><td>Philadelphia </td><td>...</td><td>East   </td><td>FUR-CH-10003981</td><td>Furniture      </td><td>Chairs     </td><td>Global Commerce Series Low-Back Swivel/Tilt Chairs                                             </td><td>1079.316</td><td>6</td><td>0.3</td><td>  -15.4188</td><td>201711</td></tr>\n",
       "\t<tr><td>6691</td><td>US-2017-165869</td><td>2017-07-31</td><td>2017-08-05</td><td>Standard Class</td><td>LS-17200</td><td>Luke Schmidt      </td><td>Corporate  </td><td>United States</td><td>Milwaukee    </td><td>...</td><td>Central</td><td>OFF-BI-10003460</td><td>Office Supplies</td><td>Binders    </td><td>Acco 3-Hole Punch                                                                              </td><td>  17.520</td><td>4</td><td>0.0</td><td>    8.4096</td><td>201707</td></tr>\n",
       "\t<tr><td>4613</td><td>US-2017-165953</td><td>2016-12-31</td><td>2017-01-06</td><td>Standard Class</td><td>EP-13915</td><td>Emily Phan        </td><td>Consumer   </td><td>United States</td><td>Jacksonville </td><td>...</td><td>South  </td><td>OFF-AR-10000588</td><td>Office Supplies</td><td>Art        </td><td>Newell 345                                                                                     </td><td>  47.616</td><td>3</td><td>0.2</td><td>    3.5712</td><td>201612</td></tr>\n",
       "\t<tr><td>6778</td><td>US-2017-166037</td><td>2017-01-28</td><td>2017-02-01</td><td>Standard Class</td><td>CL-12700</td><td>Craig Leslie      </td><td>Home Office</td><td>United States</td><td>New York City</td><td>...</td><td>East   </td><td>TEC-AC-10002800</td><td>Technology     </td><td>Accessories</td><td>Plantronics Audio 478 Stereo USB Headset                                                       </td><td> 449.910</td><td>9</td><td>0.0</td><td>  157.4685</td><td>201701</td></tr>\n",
       "\t<tr><td>7870</td><td>US-2017-166233</td><td>2017-07-03</td><td>2017-07-09</td><td>Standard Class</td><td>MO-17950</td><td>Michael Oakman    </td><td>Consumer   </td><td>United States</td><td>Jacksonville </td><td>...</td><td>South  </td><td>TEC-AC-10002167</td><td>Technology     </td><td>Accessories</td><td>ImationÂ 8gb Micro Traveldrive Usb 2.0Â Flash Drive                                            </td><td>  24.000</td><td>2</td><td>0.2</td><td>   -2.7000</td><td>201707</td></tr>\n",
       "\t<tr><td>9877</td><td>US-2017-166324</td><td>2017-04-20</td><td>2017-04-21</td><td>First Class   </td><td>BE-11455</td><td>Brad Eason        </td><td>Home Office</td><td>United States</td><td>Cleveland    </td><td>...</td><td>East   </td><td>OFF-ST-10000078</td><td>Office Supplies</td><td>Storage    </td><td>Tennsco 6- and 18-Compartment Lockers                                                          </td><td> 848.544</td><td>4</td><td>0.2</td><td>  -21.2136</td><td>201704</td></tr>\n",
       "\t<tr><td>6724</td><td>US-2017-166394</td><td>2017-09-04</td><td>2017-09-06</td><td>Second Class  </td><td>VM-21835</td><td>Vivian Mathis     </td><td>Consumer   </td><td>United States</td><td>Nashua       </td><td>...</td><td>East   </td><td>OFF-FA-10001843</td><td>Office Supplies</td><td>Fasteners  </td><td>Staples                                                                                        </td><td>  14.820</td><td>6</td><td>0.0</td><td>    6.9654</td><td>201709</td></tr>\n",
       "\t<tr><td>1880</td><td>US-2017-166611</td><td>2017-03-28</td><td>2017-04-02</td><td>Standard Class</td><td>CK-12760</td><td>Cyma Kinney       </td><td>Corporate  </td><td>United States</td><td>Jacksonville </td><td>...</td><td>South  </td><td>OFF-BI-10001191</td><td>Office Supplies</td><td>Binders    </td><td>Canvas Sectional Post Binders                                                                  </td><td>  68.742</td><td>9</td><td>0.7</td><td>  -48.1194</td><td>201703</td></tr>\n",
       "\t<tr><td>9143</td><td>US-2017-166688</td><td>2017-05-20</td><td>2017-05-26</td><td>Standard Class</td><td>RD-19480</td><td>Rick Duston       </td><td>Consumer   </td><td>United States</td><td>Las Vegas    </td><td>...</td><td>West   </td><td>OFF-BI-10004040</td><td>Office Supplies</td><td>Binders    </td><td>Wilson Jones Impact Binders                                                                    </td><td>   8.288</td><td>2</td><td>0.2</td><td>    3.0044</td><td>201705</td></tr>\n",
       "\t<tr><td>8302</td><td>US-2017-167318</td><td>2017-07-26</td><td>2017-08-01</td><td>Standard Class</td><td>GZ-14545</td><td>George Zrebassa   </td><td>Corporate  </td><td>United States</td><td>Los Angeles  </td><td>...</td><td>West   </td><td>TEC-AC-10003870</td><td>Technology     </td><td>Accessories</td><td>LogitechÂ Z-906 Speaker sys - home theater - 5.1-CH                                            </td><td>1649.950</td><td>5</td><td>0.0</td><td>  659.9800</td><td>201707</td></tr>\n",
       "\t<tr><td>6619</td><td>US-2017-167402</td><td>2017-01-13</td><td>2017-01-18</td><td>Second Class  </td><td>CP-12085</td><td>Cathy Prescott    </td><td>Corporate  </td><td>United States</td><td>Springfield  </td><td>...</td><td>Central</td><td>OFF-PA-10004983</td><td>Office Supplies</td><td>Paper      </td><td>Xerox 23                                                                                       </td><td>  32.400</td><td>5</td><td>0.0</td><td>   15.5520</td><td>201701</td></tr>\n",
       "\t<tr><td>8109</td><td>US-2017-167570</td><td>2017-12-08</td><td>2017-12-15</td><td>Standard Class</td><td>EG-13900</td><td>Emily Grady       </td><td>Consumer   </td><td>United States</td><td>Philadelphia </td><td>...</td><td>East   </td><td>FUR-CH-10003396</td><td>Furniture      </td><td>Chairs     </td><td>Global Deluxe Steno Chair                                                                      </td><td> 215.544</td><td>4</td><td>0.3</td><td>  -58.5048</td><td>201712</td></tr>\n",
       "\t<tr><td>7515</td><td>US-2017-167920</td><td>2017-12-09</td><td>2017-12-12</td><td>Second Class  </td><td>JL-15835</td><td>John Lee          </td><td>Consumer   </td><td>United States</td><td>Richmond     </td><td>...</td><td>South  </td><td>OFF-BI-10004236</td><td>Office Supplies</td><td>Binders    </td><td>XtraLife ClearVue Slant-D Ring Binder, White, 3\"                                               </td><td>  29.360</td><td>2</td><td>0.0</td><td>   13.5056</td><td>201712</td></tr>\n",
       "\t<tr><td> 684</td><td>US-2017-168116</td><td>2017-11-04</td><td>2017-11-04</td><td>Same Day      </td><td>GT-14635</td><td>Grant Thornton    </td><td>Corporate  </td><td>United States</td><td>Burlington   </td><td>...</td><td>South  </td><td>TEC-MA-10004125</td><td>Technology     </td><td>Machines   </td><td>Cubify CubeX 3D Printer Triple Head Print                                                      </td><td>7999.980</td><td>4</td><td>0.5</td><td>-3839.9904</td><td>201711</td></tr>\n",
       "\t<tr><td>7171</td><td>US-2017-168613</td><td>2017-10-08</td><td>2017-10-14</td><td>Standard Class</td><td>GM-14440</td><td>Gary McGarr       </td><td>Consumer   </td><td>United States</td><td>New York City</td><td>...</td><td>East   </td><td>FUR-CH-10002372</td><td>Furniture      </td><td>Chairs     </td><td>Office Star - Ergonomically Designed Knee Chair                                                </td><td> 145.764</td><td>2</td><td>0.1</td><td>    3.2392</td><td>201710</td></tr>\n",
       "\t<tr><td>2121</td><td>US-2017-168690</td><td>2017-01-07</td><td>2017-01-13</td><td>Standard Class</td><td>TS-21085</td><td>Thais Sissman     </td><td>Consumer   </td><td>United States</td><td>Ormond Beach </td><td>...</td><td>South  </td><td>OFF-BI-10000145</td><td>Office Supplies</td><td>Binders    </td><td>Zipper Ring Binder Pockets                                                                     </td><td>   2.808</td><td>3</td><td>0.7</td><td>   -1.9656</td><td>201701</td></tr>\n",
       "\t<tr><td>8294</td><td>US-2017-168802</td><td>2017-11-03</td><td>2017-11-07</td><td>Standard Class</td><td>JO-15145</td><td>Jack O'Briant     </td><td>Corporate  </td><td>United States</td><td>Seattle      </td><td>...</td><td>West   </td><td>OFF-BI-10002393</td><td>Office Supplies</td><td>Binders    </td><td>Binder Posts                                                                                   </td><td>  18.368</td><td>4</td><td>0.2</td><td>    5.9696</td><td>201711</td></tr>\n",
       "\t<tr><td>4373</td><td>US-2017-169320</td><td>2017-07-23</td><td>2017-07-25</td><td>Second Class  </td><td>LH-16900</td><td>Lena Hernandez    </td><td>Consumer   </td><td>United States</td><td>Elkhart      </td><td>...</td><td>Central</td><td>OFF-AR-10003602</td><td>Office Supplies</td><td>Art        </td><td>Quartet Omega Colored Chalk, 12/Pack                                                           </td><td>  11.680</td><td>2</td><td>0.0</td><td>    5.4896</td><td>201707</td></tr>\n",
       "\t<tr><td>9539</td><td>US-2017-169488</td><td>2017-09-07</td><td>2017-09-09</td><td>First Class   </td><td>AA-10375</td><td>Allen Armold      </td><td>Consumer   </td><td>United States</td><td>Providence   </td><td>...</td><td>East   </td><td>OFF-PA-10002659</td><td>Office Supplies</td><td>Paper      </td><td>Avoid Verbal Orders Carbonless Minifold Book                                                   </td><td>  16.900</td><td>5</td><td>0.0</td><td>    7.7740</td><td>201709</td></tr>\n",
       "\t<tr><td>4598</td><td>US-2017-169502</td><td>2017-08-28</td><td>2017-09-01</td><td>Standard Class</td><td>MG-17650</td><td>Matthew Grinstein </td><td>Home Office</td><td>United States</td><td>Milwaukee    </td><td>...</td><td>Central</td><td>OFF-SU-10004115</td><td>Office Supplies</td><td>Supplies   </td><td>Acme Stainless Steel Office Snips                                                              </td><td>  21.810</td><td>3</td><td>0.0</td><td>    5.8887</td><td>201708</td></tr>\n",
       "\t<tr><td>5930</td><td>US-2017-169551</td><td>2017-07-07</td><td>2017-07-09</td><td>First Class   </td><td>RL-19615</td><td>Rob Lucas         </td><td>Consumer   </td><td>United States</td><td>Philadelphia </td><td>...</td><td>East   </td><td>FUR-BO-10001519</td><td>Furniture      </td><td>Bookcases  </td><td>O'Sullivan 3-Shelf Heavy-Duty Bookcases                                                        </td><td>  87.210</td><td>3</td><td>0.5</td><td>  -45.3492</td><td>201707</td></tr>\n",
       "</tbody>\n",
       "</table>\n"
      ],
      "text/latex": [
       "A tbl\\_ts: 5009 × 22\n",
       "\\begin{tabular}{lllllllllllllllllllll}\n",
       " ï..Row.ID & Order.ID & Order.Date & Ship.Date & Ship.Mode & Customer.ID & Customer.Name & Segment & Country & City & ... & Region & Product.ID & Category & Sub.Category & Product.Name & Sales & Quantity & Discount & Profit & year\\_month\\\\\n",
       " <int> & <chr> & <date> & <date> & <chr> & <chr> & <chr> & <chr> & <chr> & <chr> & ... & <chr> & <chr> & <chr> & <chr> & <chr> & <dbl> & <int> & <dbl> & <dbl> & <dbl>\\\\\n",
       "\\hline\n",
       "\t 2718 & CA-2014-100006 & 2014-09-07 & 2014-09-13 & Standard Class & DK-13375 & Dennis Kane        & Consumer    & United States & New York City  & ... & East    & TEC-PH-10002075 & Technology      & Phones      & AT\\&T EL51110 DECT                                              & 377.970 &  3 & 0.0 & 109.6113 & 201409\\\\\n",
       "\t 6288 & CA-2014-100090 & 2014-07-08 & 2014-07-12 & Standard Class & EB-13705 & Ed Braxton         & Corporate   & United States & San Francisco  & ... & West    & FUR-TA-10003715 & Furniture       & Tables      & Hon 2111 Invitation Series Corner Table                        & 502.488 &  3 & 0.2 & -87.9354 & 201407\\\\\n",
       "\t 9515 & CA-2014-100293 & 2014-03-14 & 2014-03-18 & Standard Class & NF-18475 & Neil FranzÃ¶sisch  & Home Office & United States & Jacksonville   & ... & South   & OFF-PA-10000176 & Office Supplies & Paper       & Xerox 1887                                                     &  91.056 &  6 & 0.2 &  31.8696 & 201403\\\\\n",
       "\t 3084 & CA-2014-100328 & 2014-01-28 & 2014-02-03 & Standard Class & JC-15340 & Jasper Cacioppo    & Consumer    & United States & New York City  & ... & East    & OFF-BI-10000343 & Office Supplies & Binders     & Pressboard Covers with Storage Hooks, 9 1/2\" x 11\", Light Blue &   3.928 &  1 & 0.2 &   1.3257 & 201401\\\\\n",
       "\t 3836 & CA-2014-100363 & 2014-04-08 & 2014-04-15 & Standard Class & JM-15655 & Jim Mitchum        & Corporate   & United States & Glendale       & ... & West    & OFF-FA-10000611 & Office Supplies & Fasteners   & Binder Clips by OIC                                            &   2.368 &  2 & 0.2 &   0.8288 & 201404\\\\\n",
       "\t 9441 & CA-2014-100391 & 2014-05-25 & 2014-05-29 & Standard Class & BW-11065 & Barry Weirich      & Consumer    & United States & New York City  & ... & East    & OFF-PA-10001471 & Office Supplies & Paper       & Strathmore Photo Frame Cards                                   &  14.620 &  2 & 0.0 &   6.7252 & 201405\\\\\n",
       "\t 6569 & CA-2014-100678 & 2014-04-18 & 2014-04-22 & Standard Class & KM-16720 & Kunst Miller       & Consumer    & United States & Houston        & ... & Central & OFF-AR-10001868 & Office Supplies & Art         & Prang Dustless Chalk Sticks                                    &   2.688 &  2 & 0.2 &   1.0080 & 201404\\\\\n",
       "\t 9020 & CA-2014-100706 & 2014-12-16 & 2014-12-18 & Second Class   & LE-16810 & Laurel Elliston    & Consumer    & United States & Springfield    & ... & South   & TEC-AC-10001314 & Technology      & Accessories & Case Logic 2.4GHz Wireless Keyboard                            &  99.980 &  2 & 0.0 &   7.9984 & 201412\\\\\n",
       "\t 6315 & CA-2014-100762 & 2014-11-24 & 2014-11-29 & Standard Class & NG-18355 & Nat Gilpin         & Corporate   & United States & Jackson        & ... & Central & OFF-AR-10000380 & Office Supplies & Art         & Hunt PowerHouse Electric Pencil Sharpener, Blue                & 151.920 &  4 & 0.0 &  45.5760 & 201411\\\\\n",
       "\t 9660 & CA-2014-100860 & 2014-03-26 & 2014-03-30 & Second Class   & CS-12505 & Cindy Stewart      & Consumer    & United States & Pomona         & ... & West    & OFF-LA-10001982 & Office Supplies & Labels      & Smead Alpha-Z Color-Coded Name Labels First Letter Starter Set &  18.750 &  5 & 0.0 &   9.0000 & 201403\\\\\n",
       "\t 9462 & CA-2014-100867 & 2014-10-19 & 2014-10-24 & Standard Class & EH-14125 & Eugene Hildebrand  & Home Office & United States & Lakewood       & ... & West    & TEC-PH-10004922 & Technology      & Phones      & RCA Visys Integrated PBX 8-Line Router                         & 321.552 &  6 & 0.2 &  20.0970 & 201410\\\\\n",
       "\t 8464 & CA-2014-100881 & 2014-03-28 & 2014-04-01 & Standard Class & DR-12940 & Daniel Raglin      & Home Office & United States & Albuquerque    & ... & West    & TEC-PH-10003273 & Technology      & Phones      & AT\\&T TR1909W                                                   & 302.376 &  3 & 0.2 &  22.6782 & 201403\\\\\n",
       "\t 3888 & CA-2014-100895 & 2014-06-02 & 2014-06-06 & Standard Class & SV-20785 & Stewart Visinsky   & Consumer    & United States & Roswell        & ... & South   & OFF-AR-10004511 & Office Supplies & Art         & Sanford Colorific Scented Colored Pencils, 12/Pack             &   8.560 &  2 & 0.0 &   2.6536 & 201406\\\\\n",
       "\t 7572 & CA-2014-100916 & 2014-10-21 & 2014-10-26 & Standard Class & FH-14275 & Frank Hawley       & Corporate   & United States & Newport News   & ... & South   & OFF-ST-10003479 & Office Supplies & Storage     & Eldon Base for stackable storage shelf, platinum               & 194.700 &  5 & 0.0 &   9.7350 & 201410\\\\\n",
       "\t 7868 & CA-2014-100972 & 2014-11-19 & 2014-11-24 & Second Class   & DB-13360 & Dennis Bolton      & Home Office & United States & Salt Lake City & ... & West    & OFF-PA-10000357 & Office Supplies & Paper       & Xerox 1888                                                     & 166.440 &  3 & 0.0 &  79.8912 & 201411\\\\\n",
       "\t 6252 & CA-2014-101147 & 2014-12-02 & 2014-12-04 & First Class    & MC-17575 & Matt Collins       & Consumer    & United States & Chicago        & ... & Central & OFF-AP-10004249 & Office Supplies & Appliances  & Staple holder                                                  &   2.394 &  1 & 0.8 &  -6.3441 & 201412\\\\\n",
       "\t 4565 & CA-2014-101175 & 2014-12-09 & 2014-12-14 & Standard Class & DM-12955 & Dario Medina       & Corporate   & United States & Mesa           & ... & West    & OFF-ST-10004950 & Office Supplies & Storage     & Acco Perma 3000 Stacking Storage Drawers                       & 100.704 &  6 & 0.2 &  -1.2588 & 201412\\\\\n",
       "\t 6170 & CA-2014-101266 & 2014-08-27 & 2014-08-30 & Second Class   & MM-17920 & Michael Moore      & Consumer    & United States & Springfield    & ... & South   & OFF-PA-10002986 & Office Supplies & Paper       & Xerox 1898                                                     &  13.360 &  2 & 0.0 &   6.4128 & 201408\\\\\n",
       "\t 9724 & CA-2014-101364 & 2014-12-22 & 2014-12-26 & Standard Class & TW-21025 & Tamara Willingham  & Home Office & United States & New York City  & ... & East    & OFF-BI-10003984 & Office Supplies & Binders     & Lock-Up Easel 'Spel-Binder'                                    & 296.712 & 13 & 0.2 & 100.1403 & 201412\\\\\n",
       "\t 8091 & CA-2014-101392 & 2014-12-07 & 2014-12-13 & Standard Class & AS-10630 & Ann Steele         & Home Office & United States & Seattle        & ... & West    & OFF-ST-10000532 & Office Supplies & Storage     & Advantus Rolling Drawer Organizers                             & 269.360 &  7 & 0.0 &  70.0336 & 201412\\\\\n",
       "\t 8690 & CA-2014-101427 & 2014-12-26 & 2014-12-30 & Standard Class & AY-10555 & Andy Yotov         & Corporate   & United States & Philadelphia   & ... & East    & OFF-AR-10002257 & Office Supplies & Art         & Eldon Spacemaker Box, Quick-Snap Lid, Clear                    &   8.016 &  3 & 0.2 &   1.1022 & 201412\\\\\n",
       "\t 6850 & CA-2014-101462 & 2014-04-20 & 2014-04-25 & Standard Class & BP-11230 & Benjamin Patterson & Consumer    & United States & Los Angeles    & ... & West    & FUR-FU-10000409 & Furniture       & Furnishings & GE 4 Foot Flourescent Tube, 40 Watt                            &  59.920 &  4 & 0.0 &  27.5632 & 201404\\\\\n",
       "\t  428 & CA-2014-101476 & 2014-09-12 & 2014-09-13 & First Class    & SD-20485 & Shirley Daniels    & Home Office & United States & New Rochelle   & ... & East    & TEC-MA-10000029 & Technology      & Machines    & Epson WorkForce WF-2530 All-in-One Printer, Copier Scanner     &  69.990 &  1 & 0.0 &  30.0957 & 201409\\\\\n",
       "\t 5193 & CA-2014-101560 & 2014-11-28 & 2014-12-01 & Second Class   & CS-12250 & Chris Selesnick    & Corporate   & United States & Columbia       & ... & South   & FUR-FU-10003773 & Furniture       & Furnishings & Eldon Cleatmat Plus Chair Mats for High Pile Carpets           & 397.600 &  5 & 0.0 &  43.7360 & 201411\\\\\n",
       "\t 1575 & CA-2014-101602 & 2014-12-15 & 2014-12-18 & First Class    & MC-18100 & Mick Crebagga      & Consumer    & United States & El Paso        & ... & Central & TEC-PH-10000169 & Technology      & Phones      & ARKON Windshield Dashboard Air Vent Car Mount Holder           &  40.680 &  3 & 0.2 &  -9.1530 & 201412\\\\\n",
       "\t 5480 & CA-2014-101770 & 2014-03-31 & 2014-04-04 & Standard Class & KB-16240 & Karen Bern         & Corporate   & United States & Miami          & ... & South   & OFF-BI-10001097 & Office Supplies & Binders     & Avery Hole Reinforcements                                      &   1.869 &  1 & 0.7 &  -1.3083 & 201403\\\\\n",
       "\t 9461 & CA-2014-101833 & 2014-11-17 & 2014-11-22 & Second Class   & FG-14260 & Frank Gastineau    & Home Office & United States & New York City  & ... & East    & OFF-PA-10003591 & Office Supplies & Paper       & Southworth 100\\% Cotton The Best Paper                          &  34.440 &  3 & 0.0 &  17.2200 & 201411\\\\\n",
       "\t 3843 & CA-2014-101931 & 2014-10-28 & 2014-10-31 & First Class    & TS-21370 & Todd Sumrall       & Corporate   & United States & Los Angeles    & ... & West    & OFF-BI-10004140 & Office Supplies & Binders     & Avery Non-Stick Binders                                        &   7.184 &  2 & 0.2 &   2.2450 & 201410\\\\\n",
       "\t 1791 & CA-2014-102008 & 2014-09-30 & 2014-10-04 & Standard Class & RA-19915 & Russell Applegate  & Consumer    & United States & New York City  & ... & East    & OFF-PA-10004092 & Office Supplies & Paper       & Tops Green Bar Computer Printout Paper                         &  48.940 &  1 & 0.0 &  24.4700 & 201409\\\\\n",
       "\t 4948 & CA-2014-102085 & 2014-10-04 & 2014-10-09 & Standard Class & JD-16015 & Joy Daniels        & Consumer    & United States & Seattle        & ... & West    & OFF-LA-10002475 & Office Supplies & Labels      & Avery 519                                                      &  29.240 &  4 & 0.0 &  13.7428 & 201410\\\\\n",
       "\t ... & ... & ... & ... & ... & ... & ... & ... & ... & ... &  & ... & ... & ... & ... & ... & ... & ... & ... & ... & ...\\\\\n",
       "\t 6853 & US-2017-162670 & 2017-12-23 & 2017-12-28 & Second Class   & MF-18250 & Monica Federle     & Corporate   & United States & Little Rock   & ... & South   & OFF-ST-10001328 & Office Supplies & Storage     & Personal Filing Tote with Lid, Black/Gray                                                       &   62.040 & 4 & 0.0 &    17.3712 & 201712\\\\\n",
       "\t 4362 & US-2017-163195 & 2017-02-17 & 2017-02-21 & Second Class   & LL-16840 & Lauren Leatherbury & Consumer    & United States & Lafayette     & ... & South   & TEC-PH-10003875 & Technology      & Phones      & KLD Oscar II Style Snap-on Ultra Thin Side Flip Synthetic Leather Cover Case for HTC One HTC M7 &   29.160 & 3 & 0.0 &     8.4564 & 201702\\\\\n",
       "\t 5991 & US-2017-163300 & 2017-09-15 & 2017-09-21 & Standard Class & ES-14020 & Erica Smith        & Consumer    & United States & Los Angeles   & ... & West    & OFF-BI-10004390 & Office Supplies & Binders     & GBC DocuBind 200 Manual Binding Machine                                                         & 2357.488 & 7 & 0.2 &   884.0580 & 201709\\\\\n",
       "\t 7440 & US-2017-163657 & 2017-09-02 & 2017-09-06 & Standard Class & JL-15235 & Janet Lee          & Consumer    & United States & Los Angeles   & ... & West    & OFF-BI-10000138 & Office Supplies & Binders     & Acco Translucent Poly Ring Binders                                                              &   18.720 & 5 & 0.2 &     6.5520 & 201709\\\\\n",
       "\t 4585 & US-2017-163790 & 2017-11-02 & 2017-11-04 & Second Class   & NL-18310 & Nancy Lomonaco     & Home Office & United States & Danville      & ... & West    & OFF-EN-10001335 & Office Supplies & Envelopes   & White Business Envelopes with Contemporary Seam, Recycled White Business Envelopes              &   76.580 & 7 & 0.0 &    38.2900 & 201711\\\\\n",
       "\t 1728 & US-2017-164056 & 2017-04-29 & 2017-05-04 & Second Class   & FM-14215 & Filia McAdams      & Corporate   & United States & Dublin        & ... & East    & FUR-TA-10001307 & Furniture       & Tables      & SAFCO PlanMaster Heigh-Adjustable Drafting Table Base, 43w x 30d x 30-37h, Black                & 1048.350 & 5 & 0.4 &   -69.8900 & 201704\\\\\n",
       "\t  131 & US-2017-164147 & 2017-02-02 & 2017-02-05 & First Class    & DW-13585 & Dorothy Wardle     & Corporate   & United States & Columbus      & ... & East    & TEC-PH-10002293 & Technology      & Phones      & Anker 36W 4-Port USB Wall Charger Travel Power Adapter for iPhone 5s 5c 5                       &   59.970 & 5 & 0.4 &   -11.9940 & 201702\\\\\n",
       "\t 2628 & US-2017-165344 & 2017-11-13 & 2017-11-15 & First Class    & SB-20290 & Sean Braxton       & Corporate   & United States & Springfield   & ... & East    & TEC-AC-10002399 & Technology      & Accessories & SanDisk Cruzer 32 GB USB Flash Drive                                                            &   60.864 & 4 & 0.2 &     9.1296 & 201711\\\\\n",
       "\t 7043 & US-2017-165358 & 2017-07-18 & 2017-07-23 & Standard Class & SV-20365 & Seth Vernon        & Consumer    & United States & Philadelphia  & ... & East    & TEC-CO-10001943 & Technology      & Copiers     & Canon PC-428 Personal Copier                                                                    &  599.970 & 5 & 0.4 &    69.9965 & 201707\\\\\n",
       "\t 9289 & US-2017-165456 & 2017-11-30 & 2017-12-03 & First Class    & TB-21625 & Trudy Brown        & Consumer    & United States & Philadelphia  & ... & East    & FUR-CH-10003981 & Furniture       & Chairs      & Global Commerce Series Low-Back Swivel/Tilt Chairs                                              & 1079.316 & 6 & 0.3 &   -15.4188 & 201711\\\\\n",
       "\t 6691 & US-2017-165869 & 2017-07-31 & 2017-08-05 & Standard Class & LS-17200 & Luke Schmidt       & Corporate   & United States & Milwaukee     & ... & Central & OFF-BI-10003460 & Office Supplies & Binders     & Acco 3-Hole Punch                                                                               &   17.520 & 4 & 0.0 &     8.4096 & 201707\\\\\n",
       "\t 4613 & US-2017-165953 & 2016-12-31 & 2017-01-06 & Standard Class & EP-13915 & Emily Phan         & Consumer    & United States & Jacksonville  & ... & South   & OFF-AR-10000588 & Office Supplies & Art         & Newell 345                                                                                      &   47.616 & 3 & 0.2 &     3.5712 & 201612\\\\\n",
       "\t 6778 & US-2017-166037 & 2017-01-28 & 2017-02-01 & Standard Class & CL-12700 & Craig Leslie       & Home Office & United States & New York City & ... & East    & TEC-AC-10002800 & Technology      & Accessories & Plantronics Audio 478 Stereo USB Headset                                                        &  449.910 & 9 & 0.0 &   157.4685 & 201701\\\\\n",
       "\t 7870 & US-2017-166233 & 2017-07-03 & 2017-07-09 & Standard Class & MO-17950 & Michael Oakman     & Consumer    & United States & Jacksonville  & ... & South   & TEC-AC-10002167 & Technology      & Accessories & ImationÂ 8gb Micro Traveldrive Usb 2.0Â Flash Drive                                             &   24.000 & 2 & 0.2 &    -2.7000 & 201707\\\\\n",
       "\t 9877 & US-2017-166324 & 2017-04-20 & 2017-04-21 & First Class    & BE-11455 & Brad Eason         & Home Office & United States & Cleveland     & ... & East    & OFF-ST-10000078 & Office Supplies & Storage     & Tennsco 6- and 18-Compartment Lockers                                                           &  848.544 & 4 & 0.2 &   -21.2136 & 201704\\\\\n",
       "\t 6724 & US-2017-166394 & 2017-09-04 & 2017-09-06 & Second Class   & VM-21835 & Vivian Mathis      & Consumer    & United States & Nashua        & ... & East    & OFF-FA-10001843 & Office Supplies & Fasteners   & Staples                                                                                         &   14.820 & 6 & 0.0 &     6.9654 & 201709\\\\\n",
       "\t 1880 & US-2017-166611 & 2017-03-28 & 2017-04-02 & Standard Class & CK-12760 & Cyma Kinney        & Corporate   & United States & Jacksonville  & ... & South   & OFF-BI-10001191 & Office Supplies & Binders     & Canvas Sectional Post Binders                                                                   &   68.742 & 9 & 0.7 &   -48.1194 & 201703\\\\\n",
       "\t 9143 & US-2017-166688 & 2017-05-20 & 2017-05-26 & Standard Class & RD-19480 & Rick Duston        & Consumer    & United States & Las Vegas     & ... & West    & OFF-BI-10004040 & Office Supplies & Binders     & Wilson Jones Impact Binders                                                                     &    8.288 & 2 & 0.2 &     3.0044 & 201705\\\\\n",
       "\t 8302 & US-2017-167318 & 2017-07-26 & 2017-08-01 & Standard Class & GZ-14545 & George Zrebassa    & Corporate   & United States & Los Angeles   & ... & West    & TEC-AC-10003870 & Technology      & Accessories & LogitechÂ Z-906 Speaker sys - home theater - 5.1-CH                                             & 1649.950 & 5 & 0.0 &   659.9800 & 201707\\\\\n",
       "\t 6619 & US-2017-167402 & 2017-01-13 & 2017-01-18 & Second Class   & CP-12085 & Cathy Prescott     & Corporate   & United States & Springfield   & ... & Central & OFF-PA-10004983 & Office Supplies & Paper       & Xerox 23                                                                                        &   32.400 & 5 & 0.0 &    15.5520 & 201701\\\\\n",
       "\t 8109 & US-2017-167570 & 2017-12-08 & 2017-12-15 & Standard Class & EG-13900 & Emily Grady        & Consumer    & United States & Philadelphia  & ... & East    & FUR-CH-10003396 & Furniture       & Chairs      & Global Deluxe Steno Chair                                                                       &  215.544 & 4 & 0.3 &   -58.5048 & 201712\\\\\n",
       "\t 7515 & US-2017-167920 & 2017-12-09 & 2017-12-12 & Second Class   & JL-15835 & John Lee           & Consumer    & United States & Richmond      & ... & South   & OFF-BI-10004236 & Office Supplies & Binders     & XtraLife ClearVue Slant-D Ring Binder, White, 3\"                                                &   29.360 & 2 & 0.0 &    13.5056 & 201712\\\\\n",
       "\t  684 & US-2017-168116 & 2017-11-04 & 2017-11-04 & Same Day       & GT-14635 & Grant Thornton     & Corporate   & United States & Burlington    & ... & South   & TEC-MA-10004125 & Technology      & Machines    & Cubify CubeX 3D Printer Triple Head Print                                                       & 7999.980 & 4 & 0.5 & -3839.9904 & 201711\\\\\n",
       "\t 7171 & US-2017-168613 & 2017-10-08 & 2017-10-14 & Standard Class & GM-14440 & Gary McGarr        & Consumer    & United States & New York City & ... & East    & FUR-CH-10002372 & Furniture       & Chairs      & Office Star - Ergonomically Designed Knee Chair                                                 &  145.764 & 2 & 0.1 &     3.2392 & 201710\\\\\n",
       "\t 2121 & US-2017-168690 & 2017-01-07 & 2017-01-13 & Standard Class & TS-21085 & Thais Sissman      & Consumer    & United States & Ormond Beach  & ... & South   & OFF-BI-10000145 & Office Supplies & Binders     & Zipper Ring Binder Pockets                                                                      &    2.808 & 3 & 0.7 &    -1.9656 & 201701\\\\\n",
       "\t 8294 & US-2017-168802 & 2017-11-03 & 2017-11-07 & Standard Class & JO-15145 & Jack O'Briant      & Corporate   & United States & Seattle       & ... & West    & OFF-BI-10002393 & Office Supplies & Binders     & Binder Posts                                                                                    &   18.368 & 4 & 0.2 &     5.9696 & 201711\\\\\n",
       "\t 4373 & US-2017-169320 & 2017-07-23 & 2017-07-25 & Second Class   & LH-16900 & Lena Hernandez     & Consumer    & United States & Elkhart       & ... & Central & OFF-AR-10003602 & Office Supplies & Art         & Quartet Omega Colored Chalk, 12/Pack                                                            &   11.680 & 2 & 0.0 &     5.4896 & 201707\\\\\n",
       "\t 9539 & US-2017-169488 & 2017-09-07 & 2017-09-09 & First Class    & AA-10375 & Allen Armold       & Consumer    & United States & Providence    & ... & East    & OFF-PA-10002659 & Office Supplies & Paper       & Avoid Verbal Orders Carbonless Minifold Book                                                    &   16.900 & 5 & 0.0 &     7.7740 & 201709\\\\\n",
       "\t 4598 & US-2017-169502 & 2017-08-28 & 2017-09-01 & Standard Class & MG-17650 & Matthew Grinstein  & Home Office & United States & Milwaukee     & ... & Central & OFF-SU-10004115 & Office Supplies & Supplies    & Acme Stainless Steel Office Snips                                                               &   21.810 & 3 & 0.0 &     5.8887 & 201708\\\\\n",
       "\t 5930 & US-2017-169551 & 2017-07-07 & 2017-07-09 & First Class    & RL-19615 & Rob Lucas          & Consumer    & United States & Philadelphia  & ... & East    & FUR-BO-10001519 & Furniture       & Bookcases   & O'Sullivan 3-Shelf Heavy-Duty Bookcases                                                         &   87.210 & 3 & 0.5 &   -45.3492 & 201707\\\\\n",
       "\\end{tabular}\n"
      ],
      "text/markdown": [
       "\n",
       "A tbl_ts: 5009 × 22\n",
       "\n",
       "| ï..Row.ID &lt;int&gt; | Order.ID &lt;chr&gt; | Order.Date &lt;date&gt; | Ship.Date &lt;date&gt; | Ship.Mode &lt;chr&gt; | Customer.ID &lt;chr&gt; | Customer.Name &lt;chr&gt; | Segment &lt;chr&gt; | Country &lt;chr&gt; | City &lt;chr&gt; | ... ... | Region &lt;chr&gt; | Product.ID &lt;chr&gt; | Category &lt;chr&gt; | Sub.Category &lt;chr&gt; | Product.Name &lt;chr&gt; | Sales &lt;dbl&gt; | Quantity &lt;int&gt; | Discount &lt;dbl&gt; | Profit &lt;dbl&gt; | year_month &lt;dbl&gt; |\n",
       "|---|---|---|---|---|---|---|---|---|---|---|---|---|---|---|---|---|---|---|---|---|\n",
       "| 2718 | CA-2014-100006 | 2014-09-07 | 2014-09-13 | Standard Class | DK-13375 | Dennis Kane        | Consumer    | United States | New York City  | ... | East    | TEC-PH-10002075 | Technology      | Phones      | AT&amp;T EL51110 DECT                                              | 377.970 |  3 | 0.0 | 109.6113 | 201409 |\n",
       "| 6288 | CA-2014-100090 | 2014-07-08 | 2014-07-12 | Standard Class | EB-13705 | Ed Braxton         | Corporate   | United States | San Francisco  | ... | West    | FUR-TA-10003715 | Furniture       | Tables      | Hon 2111 Invitation Series Corner Table                        | 502.488 |  3 | 0.2 | -87.9354 | 201407 |\n",
       "| 9515 | CA-2014-100293 | 2014-03-14 | 2014-03-18 | Standard Class | NF-18475 | Neil FranzÃ¶sisch  | Home Office | United States | Jacksonville   | ... | South   | OFF-PA-10000176 | Office Supplies | Paper       | Xerox 1887                                                     |  91.056 |  6 | 0.2 |  31.8696 | 201403 |\n",
       "| 3084 | CA-2014-100328 | 2014-01-28 | 2014-02-03 | Standard Class | JC-15340 | Jasper Cacioppo    | Consumer    | United States | New York City  | ... | East    | OFF-BI-10000343 | Office Supplies | Binders     | Pressboard Covers with Storage Hooks, 9 1/2\" x 11\", Light Blue |   3.928 |  1 | 0.2 |   1.3257 | 201401 |\n",
       "| 3836 | CA-2014-100363 | 2014-04-08 | 2014-04-15 | Standard Class | JM-15655 | Jim Mitchum        | Corporate   | United States | Glendale       | ... | West    | OFF-FA-10000611 | Office Supplies | Fasteners   | Binder Clips by OIC                                            |   2.368 |  2 | 0.2 |   0.8288 | 201404 |\n",
       "| 9441 | CA-2014-100391 | 2014-05-25 | 2014-05-29 | Standard Class | BW-11065 | Barry Weirich      | Consumer    | United States | New York City  | ... | East    | OFF-PA-10001471 | Office Supplies | Paper       | Strathmore Photo Frame Cards                                   |  14.620 |  2 | 0.0 |   6.7252 | 201405 |\n",
       "| 6569 | CA-2014-100678 | 2014-04-18 | 2014-04-22 | Standard Class | KM-16720 | Kunst Miller       | Consumer    | United States | Houston        | ... | Central | OFF-AR-10001868 | Office Supplies | Art         | Prang Dustless Chalk Sticks                                    |   2.688 |  2 | 0.2 |   1.0080 | 201404 |\n",
       "| 9020 | CA-2014-100706 | 2014-12-16 | 2014-12-18 | Second Class   | LE-16810 | Laurel Elliston    | Consumer    | United States | Springfield    | ... | South   | TEC-AC-10001314 | Technology      | Accessories | Case Logic 2.4GHz Wireless Keyboard                            |  99.980 |  2 | 0.0 |   7.9984 | 201412 |\n",
       "| 6315 | CA-2014-100762 | 2014-11-24 | 2014-11-29 | Standard Class | NG-18355 | Nat Gilpin         | Corporate   | United States | Jackson        | ... | Central | OFF-AR-10000380 | Office Supplies | Art         | Hunt PowerHouse Electric Pencil Sharpener, Blue                | 151.920 |  4 | 0.0 |  45.5760 | 201411 |\n",
       "| 9660 | CA-2014-100860 | 2014-03-26 | 2014-03-30 | Second Class   | CS-12505 | Cindy Stewart      | Consumer    | United States | Pomona         | ... | West    | OFF-LA-10001982 | Office Supplies | Labels      | Smead Alpha-Z Color-Coded Name Labels First Letter Starter Set |  18.750 |  5 | 0.0 |   9.0000 | 201403 |\n",
       "| 9462 | CA-2014-100867 | 2014-10-19 | 2014-10-24 | Standard Class | EH-14125 | Eugene Hildebrand  | Home Office | United States | Lakewood       | ... | West    | TEC-PH-10004922 | Technology      | Phones      | RCA Visys Integrated PBX 8-Line Router                         | 321.552 |  6 | 0.2 |  20.0970 | 201410 |\n",
       "| 8464 | CA-2014-100881 | 2014-03-28 | 2014-04-01 | Standard Class | DR-12940 | Daniel Raglin      | Home Office | United States | Albuquerque    | ... | West    | TEC-PH-10003273 | Technology      | Phones      | AT&amp;T TR1909W                                                   | 302.376 |  3 | 0.2 |  22.6782 | 201403 |\n",
       "| 3888 | CA-2014-100895 | 2014-06-02 | 2014-06-06 | Standard Class | SV-20785 | Stewart Visinsky   | Consumer    | United States | Roswell        | ... | South   | OFF-AR-10004511 | Office Supplies | Art         | Sanford Colorific Scented Colored Pencils, 12/Pack             |   8.560 |  2 | 0.0 |   2.6536 | 201406 |\n",
       "| 7572 | CA-2014-100916 | 2014-10-21 | 2014-10-26 | Standard Class | FH-14275 | Frank Hawley       | Corporate   | United States | Newport News   | ... | South   | OFF-ST-10003479 | Office Supplies | Storage     | Eldon Base for stackable storage shelf, platinum               | 194.700 |  5 | 0.0 |   9.7350 | 201410 |\n",
       "| 7868 | CA-2014-100972 | 2014-11-19 | 2014-11-24 | Second Class   | DB-13360 | Dennis Bolton      | Home Office | United States | Salt Lake City | ... | West    | OFF-PA-10000357 | Office Supplies | Paper       | Xerox 1888                                                     | 166.440 |  3 | 0.0 |  79.8912 | 201411 |\n",
       "| 6252 | CA-2014-101147 | 2014-12-02 | 2014-12-04 | First Class    | MC-17575 | Matt Collins       | Consumer    | United States | Chicago        | ... | Central | OFF-AP-10004249 | Office Supplies | Appliances  | Staple holder                                                  |   2.394 |  1 | 0.8 |  -6.3441 | 201412 |\n",
       "| 4565 | CA-2014-101175 | 2014-12-09 | 2014-12-14 | Standard Class | DM-12955 | Dario Medina       | Corporate   | United States | Mesa           | ... | West    | OFF-ST-10004950 | Office Supplies | Storage     | Acco Perma 3000 Stacking Storage Drawers                       | 100.704 |  6 | 0.2 |  -1.2588 | 201412 |\n",
       "| 6170 | CA-2014-101266 | 2014-08-27 | 2014-08-30 | Second Class   | MM-17920 | Michael Moore      | Consumer    | United States | Springfield    | ... | South   | OFF-PA-10002986 | Office Supplies | Paper       | Xerox 1898                                                     |  13.360 |  2 | 0.0 |   6.4128 | 201408 |\n",
       "| 9724 | CA-2014-101364 | 2014-12-22 | 2014-12-26 | Standard Class | TW-21025 | Tamara Willingham  | Home Office | United States | New York City  | ... | East    | OFF-BI-10003984 | Office Supplies | Binders     | Lock-Up Easel 'Spel-Binder'                                    | 296.712 | 13 | 0.2 | 100.1403 | 201412 |\n",
       "| 8091 | CA-2014-101392 | 2014-12-07 | 2014-12-13 | Standard Class | AS-10630 | Ann Steele         | Home Office | United States | Seattle        | ... | West    | OFF-ST-10000532 | Office Supplies | Storage     | Advantus Rolling Drawer Organizers                             | 269.360 |  7 | 0.0 |  70.0336 | 201412 |\n",
       "| 8690 | CA-2014-101427 | 2014-12-26 | 2014-12-30 | Standard Class | AY-10555 | Andy Yotov         | Corporate   | United States | Philadelphia   | ... | East    | OFF-AR-10002257 | Office Supplies | Art         | Eldon Spacemaker Box, Quick-Snap Lid, Clear                    |   8.016 |  3 | 0.2 |   1.1022 | 201412 |\n",
       "| 6850 | CA-2014-101462 | 2014-04-20 | 2014-04-25 | Standard Class | BP-11230 | Benjamin Patterson | Consumer    | United States | Los Angeles    | ... | West    | FUR-FU-10000409 | Furniture       | Furnishings | GE 4 Foot Flourescent Tube, 40 Watt                            |  59.920 |  4 | 0.0 |  27.5632 | 201404 |\n",
       "|  428 | CA-2014-101476 | 2014-09-12 | 2014-09-13 | First Class    | SD-20485 | Shirley Daniels    | Home Office | United States | New Rochelle   | ... | East    | TEC-MA-10000029 | Technology      | Machines    | Epson WorkForce WF-2530 All-in-One Printer, Copier Scanner     |  69.990 |  1 | 0.0 |  30.0957 | 201409 |\n",
       "| 5193 | CA-2014-101560 | 2014-11-28 | 2014-12-01 | Second Class   | CS-12250 | Chris Selesnick    | Corporate   | United States | Columbia       | ... | South   | FUR-FU-10003773 | Furniture       | Furnishings | Eldon Cleatmat Plus Chair Mats for High Pile Carpets           | 397.600 |  5 | 0.0 |  43.7360 | 201411 |\n",
       "| 1575 | CA-2014-101602 | 2014-12-15 | 2014-12-18 | First Class    | MC-18100 | Mick Crebagga      | Consumer    | United States | El Paso        | ... | Central | TEC-PH-10000169 | Technology      | Phones      | ARKON Windshield Dashboard Air Vent Car Mount Holder           |  40.680 |  3 | 0.2 |  -9.1530 | 201412 |\n",
       "| 5480 | CA-2014-101770 | 2014-03-31 | 2014-04-04 | Standard Class | KB-16240 | Karen Bern         | Corporate   | United States | Miami          | ... | South   | OFF-BI-10001097 | Office Supplies | Binders     | Avery Hole Reinforcements                                      |   1.869 |  1 | 0.7 |  -1.3083 | 201403 |\n",
       "| 9461 | CA-2014-101833 | 2014-11-17 | 2014-11-22 | Second Class   | FG-14260 | Frank Gastineau    | Home Office | United States | New York City  | ... | East    | OFF-PA-10003591 | Office Supplies | Paper       | Southworth 100% Cotton The Best Paper                          |  34.440 |  3 | 0.0 |  17.2200 | 201411 |\n",
       "| 3843 | CA-2014-101931 | 2014-10-28 | 2014-10-31 | First Class    | TS-21370 | Todd Sumrall       | Corporate   | United States | Los Angeles    | ... | West    | OFF-BI-10004140 | Office Supplies | Binders     | Avery Non-Stick Binders                                        |   7.184 |  2 | 0.2 |   2.2450 | 201410 |\n",
       "| 1791 | CA-2014-102008 | 2014-09-30 | 2014-10-04 | Standard Class | RA-19915 | Russell Applegate  | Consumer    | United States | New York City  | ... | East    | OFF-PA-10004092 | Office Supplies | Paper       | Tops Green Bar Computer Printout Paper                         |  48.940 |  1 | 0.0 |  24.4700 | 201409 |\n",
       "| 4948 | CA-2014-102085 | 2014-10-04 | 2014-10-09 | Standard Class | JD-16015 | Joy Daniels        | Consumer    | United States | Seattle        | ... | West    | OFF-LA-10002475 | Office Supplies | Labels      | Avery 519                                                      |  29.240 |  4 | 0.0 |  13.7428 | 201410 |\n",
       "| ... | ... | ... | ... | ... | ... | ... | ... | ... | ... | <!----> | ... | ... | ... | ... | ... | ... | ... | ... | ... | ... |\n",
       "| 6853 | US-2017-162670 | 2017-12-23 | 2017-12-28 | Second Class   | MF-18250 | Monica Federle     | Corporate   | United States | Little Rock   | ... | South   | OFF-ST-10001328 | Office Supplies | Storage     | Personal Filing Tote with Lid, Black/Gray                                                       |   62.040 | 4 | 0.0 |    17.3712 | 201712 |\n",
       "| 4362 | US-2017-163195 | 2017-02-17 | 2017-02-21 | Second Class   | LL-16840 | Lauren Leatherbury | Consumer    | United States | Lafayette     | ... | South   | TEC-PH-10003875 | Technology      | Phones      | KLD Oscar II Style Snap-on Ultra Thin Side Flip Synthetic Leather Cover Case for HTC One HTC M7 |   29.160 | 3 | 0.0 |     8.4564 | 201702 |\n",
       "| 5991 | US-2017-163300 | 2017-09-15 | 2017-09-21 | Standard Class | ES-14020 | Erica Smith        | Consumer    | United States | Los Angeles   | ... | West    | OFF-BI-10004390 | Office Supplies | Binders     | GBC DocuBind 200 Manual Binding Machine                                                         | 2357.488 | 7 | 0.2 |   884.0580 | 201709 |\n",
       "| 7440 | US-2017-163657 | 2017-09-02 | 2017-09-06 | Standard Class | JL-15235 | Janet Lee          | Consumer    | United States | Los Angeles   | ... | West    | OFF-BI-10000138 | Office Supplies | Binders     | Acco Translucent Poly Ring Binders                                                              |   18.720 | 5 | 0.2 |     6.5520 | 201709 |\n",
       "| 4585 | US-2017-163790 | 2017-11-02 | 2017-11-04 | Second Class   | NL-18310 | Nancy Lomonaco     | Home Office | United States | Danville      | ... | West    | OFF-EN-10001335 | Office Supplies | Envelopes   | White Business Envelopes with Contemporary Seam, Recycled White Business Envelopes              |   76.580 | 7 | 0.0 |    38.2900 | 201711 |\n",
       "| 1728 | US-2017-164056 | 2017-04-29 | 2017-05-04 | Second Class   | FM-14215 | Filia McAdams      | Corporate   | United States | Dublin        | ... | East    | FUR-TA-10001307 | Furniture       | Tables      | SAFCO PlanMaster Heigh-Adjustable Drafting Table Base, 43w x 30d x 30-37h, Black                | 1048.350 | 5 | 0.4 |   -69.8900 | 201704 |\n",
       "|  131 | US-2017-164147 | 2017-02-02 | 2017-02-05 | First Class    | DW-13585 | Dorothy Wardle     | Corporate   | United States | Columbus      | ... | East    | TEC-PH-10002293 | Technology      | Phones      | Anker 36W 4-Port USB Wall Charger Travel Power Adapter for iPhone 5s 5c 5                       |   59.970 | 5 | 0.4 |   -11.9940 | 201702 |\n",
       "| 2628 | US-2017-165344 | 2017-11-13 | 2017-11-15 | First Class    | SB-20290 | Sean Braxton       | Corporate   | United States | Springfield   | ... | East    | TEC-AC-10002399 | Technology      | Accessories | SanDisk Cruzer 32 GB USB Flash Drive                                                            |   60.864 | 4 | 0.2 |     9.1296 | 201711 |\n",
       "| 7043 | US-2017-165358 | 2017-07-18 | 2017-07-23 | Standard Class | SV-20365 | Seth Vernon        | Consumer    | United States | Philadelphia  | ... | East    | TEC-CO-10001943 | Technology      | Copiers     | Canon PC-428 Personal Copier                                                                    |  599.970 | 5 | 0.4 |    69.9965 | 201707 |\n",
       "| 9289 | US-2017-165456 | 2017-11-30 | 2017-12-03 | First Class    | TB-21625 | Trudy Brown        | Consumer    | United States | Philadelphia  | ... | East    | FUR-CH-10003981 | Furniture       | Chairs      | Global Commerce Series Low-Back Swivel/Tilt Chairs                                              | 1079.316 | 6 | 0.3 |   -15.4188 | 201711 |\n",
       "| 6691 | US-2017-165869 | 2017-07-31 | 2017-08-05 | Standard Class | LS-17200 | Luke Schmidt       | Corporate   | United States | Milwaukee     | ... | Central | OFF-BI-10003460 | Office Supplies | Binders     | Acco 3-Hole Punch                                                                               |   17.520 | 4 | 0.0 |     8.4096 | 201707 |\n",
       "| 4613 | US-2017-165953 | 2016-12-31 | 2017-01-06 | Standard Class | EP-13915 | Emily Phan         | Consumer    | United States | Jacksonville  | ... | South   | OFF-AR-10000588 | Office Supplies | Art         | Newell 345                                                                                      |   47.616 | 3 | 0.2 |     3.5712 | 201612 |\n",
       "| 6778 | US-2017-166037 | 2017-01-28 | 2017-02-01 | Standard Class | CL-12700 | Craig Leslie       | Home Office | United States | New York City | ... | East    | TEC-AC-10002800 | Technology      | Accessories | Plantronics Audio 478 Stereo USB Headset                                                        |  449.910 | 9 | 0.0 |   157.4685 | 201701 |\n",
       "| 7870 | US-2017-166233 | 2017-07-03 | 2017-07-09 | Standard Class | MO-17950 | Michael Oakman     | Consumer    | United States | Jacksonville  | ... | South   | TEC-AC-10002167 | Technology      | Accessories | ImationÂ 8gb Micro Traveldrive Usb 2.0Â Flash Drive                                             |   24.000 | 2 | 0.2 |    -2.7000 | 201707 |\n",
       "| 9877 | US-2017-166324 | 2017-04-20 | 2017-04-21 | First Class    | BE-11455 | Brad Eason         | Home Office | United States | Cleveland     | ... | East    | OFF-ST-10000078 | Office Supplies | Storage     | Tennsco 6- and 18-Compartment Lockers                                                           |  848.544 | 4 | 0.2 |   -21.2136 | 201704 |\n",
       "| 6724 | US-2017-166394 | 2017-09-04 | 2017-09-06 | Second Class   | VM-21835 | Vivian Mathis      | Consumer    | United States | Nashua        | ... | East    | OFF-FA-10001843 | Office Supplies | Fasteners   | Staples                                                                                         |   14.820 | 6 | 0.0 |     6.9654 | 201709 |\n",
       "| 1880 | US-2017-166611 | 2017-03-28 | 2017-04-02 | Standard Class | CK-12760 | Cyma Kinney        | Corporate   | United States | Jacksonville  | ... | South   | OFF-BI-10001191 | Office Supplies | Binders     | Canvas Sectional Post Binders                                                                   |   68.742 | 9 | 0.7 |   -48.1194 | 201703 |\n",
       "| 9143 | US-2017-166688 | 2017-05-20 | 2017-05-26 | Standard Class | RD-19480 | Rick Duston        | Consumer    | United States | Las Vegas     | ... | West    | OFF-BI-10004040 | Office Supplies | Binders     | Wilson Jones Impact Binders                                                                     |    8.288 | 2 | 0.2 |     3.0044 | 201705 |\n",
       "| 8302 | US-2017-167318 | 2017-07-26 | 2017-08-01 | Standard Class | GZ-14545 | George Zrebassa    | Corporate   | United States | Los Angeles   | ... | West    | TEC-AC-10003870 | Technology      | Accessories | LogitechÂ Z-906 Speaker sys - home theater - 5.1-CH                                             | 1649.950 | 5 | 0.0 |   659.9800 | 201707 |\n",
       "| 6619 | US-2017-167402 | 2017-01-13 | 2017-01-18 | Second Class   | CP-12085 | Cathy Prescott     | Corporate   | United States | Springfield   | ... | Central | OFF-PA-10004983 | Office Supplies | Paper       | Xerox 23                                                                                        |   32.400 | 5 | 0.0 |    15.5520 | 201701 |\n",
       "| 8109 | US-2017-167570 | 2017-12-08 | 2017-12-15 | Standard Class | EG-13900 | Emily Grady        | Consumer    | United States | Philadelphia  | ... | East    | FUR-CH-10003396 | Furniture       | Chairs      | Global Deluxe Steno Chair                                                                       |  215.544 | 4 | 0.3 |   -58.5048 | 201712 |\n",
       "| 7515 | US-2017-167920 | 2017-12-09 | 2017-12-12 | Second Class   | JL-15835 | John Lee           | Consumer    | United States | Richmond      | ... | South   | OFF-BI-10004236 | Office Supplies | Binders     | XtraLife ClearVue Slant-D Ring Binder, White, 3\"                                                |   29.360 | 2 | 0.0 |    13.5056 | 201712 |\n",
       "|  684 | US-2017-168116 | 2017-11-04 | 2017-11-04 | Same Day       | GT-14635 | Grant Thornton     | Corporate   | United States | Burlington    | ... | South   | TEC-MA-10004125 | Technology      | Machines    | Cubify CubeX 3D Printer Triple Head Print                                                       | 7999.980 | 4 | 0.5 | -3839.9904 | 201711 |\n",
       "| 7171 | US-2017-168613 | 2017-10-08 | 2017-10-14 | Standard Class | GM-14440 | Gary McGarr        | Consumer    | United States | New York City | ... | East    | FUR-CH-10002372 | Furniture       | Chairs      | Office Star - Ergonomically Designed Knee Chair                                                 |  145.764 | 2 | 0.1 |     3.2392 | 201710 |\n",
       "| 2121 | US-2017-168690 | 2017-01-07 | 2017-01-13 | Standard Class | TS-21085 | Thais Sissman      | Consumer    | United States | Ormond Beach  | ... | South   | OFF-BI-10000145 | Office Supplies | Binders     | Zipper Ring Binder Pockets                                                                      |    2.808 | 3 | 0.7 |    -1.9656 | 201701 |\n",
       "| 8294 | US-2017-168802 | 2017-11-03 | 2017-11-07 | Standard Class | JO-15145 | Jack O'Briant      | Corporate   | United States | Seattle       | ... | West    | OFF-BI-10002393 | Office Supplies | Binders     | Binder Posts                                                                                    |   18.368 | 4 | 0.2 |     5.9696 | 201711 |\n",
       "| 4373 | US-2017-169320 | 2017-07-23 | 2017-07-25 | Second Class   | LH-16900 | Lena Hernandez     | Consumer    | United States | Elkhart       | ... | Central | OFF-AR-10003602 | Office Supplies | Art         | Quartet Omega Colored Chalk, 12/Pack                                                            |   11.680 | 2 | 0.0 |     5.4896 | 201707 |\n",
       "| 9539 | US-2017-169488 | 2017-09-07 | 2017-09-09 | First Class    | AA-10375 | Allen Armold       | Consumer    | United States | Providence    | ... | East    | OFF-PA-10002659 | Office Supplies | Paper       | Avoid Verbal Orders Carbonless Minifold Book                                                    |   16.900 | 5 | 0.0 |     7.7740 | 201709 |\n",
       "| 4598 | US-2017-169502 | 2017-08-28 | 2017-09-01 | Standard Class | MG-17650 | Matthew Grinstein  | Home Office | United States | Milwaukee     | ... | Central | OFF-SU-10004115 | Office Supplies | Supplies    | Acme Stainless Steel Office Snips                                                               |   21.810 | 3 | 0.0 |     5.8887 | 201708 |\n",
       "| 5930 | US-2017-169551 | 2017-07-07 | 2017-07-09 | First Class    | RL-19615 | Rob Lucas          | Consumer    | United States | Philadelphia  | ... | East    | FUR-BO-10001519 | Furniture       | Bookcases   | O'Sullivan 3-Shelf Heavy-Duty Bookcases                                                         |   87.210 | 3 | 0.5 |   -45.3492 | 201707 |\n",
       "\n"
      ],
      "text/plain": [
       "     ï..Row.ID Order.ID       Order.Date Ship.Date \n",
       "1    2718      CA-2014-100006 2014-09-07 2014-09-13\n",
       "2    6288      CA-2014-100090 2014-07-08 2014-07-12\n",
       "3    9515      CA-2014-100293 2014-03-14 2014-03-18\n",
       "4    3084      CA-2014-100328 2014-01-28 2014-02-03\n",
       "5    3836      CA-2014-100363 2014-04-08 2014-04-15\n",
       "6    9441      CA-2014-100391 2014-05-25 2014-05-29\n",
       "7    6569      CA-2014-100678 2014-04-18 2014-04-22\n",
       "8    9020      CA-2014-100706 2014-12-16 2014-12-18\n",
       "9    6315      CA-2014-100762 2014-11-24 2014-11-29\n",
       "10   9660      CA-2014-100860 2014-03-26 2014-03-30\n",
       "11   9462      CA-2014-100867 2014-10-19 2014-10-24\n",
       "12   8464      CA-2014-100881 2014-03-28 2014-04-01\n",
       "13   3888      CA-2014-100895 2014-06-02 2014-06-06\n",
       "14   7572      CA-2014-100916 2014-10-21 2014-10-26\n",
       "15   7868      CA-2014-100972 2014-11-19 2014-11-24\n",
       "16   6252      CA-2014-101147 2014-12-02 2014-12-04\n",
       "17   4565      CA-2014-101175 2014-12-09 2014-12-14\n",
       "18   6170      CA-2014-101266 2014-08-27 2014-08-30\n",
       "19   9724      CA-2014-101364 2014-12-22 2014-12-26\n",
       "20   8091      CA-2014-101392 2014-12-07 2014-12-13\n",
       "21   8690      CA-2014-101427 2014-12-26 2014-12-30\n",
       "22   6850      CA-2014-101462 2014-04-20 2014-04-25\n",
       "23    428      CA-2014-101476 2014-09-12 2014-09-13\n",
       "24   5193      CA-2014-101560 2014-11-28 2014-12-01\n",
       "25   1575      CA-2014-101602 2014-12-15 2014-12-18\n",
       "26   5480      CA-2014-101770 2014-03-31 2014-04-04\n",
       "27   9461      CA-2014-101833 2014-11-17 2014-11-22\n",
       "28   3843      CA-2014-101931 2014-10-28 2014-10-31\n",
       "29   1791      CA-2014-102008 2014-09-30 2014-10-04\n",
       "30   4948      CA-2014-102085 2014-10-04 2014-10-09\n",
       "...  ...       ...            ...        ...       \n",
       "4980 6853      US-2017-162670 2017-12-23 2017-12-28\n",
       "4981 4362      US-2017-163195 2017-02-17 2017-02-21\n",
       "4982 5991      US-2017-163300 2017-09-15 2017-09-21\n",
       "4983 7440      US-2017-163657 2017-09-02 2017-09-06\n",
       "4984 4585      US-2017-163790 2017-11-02 2017-11-04\n",
       "4985 1728      US-2017-164056 2017-04-29 2017-05-04\n",
       "4986  131      US-2017-164147 2017-02-02 2017-02-05\n",
       "4987 2628      US-2017-165344 2017-11-13 2017-11-15\n",
       "4988 7043      US-2017-165358 2017-07-18 2017-07-23\n",
       "4989 9289      US-2017-165456 2017-11-30 2017-12-03\n",
       "4990 6691      US-2017-165869 2017-07-31 2017-08-05\n",
       "4991 4613      US-2017-165953 2016-12-31 2017-01-06\n",
       "4992 6778      US-2017-166037 2017-01-28 2017-02-01\n",
       "4993 7870      US-2017-166233 2017-07-03 2017-07-09\n",
       "4994 9877      US-2017-166324 2017-04-20 2017-04-21\n",
       "4995 6724      US-2017-166394 2017-09-04 2017-09-06\n",
       "4996 1880      US-2017-166611 2017-03-28 2017-04-02\n",
       "4997 9143      US-2017-166688 2017-05-20 2017-05-26\n",
       "4998 8302      US-2017-167318 2017-07-26 2017-08-01\n",
       "4999 6619      US-2017-167402 2017-01-13 2017-01-18\n",
       "5000 8109      US-2017-167570 2017-12-08 2017-12-15\n",
       "5001 7515      US-2017-167920 2017-12-09 2017-12-12\n",
       "5002  684      US-2017-168116 2017-11-04 2017-11-04\n",
       "5003 7171      US-2017-168613 2017-10-08 2017-10-14\n",
       "5004 2121      US-2017-168690 2017-01-07 2017-01-13\n",
       "5005 8294      US-2017-168802 2017-11-03 2017-11-07\n",
       "5006 4373      US-2017-169320 2017-07-23 2017-07-25\n",
       "5007 9539      US-2017-169488 2017-09-07 2017-09-09\n",
       "5008 4598      US-2017-169502 2017-08-28 2017-09-01\n",
       "5009 5930      US-2017-169551 2017-07-07 2017-07-09\n",
       "     Ship.Mode      Customer.ID Customer.Name     \n",
       "1    Standard Class DK-13375    Dennis Kane       \n",
       "2    Standard Class EB-13705    Ed Braxton        \n",
       "3    Standard Class NF-18475    Neil FranzÃ¶sisch \n",
       "4    Standard Class JC-15340    Jasper Cacioppo   \n",
       "5    Standard Class JM-15655    Jim Mitchum       \n",
       "6    Standard Class BW-11065    Barry Weirich     \n",
       "7    Standard Class KM-16720    Kunst Miller      \n",
       "8    Second Class   LE-16810    Laurel Elliston   \n",
       "9    Standard Class NG-18355    Nat Gilpin        \n",
       "10   Second Class   CS-12505    Cindy Stewart     \n",
       "11   Standard Class EH-14125    Eugene Hildebrand \n",
       "12   Standard Class DR-12940    Daniel Raglin     \n",
       "13   Standard Class SV-20785    Stewart Visinsky  \n",
       "14   Standard Class FH-14275    Frank Hawley      \n",
       "15   Second Class   DB-13360    Dennis Bolton     \n",
       "16   First Class    MC-17575    Matt Collins      \n",
       "17   Standard Class DM-12955    Dario Medina      \n",
       "18   Second Class   MM-17920    Michael Moore     \n",
       "19   Standard Class TW-21025    Tamara Willingham \n",
       "20   Standard Class AS-10630    Ann Steele        \n",
       "21   Standard Class AY-10555    Andy Yotov        \n",
       "22   Standard Class BP-11230    Benjamin Patterson\n",
       "23   First Class    SD-20485    Shirley Daniels   \n",
       "24   Second Class   CS-12250    Chris Selesnick   \n",
       "25   First Class    MC-18100    Mick Crebagga     \n",
       "26   Standard Class KB-16240    Karen Bern        \n",
       "27   Second Class   FG-14260    Frank Gastineau   \n",
       "28   First Class    TS-21370    Todd Sumrall      \n",
       "29   Standard Class RA-19915    Russell Applegate \n",
       "30   Standard Class JD-16015    Joy Daniels       \n",
       "...  ...            ...         ...               \n",
       "4980 Second Class   MF-18250    Monica Federle    \n",
       "4981 Second Class   LL-16840    Lauren Leatherbury\n",
       "4982 Standard Class ES-14020    Erica Smith       \n",
       "4983 Standard Class JL-15235    Janet Lee         \n",
       "4984 Second Class   NL-18310    Nancy Lomonaco    \n",
       "4985 Second Class   FM-14215    Filia McAdams     \n",
       "4986 First Class    DW-13585    Dorothy Wardle    \n",
       "4987 First Class    SB-20290    Sean Braxton      \n",
       "4988 Standard Class SV-20365    Seth Vernon       \n",
       "4989 First Class    TB-21625    Trudy Brown       \n",
       "4990 Standard Class LS-17200    Luke Schmidt      \n",
       "4991 Standard Class EP-13915    Emily Phan        \n",
       "4992 Standard Class CL-12700    Craig Leslie      \n",
       "4993 Standard Class MO-17950    Michael Oakman    \n",
       "4994 First Class    BE-11455    Brad Eason        \n",
       "4995 Second Class   VM-21835    Vivian Mathis     \n",
       "4996 Standard Class CK-12760    Cyma Kinney       \n",
       "4997 Standard Class RD-19480    Rick Duston       \n",
       "4998 Standard Class GZ-14545    George Zrebassa   \n",
       "4999 Second Class   CP-12085    Cathy Prescott    \n",
       "5000 Standard Class EG-13900    Emily Grady       \n",
       "5001 Second Class   JL-15835    John Lee          \n",
       "5002 Same Day       GT-14635    Grant Thornton    \n",
       "5003 Standard Class GM-14440    Gary McGarr       \n",
       "5004 Standard Class TS-21085    Thais Sissman     \n",
       "5005 Standard Class JO-15145    Jack O'Briant     \n",
       "5006 Second Class   LH-16900    Lena Hernandez    \n",
       "5007 First Class    AA-10375    Allen Armold      \n",
       "5008 Standard Class MG-17650    Matthew Grinstein \n",
       "5009 First Class    RL-19615    Rob Lucas         \n",
       "     Segment     Country       City           ... Region \n",
       "1    Consumer    United States New York City  ... East   \n",
       "2    Corporate   United States San Francisco  ... West   \n",
       "3    Home Office United States Jacksonville   ... South  \n",
       "4    Consumer    United States New York City  ... East   \n",
       "5    Corporate   United States Glendale       ... West   \n",
       "6    Consumer    United States New York City  ... East   \n",
       "7    Consumer    United States Houston        ... Central\n",
       "8    Consumer    United States Springfield    ... South  \n",
       "9    Corporate   United States Jackson        ... Central\n",
       "10   Consumer    United States Pomona         ... West   \n",
       "11   Home Office United States Lakewood       ... West   \n",
       "12   Home Office United States Albuquerque    ... West   \n",
       "13   Consumer    United States Roswell        ... South  \n",
       "14   Corporate   United States Newport News   ... South  \n",
       "15   Home Office United States Salt Lake City ... West   \n",
       "16   Consumer    United States Chicago        ... Central\n",
       "17   Corporate   United States Mesa           ... West   \n",
       "18   Consumer    United States Springfield    ... South  \n",
       "19   Home Office United States New York City  ... East   \n",
       "20   Home Office United States Seattle        ... West   \n",
       "21   Corporate   United States Philadelphia   ... East   \n",
       "22   Consumer    United States Los Angeles    ... West   \n",
       "23   Home Office United States New Rochelle   ... East   \n",
       "24   Corporate   United States Columbia       ... South  \n",
       "25   Consumer    United States El Paso        ... Central\n",
       "26   Corporate   United States Miami          ... South  \n",
       "27   Home Office United States New York City  ... East   \n",
       "28   Corporate   United States Los Angeles    ... West   \n",
       "29   Consumer    United States New York City  ... East   \n",
       "30   Consumer    United States Seattle        ... West   \n",
       "...  ...         ...           ...                ...    \n",
       "4980 Corporate   United States Little Rock    ... South  \n",
       "4981 Consumer    United States Lafayette      ... South  \n",
       "4982 Consumer    United States Los Angeles    ... West   \n",
       "4983 Consumer    United States Los Angeles    ... West   \n",
       "4984 Home Office United States Danville       ... West   \n",
       "4985 Corporate   United States Dublin         ... East   \n",
       "4986 Corporate   United States Columbus       ... East   \n",
       "4987 Corporate   United States Springfield    ... East   \n",
       "4988 Consumer    United States Philadelphia   ... East   \n",
       "4989 Consumer    United States Philadelphia   ... East   \n",
       "4990 Corporate   United States Milwaukee      ... Central\n",
       "4991 Consumer    United States Jacksonville   ... South  \n",
       "4992 Home Office United States New York City  ... East   \n",
       "4993 Consumer    United States Jacksonville   ... South  \n",
       "4994 Home Office United States Cleveland      ... East   \n",
       "4995 Consumer    United States Nashua         ... East   \n",
       "4996 Corporate   United States Jacksonville   ... South  \n",
       "4997 Consumer    United States Las Vegas      ... West   \n",
       "4998 Corporate   United States Los Angeles    ... West   \n",
       "4999 Corporate   United States Springfield    ... Central\n",
       "5000 Consumer    United States Philadelphia   ... East   \n",
       "5001 Consumer    United States Richmond       ... South  \n",
       "5002 Corporate   United States Burlington     ... South  \n",
       "5003 Consumer    United States New York City  ... East   \n",
       "5004 Consumer    United States Ormond Beach   ... South  \n",
       "5005 Corporate   United States Seattle        ... West   \n",
       "5006 Consumer    United States Elkhart        ... Central\n",
       "5007 Consumer    United States Providence     ... East   \n",
       "5008 Home Office United States Milwaukee      ... Central\n",
       "5009 Consumer    United States Philadelphia   ... East   \n",
       "     Product.ID      Category        Sub.Category\n",
       "1    TEC-PH-10002075 Technology      Phones      \n",
       "2    FUR-TA-10003715 Furniture       Tables      \n",
       "3    OFF-PA-10000176 Office Supplies Paper       \n",
       "4    OFF-BI-10000343 Office Supplies Binders     \n",
       "5    OFF-FA-10000611 Office Supplies Fasteners   \n",
       "6    OFF-PA-10001471 Office Supplies Paper       \n",
       "7    OFF-AR-10001868 Office Supplies Art         \n",
       "8    TEC-AC-10001314 Technology      Accessories \n",
       "9    OFF-AR-10000380 Office Supplies Art         \n",
       "10   OFF-LA-10001982 Office Supplies Labels      \n",
       "11   TEC-PH-10004922 Technology      Phones      \n",
       "12   TEC-PH-10003273 Technology      Phones      \n",
       "13   OFF-AR-10004511 Office Supplies Art         \n",
       "14   OFF-ST-10003479 Office Supplies Storage     \n",
       "15   OFF-PA-10000357 Office Supplies Paper       \n",
       "16   OFF-AP-10004249 Office Supplies Appliances  \n",
       "17   OFF-ST-10004950 Office Supplies Storage     \n",
       "18   OFF-PA-10002986 Office Supplies Paper       \n",
       "19   OFF-BI-10003984 Office Supplies Binders     \n",
       "20   OFF-ST-10000532 Office Supplies Storage     \n",
       "21   OFF-AR-10002257 Office Supplies Art         \n",
       "22   FUR-FU-10000409 Furniture       Furnishings \n",
       "23   TEC-MA-10000029 Technology      Machines    \n",
       "24   FUR-FU-10003773 Furniture       Furnishings \n",
       "25   TEC-PH-10000169 Technology      Phones      \n",
       "26   OFF-BI-10001097 Office Supplies Binders     \n",
       "27   OFF-PA-10003591 Office Supplies Paper       \n",
       "28   OFF-BI-10004140 Office Supplies Binders     \n",
       "29   OFF-PA-10004092 Office Supplies Paper       \n",
       "30   OFF-LA-10002475 Office Supplies Labels      \n",
       "...  ...             ...             ...         \n",
       "4980 OFF-ST-10001328 Office Supplies Storage     \n",
       "4981 TEC-PH-10003875 Technology      Phones      \n",
       "4982 OFF-BI-10004390 Office Supplies Binders     \n",
       "4983 OFF-BI-10000138 Office Supplies Binders     \n",
       "4984 OFF-EN-10001335 Office Supplies Envelopes   \n",
       "4985 FUR-TA-10001307 Furniture       Tables      \n",
       "4986 TEC-PH-10002293 Technology      Phones      \n",
       "4987 TEC-AC-10002399 Technology      Accessories \n",
       "4988 TEC-CO-10001943 Technology      Copiers     \n",
       "4989 FUR-CH-10003981 Furniture       Chairs      \n",
       "4990 OFF-BI-10003460 Office Supplies Binders     \n",
       "4991 OFF-AR-10000588 Office Supplies Art         \n",
       "4992 TEC-AC-10002800 Technology      Accessories \n",
       "4993 TEC-AC-10002167 Technology      Accessories \n",
       "4994 OFF-ST-10000078 Office Supplies Storage     \n",
       "4995 OFF-FA-10001843 Office Supplies Fasteners   \n",
       "4996 OFF-BI-10001191 Office Supplies Binders     \n",
       "4997 OFF-BI-10004040 Office Supplies Binders     \n",
       "4998 TEC-AC-10003870 Technology      Accessories \n",
       "4999 OFF-PA-10004983 Office Supplies Paper       \n",
       "5000 FUR-CH-10003396 Furniture       Chairs      \n",
       "5001 OFF-BI-10004236 Office Supplies Binders     \n",
       "5002 TEC-MA-10004125 Technology      Machines    \n",
       "5003 FUR-CH-10002372 Furniture       Chairs      \n",
       "5004 OFF-BI-10000145 Office Supplies Binders     \n",
       "5005 OFF-BI-10002393 Office Supplies Binders     \n",
       "5006 OFF-AR-10003602 Office Supplies Art         \n",
       "5007 OFF-PA-10002659 Office Supplies Paper       \n",
       "5008 OFF-SU-10004115 Office Supplies Supplies    \n",
       "5009 FUR-BO-10001519 Furniture       Bookcases   \n",
       "     Product.Name                                                                                   \n",
       "1    AT&T EL51110 DECT                                                                              \n",
       "2    Hon 2111 Invitation Series Corner Table                                                        \n",
       "3    Xerox 1887                                                                                     \n",
       "4    Pressboard Covers with Storage Hooks, 9 1/2\" x 11\", Light Blue                                 \n",
       "5    Binder Clips by OIC                                                                            \n",
       "6    Strathmore Photo Frame Cards                                                                   \n",
       "7    Prang Dustless Chalk Sticks                                                                    \n",
       "8    Case Logic 2.4GHz Wireless Keyboard                                                            \n",
       "9    Hunt PowerHouse Electric Pencil Sharpener, Blue                                                \n",
       "10   Smead Alpha-Z Color-Coded Name Labels First Letter Starter Set                                 \n",
       "11   RCA Visys Integrated PBX 8-Line Router                                                         \n",
       "12   AT&T TR1909W                                                                                   \n",
       "13   Sanford Colorific Scented Colored Pencils, 12/Pack                                             \n",
       "14   Eldon Base for stackable storage shelf, platinum                                               \n",
       "15   Xerox 1888                                                                                     \n",
       "16   Staple holder                                                                                  \n",
       "17   Acco Perma 3000 Stacking Storage Drawers                                                       \n",
       "18   Xerox 1898                                                                                     \n",
       "19   Lock-Up Easel 'Spel-Binder'                                                                    \n",
       "20   Advantus Rolling Drawer Organizers                                                             \n",
       "21   Eldon Spacemaker Box, Quick-Snap Lid, Clear                                                    \n",
       "22   GE 4 Foot Flourescent Tube, 40 Watt                                                            \n",
       "23   Epson WorkForce WF-2530 All-in-One Printer, Copier Scanner                                     \n",
       "24   Eldon Cleatmat Plus Chair Mats for High Pile Carpets                                           \n",
       "25   ARKON Windshield Dashboard Air Vent Car Mount Holder                                           \n",
       "26   Avery Hole Reinforcements                                                                      \n",
       "27   Southworth 100% Cotton The Best Paper                                                          \n",
       "28   Avery Non-Stick Binders                                                                        \n",
       "29   Tops Green Bar Computer Printout Paper                                                         \n",
       "30   Avery 519                                                                                      \n",
       "...  ...                                                                                            \n",
       "4980 Personal Filing Tote with Lid, Black/Gray                                                      \n",
       "4981 KLD Oscar II Style Snap-on Ultra Thin Side Flip Synthetic Leather Cover Case for HTC One HTC M7\n",
       "4982 GBC DocuBind 200 Manual Binding Machine                                                        \n",
       "4983 Acco Translucent Poly Ring Binders                                                             \n",
       "4984 White Business Envelopes with Contemporary Seam, Recycled White Business Envelopes             \n",
       "4985 SAFCO PlanMaster Heigh-Adjustable Drafting Table Base, 43w x 30d x 30-37h, Black               \n",
       "4986 Anker 36W 4-Port USB Wall Charger Travel Power Adapter for iPhone 5s 5c 5                      \n",
       "4987 SanDisk Cruzer 32 GB USB Flash Drive                                                           \n",
       "4988 Canon PC-428 Personal Copier                                                                   \n",
       "4989 Global Commerce Series Low-Back Swivel/Tilt Chairs                                             \n",
       "4990 Acco 3-Hole Punch                                                                              \n",
       "4991 Newell 345                                                                                     \n",
       "4992 Plantronics Audio 478 Stereo USB Headset                                                       \n",
       "4993 ImationÂ 8gb Micro Traveldrive Usb 2.0Â Flash Drive                                            \n",
       "4994 Tennsco 6- and 18-Compartment Lockers                                                          \n",
       "4995 Staples                                                                                        \n",
       "4996 Canvas Sectional Post Binders                                                                  \n",
       "4997 Wilson Jones Impact Binders                                                                    \n",
       "4998 LogitechÂ Z-906 Speaker sys - home theater - 5.1-CH                                            \n",
       "4999 Xerox 23                                                                                       \n",
       "5000 Global Deluxe Steno Chair                                                                      \n",
       "5001 XtraLife ClearVue Slant-D Ring Binder, White, 3\"                                               \n",
       "5002 Cubify CubeX 3D Printer Triple Head Print                                                      \n",
       "5003 Office Star - Ergonomically Designed Knee Chair                                                \n",
       "5004 Zipper Ring Binder Pockets                                                                     \n",
       "5005 Binder Posts                                                                                   \n",
       "5006 Quartet Omega Colored Chalk, 12/Pack                                                           \n",
       "5007 Avoid Verbal Orders Carbonless Minifold Book                                                   \n",
       "5008 Acme Stainless Steel Office Snips                                                              \n",
       "5009 O'Sullivan 3-Shelf Heavy-Duty Bookcases                                                        \n",
       "     Sales    Quantity Discount Profit     year_month\n",
       "1    377.970   3       0.0      109.6113   201409    \n",
       "2    502.488   3       0.2      -87.9354   201407    \n",
       "3     91.056   6       0.2       31.8696   201403    \n",
       "4      3.928   1       0.2        1.3257   201401    \n",
       "5      2.368   2       0.2        0.8288   201404    \n",
       "6     14.620   2       0.0        6.7252   201405    \n",
       "7      2.688   2       0.2        1.0080   201404    \n",
       "8     99.980   2       0.0        7.9984   201412    \n",
       "9    151.920   4       0.0       45.5760   201411    \n",
       "10    18.750   5       0.0        9.0000   201403    \n",
       "11   321.552   6       0.2       20.0970   201410    \n",
       "12   302.376   3       0.2       22.6782   201403    \n",
       "13     8.560   2       0.0        2.6536   201406    \n",
       "14   194.700   5       0.0        9.7350   201410    \n",
       "15   166.440   3       0.0       79.8912   201411    \n",
       "16     2.394   1       0.8       -6.3441   201412    \n",
       "17   100.704   6       0.2       -1.2588   201412    \n",
       "18    13.360   2       0.0        6.4128   201408    \n",
       "19   296.712  13       0.2      100.1403   201412    \n",
       "20   269.360   7       0.0       70.0336   201412    \n",
       "21     8.016   3       0.2        1.1022   201412    \n",
       "22    59.920   4       0.0       27.5632   201404    \n",
       "23    69.990   1       0.0       30.0957   201409    \n",
       "24   397.600   5       0.0       43.7360   201411    \n",
       "25    40.680   3       0.2       -9.1530   201412    \n",
       "26     1.869   1       0.7       -1.3083   201403    \n",
       "27    34.440   3       0.0       17.2200   201411    \n",
       "28     7.184   2       0.2        2.2450   201410    \n",
       "29    48.940   1       0.0       24.4700   201409    \n",
       "30    29.240   4       0.0       13.7428   201410    \n",
       "...  ...      ...      ...      ...        ...       \n",
       "4980   62.040 4        0.0         17.3712 201712    \n",
       "4981   29.160 3        0.0          8.4564 201702    \n",
       "4982 2357.488 7        0.2        884.0580 201709    \n",
       "4983   18.720 5        0.2          6.5520 201709    \n",
       "4984   76.580 7        0.0         38.2900 201711    \n",
       "4985 1048.350 5        0.4        -69.8900 201704    \n",
       "4986   59.970 5        0.4        -11.9940 201702    \n",
       "4987   60.864 4        0.2          9.1296 201711    \n",
       "4988  599.970 5        0.4         69.9965 201707    \n",
       "4989 1079.316 6        0.3        -15.4188 201711    \n",
       "4990   17.520 4        0.0          8.4096 201707    \n",
       "4991   47.616 3        0.2          3.5712 201612    \n",
       "4992  449.910 9        0.0        157.4685 201701    \n",
       "4993   24.000 2        0.2         -2.7000 201707    \n",
       "4994  848.544 4        0.2        -21.2136 201704    \n",
       "4995   14.820 6        0.0          6.9654 201709    \n",
       "4996   68.742 9        0.7        -48.1194 201703    \n",
       "4997    8.288 2        0.2          3.0044 201705    \n",
       "4998 1649.950 5        0.0        659.9800 201707    \n",
       "4999   32.400 5        0.0         15.5520 201701    \n",
       "5000  215.544 4        0.3        -58.5048 201712    \n",
       "5001   29.360 2        0.0         13.5056 201712    \n",
       "5002 7999.980 4        0.5      -3839.9904 201711    \n",
       "5003  145.764 2        0.1          3.2392 201710    \n",
       "5004    2.808 3        0.7         -1.9656 201701    \n",
       "5005   18.368 4        0.2          5.9696 201711    \n",
       "5006   11.680 2        0.0          5.4896 201707    \n",
       "5007   16.900 5        0.0          7.7740 201709    \n",
       "5008   21.810 3        0.0          5.8887 201708    \n",
       "5009   87.210 3        0.5        -45.3492 201707    "
      ]
     },
     "metadata": {},
     "output_type": "display_data"
    }
   ],
   "source": [
    "tsib"
   ]
  },
  {
   "cell_type": "code",
   "execution_count": null,
   "metadata": {
    "vscode": {
     "languageId": "r"
    }
   },
   "outputs": [
    {
     "name": "stdout",
     "output_type": "stream",
     "text": [
      "    ï..Row.ID      Order.ID    Order.Date     Ship.Date \n",
      "            0             0             0             0 \n",
      "    Ship.Mode   Customer.ID Customer.Name       Segment \n",
      "            0             0             0             0 \n",
      "      Country          City         State   Postal.Code \n",
      "            0             0             0             0 \n",
      "       Region    Product.ID      Category  Sub.Category \n",
      "            0             0             0             0 \n",
      " Product.Name         Sales      Quantity      Discount \n",
      "            0             0             0             0 \n",
      "       Profit \n",
      "            0 \n"
     ]
    }
   ],
   "source": [
    "# Count missing values in each column of the dataset\n",
    "missing_counts <- colSums(is.na(tsib))\n",
    "\n",
    "# Display the missing value counts\n",
    "print(missing_counts)"
   ]
  },
  {
   "cell_type": "code",
   "execution_count": null,
   "metadata": {
    "vscode": {
     "languageId": "r"
    }
   },
   "outputs": [
    {
     "name": "stderr",
     "output_type": "stream",
     "text": [
      "-- \u001b[1mAttaching core tidyverse packages\u001b[22m ---- tidyverse 2.0.0 --\n",
      "\u001b[32mv\u001b[39m \u001b[34mforcats\u001b[39m 1.0.0     \u001b[32mv\u001b[39m \u001b[34mreadr  \u001b[39m 2.1.4\n",
      "\u001b[32mv\u001b[39m \u001b[34mpurrr  \u001b[39m 1.0.1     \u001b[32mv\u001b[39m \u001b[34mstringr\u001b[39m 1.5.0\n",
      "-- \u001b[1mConflicts\u001b[22m ---------------------- tidyverse_conflicts() --\n",
      "\u001b[31mx\u001b[39m \u001b[34mpurrr\u001b[39m::\u001b[32m%@%()\u001b[39m          masks \u001b[34mrlang\u001b[39m::%@%()\n",
      "\u001b[31mx\u001b[39m \u001b[34mdplyr\u001b[39m::\u001b[32mfilter()\u001b[39m       masks \u001b[34mstats\u001b[39m::filter()\n",
      "\u001b[31mx\u001b[39m \u001b[34mpurrr\u001b[39m::\u001b[32mflatten()\u001b[39m      masks \u001b[34mrlang\u001b[39m::flatten()\n",
      "\u001b[31mx\u001b[39m \u001b[34mpurrr\u001b[39m::\u001b[32mflatten_chr()\u001b[39m  masks \u001b[34mrlang\u001b[39m::flatten_chr()\n",
      "\u001b[31mx\u001b[39m \u001b[34mpurrr\u001b[39m::\u001b[32mflatten_dbl()\u001b[39m  masks \u001b[34mrlang\u001b[39m::flatten_dbl()\n",
      "\u001b[31mx\u001b[39m \u001b[34mpurrr\u001b[39m::\u001b[32mflatten_int()\u001b[39m  masks \u001b[34mrlang\u001b[39m::flatten_int()\n",
      "\u001b[31mx\u001b[39m \u001b[34mpurrr\u001b[39m::\u001b[32mflatten_lgl()\u001b[39m  masks \u001b[34mrlang\u001b[39m::flatten_lgl()\n",
      "\u001b[31mx\u001b[39m \u001b[34mpurrr\u001b[39m::\u001b[32mflatten_raw()\u001b[39m  masks \u001b[34mrlang\u001b[39m::flatten_raw()\n",
      "\u001b[31mx\u001b[39m \u001b[34mlubridate\u001b[39m::\u001b[32minterval()\u001b[39m masks \u001b[34mtsibble\u001b[39m::interval()\n",
      "\u001b[31mx\u001b[39m \u001b[34mpurrr\u001b[39m::\u001b[32minvoke()\u001b[39m       masks \u001b[34mrlang\u001b[39m::invoke()\n",
      "\u001b[31mx\u001b[39m \u001b[34mdplyr\u001b[39m::\u001b[32mlag()\u001b[39m          masks \u001b[34mstats\u001b[39m::lag()\n",
      "\u001b[31mx\u001b[39m \u001b[34mpurrr\u001b[39m::\u001b[32msplice()\u001b[39m       masks \u001b[34mrlang\u001b[39m::splice()\n",
      "\u001b[36mi\u001b[39m Use the conflicted package (\u001b[3m\u001b[34m<http://conflicted.r-lib.org/>\u001b[39m\u001b[23m) to force all conflicts to become errors\n"
     ]
    }
   ],
   "source": [
    "library(tidyverse)"
   ]
  },
  {
   "cell_type": "code",
   "execution_count": null,
   "metadata": {
    "vscode": {
     "languageId": "r"
    }
   },
   "outputs": [
    {
     "name": "stderr",
     "output_type": "stream",
     "text": [
      "Warning message:\n",
      "\"5009 errors (1 unique) encountered for classical_decomposition(Sales, type = \"additive\")\n",
      "[5009] time series has no or less than 2 periods\n",
      "\"\n"
     ]
    },
    {
     "ename": "ERROR",
     "evalue": "\u001b[1m\u001b[33mError\u001b[39m in `transmute()`:\u001b[22m\n\u001b[1m\u001b[22m\u001b[36mi\u001b[39m In argument: `cmp = map(.fit, components)`.\n\u001b[1mCaused by error in `UseMethod()`:\u001b[22m\n\u001b[33m!\u001b[39m método não aplicável para 'components' aplicado a um objeto de classe \"null_mdl\"\n",
     "output_type": "error",
     "traceback": [
      "\u001b[1m\u001b[33mError\u001b[39m in `transmute()`:\u001b[22m\n\u001b[1m\u001b[22m\u001b[36mi\u001b[39m In argument: `cmp = map(.fit, components)`.\n\u001b[1mCaused by error in `UseMethod()`:\u001b[22m\n\u001b[33m!\u001b[39m método não aplicável para 'components' aplicado a um objeto de classe \"null_mdl\"\nTraceback:\n",
      "1. tsib %>% model(classical_decomposition(Sales, type = \"additive\")) %>% \n .     components() %>% autoplot()",
      "2. autoplot(.)",
      "3. components(.)",
      "4. components.mdl_df(.)",
      "5. transmute(as_tibble(object), !!!syms(kv), !!sym(\".model\"), cmp = map(!!sym(\".fit\"), \n .     components))",
      "6. transmute.data.frame(as_tibble(object), !!!syms(kv), !!sym(\".model\"), \n .     cmp = map(!!sym(\".fit\"), components))",
      "7. mutate_cols(.data, dots, by)",
      "8. withCallingHandlers(for (i in seq_along(dots)) {\n .     poke_error_context(dots, i, mask = mask)\n .     context_poke(\"column\", old_current_column)\n .     new_columns <- mutate_col(dots[[i]], data, mask, new_columns)\n . }, error = dplyr_error_handler(dots = dots, mask = mask, bullets = mutate_bullets, \n .     error_call = error_call, error_class = \"dplyr:::mutate_error\"), \n .     warning = dplyr_warning_handler(state = warnings_state, mask = mask, \n .         error_call = error_call))",
      "9. mutate_col(dots[[i]], data, mask, new_columns)",
      "10. mask$eval_all_mutate(quo)",
      "11. eval()",
      "12. map(.fit, components)",
      "13. lapply(.x, .f, ...)",
      "14. FUN(X[[i]], ...)",
      "15. components.mdl_ts(X[[i]], ...)",
      "16. components(object$fit, ...)",
      "17. .handleSimpleError(function (cnd) \n  . {\n  .     local_error_context(dots, i = frame[[i_sym]], mask = mask)\n  .     if (inherits(cnd, \"dplyr:::internal_error\")) {\n  .         parent <- error_cnd(message = bullets(cnd))\n  .     }\n  .     else {\n  .         parent <- cnd\n  .     }\n  .     message <- c(cnd_bullet_header(action), i = if (has_active_group_context(mask)) cnd_bullet_cur_group_label())\n  .     abort(message, class = error_class, parent = parent, call = error_call)\n  . }, \"método não aplicável para 'components' aplicado a um objeto de classe \\\"null_mdl\\\"\", \n  .     base::quote(UseMethod(\"components\")))",
      "18. h(simpleError(msg, call))",
      "19. abort(message, class = error_class, parent = parent, call = error_call)",
      "20. signal_abort(cnd, .file)"
     ]
    }
   ],
   "source": [
    "\n",
    "library(dplyr)\n",
    "library(lubridate)\n",
    "library(forecast)\n",
    "library(imputeTS)\n",
    "\n",
    "\n",
    "\n",
    "tsib %>% model(classical_decomposition(Sales, type = \"additive\")) %>% \n",
    "  components() %>%\n",
    "  autoplot() +\n",
    "  labs(title = \"Classical additive decomposition of Sales\")\n"
   ]
  },
  {
   "cell_type": "code",
   "execution_count": null,
   "metadata": {
    "vscode": {
     "languageId": "r"
    }
   },
   "outputs": [
    {
     "ename": "ERROR",
     "evalue": "Error in UseMethod(\"model\"): método não aplicável para 'model' aplicado a um objeto de classe \"c('tbl_df', 'tbl', 'data.frame')\"\n",
     "output_type": "error",
     "traceback": [
      "Error in UseMethod(\"model\"): método não aplicável para 'model' aplicado a um objeto de classe \"c('tbl_df', 'tbl', 'data.frame')\"\nTraceback:\n",
      "1. tsib_filled %>% model(classical_decomposition(Sales, type = \"additive\")) %>% \n .     components()",
      "2. components(.)",
      "3. model(., classical_decomposition(Sales, type = \"additive\"))"
     ]
    }
   ],
   "source": [
    "library(tidyverse)\n",
    "library(forecast)\n",
    "\n",
    "# create example time series data with missing values\n",
    "set.seed(123)\n",
    "tsib <- tibble(Date = seq(as.Date(\"2020-01-01\"), as.Date(\"2021-12-31\"), by = \"day\"),\n",
    "               Sales = sample(c(1:100, NA), size = length(Date), replace = TRUE))\n",
    "\n",
    "# fill missing values using tidyr\n",
    "tsib_filled <- tsib %>% \n",
    "  fill(Sales)\n",
    "\n",
    "# apply classical decomposition\n",
    "tsib_decomposed <- tsib_filled %>%\n",
    "  model(classical_decomposition(Sales, type = \"additive\")) %>% \n",
    "  components()\n",
    "\n",
    "# plot the decomposed components\n",
    "autoplot(tsib_decomposed, facets = TRUE) + labs(title = \"Classical additive decomposition of Sales\")\n"
   ]
  },
  {
   "cell_type": "code",
   "execution_count": null,
   "metadata": {
    "vscode": {
     "languageId": "r"
    }
   },
   "outputs": [
    {
     "ename": "ERROR",
     "evalue": "Error in fill_missing(.): não foi possível encontrar a função \"fill_missing\"\n",
     "output_type": "error",
     "traceback": [
      "Error in fill_missing(.): não foi possível encontrar a função \"fill_missing\"\nTraceback:\n",
      "1. tsib %>% fill_missing() %>% model(classical_decomposition(Sales, \n .     type = \"additive\"))",
      "2. model(., classical_decomposition(Sales, type = \"additive\"))"
     ]
    }
   ],
   "source": [
    "\n",
    "tsib_model <- tsib %>% \n",
    "  fill_missing() %>% \n",
    "  model(classical_decomposition(Sales, type = \"additive\"))\n",
    "\n",
    "tsib_components <- tsib_model %>% \n",
    "  components()\n",
    "\n",
    "tsib_components %>% \n",
    "  autoplot() +\n",
    "  labs(title = \"Classical additive decomposition of Sales\")\n"
   ]
  },
  {
   "cell_type": "code",
   "execution_count": null,
   "metadata": {
    "vscode": {
     "languageId": "r"
    }
   },
   "outputs": [
    {
     "name": "stderr",
     "output_type": "stream",
     "text": [
      "Warning message:\n",
      "\"5009 errors (1 unique) encountered for classical_decomposition(Sales, type = \"additive\")\n",
      "[5009] time series has no or less than 2 periods\n",
      "\"\n"
     ]
    },
    {
     "ename": "ERROR",
     "evalue": "\u001b[1m\u001b[33mError\u001b[39m in `transmute()`:\u001b[22m\n\u001b[1m\u001b[22m\u001b[36mi\u001b[39m In argument: `cmp = map(.fit, components)`.\n\u001b[1mCaused by error in `UseMethod()`:\u001b[22m\n\u001b[33m!\u001b[39m método não aplicável para 'components' aplicado a um objeto de classe \"null_mdl\"\n",
     "output_type": "error",
     "traceback": [
      "\u001b[1m\u001b[33mError\u001b[39m in `transmute()`:\u001b[22m\n\u001b[1m\u001b[22m\u001b[36mi\u001b[39m In argument: `cmp = map(.fit, components)`.\n\u001b[1mCaused by error in `UseMethod()`:\u001b[22m\n\u001b[33m!\u001b[39m método não aplicável para 'components' aplicado a um objeto de classe \"null_mdl\"\nTraceback:\n",
      "1. tsib %>% model(classical_decomposition(Sales, type = \"additive\")) %>% \n .     components()",
      "2. components(.)",
      "3. components.mdl_df(.)",
      "4. transmute(as_tibble(object), !!!syms(kv), !!sym(\".model\"), cmp = map(!!sym(\".fit\"), \n .     components))",
      "5. transmute.data.frame(as_tibble(object), !!!syms(kv), !!sym(\".model\"), \n .     cmp = map(!!sym(\".fit\"), components))",
      "6. mutate_cols(.data, dots, by)",
      "7. withCallingHandlers(for (i in seq_along(dots)) {\n .     poke_error_context(dots, i, mask = mask)\n .     context_poke(\"column\", old_current_column)\n .     new_columns <- mutate_col(dots[[i]], data, mask, new_columns)\n . }, error = dplyr_error_handler(dots = dots, mask = mask, bullets = mutate_bullets, \n .     error_call = error_call, error_class = \"dplyr:::mutate_error\"), \n .     warning = dplyr_warning_handler(state = warnings_state, mask = mask, \n .         error_call = error_call))",
      "8. mutate_col(dots[[i]], data, mask, new_columns)",
      "9. mask$eval_all_mutate(quo)",
      "10. eval()",
      "11. map(.fit, components)",
      "12. lapply(.x, .f, ...)",
      "13. FUN(X[[i]], ...)",
      "14. components.mdl_ts(X[[i]], ...)",
      "15. components(object$fit, ...)",
      "16. .handleSimpleError(function (cnd) \n  . {\n  .     local_error_context(dots, i = frame[[i_sym]], mask = mask)\n  .     if (inherits(cnd, \"dplyr:::internal_error\")) {\n  .         parent <- error_cnd(message = bullets(cnd))\n  .     }\n  .     else {\n  .         parent <- cnd\n  .     }\n  .     message <- c(cnd_bullet_header(action), i = if (has_active_group_context(mask)) cnd_bullet_cur_group_label())\n  .     abort(message, class = error_class, parent = parent, call = error_call)\n  . }, \"método não aplicável para 'components' aplicado a um objeto de classe \\\"null_mdl\\\"\", \n  .     base::quote(UseMethod(\"components\")))",
      "17. h(simpleError(msg, call))",
      "18. abort(message, class = error_class, parent = parent, call = error_call)",
      "19. signal_abort(cnd, .file)"
     ]
    }
   ],
   "source": [
    "\n",
    "library(forecast)\n",
    "library(imputeTS)\n",
    "\n",
    "# Fill missing values with the mean of the column\n",
    "#tsib_filled <- tsib %>%\n",
    " # mutate(Sales = imputeTS(Sales, method = \"mean\"))\n",
    "\n",
    "# decompose the time series\n",
    "tsib_decomposed <- tsib %>%\n",
    "  model(\n",
    "    classical_decomposition(Sales, type = \"additive\")\n",
    "  ) %>%\n",
    "  components()\n",
    "\n",
    "# plot the decomposed components\n",
    "tsib_decomposed %>%\n",
    "  autoplot() +\n",
    "  labs(title = \"Classical additive decomposition of Sales\")"
   ]
  },
  {
   "cell_type": "code",
   "execution_count": null,
   "metadata": {
    "vscode": {
     "languageId": "r"
    }
   },
   "outputs": [
    {
     "name": "stderr",
     "output_type": "stream",
     "text": [
      "Warning message:\n",
      "\"5009 errors (1 unique) encountered for classical_decomposition(Sales, type = \"additive\")\n",
      "[5009] time series has no or less than 2 periods\n",
      "\"\n"
     ]
    },
    {
     "ename": "ERROR",
     "evalue": "\u001b[1m\u001b[33mError\u001b[39m in `transmute()`:\u001b[22m\n\u001b[1m\u001b[22m\u001b[36mi\u001b[39m In argument: `cmp = map(.fit, components)`.\n\u001b[1mCaused by error in `UseMethod()`:\u001b[22m\n\u001b[33m!\u001b[39m método não aplicável para 'components' aplicado a um objeto de classe \"null_mdl\"\n",
     "output_type": "error",
     "traceback": [
      "\u001b[1m\u001b[33mError\u001b[39m in `transmute()`:\u001b[22m\n\u001b[1m\u001b[22m\u001b[36mi\u001b[39m In argument: `cmp = map(.fit, components)`.\n\u001b[1mCaused by error in `UseMethod()`:\u001b[22m\n\u001b[33m!\u001b[39m método não aplicável para 'components' aplicado a um objeto de classe \"null_mdl\"\nTraceback:\n",
      "1. tsib %>% model(classical_decomposition(Sales, type = \"additive\")) %>% \n .     components() %>% autoplot()",
      "2. autoplot(.)",
      "3. components(.)",
      "4. components.mdl_df(.)",
      "5. transmute(as_tibble(object), !!!syms(kv), !!sym(\".model\"), cmp = map(!!sym(\".fit\"), \n .     components))",
      "6. transmute.data.frame(as_tibble(object), !!!syms(kv), !!sym(\".model\"), \n .     cmp = map(!!sym(\".fit\"), components))",
      "7. mutate_cols(.data, dots, by)",
      "8. withCallingHandlers(for (i in seq_along(dots)) {\n .     poke_error_context(dots, i, mask = mask)\n .     context_poke(\"column\", old_current_column)\n .     new_columns <- mutate_col(dots[[i]], data, mask, new_columns)\n . }, error = dplyr_error_handler(dots = dots, mask = mask, bullets = mutate_bullets, \n .     error_call = error_call, error_class = \"dplyr:::mutate_error\"), \n .     warning = dplyr_warning_handler(state = warnings_state, mask = mask, \n .         error_call = error_call))",
      "9. mutate_col(dots[[i]], data, mask, new_columns)",
      "10. mask$eval_all_mutate(quo)",
      "11. eval()",
      "12. map(.fit, components)",
      "13. lapply(.x, .f, ...)",
      "14. FUN(X[[i]], ...)",
      "15. components.mdl_ts(X[[i]], ...)",
      "16. components(object$fit, ...)",
      "17. .handleSimpleError(function (cnd) \n  . {\n  .     local_error_context(dots, i = frame[[i_sym]], mask = mask)\n  .     if (inherits(cnd, \"dplyr:::internal_error\")) {\n  .         parent <- error_cnd(message = bullets(cnd))\n  .     }\n  .     else {\n  .         parent <- cnd\n  .     }\n  .     message <- c(cnd_bullet_header(action), i = if (has_active_group_context(mask)) cnd_bullet_cur_group_label())\n  .     abort(message, class = error_class, parent = parent, call = error_call)\n  . }, \"método não aplicável para 'components' aplicado a um objeto de classe \\\"null_mdl\\\"\", \n  .     base::quote(UseMethod(\"components\")))",
      "18. h(simpleError(msg, call))",
      "19. abort(message, class = error_class, parent = parent, call = error_call)",
      "20. signal_abort(cnd, .file)"
     ]
    }
   ],
   "source": [
    "tsib %>%\n",
    "  model(\n",
    "    classical_decomposition(Sales, type = \"additive\")\n",
    "  ) %>%\n",
    "  components() %>%\n",
    "  autoplot() +\n",
    "  labs(title = \"Classical additive decomposition of Sales\")"
   ]
  },
  {
   "cell_type": "code",
   "execution_count": null,
   "metadata": {
    "vscode": {
     "languageId": "r"
    }
   },
   "outputs": [
    {
     "name": "stderr",
     "output_type": "stream",
     "text": [
      "Warning message:\n",
      "\"Unknown or uninitialised column: `Year`.\"\n"
     ]
    },
    {
     "ename": "ERROR",
     "evalue": "\u001b[1m\u001b[33mError\u001b[39m in `$<-`:\u001b[22m\n\u001b[1m\u001b[22m\u001b[33m!\u001b[39m Assigned data `value` must be compatible with\n  existing data.\n\u001b[31mx\u001b[39m Existing data has 312 rows.\n\u001b[31mx\u001b[39m Assigned data has 0 rows.\n\u001b[36mi\u001b[39m Only vectors of size 1 are recycled.\n\u001b[1mCaused by error in `vectbl_recycle_rhs_rows()`:\u001b[22m\n\u001b[33m!\u001b[39m Can't recycle input of size 0 to size 312.\n",
     "output_type": "error",
     "traceback": [
      "\u001b[1m\u001b[33mError\u001b[39m in `$<-`:\u001b[22m\n\u001b[1m\u001b[22m\u001b[33m!\u001b[39m Assigned data `value` must be compatible with\n  existing data.\n\u001b[31mx\u001b[39m Existing data has 312 rows.\n\u001b[31mx\u001b[39m Assigned data has 0 rows.\n\u001b[36mi\u001b[39m Only vectors of size 1 are recycled.\n\u001b[1mCaused by error in `vectbl_recycle_rhs_rows()`:\u001b[22m\n\u001b[33m!\u001b[39m Can't recycle input of size 0 to size 312.\nTraceback:\n",
      "1. `$<-`(`*tmp*`, Year, value = character(0))",
      "2. `$<-.tbl_ts`(`*tmp*`, Year, value = character(0))",
      "3. NextMethod()",
      "4. `$<-.tbl_df`(`*tmp*`, Year, value = character(0))",
      "5. tbl_subassign(x, i = NULL, as_string(name), list(value), i_arg = NULL, \n .     j_arg = name, value_arg = substitute(value))",
      "6. vectbl_recycle_rhs_rows(value, fast_nrow(xo), i_arg = NULL, value_arg, \n .     call)",
      "7. withCallingHandlers(for (j in seq_along(value)) {\n .     if (!is.null(value[[j]])) {\n .         value[[j]] <- vec_recycle(value[[j]], nrow)\n .     }\n . }, vctrs_error_recycle_incompatible_size = function(cnd) {\n .     abort_assign_incompatible_size(nrow, value, j, i_arg, value_arg, \n .         cnd, call = call)\n . }, vctrs_error_scalar_type = function(cnd) {\n .     abort_assign_vector(value, j, value_arg, cnd, call = call)\n . })",
      "8. vec_recycle(value[[j]], nrow)",
      "9. stop_recycle_incompatible_size(x_size = 0L, size = 312L, x_arg = \"\", \n .     call = <environment>)",
      "10. stop_vctrs(x_size = x_size, y_size = size, x_arg = x_arg, class = c(\"vctrs_error_incompatible_size\", \n  .     \"vctrs_error_recycle_incompatible_size\"), call = call)",
      "11. abort(message, class = c(class, \"vctrs_error\"), ..., call = call)",
      "12. signal_abort(cnd, .file)",
      "13. signalCondition(cnd)",
      "14. (function (cnd) \n  . {\n  .     abort_assign_incompatible_size(nrow, value, j, i_arg, value_arg, \n  .         cnd, call = call)\n  . })(structure(list(message = \"\", trace = structure(list(call = list(\n  .     IRkernel::main(), kernel$run(), handle_shell(), executor$execute(msg), \n  .     tryCatch(evaluate(request$content$code, envir = .GlobalEnv, \n  .         output_handler = oh, stop_on_error = 1L), interrupt = function(cond) {\n  .         log_debug(\"Interrupt during execution\")\n  .         interrupted <<- TRUE\n  .     }, error = .self$handle_error), tryCatchList(expr, classes, \n  .         parentenv, handlers), tryCatchOne(tryCatchList(expr, \n  .         names[-nh], parentenv, handlers[-nh]), names[nh], parentenv, \n  .         handlers[[nh]]), doTryCatch(return(expr), name, parentenv, \n  .         handler), tryCatchList(expr, names[-nh], parentenv, handlers[-nh]), \n  .     tryCatchOne(expr, names, parentenv, handlers[[1L]]), doTryCatch(return(expr), \n  .         name, parentenv, handler), evaluate(request$content$code, \n  .         envir = .GlobalEnv, output_handler = oh, stop_on_error = 1L), \n  .     evaluate_call(expr, parsed$src[[i]], envir = envir, enclos = enclos, \n  .         debug = debug, last = i == length(out), use_try = stop_on_error != \n  .             2L, keep_warning = keep_warning, keep_message = keep_message, \n  .         output_handler = output_handler, include_timing = include_timing), \n  .     timing_fn(handle(ev <- withCallingHandlers(withVisible(eval_with_user_handlers(expr, \n  .         envir, enclos, user_handlers)), warning = wHandler, error = eHandler, \n  .         message = mHandler))), handle(ev <- withCallingHandlers(withVisible(eval_with_user_handlers(expr, \n  .         envir, enclos, user_handlers)), warning = wHandler, error = eHandler, \n  .         message = mHandler)), try(f, silent = TRUE), tryCatch(expr, \n  .         error = function(e) {\n  .             call <- conditionCall(e)\n  .             if (!is.null(call)) {\n  .                 if (identical(call[[1L]], quote(doTryCatch))) \n  .                   call <- sys.call(-4L)\n  .                 dcall <- deparse(call, nlines = 1L)\n  .                 prefix <- paste(\"Error in\", dcall, \": \")\n  .                 LONG <- 75L\n  .                 sm <- strsplit(conditionMessage(e), \"\\n\")[[1L]]\n  .                 w <- 14L + nchar(dcall, type = \"w\") + nchar(sm[1L], \n  .                   type = \"w\")\n  .                 if (is.na(w)) \n  .                   w <- 14L + nchar(dcall, type = \"b\") + nchar(sm[1L], \n  .                     type = \"b\")\n  .                 if (w > LONG) \n  .                   prefix <- paste0(prefix, \"\\n  \")\n  .             }\n  .             else prefix <- \"Error : \"\n  .             msg <- paste0(prefix, conditionMessage(e), \"\\n\")\n  .             .Internal(seterrmessage(msg[1L]))\n  .             if (!silent && isTRUE(getOption(\"show.error.messages\"))) {\n  .                 cat(msg, file = outFile)\n  .                 .Internal(printDeferredWarnings())\n  .             }\n  .             invisible(structure(msg, class = \"try-error\", condition = e))\n  .         }), tryCatchList(expr, classes, parentenv, handlers), \n  .     tryCatchOne(expr, names, parentenv, handlers[[1L]]), doTryCatch(return(expr), \n  .         name, parentenv, handler), withCallingHandlers(withVisible(eval_with_user_handlers(expr, \n  .         envir, enclos, user_handlers)), warning = wHandler, error = eHandler, \n  .         message = mHandler), withVisible(eval_with_user_handlers(expr, \n  .         envir, enclos, user_handlers)), eval_with_user_handlers(expr, \n  .         envir, enclos, user_handlers), eval(expr, envir, enclos), \n  .     eval(expr, envir, enclos), `$<-`(`*tmp*`, Year, value = `<chr>`), \n  .     `$<-.tbl_ts`(`*tmp*`, Year, value = `<chr>`), NextMethod(), \n  .     `$<-.tbl_df`(`*tmp*`, Year, value = `<chr>`), tbl_subassign(x, \n  .         i = NULL, as_string(name), list(value), i_arg = NULL, \n  .         j_arg = name, value_arg = substitute(value)), vectbl_recycle_rhs_rows(value, \n  .         fast_nrow(xo), i_arg = NULL, value_arg, call), withCallingHandlers(for (j in seq_along(value)) {\n  .         if (!is.null(value[[j]])) {\n  .             value[[j]] <- vec_recycle(value[[j]], nrow)\n  .         }\n  .     }, vctrs_error_recycle_incompatible_size = function(cnd) {\n  .         abort_assign_incompatible_size(nrow, value, j, i_arg, \n  .             value_arg, cnd, call = call)\n  .     }, vctrs_error_scalar_type = function(cnd) {\n  .         abort_assign_vector(value, j, value_arg, cnd, call = call)\n  .     }), vec_recycle(value[[j]], nrow), stop_recycle_incompatible_size(x_size = 0L, \n  .         size = 312L, x_arg = \"\", call = `<env>`), stop_vctrs(x_size = x_size, \n  .         y_size = size, x_arg = x_arg, class = c(\"vctrs_error_incompatible_size\", \n  .             \"vctrs_error_recycle_incompatible_size\"), call = call), \n  .     abort(message, class = c(class, \"vctrs_error\"), ..., call = call)), \n  .     parent = c(0L, 1L, 2L, 3L, 4L, 5L, 6L, 7L, 6L, 9L, 10L, 4L, \n  .     12L, 13L, 13L, 15L, 16L, 17L, 18L, 19L, 13L, 13L, 13L, 23L, \n  .     24L, 0L, 0L, 0L, 0L, 29L, 30L, 31L, 31L, 0L, 34L, 35L), visible = c(TRUE, \n  .     TRUE, TRUE, TRUE, TRUE, TRUE, TRUE, TRUE, TRUE, TRUE, TRUE, \n  .     TRUE, TRUE, TRUE, TRUE, TRUE, TRUE, TRUE, TRUE, TRUE, TRUE, \n  .     TRUE, TRUE, TRUE, TRUE, TRUE, TRUE, TRUE, TRUE, TRUE, TRUE, \n  .     FALSE, FALSE, FALSE, FALSE, FALSE), namespace = c(\"IRkernel\", \n  .     NA, \"IRkernel\", NA, \"base\", \"base\", \"base\", \"base\", \"base\", \n  .     \"base\", \"base\", \"evaluate\", \"evaluate\", \"evaluate\", \"evaluate\", \n  .     \"base\", \"base\", \"base\", \"base\", \"base\", \"base\", \"base\", \"evaluate\", \n  .     \"base\", \"base\", \"base\", \"tsibble\", \"base\", \"tibble\", \"tibble\", \n  .     \"tibble\", \"base\", \"vctrs\", \"vctrs\", \"vctrs\", \"rlang\"), scope = c(\"::\", \n  .     NA, \"local\", NA, \"::\", \"local\", \"local\", \"local\", \"local\", \n  .     \"local\", \"local\", \"::\", \":::\", \"local\", \"local\", \"::\", \"::\", \n  .     \"local\", \"local\", \"local\", \"::\", \"::\", \":::\", \"::\", \"::\", \n  .     \"::\", \":::\", \"::\", \":::\", \":::\", \":::\", \"::\", \"::\", \":::\", \n  .     \":::\", \"::\"), error_frame = c(FALSE, FALSE, FALSE, FALSE, \n  .     FALSE, FALSE, FALSE, FALSE, FALSE, FALSE, FALSE, FALSE, FALSE, \n  .     FALSE, FALSE, FALSE, FALSE, FALSE, FALSE, FALSE, FALSE, FALSE, \n  .     FALSE, FALSE, FALSE, FALSE, FALSE, FALSE, FALSE, FALSE, TRUE, \n  .     FALSE, FALSE, FALSE, FALSE, FALSE)), row.names = c(NA, -36L\n  . ), version = 2L, class = c(\"rlang_trace\", \"rlib_trace\", \"tbl\", \n  . \"data.frame\")), parent = NULL, x_size = 0L, y_size = 312L, x_arg = \"\", \n  .     rlang = list(inherit = TRUE), call = vectbl_recycle_rhs_rows(value, \n  .         fast_nrow(xo), i_arg = NULL, value_arg, call)), class = c(\"vctrs_error_incompatible_size\", \n  . \"vctrs_error_recycle_incompatible_size\", \"vctrs_error\", \"rlang_error\", \n  . \"error\", \"condition\")))",
      "15. abort_assign_incompatible_size(nrow, value, j, i_arg, value_arg, \n  .     cnd, call = call)",
      "16. tibble_abort(bullets(paste0(\"Assigned data \", tick(as_label(value_arg)), \n  .     \" must be compatible with \", target, \":\"), x = existing, \n  .     x = new, i = if (nrow != 1) \"Only vectors of size 1 are recycled\", \n  .     i = if (nrow == 1 && vec_size(value[[j]]) != 1) \"Row updates require a list value. Do you need `list()` or `as.list()`?\"), \n  .     expected = nrow, actual = vec_size(value[[j]]), j = j, parent = parent, \n  .     call = call)",
      "17. abort(x, class, ..., call = call, parent = parent, use_cli_format = TRUE)",
      "18. signal_abort(cnd, .file)"
     ]
    }
   ],
   "source": [
    "library(lubridate)\n",
    "\n",
    "# Convert Year column to year class\n",
    "tsib_monthly_filled$Year <- as.character(tsib_monthly_filled$Year)\n",
    "tsib_monthly_filled$Year <- ymd(paste0(tsib_monthly_filled$Year, \"-01-01\"))\n",
    "\n",
    "# Verify class of Year column\n",
    "class(tsib_monthly_filled$Year)\n"
   ]
  },
  {
   "cell_type": "code",
   "execution_count": null,
   "metadata": {
    "vscode": {
     "languageId": "r"
    }
   },
   "outputs": [
    {
     "name": "stderr",
     "output_type": "stream",
     "text": [
      "Warning message:\n",
      "\"1 error encountered for classical_decomposition(Sales, type = \"additive\")\n",
      "[1] time series has no or less than 2 periods\n",
      "\"\n"
     ]
    },
    {
     "ename": "ERROR",
     "evalue": "\u001b[1m\u001b[33mError\u001b[39m in `transmute()`:\u001b[22m\n\u001b[1m\u001b[22m\u001b[36mi\u001b[39m In argument: `cmp = map(.fit, components)`.\n\u001b[1mCaused by error in `UseMethod()`:\u001b[22m\n\u001b[33m!\u001b[39m método não aplicável para 'components' aplicado a um objeto de classe \"null_mdl\"\n",
     "output_type": "error",
     "traceback": [
      "\u001b[1m\u001b[33mError\u001b[39m in `transmute()`:\u001b[22m\n\u001b[1m\u001b[22m\u001b[36mi\u001b[39m In argument: `cmp = map(.fit, components)`.\n\u001b[1mCaused by error in `UseMethod()`:\u001b[22m\n\u001b[33m!\u001b[39m método não aplicável para 'components' aplicado a um objeto de classe \"null_mdl\"\nTraceback:\n",
      "1. tsib_monthly_filled %>% model(classical_decomposition(Sales, \n .     type = \"additive\")) %>% components() %>% autoplot()",
      "2. autoplot(.)",
      "3. components(.)",
      "4. components.mdl_df(.)",
      "5. transmute(as_tibble(object), !!!syms(kv), !!sym(\".model\"), cmp = map(!!sym(\".fit\"), \n .     components))",
      "6. transmute.data.frame(as_tibble(object), !!!syms(kv), !!sym(\".model\"), \n .     cmp = map(!!sym(\".fit\"), components))",
      "7. mutate_cols(.data, dots, by)",
      "8. withCallingHandlers(for (i in seq_along(dots)) {\n .     poke_error_context(dots, i, mask = mask)\n .     context_poke(\"column\", old_current_column)\n .     new_columns <- mutate_col(dots[[i]], data, mask, new_columns)\n . }, error = dplyr_error_handler(dots = dots, mask = mask, bullets = mutate_bullets, \n .     error_call = error_call, error_class = \"dplyr:::mutate_error\"), \n .     warning = dplyr_warning_handler(state = warnings_state, mask = mask, \n .         error_call = error_call))",
      "9. mutate_col(dots[[i]], data, mask, new_columns)",
      "10. mask$eval_all_mutate(quo)",
      "11. eval()",
      "12. map(.fit, components)",
      "13. lapply(.x, .f, ...)",
      "14. FUN(X[[i]], ...)",
      "15. components.mdl_ts(X[[i]], ...)",
      "16. components(object$fit, ...)",
      "17. .handleSimpleError(function (cnd) \n  . {\n  .     local_error_context(dots, i = frame[[i_sym]], mask = mask)\n  .     if (inherits(cnd, \"dplyr:::internal_error\")) {\n  .         parent <- error_cnd(message = bullets(cnd))\n  .     }\n  .     else {\n  .         parent <- cnd\n  .     }\n  .     message <- c(cnd_bullet_header(action), i = if (has_active_group_context(mask)) cnd_bullet_cur_group_label())\n  .     abort(message, class = error_class, parent = parent, call = error_call)\n  . }, \"método não aplicável para 'components' aplicado a um objeto de classe \\\"null_mdl\\\"\", \n  .     base::quote(UseMethod(\"components\")))",
      "18. h(simpleError(msg, call))",
      "19. abort(message, class = error_class, parent = parent, call = error_call)",
      "20. signal_abort(cnd, .file)"
     ]
    }
   ],
   "source": [
    "tsib_monthly_filled %>%\n",
    "  model(\n",
    "    classical_decomposition(Sales, type = \"additive\")\n",
    "  ) %>%\n",
    "  components() %>%\n",
    "  autoplot() +\n",
    "  labs(title = \"Classical additive decomposition of Sales\")"
   ]
  },
  {
   "cell_type": "code",
   "execution_count": null,
   "metadata": {
    "vscode": {
     "languageId": "r"
    }
   },
   "outputs": [],
   "source": [
    "# Decompor a série temporal de vendas em tendência, sazonalidade e erro\n",
    "#tsib_decomposed <- tsib %>%\n",
    "#  model(stl = STL(Sales))\n",
    "\n",
    "# Visualizar a decomposição da série temporal\n",
    "#plot(tsib_decomposed)\n"
   ]
  },
  {
   "cell_type": "code",
   "execution_count": null,
   "metadata": {
    "vscode": {
     "languageId": "r"
    }
   },
   "outputs": [
    {
     "ename": "ERROR",
     "evalue": "Error in stl(tsib_monthly$Sales): series is not periodic or has less than two periods\n",
     "output_type": "error",
     "traceback": [
      "Error in stl(tsib_monthly$Sales): series is not periodic or has less than two periods\nTraceback:\n",
      "1. stl(tsib_monthly$Sales)",
      "2. stop(\"series is not periodic or has less than two periods\")"
     ]
    }
   ],
   "source": [
    "# decompor a série temporal de vendas em tendência, sazonalidade e erro\n",
    "decomposed = stl(tsib_monthly$Sales)"
   ]
  },
  {
   "cell_type": "code",
   "execution_count": null,
   "metadata": {
    "vscode": {
     "languageId": "r"
    }
   },
   "outputs": [
    {
     "name": "stdout",
     "output_type": "stream",
     "text": [
      "Não há lacunas nos meses.\n"
     ]
    }
   ],
   "source": [
    "# Verificar se há lacunas\n",
    "missing_months <- tsib_monthly %>%\n",
    "  filter(is.na(Sales)) %>%\n",
    "  pull(year_month)\n",
    "if (length(missing_months) > 0) {\n",
    "  cat(\"Há lacunas nos seguintes meses:\\n\")\n",
    "  cat(missing_months, \"\\n\")\n",
    "} else {\n",
    "  cat(\"Não há lacunas nos meses.\\n\")\n",
    "}"
   ]
  },
  {
   "cell_type": "code",
   "execution_count": null,
   "metadata": {
    "vscode": {
     "languageId": "r"
    }
   },
   "outputs": [
    {
     "name": "stderr",
     "output_type": "stream",
     "text": [
      "Warning message:\n",
      "\"1 error encountered for stl\n",
      "[1] .data contains implicit gaps in time. You should check your data and convert implicit gaps into explicit missing values using `tsibble::fill_gaps()` if required.\n",
      "\"\n"
     ]
    },
    {
     "ename": "ERROR",
     "evalue": "\u001b[1m\u001b[33mError\u001b[39m in `autoplot()`:\u001b[22m\n\u001b[1m\u001b[22m\u001b[33m!\u001b[39m Objects of class \u001b[34m<mdl_df>\u001b[39m are not supported by autoplot.\n\u001b[36mi\u001b[39m have you loaded the required package?\n",
     "output_type": "error",
     "traceback": [
      "\u001b[1m\u001b[33mError\u001b[39m in `autoplot()`:\u001b[22m\n\u001b[1m\u001b[22m\u001b[33m!\u001b[39m Objects of class \u001b[34m<mdl_df>\u001b[39m are not supported by autoplot.\n\u001b[36mi\u001b[39m have you loaded the required package?\nTraceback:\n",
      "1. autoplot(tsib_decomp, facet = TRUE)",
      "2. autoplot.default(tsib_decomp, facet = TRUE)",
      "3. cli::cli_abort(c(\"Objects of class {.cls {class(object)[[1]]}} are not supported by autoplot.\", \n .     i = \"have you loaded the required package?\"))",
      "4. rlang::abort(message, ..., call = call, use_cli_format = TRUE, \n .     .frame = .frame)",
      "5. signal_abort(cnd, .file)"
     ]
    }
   ],
   "source": [
    "# Decompor a série temporal\n",
    "tsib_decomp <- tsib_monthly %>%\n",
    "  model(stl = STL(Sales))\n",
    "\n",
    "# Visualizar a decomposição\n",
    "autoplot(tsib_decomp, facet = TRUE) +\n",
    "  xlab(\"Mês\") +\n",
    "  ggtitle(\"Decomposição da série temporal\")\n"
   ]
  },
  {
   "cell_type": "code",
   "execution_count": null,
   "metadata": {
    "vscode": {
     "languageId": "r"
    }
   },
   "outputs": [],
   "source": [
    "tsib_monthly_filled <- tsib_monthly %>%\n",
    "  fill_gaps(Sales = 0)"
   ]
  },
  {
   "cell_type": "code",
   "execution_count": null,
   "metadata": {
    "vscode": {
     "languageId": "r"
    }
   },
   "outputs": [],
   "source": [
    "# Decompor a série temporal\n",
    "tsib_decomp <- tsib_monthly_filled %>%\n",
    "  model(stl = STL(Sales))\n"
   ]
  },
  {
   "cell_type": "code",
   "execution_count": null,
   "metadata": {
    "vscode": {
     "languageId": "r"
    }
   },
   "outputs": [
    {
     "ename": "ERROR",
     "evalue": "Error in decompose(tsib_monthly_filled$Sales): time series has no or less than 2 periods\n",
     "output_type": "error",
     "traceback": [
      "Error in decompose(tsib_monthly_filled$Sales): time series has no or less than 2 periods\nTraceback:\n",
      "1. decompose(tsib_monthly_filled$Sales)",
      "2. stop(\"time series has no or less than 2 periods\")"
     ]
    }
   ],
   "source": [
    "dd <- decompose(tsib_monthly_filled$Sales)"
   ]
  },
  {
   "cell_type": "code",
   "execution_count": null,
   "metadata": {
    "vscode": {
     "languageId": "r"
    }
   },
   "outputs": [
    {
     "ename": "ERROR",
     "evalue": "\u001b[1m\u001b[33mError\u001b[39m in `autoplot()`:\u001b[22m\n\u001b[1m\u001b[22m\u001b[33m!\u001b[39m Objects of class \u001b[34m<mdl_df>\u001b[39m are not supported by autoplot.\n\u001b[36mi\u001b[39m have you loaded the required package?\n",
     "output_type": "error",
     "traceback": [
      "\u001b[1m\u001b[33mError\u001b[39m in `autoplot()`:\u001b[22m\n\u001b[1m\u001b[22m\u001b[33m!\u001b[39m Objects of class \u001b[34m<mdl_df>\u001b[39m are not supported by autoplot.\n\u001b[36mi\u001b[39m have you loaded the required package?\nTraceback:\n",
      "1. autoplot(tsib_decomp, facet = TRUE)",
      "2. autoplot.default(tsib_decomp, facet = TRUE)",
      "3. cli::cli_abort(c(\"Objects of class {.cls {class(object)[[1]]}} are not supported by autoplot.\", \n .     i = \"have you loaded the required package?\"))",
      "4. rlang::abort(message, ..., call = call, use_cli_format = TRUE, \n .     .frame = .frame)",
      "5. signal_abort(cnd, .file)"
     ]
    }
   ],
   "source": [
    "\n",
    "# Visualizar a decomposição\n",
    "autoplot(tsib_decomp, facet = TRUE) +\n",
    "  xlab(\"Mês\") +\n",
    "  ggtitle(\"Decomposição da série temporal\")\n"
   ]
  },
  {
   "cell_type": "code",
   "execution_count": null,
   "metadata": {
    "vscode": {
     "languageId": "r"
    }
   },
   "outputs": [
    {
     "name": "stderr",
     "output_type": "stream",
     "text": [
      "\n",
      "Attaching package: 'seasonal'\n",
      "\n",
      "\n",
      "The following object is masked from 'package:tibble':\n",
      "\n",
      "    view\n",
      "\n",
      "\n"
     ]
    }
   ],
   "source": [
    "library(seasonal)"
   ]
  },
  {
   "cell_type": "code",
   "execution_count": null,
   "metadata": {
    "vscode": {
     "languageId": "r"
    }
   },
   "outputs": [
    {
     "ename": "ERROR",
     "evalue": "Error in align_x_list(x, list): all(sapply(x, inherits, \"ts\")) is not TRUE\n",
     "output_type": "error",
     "traceback": [
      "Error in align_x_list(x, list): all(sapply(x, inherits, \"ts\")) is not TRUE\nTraceback:\n",
      "1. seas(tsib_decomp)",
      "2. seas_multi(x = x, xreg = xreg, xtrans = xtrans, seats.noadmiss = seats.noadmiss, \n .     transform.function = transform.function, regression.aictest = regression.aictest, \n .     outlier = outlier, automdl = automdl, composite = composite, \n .     na.action = na.action, out = out, dir = dir, list_dots = list(...), \n .     multimode = multimode, list = list, call = match.call())",
      "3. align_x_list(x, list)",
      "4. stopifnot(all(sapply(x, inherits, \"ts\")))"
     ]
    }
   ],
   "source": [
    "library(forecast)\n",
    "\n",
    "# Extrair a componente sazonal da decomposição STL\n",
    "seasonal <- seas(tsib_decomp)\n",
    "\n",
    "# Plotar a série temporal sazonal\n",
    "ggseasonplot(seasonal, col = \"blue\") +\n",
    "  xlab(\"Mês\") +\n",
    "  ggtitle(\"Padrão sazonal da série temporal\")\n"
   ]
  },
  {
   "cell_type": "code",
   "execution_count": null,
   "metadata": {
    "vscode": {
     "languageId": "r"
    }
   },
   "outputs": [
    {
     "ename": "ERROR",
     "evalue": "Error in ggseasonplot(tsib_decomp, col = \"blue\"): autoplot.seasonplot requires a ts object, use x=object\n",
     "output_type": "error",
     "traceback": [
      "Error in ggseasonplot(tsib_decomp, col = \"blue\"): autoplot.seasonplot requires a ts object, use x=object\nTraceback:\n",
      "1. ggseasonplot(tsib_decomp, col = \"blue\")",
      "2. stop(\"autoplot.seasonplot requires a ts object, use x=object\")"
     ]
    }
   ],
   "source": [
    "ggseasonplot(tsib_decomp, col = \"blue\") + \n",
    "  xlab(\"Mês\") + \n",
    "  ggtitle(\"Decomposição da série temporal\")\n"
   ]
  },
  {
   "cell_type": "code",
   "execution_count": null,
   "metadata": {
    "vscode": {
     "languageId": "r"
    }
   },
   "outputs": [
    {
     "name": "stderr",
     "output_type": "stream",
     "text": [
      "\u001b[1m\u001b[22mDon't know how to automatically pick scale for object of type \u001b[34m<function>\u001b[39m.\n",
      "Defaulting to continuous.\n",
      "ERROR while rich displaying an object: \u001b[1m\u001b[33mError\u001b[39m in `geom_line()`:\u001b[22m\n",
      "\u001b[1m\u001b[22m\u001b[33m!\u001b[39m Problem while computing aesthetics.\n",
      "\u001b[36mi\u001b[39m Error occurred in the 1st layer.\n",
      "\u001b[1mCaused by error in `compute_aesthetics()`:\u001b[22m\n",
      "\u001b[1m\u001b[22m\u001b[33m!\u001b[39m Aesthetics are not valid data columns.\n",
      "\u001b[31mx\u001b[39m The following aesthetics are invalid:\n",
      "\u001b[31mx\u001b[39m `x = index`\n",
      "\u001b[36mi\u001b[39m Did you mistype the name of a data column or forget to add `after_stat()`?\n",
      "\n",
      "Traceback:\n",
      "1. tryCatch(withCallingHandlers({\n",
      " .     if (!mime %in% names(repr::mime2repr)) \n",
      " .         stop(\"No repr_* for mimetype \", mime, \" in repr::mime2repr\")\n",
      " .     rpr <- repr::mime2repr[[mime]](obj)\n",
      " .     if (is.null(rpr)) \n",
      " .         return(NULL)\n",
      " .     prepare_content(is.raw(rpr), rpr)\n",
      " . }, error = error_handler), error = outer_handler)\n",
      "2. tryCatchList(expr, classes, parentenv, handlers)\n",
      "3. tryCatchOne(expr, names, parentenv, handlers[[1L]])\n",
      "4. doTryCatch(return(expr), name, parentenv, handler)\n",
      "5. withCallingHandlers({\n",
      " .     if (!mime %in% names(repr::mime2repr)) \n",
      " .         stop(\"No repr_* for mimetype \", mime, \" in repr::mime2repr\")\n",
      " .     rpr <- repr::mime2repr[[mime]](obj)\n",
      " .     if (is.null(rpr)) \n",
      " .         return(NULL)\n",
      " .     prepare_content(is.raw(rpr), rpr)\n",
      " . }, error = error_handler)\n",
      "6. repr::mime2repr[[mime]](obj)\n",
      "7. repr_text.default(obj)\n",
      "8. paste(capture.output(print(obj)), collapse = \"\\n\")\n",
      "9. capture.output(print(obj))\n",
      "10. withVisible(...elt(i))\n",
      "11. print(obj)\n",
      "12. print.ggplot(obj)\n",
      "13. ggplot_build(x)\n",
      "14. ggplot_build.ggplot(x)\n",
      "15. by_layer(function(l, d) l$compute_aesthetics(d, plot), layers, \n",
      "  .     data, \"computing aesthetics\")\n",
      "16. try_fetch(for (i in seq_along(data)) {\n",
      "  .     out[[i]] <- f(l = layers[[i]], d = data[[i]])\n",
      "  . }, error = function(cnd) {\n",
      "  .     cli::cli_abort(c(\"Problem while {step}.\", i = \"Error occurred in the {ordinal(i)} layer.\"), \n",
      "  .         call = layers[[i]]$constructor, parent = cnd)\n",
      "  . })\n",
      "17. tryCatch(withCallingHandlers(expr, condition = function(cnd) {\n",
      "  .     {\n",
      "  .         .__handler_frame__. <- TRUE\n",
      "  .         .__setup_frame__. <- frame\n",
      "  .         if (inherits(cnd, \"message\")) {\n",
      "  .             except <- c(\"warning\", \"error\")\n",
      "  .         }\n",
      "  .         else if (inherits(cnd, \"warning\")) {\n",
      "  .             except <- \"error\"\n",
      "  .         }\n",
      "  .         else {\n",
      "  .             except <- \"\"\n",
      "  .         }\n",
      "  .     }\n",
      "  .     while (!is_null(cnd)) {\n",
      "  .         if (inherits(cnd, \"error\")) {\n",
      "  .             out <- handlers[[1L]](cnd)\n",
      "  .             if (!inherits(out, \"rlang_zap\")) \n",
      "  .                 throw(out)\n",
      "  .         }\n",
      "  .         inherit <- .subset2(.subset2(cnd, \"rlang\"), \"inherit\")\n",
      "  .         if (is_false(inherit)) {\n",
      "  .             return()\n",
      "  .         }\n",
      "  .         cnd <- .subset2(cnd, \"parent\")\n",
      "  .     }\n",
      "  . }), stackOverflowError = handlers[[1L]])\n",
      "18. tryCatchList(expr, classes, parentenv, handlers)\n",
      "19. tryCatchOne(expr, names, parentenv, handlers[[1L]])\n",
      "20. doTryCatch(return(expr), name, parentenv, handler)\n",
      "21. withCallingHandlers(expr, condition = function(cnd) {\n",
      "  .     {\n",
      "  .         .__handler_frame__. <- TRUE\n",
      "  .         .__setup_frame__. <- frame\n",
      "  .         if (inherits(cnd, \"message\")) {\n",
      "  .             except <- c(\"warning\", \"error\")\n",
      "  .         }\n",
      "  .         else if (inherits(cnd, \"warning\")) {\n",
      "  .             except <- \"error\"\n",
      "  .         }\n",
      "  .         else {\n",
      "  .             except <- \"\"\n",
      "  .         }\n",
      "  .     }\n",
      "  .     while (!is_null(cnd)) {\n",
      "  .         if (inherits(cnd, \"error\")) {\n",
      "  .             out <- handlers[[1L]](cnd)\n",
      "  .             if (!inherits(out, \"rlang_zap\")) \n",
      "  .                 throw(out)\n",
      "  .         }\n",
      "  .         inherit <- .subset2(.subset2(cnd, \"rlang\"), \"inherit\")\n",
      "  .         if (is_false(inherit)) {\n",
      "  .             return()\n",
      "  .         }\n",
      "  .         cnd <- .subset2(cnd, \"parent\")\n",
      "  .     }\n",
      "  . })\n",
      "22. f(l = layers[[i]], d = data[[i]])\n",
      "23. l$compute_aesthetics(d, plot)\n",
      "24. compute_aesthetics(..., self = self)\n",
      "25. cli::cli_abort(c(\"Aesthetics are not valid data columns.\", x = \"The following aesthetics are invalid:\", \n",
      "  .     issues, i = \"Did you mistype the name of a data column or forget to add {.fn after_stat}?\"))\n",
      "26. rlang::abort(message, ..., call = call, use_cli_format = TRUE, \n",
      "  .     .frame = .frame)\n",
      "27. signal_abort(cnd, .file)\n",
      "28. signalCondition(cnd)\n",
      "29. (function (cnd) \n",
      "  . {\n",
      "  .     {\n",
      "  .         .__handler_frame__. <- TRUE\n",
      "  .         .__setup_frame__. <- frame\n",
      "  .         if (inherits(cnd, \"message\")) {\n",
      "  .             except <- c(\"warning\", \"error\")\n",
      "  .         }\n",
      "  .         else if (inherits(cnd, \"warning\")) {\n",
      "  .             except <- \"error\"\n",
      "  .         }\n",
      "  .         else {\n",
      "  .             except <- \"\"\n",
      "  .         }\n",
      "  .     }\n",
      "  .     while (!is_null(cnd)) {\n",
      "  .         if (inherits(cnd, \"error\")) {\n",
      "  .             out <- handlers[[1L]](cnd)\n",
      "  .             if (!inherits(out, \"rlang_zap\")) \n",
      "  .                 throw(out)\n",
      "  .         }\n",
      "  .         inherit <- .subset2(.subset2(cnd, \"rlang\"), \"inherit\")\n",
      "  .         if (is_false(inherit)) {\n",
      "  .             return()\n",
      "  .         }\n",
      "  .         cnd <- .subset2(cnd, \"parent\")\n",
      "  .     }\n",
      "  . })(structure(list(message = structure(\"Aesthetics are not valid data columns.\", .Names = \"\"), \n",
      "  .     trace = structure(list(call = list(IRkernel::main(), kernel$run(), \n",
      "  .         handle_shell(), executor$execute(msg), tryCatch(evaluate(request$content$code, \n",
      "  .             envir = .GlobalEnv, output_handler = oh, stop_on_error = 1L), \n",
      "  .             interrupt = function(cond) {\n",
      "  .                 log_debug(\"Interrupt during execution\")\n",
      "  .                 interrupted <<- TRUE\n",
      "  .             }, error = .self$handle_error), tryCatchList(expr, \n",
      "  .             classes, parentenv, handlers), tryCatchOne(tryCatchList(expr, \n",
      "  .             names[-nh], parentenv, handlers[-nh]), names[nh], \n",
      "  .             parentenv, handlers[[nh]]), doTryCatch(return(expr), \n",
      "  .             name, parentenv, handler), tryCatchList(expr, names[-nh], \n",
      "  .             parentenv, handlers[-nh]), tryCatchOne(expr, names, \n",
      "  .             parentenv, handlers[[1L]]), doTryCatch(return(expr), \n",
      "  .             name, parentenv, handler), evaluate(request$content$code, \n",
      "  .             envir = .GlobalEnv, output_handler = oh, stop_on_error = 1L), \n",
      "  .         evaluate_call(expr, parsed$src[[i]], envir = envir, enclos = enclos, \n",
      "  .             debug = debug, last = i == length(out), use_try = stop_on_error != \n",
      "  .                 2L, keep_warning = keep_warning, keep_message = keep_message, \n",
      "  .             output_handler = output_handler, include_timing = include_timing), \n",
      "  .         handle(pv <- withCallingHandlers(withVisible(value_fun(ev$value, \n",
      "  .             ev$visible)), warning = wHandler, error = eHandler, \n",
      "  .             message = mHandler)), try(f, silent = TRUE), tryCatch(expr, \n",
      "  .             error = function(e) {\n",
      "  .                 call <- conditionCall(e)\n",
      "  .                 if (!is.null(call)) {\n",
      "  .                   if (identical(call[[1L]], quote(doTryCatch))) \n",
      "  .                     call <- sys.call(-4L)\n",
      "  .                   dcall <- deparse(call, nlines = 1L)\n",
      "  .                   prefix <- paste(\"Error in\", dcall, \": \")\n",
      "  .                   LONG <- 75L\n",
      "  .                   sm <- strsplit(conditionMessage(e), \"\\n\")[[1L]]\n",
      "  .                   w <- 14L + nchar(dcall, type = \"w\") + nchar(sm[1L], \n",
      "  .                     type = \"w\")\n",
      "  .                   if (is.na(w)) \n",
      "  .                     w <- 14L + nchar(dcall, type = \"b\") + nchar(sm[1L], \n",
      "  .                       type = \"b\")\n",
      "  .                   if (w > LONG) \n",
      "  .                     prefix <- paste0(prefix, \"\\n  \")\n",
      "  .                 }\n",
      "  .                 else prefix <- \"Error : \"\n",
      "  .                 msg <- paste0(prefix, conditionMessage(e), \"\\n\")\n",
      "  .                 .Internal(seterrmessage(msg[1L]))\n",
      "  .                 if (!silent && isTRUE(getOption(\"show.error.messages\"))) {\n",
      "  .                   cat(msg, file = outFile)\n",
      "  .                   .Internal(printDeferredWarnings())\n",
      "  .                 }\n",
      "  .                 invisible(structure(msg, class = \"try-error\", \n",
      "  .                   condition = e))\n",
      "  .             }), tryCatchList(expr, classes, parentenv, handlers), \n",
      "  .         tryCatchOne(expr, names, parentenv, handlers[[1L]]), \n",
      "  .         doTryCatch(return(expr), name, parentenv, handler), withCallingHandlers(withVisible(value_fun(ev$value, \n",
      "  .             ev$visible)), warning = wHandler, error = eHandler, \n",
      "  .             message = mHandler), withVisible(value_fun(ev$value, \n",
      "  .             ev$visible)), value_fun(ev$value, ev$visible), prepare_mimebundle_kernel(obj, \n",
      "  .             .self$handle_display_error), prepare_mimebundle(obj, \n",
      "  .             \"text/plain\", error_handler = handle_display_error), \n",
      "  .         filter_map(mimetypes, function(mime) {\n",
      "  .             tryCatch(withCallingHandlers({\n",
      "  .                 if (!mime %in% names(repr::mime2repr)) \n",
      "  .                   stop(\"No repr_* for mimetype \", mime, \" in repr::mime2repr\")\n",
      "  .                 rpr <- repr::mime2repr[[mime]](obj)\n",
      "  .                 if (is.null(rpr)) \n",
      "  .                   return(NULL)\n",
      "  .                 prepare_content(is.raw(rpr), rpr)\n",
      "  .             }, error = error_handler), error = outer_handler)\n",
      "  .         }), Filter(Negate(is.null), sapply(x, f, simplify = simplify)), \n",
      "  .         unlist(lapply(x, f)), lapply(x, f), sapply(x, f, simplify = simplify), \n",
      "  .         lapply(X = X, FUN = FUN, ...), FUN(X[[i]], ...), tryCatch(withCallingHandlers({\n",
      "  .             if (!mime %in% names(repr::mime2repr)) \n",
      "  .                 stop(\"No repr_* for mimetype \", mime, \" in repr::mime2repr\")\n",
      "  .             rpr <- repr::mime2repr[[mime]](obj)\n",
      "  .             if (is.null(rpr)) \n",
      "  .                 return(NULL)\n",
      "  .             prepare_content(is.raw(rpr), rpr)\n",
      "  .         }, error = error_handler), error = outer_handler), tryCatchList(expr, \n",
      "  .             classes, parentenv, handlers), tryCatchOne(expr, \n",
      "  .             names, parentenv, handlers[[1L]]), doTryCatch(return(expr), \n",
      "  .             name, parentenv, handler), withCallingHandlers({\n",
      "  .             if (!mime %in% names(repr::mime2repr)) \n",
      "  .                 stop(\"No repr_* for mimetype \", mime, \" in repr::mime2repr\")\n",
      "  .             rpr <- repr::mime2repr[[mime]](obj)\n",
      "  .             if (is.null(rpr)) \n",
      "  .                 return(NULL)\n",
      "  .             prepare_content(is.raw(rpr), rpr)\n",
      "  .         }, error = error_handler), repr::mime2repr[[mime]](obj), \n",
      "  .         repr_text.default(obj), paste(capture.output(print(obj)), \n",
      "  .             collapse = \"\\n\"), capture.output(print(obj)), withVisible(...elt(i)), \n",
      "  .         print(obj), print.ggplot(obj), ggplot_build(x), ggplot_build.ggplot(x), \n",
      "  .         by_layer(function(l, d) l$compute_aesthetics(d, plot), \n",
      "  .             layers, data, \"computing aesthetics\"), try_fetch(for (i in seq_along(data)) {\n",
      "  .             out[[i]] <- f(l = layers[[i]], d = data[[i]])\n",
      "  .         }, error = function(cnd) {\n",
      "  .             cli::cli_abort(c(\"Problem while {step}.\", i = \"Error occurred in the {ordinal(i)} layer.\"), \n",
      "  .                 call = layers[[i]]$constructor, parent = cnd)\n",
      "  .         }), tryCatch(withCallingHandlers(expr, condition = function(cnd) {\n",
      "  .             {\n",
      "  .                 .__handler_frame__. <- TRUE\n",
      "  .                 .__setup_frame__. <- frame\n",
      "  .                 if (inherits(cnd, \"message\")) {\n",
      "  .                   except <- c(\"warning\", \"error\")\n",
      "  .                 }\n",
      "  .                 else if (inherits(cnd, \"warning\")) {\n",
      "  .                   except <- \"error\"\n",
      "  .                 }\n",
      "  .                 else {\n",
      "  .                   except <- \"\"\n",
      "  .                 }\n",
      "  .             }\n",
      "  .             while (!is_null(cnd)) {\n",
      "  .                 if (inherits(cnd, \"error\")) {\n",
      "  .                   out <- handlers[[1L]](cnd)\n",
      "  .                   if (!inherits(out, \"rlang_zap\")) \n",
      "  .                     throw(out)\n",
      "  .                 }\n",
      "  .                 inherit <- .subset2(.subset2(cnd, \"rlang\"), \"inherit\")\n",
      "  .                 if (is_false(inherit)) {\n",
      "  .                   return()\n",
      "  .                 }\n",
      "  .                 cnd <- .subset2(cnd, \"parent\")\n",
      "  .             }\n",
      "  .         }), stackOverflowError = handlers[[1L]]), tryCatchList(expr, \n",
      "  .             classes, parentenv, handlers), tryCatchOne(expr, \n",
      "  .             names, parentenv, handlers[[1L]]), doTryCatch(return(expr), \n",
      "  .             name, parentenv, handler), withCallingHandlers(expr, \n",
      "  .             condition = function(cnd) {\n",
      "  .                 {\n",
      "  .                   .__handler_frame__. <- TRUE\n",
      "  .                   .__setup_frame__. <- frame\n",
      "  .                   if (inherits(cnd, \"message\")) {\n",
      "  .                     except <- c(\"warning\", \"error\")\n",
      "  .                   }\n",
      "  .                   else if (inherits(cnd, \"warning\")) {\n",
      "  .                     except <- \"error\"\n",
      "  .                   }\n",
      "  .                   else {\n",
      "  .                     except <- \"\"\n",
      "  .                   }\n",
      "  .                 }\n",
      "  .                 while (!is_null(cnd)) {\n",
      "  .                   if (inherits(cnd, \"error\")) {\n",
      "  .                     out <- handlers[[1L]](cnd)\n",
      "  .                     if (!inherits(out, \"rlang_zap\")) \n",
      "  .                       throw(out)\n",
      "  .                   }\n",
      "  .                   inherit <- .subset2(.subset2(cnd, \"rlang\"), \n",
      "  .                     \"inherit\")\n",
      "  .                   if (is_false(inherit)) {\n",
      "  .                     return()\n",
      "  .                   }\n",
      "  .                   cnd <- .subset2(cnd, \"parent\")\n",
      "  .                 }\n",
      "  .             }), f(l = layers[[i]], d = data[[i]]), l$compute_aesthetics(d, \n",
      "  .             plot), compute_aesthetics(..., self = self), cli::cli_abort(c(\"Aesthetics are not valid data columns.\", \n",
      "  .             x = \"The following aesthetics are invalid:\", issues, \n",
      "  .             i = \"Did you mistype the name of a data column or forget to add {.fn after_stat}?\")), \n",
      "  .         rlang::abort(message, ..., call = call, use_cli_format = TRUE, \n",
      "  .             .frame = .frame)), parent = c(0L, 1L, 2L, 3L, 4L, \n",
      "  .     5L, 6L, 7L, 6L, 9L, 10L, 4L, 12L, 13L, 14L, 15L, 16L, 17L, \n",
      "  .     18L, 13L, 13L, 13L, 22L, 23L, 24L, 25L, 26L, 26L, 25L, 29L, \n",
      "  .     30L, 31L, 32L, 33L, 34L, 31L, 31L, 31L, 38L, 38L, 40L, 38L, \n",
      "  .     38L, 43L, 43L, 45L, 46L, 47L, 48L, 49L, 50L, 47L, 46L, 53L, \n",
      "  .     54L, 55L, 56L), visible = c(TRUE, TRUE, TRUE, TRUE, TRUE, \n",
      "  .     TRUE, TRUE, TRUE, TRUE, TRUE, TRUE, TRUE, TRUE, TRUE, TRUE, \n",
      "  .     TRUE, TRUE, TRUE, TRUE, TRUE, TRUE, TRUE, TRUE, TRUE, TRUE, \n",
      "  .     TRUE, TRUE, TRUE, TRUE, TRUE, TRUE, TRUE, TRUE, TRUE, TRUE, \n",
      "  .     TRUE, TRUE, TRUE, TRUE, TRUE, TRUE, TRUE, TRUE, TRUE, TRUE, \n",
      "  .     TRUE, TRUE, TRUE, TRUE, TRUE, TRUE, TRUE, TRUE, TRUE, TRUE, \n",
      "  .     FALSE, FALSE), namespace = c(\"IRkernel\", NA, \"IRkernel\", \n",
      "  .     NA, \"base\", \"base\", \"base\", \"base\", \"base\", \"base\", \"base\", \n",
      "  .     \"evaluate\", \"evaluate\", \"evaluate\", \"base\", \"base\", \"base\", \n",
      "  .     \"base\", \"base\", \"base\", \"base\", \"IRkernel\", \"IRkernel\", \"IRdisplay\", \n",
      "  .     \"IRdisplay\", \"base\", \"base\", \"base\", \"base\", \"base\", \"IRdisplay\", \n",
      "  .     \"base\", \"base\", \"base\", \"base\", \"base\", NA, \"repr\", \"base\", \n",
      "  .     \"utils\", \"base\", \"base\", \"ggplot2\", \"ggplot2\", \"ggplot2\", \n",
      "  .     \"ggplot2\", \"rlang\", \"base\", \"base\", \"base\", \"base\", \"base\", \n",
      "  .     \"ggplot2\", NA, \"ggplot2\", \"cli\", \"rlang\"), scope = c(\"::\", \n",
      "  .     NA, \"local\", NA, \"::\", \"local\", \"local\", \"local\", \"local\", \n",
      "  .     \"local\", \"local\", \"::\", \":::\", \"local\", \"::\", \"::\", \"local\", \n",
      "  .     \"local\", \"local\", \"::\", \"::\", \"local\", \":::\", \"::\", \":::\", \n",
      "  .     \"::\", \"::\", \"::\", \"::\", \"::\", \"local\", \"::\", \"local\", \"local\", \n",
      "  .     \"local\", \"::\", NA, \":::\", \"::\", \"::\", \"::\", \"::\", \":::\", \n",
      "  .     \"::\", \":::\", \":::\", \"::\", \"::\", \"local\", \"local\", \"local\", \n",
      "  .     \"::\", \"local\", NA, \"local\", \"::\", \"::\"), error_frame = c(FALSE, \n",
      "  .     FALSE, FALSE, FALSE, FALSE, FALSE, FALSE, FALSE, FALSE, FALSE, \n",
      "  .     FALSE, FALSE, FALSE, FALSE, FALSE, FALSE, FALSE, FALSE, FALSE, \n",
      "  .     FALSE, FALSE, FALSE, FALSE, FALSE, FALSE, FALSE, FALSE, FALSE, \n",
      "  .     FALSE, FALSE, FALSE, FALSE, FALSE, FALSE, FALSE, FALSE, FALSE, \n",
      "  .     FALSE, FALSE, FALSE, FALSE, FALSE, FALSE, FALSE, FALSE, FALSE, \n",
      "  .     FALSE, FALSE, FALSE, FALSE, FALSE, FALSE, FALSE, FALSE, TRUE, \n",
      "  .     FALSE, FALSE)), row.names = c(NA, -57L), version = 2L, class = c(\"rlang_trace\", \n",
      "  .     \"rlib_trace\", \"tbl\", \"data.frame\")), parent = NULL, body = c(x = \"The following aesthetics are invalid:\", \n",
      "  .     x = \"`x = index`\", i = \"Did you mistype the name of a data column or forget to add `after_stat()`?\"\n",
      "  .     ), rlang = list(inherit = TRUE), call = compute_aesthetics(..., \n",
      "  .         self = self), use_cli_format = TRUE), class = c(\"rlang_error\", \n",
      "  . \"error\", \"condition\")))\n",
      "30. handlers[[1L]](cnd)\n",
      "31. cli::cli_abort(c(\"Problem while {step}.\", i = \"Error occurred in the {ordinal(i)} layer.\"), \n",
      "  .     call = layers[[i]]$constructor, parent = cnd)\n",
      "32. rlang::abort(message, ..., call = call, use_cli_format = TRUE, \n",
      "  .     .frame = .frame)\n",
      "33. signal_abort(cnd, .file)\n"
     ]
    }
   ],
   "source": [
    "library(feasts)\n",
    "# plotar a decomposição\n",
    "ggplot(as.data.frame(tsib_decomp), aes(x = index, y = tsib$Sales)) +\n",
    "  geom_line() +\n",
    "  geom_line(aes(y = trend), color = \"red\") +\n",
    "  geom_point(aes(y = seasonal), color = \"blue\") +\n",
    "  geom_point(aes(y = remainder), color = \"green\") +\n",
    "  labs(title = \"Decomposição da série temporal\",\n",
    "       x = \"Ano-Mês\",\n",
    "       y = \"Número de passageiros\") +\n",
    "  theme_bw()"
   ]
  }
 ],
 "metadata": {
  "kernelspec": {
   "display_name": "R",
   "language": "R",
   "name": "ir"
  },
  "language_info": {
   "codemirror_mode": "r",
   "file_extension": ".r",
   "mimetype": "text/x-r-source",
   "name": "R",
   "pygments_lexer": "r",
   "version": "4.1.3"
  },
  "orig_nbformat": 4
 },
 "nbformat": 4,
 "nbformat_minor": 2
}
