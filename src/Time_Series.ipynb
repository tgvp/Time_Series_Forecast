{
 "cells": [
  {
   "cell_type": "code",
   "execution_count": 8,
   "metadata": {
    "vscode": {
     "languageId": "r"
    }
   },
   "outputs": [
    {
     "name": "stderr",
     "output_type": "stream",
     "text": [
      "\n",
      "Attaching package: 'dplyr'\n",
      "\n",
      "The following objects are masked from 'package:stats':\n",
      "\n",
      "    filter, lag\n",
      "\n",
      "The following objects are masked from 'package:base':\n",
      "\n",
      "    intersect, setdiff, setequal, union\n",
      "\n"
     ]
    }
   ],
   "source": [
    "# importing libraries\n",
    "library(dplyr)"
   ]
  },
  {
   "cell_type": "code",
   "execution_count": 22,
   "metadata": {
    "vscode": {
     "languageId": "r"
    }
   },
   "outputs": [
    {
     "data": {
      "text/html": [
       "<table>\n",
       "<thead><tr><th scope=col>ï..Row.ID</th><th scope=col>Order.ID</th><th scope=col>Order.Date</th><th scope=col>Ship.Date</th><th scope=col>Ship.Mode</th><th scope=col>Customer.ID</th><th scope=col>Customer.Name</th><th scope=col>Segment</th><th scope=col>Country</th><th scope=col>City</th><th scope=col>...</th><th scope=col>Postal.Code</th><th scope=col>Region</th><th scope=col>Product.ID</th><th scope=col>Category</th><th scope=col>Sub.Category</th><th scope=col>Product.Name</th><th scope=col>Sales</th><th scope=col>Quantity</th><th scope=col>Discount</th><th scope=col>Profit</th></tr></thead>\n",
       "<tbody>\n",
       "\t<tr><td>1                                                               </td><td>CA-2016-152156                                                  </td><td>2016/11/08                                                      </td><td>2016/11/11                                                      </td><td>Second Class                                                    </td><td>CG-12520                                                        </td><td>Claire Gute                                                     </td><td>Consumer                                                        </td><td>United States                                                   </td><td>Henderson                                                       </td><td>...                                                             </td><td>42420                                                           </td><td>South                                                           </td><td>FUR-BO-10001798                                                 </td><td>Furniture                                                       </td><td>Bookcases                                                       </td><td>Bush Somerset Collection Bookcase                               </td><td>261.9600                                                        </td><td>2                                                               </td><td>0.00                                                            </td><td>  41.9136                                                       </td></tr>\n",
       "\t<tr><td>2                                                               </td><td>CA-2016-152156                                                  </td><td>2016/11/08                                                      </td><td>2016/11/11                                                      </td><td>Second Class                                                    </td><td>CG-12520                                                        </td><td>Claire Gute                                                     </td><td>Consumer                                                        </td><td>United States                                                   </td><td>Henderson                                                       </td><td>...                                                             </td><td>42420                                                           </td><td>South                                                           </td><td>FUR-CH-10000454                                                 </td><td>Furniture                                                       </td><td>Chairs                                                          </td><td>Hon Deluxe Fabric Upholstered Stacking Chairs, Rounded Back     </td><td>731.9400                                                        </td><td>3                                                               </td><td>0.00                                                            </td><td> 219.5820                                                       </td></tr>\n",
       "\t<tr><td>3                                                               </td><td>CA-2016-138688                                                  </td><td>2016/06/12                                                      </td><td>2016/06/16                                                      </td><td>Second Class                                                    </td><td>DV-13045                                                        </td><td>Darrin Van Huff                                                 </td><td>Corporate                                                       </td><td>United States                                                   </td><td>Los Angeles                                                     </td><td>...                                                             </td><td>90036                                                           </td><td>West                                                            </td><td>OFF-LA-10000240                                                 </td><td>Office Supplies                                                 </td><td>Labels                                                          </td><td>Self-Adhesive Address Labels for Typewriters by Universal       </td><td> 14.6200                                                        </td><td>2                                                               </td><td>0.00                                                            </td><td>   6.8714                                                       </td></tr>\n",
       "\t<tr><td>4                                                               </td><td>US-2015-108966                                                  </td><td>2015/10/11                                                      </td><td>2015/10/18                                                      </td><td>Standard Class                                                  </td><td>SO-20335                                                        </td><td>Sean O'Donnell                                                  </td><td>Consumer                                                        </td><td>United States                                                   </td><td>Fort Lauderdale                                                 </td><td>...                                                             </td><td>33311                                                           </td><td>South                                                           </td><td>FUR-TA-10000577                                                 </td><td>Furniture                                                       </td><td>Tables                                                          </td><td>Bretford CR4500 Series Slim Rectangular Table                   </td><td>957.5775                                                        </td><td>5                                                               </td><td>0.45                                                            </td><td>-383.0310                                                       </td></tr>\n",
       "\t<tr><td>5                                                               </td><td>US-2015-108966                                                  </td><td>2015/10/11                                                      </td><td>2015/10/18                                                      </td><td>Standard Class                                                  </td><td>SO-20335                                                        </td><td>Sean O'Donnell                                                  </td><td>Consumer                                                        </td><td>United States                                                   </td><td>Fort Lauderdale                                                 </td><td>...                                                             </td><td>33311                                                           </td><td>South                                                           </td><td>OFF-ST-10000760                                                 </td><td>Office Supplies                                                 </td><td>Storage                                                         </td><td>Eldon Fold 'N Roll Cart System                                  </td><td> 22.3680                                                        </td><td>2                                                               </td><td>0.20                                                            </td><td>   2.5164                                                       </td></tr>\n",
       "\t<tr><td>6                                                               </td><td>CA-2014-115812                                                  </td><td>2014/06/09                                                      </td><td>2014/06/14                                                      </td><td>Standard Class                                                  </td><td>BH-11710                                                        </td><td>Brosina Hoffman                                                 </td><td>Consumer                                                        </td><td>United States                                                   </td><td>Los Angeles                                                     </td><td>...                                                             </td><td>90032                                                           </td><td>West                                                            </td><td>FUR-FU-10001487                                                 </td><td>Furniture                                                       </td><td>Furnishings                                                     </td><td>Eldon Expressions Wood and Plastic Desk Accessories, Cherry Wood</td><td> 48.8600                                                        </td><td>7                                                               </td><td>0.00                                                            </td><td>  14.1694                                                       </td></tr>\n",
       "</tbody>\n",
       "</table>\n"
      ],
      "text/latex": [
       "\\begin{tabular}{r|lllllllllllllllllllll}\n",
       " ï..Row.ID & Order.ID & Order.Date & Ship.Date & Ship.Mode & Customer.ID & Customer.Name & Segment & Country & City & ... & Postal.Code & Region & Product.ID & Category & Sub.Category & Product.Name & Sales & Quantity & Discount & Profit\\\\\n",
       "\\hline\n",
       "\t 1                                                                & CA-2016-152156                                                   & 2016/11/08                                                       & 2016/11/11                                                       & Second Class                                                     & CG-12520                                                         & Claire Gute                                                      & Consumer                                                         & United States                                                    & Henderson                                                        & ...                                                              & 42420                                                            & South                                                            & FUR-BO-10001798                                                  & Furniture                                                        & Bookcases                                                        & Bush Somerset Collection Bookcase                                & 261.9600                                                         & 2                                                                & 0.00                                                             &   41.9136                                                       \\\\\n",
       "\t 2                                                                & CA-2016-152156                                                   & 2016/11/08                                                       & 2016/11/11                                                       & Second Class                                                     & CG-12520                                                         & Claire Gute                                                      & Consumer                                                         & United States                                                    & Henderson                                                        & ...                                                              & 42420                                                            & South                                                            & FUR-CH-10000454                                                  & Furniture                                                        & Chairs                                                           & Hon Deluxe Fabric Upholstered Stacking Chairs, Rounded Back      & 731.9400                                                         & 3                                                                & 0.00                                                             &  219.5820                                                       \\\\\n",
       "\t 3                                                                & CA-2016-138688                                                   & 2016/06/12                                                       & 2016/06/16                                                       & Second Class                                                     & DV-13045                                                         & Darrin Van Huff                                                  & Corporate                                                        & United States                                                    & Los Angeles                                                      & ...                                                              & 90036                                                            & West                                                             & OFF-LA-10000240                                                  & Office Supplies                                                  & Labels                                                           & Self-Adhesive Address Labels for Typewriters by Universal        &  14.6200                                                         & 2                                                                & 0.00                                                             &    6.8714                                                       \\\\\n",
       "\t 4                                                                & US-2015-108966                                                   & 2015/10/11                                                       & 2015/10/18                                                       & Standard Class                                                   & SO-20335                                                         & Sean O'Donnell                                                   & Consumer                                                         & United States                                                    & Fort Lauderdale                                                  & ...                                                              & 33311                                                            & South                                                            & FUR-TA-10000577                                                  & Furniture                                                        & Tables                                                           & Bretford CR4500 Series Slim Rectangular Table                    & 957.5775                                                         & 5                                                                & 0.45                                                             & -383.0310                                                       \\\\\n",
       "\t 5                                                                & US-2015-108966                                                   & 2015/10/11                                                       & 2015/10/18                                                       & Standard Class                                                   & SO-20335                                                         & Sean O'Donnell                                                   & Consumer                                                         & United States                                                    & Fort Lauderdale                                                  & ...                                                              & 33311                                                            & South                                                            & OFF-ST-10000760                                                  & Office Supplies                                                  & Storage                                                          & Eldon Fold 'N Roll Cart System                                   &  22.3680                                                         & 2                                                                & 0.20                                                             &    2.5164                                                       \\\\\n",
       "\t 6                                                                & CA-2014-115812                                                   & 2014/06/09                                                       & 2014/06/14                                                       & Standard Class                                                   & BH-11710                                                         & Brosina Hoffman                                                  & Consumer                                                         & United States                                                    & Los Angeles                                                      & ...                                                              & 90032                                                            & West                                                             & FUR-FU-10001487                                                  & Furniture                                                        & Furnishings                                                      & Eldon Expressions Wood and Plastic Desk Accessories, Cherry Wood &  48.8600                                                         & 7                                                                & 0.00                                                             &   14.1694                                                       \\\\\n",
       "\\end{tabular}\n"
      ],
      "text/markdown": [
       "\n",
       "| ï..Row.ID | Order.ID | Order.Date | Ship.Date | Ship.Mode | Customer.ID | Customer.Name | Segment | Country | City | ... | Postal.Code | Region | Product.ID | Category | Sub.Category | Product.Name | Sales | Quantity | Discount | Profit |\n",
       "|---|---|---|---|---|---|---|---|---|---|---|---|---|---|---|---|---|---|---|---|---|\n",
       "| 1                                                                | CA-2016-152156                                                   | 2016/11/08                                                       | 2016/11/11                                                       | Second Class                                                     | CG-12520                                                         | Claire Gute                                                      | Consumer                                                         | United States                                                    | Henderson                                                        | ...                                                              | 42420                                                            | South                                                            | FUR-BO-10001798                                                  | Furniture                                                        | Bookcases                                                        | Bush Somerset Collection Bookcase                                | 261.9600                                                         | 2                                                                | 0.00                                                             |   41.9136                                                        |\n",
       "| 2                                                                | CA-2016-152156                                                   | 2016/11/08                                                       | 2016/11/11                                                       | Second Class                                                     | CG-12520                                                         | Claire Gute                                                      | Consumer                                                         | United States                                                    | Henderson                                                        | ...                                                              | 42420                                                            | South                                                            | FUR-CH-10000454                                                  | Furniture                                                        | Chairs                                                           | Hon Deluxe Fabric Upholstered Stacking Chairs, Rounded Back      | 731.9400                                                         | 3                                                                | 0.00                                                             |  219.5820                                                        |\n",
       "| 3                                                                | CA-2016-138688                                                   | 2016/06/12                                                       | 2016/06/16                                                       | Second Class                                                     | DV-13045                                                         | Darrin Van Huff                                                  | Corporate                                                        | United States                                                    | Los Angeles                                                      | ...                                                              | 90036                                                            | West                                                             | OFF-LA-10000240                                                  | Office Supplies                                                  | Labels                                                           | Self-Adhesive Address Labels for Typewriters by Universal        |  14.6200                                                         | 2                                                                | 0.00                                                             |    6.8714                                                        |\n",
       "| 4                                                                | US-2015-108966                                                   | 2015/10/11                                                       | 2015/10/18                                                       | Standard Class                                                   | SO-20335                                                         | Sean O'Donnell                                                   | Consumer                                                         | United States                                                    | Fort Lauderdale                                                  | ...                                                              | 33311                                                            | South                                                            | FUR-TA-10000577                                                  | Furniture                                                        | Tables                                                           | Bretford CR4500 Series Slim Rectangular Table                    | 957.5775                                                         | 5                                                                | 0.45                                                             | -383.0310                                                        |\n",
       "| 5                                                                | US-2015-108966                                                   | 2015/10/11                                                       | 2015/10/18                                                       | Standard Class                                                   | SO-20335                                                         | Sean O'Donnell                                                   | Consumer                                                         | United States                                                    | Fort Lauderdale                                                  | ...                                                              | 33311                                                            | South                                                            | OFF-ST-10000760                                                  | Office Supplies                                                  | Storage                                                          | Eldon Fold 'N Roll Cart System                                   |  22.3680                                                         | 2                                                                | 0.20                                                             |    2.5164                                                        |\n",
       "| 6                                                                | CA-2014-115812                                                   | 2014/06/09                                                       | 2014/06/14                                                       | Standard Class                                                   | BH-11710                                                         | Brosina Hoffman                                                  | Consumer                                                         | United States                                                    | Los Angeles                                                      | ...                                                              | 90032                                                            | West                                                             | FUR-FU-10001487                                                  | Furniture                                                        | Furnishings                                                      | Eldon Expressions Wood and Plastic Desk Accessories, Cherry Wood |  48.8600                                                         | 7                                                                | 0.00                                                             |   14.1694                                                        |\n",
       "\n"
      ],
      "text/plain": [
       "  ï..Row.ID Order.ID       Order.Date Ship.Date  Ship.Mode      Customer.ID\n",
       "1 1         CA-2016-152156 2016/11/08 2016/11/11 Second Class   CG-12520   \n",
       "2 2         CA-2016-152156 2016/11/08 2016/11/11 Second Class   CG-12520   \n",
       "3 3         CA-2016-138688 2016/06/12 2016/06/16 Second Class   DV-13045   \n",
       "4 4         US-2015-108966 2015/10/11 2015/10/18 Standard Class SO-20335   \n",
       "5 5         US-2015-108966 2015/10/11 2015/10/18 Standard Class SO-20335   \n",
       "6 6         CA-2014-115812 2014/06/09 2014/06/14 Standard Class BH-11710   \n",
       "  Customer.Name   Segment   Country       City            ... Postal.Code\n",
       "1 Claire Gute     Consumer  United States Henderson       ... 42420      \n",
       "2 Claire Gute     Consumer  United States Henderson       ... 42420      \n",
       "3 Darrin Van Huff Corporate United States Los Angeles     ... 90036      \n",
       "4 Sean O'Donnell  Consumer  United States Fort Lauderdale ... 33311      \n",
       "5 Sean O'Donnell  Consumer  United States Fort Lauderdale ... 33311      \n",
       "6 Brosina Hoffman Consumer  United States Los Angeles     ... 90032      \n",
       "  Region Product.ID      Category        Sub.Category\n",
       "1 South  FUR-BO-10001798 Furniture       Bookcases   \n",
       "2 South  FUR-CH-10000454 Furniture       Chairs      \n",
       "3 West   OFF-LA-10000240 Office Supplies Labels      \n",
       "4 South  FUR-TA-10000577 Furniture       Tables      \n",
       "5 South  OFF-ST-10000760 Office Supplies Storage     \n",
       "6 West   FUR-FU-10001487 Furniture       Furnishings \n",
       "  Product.Name                                                     Sales   \n",
       "1 Bush Somerset Collection Bookcase                                261.9600\n",
       "2 Hon Deluxe Fabric Upholstered Stacking Chairs, Rounded Back      731.9400\n",
       "3 Self-Adhesive Address Labels for Typewriters by Universal         14.6200\n",
       "4 Bretford CR4500 Series Slim Rectangular Table                    957.5775\n",
       "5 Eldon Fold 'N Roll Cart System                                    22.3680\n",
       "6 Eldon Expressions Wood and Plastic Desk Accessories, Cherry Wood  48.8600\n",
       "  Quantity Discount Profit   \n",
       "1 2        0.00       41.9136\n",
       "2 3        0.00      219.5820\n",
       "3 2        0.00        6.8714\n",
       "4 5        0.45     -383.0310\n",
       "5 2        0.20        2.5164\n",
       "6 7        0.00       14.1694"
      ]
     },
     "metadata": {},
     "output_type": "display_data"
    }
   ],
   "source": [
    "# read dataset from csv file\n",
    "df <- read.csv(\"../data/Dataset- Superstore (2015-2018).csv\")\n",
    "head(df)"
   ]
  },
  {
   "cell_type": "code",
   "execution_count": 23,
   "metadata": {
    "vscode": {
     "languageId": "r"
    }
   },
   "outputs": [
    {
     "data": {
      "text/html": [
       "<ol class=list-inline>\n",
       "\t<li>9994</li>\n",
       "\t<li>21</li>\n",
       "</ol>\n"
      ],
      "text/latex": [
       "\\begin{enumerate*}\n",
       "\\item 9994\n",
       "\\item 21\n",
       "\\end{enumerate*}\n"
      ],
      "text/markdown": [
       "1. 9994\n",
       "2. 21\n",
       "\n",
       "\n"
      ],
      "text/plain": [
       "[1] 9994   21"
      ]
     },
     "metadata": {},
     "output_type": "display_data"
    }
   ],
   "source": [
    "# finding the number of rows and columns\n",
    "dim(df)"
   ]
  },
  {
   "cell_type": "code",
   "execution_count": 15,
   "metadata": {
    "vscode": {
     "languageId": "r"
    }
   },
   "outputs": [
    {
     "name": "stdout",
     "output_type": "stream",
     "text": [
      "'data.frame':\t9994 obs. of  21 variables:\n",
      " $ ï..Row.ID    : int  1 2 3 4 5 6 7 8 9 10 ...\n",
      " $ Order.ID     : Factor w/ 5009 levels \"CA-2014-100006\",..: 2501 2501 2297 4373 4373 202 202 202 202 202 ...\n",
      " $ Order.Date   : Factor w/ 1237 levels \"2014/01/03\",\"2014/01/04\",..: 865 865 733 520 520 126 126 126 126 126 ...\n",
      " $ Ship.Date    : Factor w/ 1334 levels \"2014/01/07\",\"2014/01/08\",..: 930 930 788 569 569 129 129 129 129 129 ...\n",
      " $ Ship.Mode    : Factor w/ 4 levels \"First Class\",..: 3 3 3 4 4 4 4 4 4 4 ...\n",
      " $ Customer.ID  : Factor w/ 793 levels \"AA-10315\",\"AA-10375\",..: 144 144 240 706 706 89 89 89 89 89 ...\n",
      " $ Customer.Name: Factor w/ 793 levels \"Aaron Bergman\",..: 167 167 202 688 688 114 114 114 114 114 ...\n",
      " $ Segment      : Factor w/ 3 levels \"Consumer\",\"Corporate\",..: 1 1 2 1 1 1 1 1 1 1 ...\n",
      " $ Country      : Factor w/ 1 level \"United States\": 1 1 1 1 1 1 1 1 1 1 ...\n",
      " $ City         : Factor w/ 531 levels \"Aberdeen\",\"Abilene\",..: 195 195 267 154 154 267 267 267 267 267 ...\n",
      " $ State        : Factor w/ 49 levels \"Alabama\",\"Arizona\",..: 16 16 4 9 9 4 4 4 4 4 ...\n",
      " $ Postal.Code  : int  42420 42420 90036 33311 33311 90032 90032 90032 90032 90032 ...\n",
      " $ Region       : Factor w/ 4 levels \"Central\",\"East\",..: 3 3 4 3 3 4 4 4 4 4 ...\n",
      " $ Product.ID   : Factor w/ 1862 levels \"FUR-BO-10000112\",..: 13 56 947 320 1317 186 563 1762 795 438 ...\n",
      " $ Category     : Factor w/ 3 levels \"Furniture\",\"Office Supplies\",..: 1 1 2 1 2 1 2 3 2 2 ...\n",
      " $ Sub.Category : Factor w/ 17 levels \"Accessories\",..: 5 6 11 17 15 10 3 14 4 2 ...\n",
      " $ Product.Name : Factor w/ 1850 levels \"\\\"While you Were Out\\\" Message Book, One Form per Page\",..: 387 833 1440 368 574 570 1137 1099 535 295 ...\n",
      " $ Sales        : num  262 731.9 14.6 957.6 22.4 ...\n",
      " $ Quantity     : int  2 3 2 5 2 7 4 6 3 5 ...\n",
      " $ Discount     : num  0 0 0 0.45 0.2 0 0 0.2 0.2 0 ...\n",
      " $ Profit       : num  41.91 219.58 6.87 -383.03 2.52 ...\n"
     ]
    }
   ],
   "source": [
    "# dataset information\n",
    "str(df)"
   ]
  },
  {
   "cell_type": "code",
   "execution_count": 17,
   "metadata": {
    "vscode": {
     "languageId": "r"
    }
   },
   "outputs": [
    {
     "data": {
      "text/plain": [
       "   ï..Row.ID              Order.ID         Order.Date        Ship.Date   \n",
       " Min.   :   1   CA-2017-100111:  14   2016/09/05:  38   2015/12/16:  35  \n",
       " 1st Qu.:2499   CA-2017-157987:  12   2017/09/02:  36   2017/09/26:  34  \n",
       " Median :4998   CA-2016-165330:  11   2016/11/10:  35   2017/11/21:  32  \n",
       " Mean   :4998   US-2016-108504:  11   2017/12/01:  34   2017/12/06:  32  \n",
       " 3rd Qu.:7496   CA-2015-131338:  10   2017/12/02:  34   2017/09/06:  30  \n",
       " Max.   :9994   CA-2016-105732:  10   2017/12/09:  33   2017/09/15:  30  \n",
       "                (Other)       :9926   (Other)   :9784   (Other)   :9801  \n",
       "          Ship.Mode      Customer.ID               Customer.Name \n",
       " First Class   :1538   WB-21850:  37   William Brown      :  37  \n",
       " Same Day      : 543   JL-15835:  34   John Lee           :  34  \n",
       " Second Class  :1945   MA-17560:  34   Matt Abelman       :  34  \n",
       " Standard Class:5968   PP-18955:  34   Paul Prost         :  34  \n",
       "                       CK-12205:  32   Chloris Kastensmidt:  32  \n",
       "                       EH-13765:  32   Edward Hooks       :  32  \n",
       "                       (Other) :9791   (Other)            :9791  \n",
       "        Segment              Country                City     \n",
       " Consumer   :5191   United States:9994   New York City: 915  \n",
       " Corporate  :3020                        Los Angeles  : 747  \n",
       " Home Office:1783                        Philadelphia : 537  \n",
       "                                         San Francisco: 510  \n",
       "                                         Seattle      : 428  \n",
       "                                         Houston      : 377  \n",
       "                                         (Other)      :6480  \n",
       "          State       Postal.Code        Region               Product.ID  \n",
       " California  :2001   Min.   : 1040   Central:2323   OFF-PA-10001970:  19  \n",
       " New York    :1128   1st Qu.:23223   East   :2848   TEC-AC-10003832:  18  \n",
       " Texas       : 985   Median :56431   South  :1620   FUR-FU-10004270:  16  \n",
       " Pennsylvania: 587   Mean   :55190   West   :3203   FUR-CH-10001146:  15  \n",
       " Washington  : 506   3rd Qu.:90008                  FUR-CH-10002647:  15  \n",
       " Illinois    : 492   Max.   :99301                  TEC-AC-10002049:  15  \n",
       " (Other)     :4295                                  (Other)        :9896  \n",
       "            Category         Sub.Category                      Product.Name \n",
       " Furniture      :2121   Binders    :1523   Staple envelope           :  48  \n",
       " Office Supplies:6026   Paper      :1370   Easy-staple paper         :  46  \n",
       " Technology     :1847   Furnishings: 957   Staples                   :  46  \n",
       "                        Phones     : 889   Avery Non-Stick Binders   :  20  \n",
       "                        Storage    : 846   Staples in misc. colors   :  19  \n",
       "                        Art        : 796   KI Adjustable-Height Table:  18  \n",
       "                        (Other)    :3613   (Other)                   :9797  \n",
       "     Sales              Quantity        Discount          Profit         \n",
       " Min.   :    0.444   Min.   : 1.00   Min.   :0.0000   Min.   :-6599.978  \n",
       " 1st Qu.:   17.280   1st Qu.: 2.00   1st Qu.:0.0000   1st Qu.:    1.729  \n",
       " Median :   54.490   Median : 3.00   Median :0.2000   Median :    8.666  \n",
       " Mean   :  229.858   Mean   : 3.79   Mean   :0.1562   Mean   :   28.657  \n",
       " 3rd Qu.:  209.940   3rd Qu.: 5.00   3rd Qu.:0.2000   3rd Qu.:   29.364  \n",
       " Max.   :22638.480   Max.   :14.00   Max.   :0.8000   Max.   : 8399.976  \n",
       "                                                                         "
      ]
     },
     "metadata": {},
     "output_type": "display_data"
    }
   ],
   "source": [
    "# dataset summary\n",
    "summary(df)"
   ]
  },
  {
   "cell_type": "code",
   "execution_count": 26,
   "metadata": {
    "vscode": {
     "languageId": "r"
    }
   },
   "outputs": [
    {
     "data": {
      "text/plain": [
       "\n",
       " factor integer numeric \n",
       "     15       3       3 "
      ]
     },
     "metadata": {},
     "output_type": "display_data"
    }
   ],
   "source": [
    "# occurences of each datatype\n",
    "table(sapply(df, class))"
   ]
  },
  {
   "cell_type": "code",
   "execution_count": 19,
   "metadata": {
    "vscode": {
     "languageId": "r"
    }
   },
   "outputs": [
    {
     "data": {
      "text/html": [
       "<dl class=dl-horizontal>\n",
       "\t<dt>ï..Row.ID</dt>\n",
       "\t\t<dd>9994</dd>\n",
       "\t<dt>Order.ID</dt>\n",
       "\t\t<dd>5009</dd>\n",
       "\t<dt>Order.Date</dt>\n",
       "\t\t<dd>1237</dd>\n",
       "\t<dt>Ship.Date</dt>\n",
       "\t\t<dd>1334</dd>\n",
       "\t<dt>Ship.Mode</dt>\n",
       "\t\t<dd>4</dd>\n",
       "\t<dt>Customer.ID</dt>\n",
       "\t\t<dd>793</dd>\n",
       "\t<dt>Customer.Name</dt>\n",
       "\t\t<dd>793</dd>\n",
       "\t<dt>Segment</dt>\n",
       "\t\t<dd>3</dd>\n",
       "\t<dt>Country</dt>\n",
       "\t\t<dd>1</dd>\n",
       "\t<dt>City</dt>\n",
       "\t\t<dd>531</dd>\n",
       "\t<dt>State</dt>\n",
       "\t\t<dd>49</dd>\n",
       "\t<dt>Postal.Code</dt>\n",
       "\t\t<dd>631</dd>\n",
       "\t<dt>Region</dt>\n",
       "\t\t<dd>4</dd>\n",
       "\t<dt>Product.ID</dt>\n",
       "\t\t<dd>1862</dd>\n",
       "\t<dt>Category</dt>\n",
       "\t\t<dd>3</dd>\n",
       "\t<dt>Sub.Category</dt>\n",
       "\t\t<dd>17</dd>\n",
       "\t<dt>Product.Name</dt>\n",
       "\t\t<dd>1850</dd>\n",
       "\t<dt>Sales</dt>\n",
       "\t\t<dd>5825</dd>\n",
       "\t<dt>Quantity</dt>\n",
       "\t\t<dd>14</dd>\n",
       "\t<dt>Discount</dt>\n",
       "\t\t<dd>12</dd>\n",
       "\t<dt>Profit</dt>\n",
       "\t\t<dd>7287</dd>\n",
       "</dl>\n"
      ],
      "text/latex": [
       "\\begin{description*}\n",
       "\\item[ï..Row.ID] 9994\n",
       "\\item[Order.ID] 5009\n",
       "\\item[Order.Date] 1237\n",
       "\\item[Ship.Date] 1334\n",
       "\\item[Ship.Mode] 4\n",
       "\\item[Customer.ID] 793\n",
       "\\item[Customer.Name] 793\n",
       "\\item[Segment] 3\n",
       "\\item[Country] 1\n",
       "\\item[City] 531\n",
       "\\item[State] 49\n",
       "\\item[Postal.Code] 631\n",
       "\\item[Region] 4\n",
       "\\item[Product.ID] 1862\n",
       "\\item[Category] 3\n",
       "\\item[Sub.Category] 17\n",
       "\\item[Product.Name] 1850\n",
       "\\item[Sales] 5825\n",
       "\\item[Quantity] 14\n",
       "\\item[Discount] 12\n",
       "\\item[Profit] 7287\n",
       "\\end{description*}\n"
      ],
      "text/markdown": [
       "ï..Row.ID\n",
       ":   9994Order.ID\n",
       ":   5009Order.Date\n",
       ":   1237Ship.Date\n",
       ":   1334Ship.Mode\n",
       ":   4Customer.ID\n",
       ":   793Customer.Name\n",
       ":   793Segment\n",
       ":   3Country\n",
       ":   1City\n",
       ":   531State\n",
       ":   49Postal.Code\n",
       ":   631Region\n",
       ":   4Product.ID\n",
       ":   1862Category\n",
       ":   3Sub.Category\n",
       ":   17Product.Name\n",
       ":   1850Sales\n",
       ":   5825Quantity\n",
       ":   14Discount\n",
       ":   12Profit\n",
       ":   7287\n",
       "\n"
      ],
      "text/plain": [
       "    ï..Row.ID      Order.ID    Order.Date     Ship.Date     Ship.Mode \n",
       "         9994          5009          1237          1334             4 \n",
       "  Customer.ID Customer.Name       Segment       Country          City \n",
       "          793           793             3             1           531 \n",
       "        State   Postal.Code        Region    Product.ID      Category \n",
       "           49           631             4          1862             3 \n",
       " Sub.Category  Product.Name         Sales      Quantity      Discount \n",
       "           17          1850          5825            14            12 \n",
       "       Profit \n",
       "         7287 "
      ]
     },
     "metadata": {},
     "output_type": "display_data"
    }
   ],
   "source": [
    "# finding the number of unique values in each column\n",
    "sapply(df, function(x) length(unique(x)))"
   ]
  },
  {
   "cell_type": "code",
   "execution_count": 32,
   "metadata": {
    "vscode": {
     "languageId": "r"
    }
   },
   "outputs": [
    {
     "data": {
      "text/html": [
       "<dl class=dl-horizontal>\n",
       "\t<dt>ï..Row.ID</dt>\n",
       "\t\t<dd>0</dd>\n",
       "\t<dt>Order.ID</dt>\n",
       "\t\t<dd>0</dd>\n",
       "\t<dt>Order.Date</dt>\n",
       "\t\t<dd>0</dd>\n",
       "\t<dt>Ship.Date</dt>\n",
       "\t\t<dd>0</dd>\n",
       "\t<dt>Ship.Mode</dt>\n",
       "\t\t<dd>0</dd>\n",
       "\t<dt>Customer.ID</dt>\n",
       "\t\t<dd>0</dd>\n",
       "\t<dt>Customer.Name</dt>\n",
       "\t\t<dd>0</dd>\n",
       "\t<dt>Segment</dt>\n",
       "\t\t<dd>0</dd>\n",
       "\t<dt>Country</dt>\n",
       "\t\t<dd>0</dd>\n",
       "\t<dt>City</dt>\n",
       "\t\t<dd>0</dd>\n",
       "\t<dt>State</dt>\n",
       "\t\t<dd>0</dd>\n",
       "\t<dt>Postal.Code</dt>\n",
       "\t\t<dd>0</dd>\n",
       "\t<dt>Region</dt>\n",
       "\t\t<dd>0</dd>\n",
       "\t<dt>Product.ID</dt>\n",
       "\t\t<dd>0</dd>\n",
       "\t<dt>Category</dt>\n",
       "\t\t<dd>0</dd>\n",
       "\t<dt>Sub.Category</dt>\n",
       "\t\t<dd>0</dd>\n",
       "\t<dt>Product.Name</dt>\n",
       "\t\t<dd>0</dd>\n",
       "\t<dt>Sales</dt>\n",
       "\t\t<dd>0</dd>\n",
       "\t<dt>Quantity</dt>\n",
       "\t\t<dd>0</dd>\n",
       "\t<dt>Discount</dt>\n",
       "\t\t<dd>0</dd>\n",
       "\t<dt>Profit</dt>\n",
       "\t\t<dd>0</dd>\n",
       "</dl>\n"
      ],
      "text/latex": [
       "\\begin{description*}\n",
       "\\item[ï..Row.ID] 0\n",
       "\\item[Order.ID] 0\n",
       "\\item[Order.Date] 0\n",
       "\\item[Ship.Date] 0\n",
       "\\item[Ship.Mode] 0\n",
       "\\item[Customer.ID] 0\n",
       "\\item[Customer.Name] 0\n",
       "\\item[Segment] 0\n",
       "\\item[Country] 0\n",
       "\\item[City] 0\n",
       "\\item[State] 0\n",
       "\\item[Postal.Code] 0\n",
       "\\item[Region] 0\n",
       "\\item[Product.ID] 0\n",
       "\\item[Category] 0\n",
       "\\item[Sub.Category] 0\n",
       "\\item[Product.Name] 0\n",
       "\\item[Sales] 0\n",
       "\\item[Quantity] 0\n",
       "\\item[Discount] 0\n",
       "\\item[Profit] 0\n",
       "\\end{description*}\n"
      ],
      "text/markdown": [
       "ï..Row.ID\n",
       ":   0Order.ID\n",
       ":   0Order.Date\n",
       ":   0Ship.Date\n",
       ":   0Ship.Mode\n",
       ":   0Customer.ID\n",
       ":   0Customer.Name\n",
       ":   0Segment\n",
       ":   0Country\n",
       ":   0City\n",
       ":   0State\n",
       ":   0Postal.Code\n",
       ":   0Region\n",
       ":   0Product.ID\n",
       ":   0Category\n",
       ":   0Sub.Category\n",
       ":   0Product.Name\n",
       ":   0Sales\n",
       ":   0Quantity\n",
       ":   0Discount\n",
       ":   0Profit\n",
       ":   0\n",
       "\n"
      ],
      "text/plain": [
       "    ï..Row.ID      Order.ID    Order.Date     Ship.Date     Ship.Mode \n",
       "            0             0             0             0             0 \n",
       "  Customer.ID Customer.Name       Segment       Country          City \n",
       "            0             0             0             0             0 \n",
       "        State   Postal.Code        Region    Product.ID      Category \n",
       "            0             0             0             0             0 \n",
       " Sub.Category  Product.Name         Sales      Quantity      Discount \n",
       "            0             0             0             0             0 \n",
       "       Profit \n",
       "            0 "
      ]
     },
     "metadata": {},
     "output_type": "display_data"
    }
   ],
   "source": [
    "# finding the number of missing values in each column\n",
    "sapply(df, function(x) sum(is.na(x)))"
   ]
  },
  {
   "cell_type": "code",
   "execution_count": 38,
   "metadata": {
    "vscode": {
     "languageId": "r"
    }
   },
   "outputs": [
    {
     "name": "stdout",
     "output_type": "stream",
     "text": [
      "Total of missing values: 0"
     ]
    }
   ],
   "source": [
    " cat(\"Total of missing values:\", sum(is.na(df)))"
   ]
  }
 ],
 "metadata": {
  "kernelspec": {
   "display_name": "R",
   "language": "R",
   "name": "ir"
  },
  "language_info": {
   "codemirror_mode": "r",
   "file_extension": ".r",
   "mimetype": "text/x-r-source",
   "name": "R",
   "pygments_lexer": "r",
   "version": "3.6.1"
  },
  "orig_nbformat": 4
 },
 "nbformat": 4,
 "nbformat_minor": 2
}
