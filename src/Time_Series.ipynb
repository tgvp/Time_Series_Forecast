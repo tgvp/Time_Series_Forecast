{
 "cells": [
  {
   "attachments": {},
   "cell_type": "markdown",
   "metadata": {},
   "source": [
    "### Importando libraries"
   ]
  },
  {
   "cell_type": "code",
   "execution_count": 387,
   "metadata": {
    "vscode": {
     "languageId": "r"
    }
   },
   "outputs": [],
   "source": [
    "library(dplyr)\n",
    "library(tsibble)\n",
    "library(forecast)\n",
    "library(ggplot2)\n",
    "library(ggfortify)\n",
    "library(ggcorrplot)\n",
    "options(warn=-1)\n",
    "library(fpp3)\n",
    "library(tidyverse)"
   ]
  },
  {
   "attachments": {},
   "cell_type": "markdown",
   "metadata": {},
   "source": [
    "## Análise Exploratória dos dados"
   ]
  },
  {
   "cell_type": "code",
   "execution_count": 388,
   "metadata": {
    "vscode": {
     "languageId": "r"
    }
   },
   "outputs": [
    {
     "data": {
      "text/html": [
       "<table class=\"dataframe\">\n",
       "<caption>A data.frame: 6 × 21</caption>\n",
       "<thead>\n",
       "\t<tr><th></th><th scope=col>Row.ID</th><th scope=col>Order.ID</th><th scope=col>Order.Date</th><th scope=col>Ship.Date</th><th scope=col>Ship.Mode</th><th scope=col>Customer.ID</th><th scope=col>Customer.Name</th><th scope=col>Segment</th><th scope=col>Country</th><th scope=col>City</th><th scope=col>...</th><th scope=col>Postal.Code</th><th scope=col>Region</th><th scope=col>Product.ID</th><th scope=col>Category</th><th scope=col>Sub.Category</th><th scope=col>Product.Name</th><th scope=col>Sales</th><th scope=col>Quantity</th><th scope=col>Discount</th><th scope=col>Profit</th></tr>\n",
       "\t<tr><th></th><th scope=col>&lt;int&gt;</th><th scope=col>&lt;chr&gt;</th><th scope=col>&lt;chr&gt;</th><th scope=col>&lt;chr&gt;</th><th scope=col>&lt;chr&gt;</th><th scope=col>&lt;chr&gt;</th><th scope=col>&lt;chr&gt;</th><th scope=col>&lt;chr&gt;</th><th scope=col>&lt;chr&gt;</th><th scope=col>&lt;chr&gt;</th><th scope=col>...</th><th scope=col>&lt;int&gt;</th><th scope=col>&lt;chr&gt;</th><th scope=col>&lt;chr&gt;</th><th scope=col>&lt;chr&gt;</th><th scope=col>&lt;chr&gt;</th><th scope=col>&lt;chr&gt;</th><th scope=col>&lt;dbl&gt;</th><th scope=col>&lt;int&gt;</th><th scope=col>&lt;dbl&gt;</th><th scope=col>&lt;dbl&gt;</th></tr>\n",
       "</thead>\n",
       "<tbody>\n",
       "\t<tr><th scope=row>1</th><td>1</td><td>CA-2016-152156</td><td>2016/11/08</td><td>2016/11/11</td><td>Second Class  </td><td>CG-12520</td><td>Claire Gute    </td><td>Consumer </td><td>United States</td><td>Henderson      </td><td>...</td><td>42420</td><td>South</td><td>FUR-BO-10001798</td><td>Furniture      </td><td>Bookcases  </td><td>Bush Somerset Collection Bookcase                               </td><td>261.9600</td><td>2</td><td>0.00</td><td>  41.9136</td></tr>\n",
       "\t<tr><th scope=row>2</th><td>2</td><td>CA-2016-152156</td><td>2016/11/08</td><td>2016/11/11</td><td>Second Class  </td><td>CG-12520</td><td>Claire Gute    </td><td>Consumer </td><td>United States</td><td>Henderson      </td><td>...</td><td>42420</td><td>South</td><td>FUR-CH-10000454</td><td>Furniture      </td><td>Chairs     </td><td>Hon Deluxe Fabric Upholstered Stacking Chairs, Rounded Back     </td><td>731.9400</td><td>3</td><td>0.00</td><td> 219.5820</td></tr>\n",
       "\t<tr><th scope=row>3</th><td>3</td><td>CA-2016-138688</td><td>2016/06/12</td><td>2016/06/16</td><td>Second Class  </td><td>DV-13045</td><td>Darrin Van Huff</td><td>Corporate</td><td>United States</td><td>Los Angeles    </td><td>...</td><td>90036</td><td>West </td><td>OFF-LA-10000240</td><td>Office Supplies</td><td>Labels     </td><td>Self-Adhesive Address Labels for Typewriters by Universal       </td><td> 14.6200</td><td>2</td><td>0.00</td><td>   6.8714</td></tr>\n",
       "\t<tr><th scope=row>4</th><td>4</td><td>US-2015-108966</td><td>2015/10/11</td><td>2015/10/18</td><td>Standard Class</td><td>SO-20335</td><td>Sean O'Donnell </td><td>Consumer </td><td>United States</td><td>Fort Lauderdale</td><td>...</td><td>33311</td><td>South</td><td>FUR-TA-10000577</td><td>Furniture      </td><td>Tables     </td><td>Bretford CR4500 Series Slim Rectangular Table                   </td><td>957.5775</td><td>5</td><td>0.45</td><td>-383.0310</td></tr>\n",
       "\t<tr><th scope=row>5</th><td>5</td><td>US-2015-108966</td><td>2015/10/11</td><td>2015/10/18</td><td>Standard Class</td><td>SO-20335</td><td>Sean O'Donnell </td><td>Consumer </td><td>United States</td><td>Fort Lauderdale</td><td>...</td><td>33311</td><td>South</td><td>OFF-ST-10000760</td><td>Office Supplies</td><td>Storage    </td><td>Eldon Fold 'N Roll Cart System                                  </td><td> 22.3680</td><td>2</td><td>0.20</td><td>   2.5164</td></tr>\n",
       "\t<tr><th scope=row>6</th><td>6</td><td>CA-2014-115812</td><td>2014/06/09</td><td>2014/06/14</td><td>Standard Class</td><td>BH-11710</td><td>Brosina Hoffman</td><td>Consumer </td><td>United States</td><td>Los Angeles    </td><td>...</td><td>90032</td><td>West </td><td>FUR-FU-10001487</td><td>Furniture      </td><td>Furnishings</td><td>Eldon Expressions Wood and Plastic Desk Accessories, Cherry Wood</td><td> 48.8600</td><td>7</td><td>0.00</td><td>  14.1694</td></tr>\n",
       "</tbody>\n",
       "</table>\n"
      ],
      "text/latex": [
       "A data.frame: 6 × 21\n",
       "\\begin{tabular}{r|lllllllllllllllllllll}\n",
       "  & Row.ID & Order.ID & Order.Date & Ship.Date & Ship.Mode & Customer.ID & Customer.Name & Segment & Country & City & ... & Postal.Code & Region & Product.ID & Category & Sub.Category & Product.Name & Sales & Quantity & Discount & Profit\\\\\n",
       "  & <int> & <chr> & <chr> & <chr> & <chr> & <chr> & <chr> & <chr> & <chr> & <chr> & ... & <int> & <chr> & <chr> & <chr> & <chr> & <chr> & <dbl> & <int> & <dbl> & <dbl>\\\\\n",
       "\\hline\n",
       "\t1 & 1 & CA-2016-152156 & 2016/11/08 & 2016/11/11 & Second Class   & CG-12520 & Claire Gute     & Consumer  & United States & Henderson       & ... & 42420 & South & FUR-BO-10001798 & Furniture       & Bookcases   & Bush Somerset Collection Bookcase                                & 261.9600 & 2 & 0.00 &   41.9136\\\\\n",
       "\t2 & 2 & CA-2016-152156 & 2016/11/08 & 2016/11/11 & Second Class   & CG-12520 & Claire Gute     & Consumer  & United States & Henderson       & ... & 42420 & South & FUR-CH-10000454 & Furniture       & Chairs      & Hon Deluxe Fabric Upholstered Stacking Chairs, Rounded Back      & 731.9400 & 3 & 0.00 &  219.5820\\\\\n",
       "\t3 & 3 & CA-2016-138688 & 2016/06/12 & 2016/06/16 & Second Class   & DV-13045 & Darrin Van Huff & Corporate & United States & Los Angeles     & ... & 90036 & West  & OFF-LA-10000240 & Office Supplies & Labels      & Self-Adhesive Address Labels for Typewriters by Universal        &  14.6200 & 2 & 0.00 &    6.8714\\\\\n",
       "\t4 & 4 & US-2015-108966 & 2015/10/11 & 2015/10/18 & Standard Class & SO-20335 & Sean O'Donnell  & Consumer  & United States & Fort Lauderdale & ... & 33311 & South & FUR-TA-10000577 & Furniture       & Tables      & Bretford CR4500 Series Slim Rectangular Table                    & 957.5775 & 5 & 0.45 & -383.0310\\\\\n",
       "\t5 & 5 & US-2015-108966 & 2015/10/11 & 2015/10/18 & Standard Class & SO-20335 & Sean O'Donnell  & Consumer  & United States & Fort Lauderdale & ... & 33311 & South & OFF-ST-10000760 & Office Supplies & Storage     & Eldon Fold 'N Roll Cart System                                   &  22.3680 & 2 & 0.20 &    2.5164\\\\\n",
       "\t6 & 6 & CA-2014-115812 & 2014/06/09 & 2014/06/14 & Standard Class & BH-11710 & Brosina Hoffman & Consumer  & United States & Los Angeles     & ... & 90032 & West  & FUR-FU-10001487 & Furniture       & Furnishings & Eldon Expressions Wood and Plastic Desk Accessories, Cherry Wood &  48.8600 & 7 & 0.00 &   14.1694\\\\\n",
       "\\end{tabular}\n"
      ],
      "text/markdown": [
       "\n",
       "A data.frame: 6 × 21\n",
       "\n",
       "| <!--/--> | Row.ID &lt;int&gt; | Order.ID &lt;chr&gt; | Order.Date &lt;chr&gt; | Ship.Date &lt;chr&gt; | Ship.Mode &lt;chr&gt; | Customer.ID &lt;chr&gt; | Customer.Name &lt;chr&gt; | Segment &lt;chr&gt; | Country &lt;chr&gt; | City &lt;chr&gt; | ... ... | Postal.Code &lt;int&gt; | Region &lt;chr&gt; | Product.ID &lt;chr&gt; | Category &lt;chr&gt; | Sub.Category &lt;chr&gt; | Product.Name &lt;chr&gt; | Sales &lt;dbl&gt; | Quantity &lt;int&gt; | Discount &lt;dbl&gt; | Profit &lt;dbl&gt; |\n",
       "|---|---|---|---|---|---|---|---|---|---|---|---|---|---|---|---|---|---|---|---|---|---|\n",
       "| 1 | 1 | CA-2016-152156 | 2016/11/08 | 2016/11/11 | Second Class   | CG-12520 | Claire Gute     | Consumer  | United States | Henderson       | ... | 42420 | South | FUR-BO-10001798 | Furniture       | Bookcases   | Bush Somerset Collection Bookcase                                | 261.9600 | 2 | 0.00 |   41.9136 |\n",
       "| 2 | 2 | CA-2016-152156 | 2016/11/08 | 2016/11/11 | Second Class   | CG-12520 | Claire Gute     | Consumer  | United States | Henderson       | ... | 42420 | South | FUR-CH-10000454 | Furniture       | Chairs      | Hon Deluxe Fabric Upholstered Stacking Chairs, Rounded Back      | 731.9400 | 3 | 0.00 |  219.5820 |\n",
       "| 3 | 3 | CA-2016-138688 | 2016/06/12 | 2016/06/16 | Second Class   | DV-13045 | Darrin Van Huff | Corporate | United States | Los Angeles     | ... | 90036 | West  | OFF-LA-10000240 | Office Supplies | Labels      | Self-Adhesive Address Labels for Typewriters by Universal        |  14.6200 | 2 | 0.00 |    6.8714 |\n",
       "| 4 | 4 | US-2015-108966 | 2015/10/11 | 2015/10/18 | Standard Class | SO-20335 | Sean O'Donnell  | Consumer  | United States | Fort Lauderdale | ... | 33311 | South | FUR-TA-10000577 | Furniture       | Tables      | Bretford CR4500 Series Slim Rectangular Table                    | 957.5775 | 5 | 0.45 | -383.0310 |\n",
       "| 5 | 5 | US-2015-108966 | 2015/10/11 | 2015/10/18 | Standard Class | SO-20335 | Sean O'Donnell  | Consumer  | United States | Fort Lauderdale | ... | 33311 | South | OFF-ST-10000760 | Office Supplies | Storage     | Eldon Fold 'N Roll Cart System                                   |  22.3680 | 2 | 0.20 |    2.5164 |\n",
       "| 6 | 6 | CA-2014-115812 | 2014/06/09 | 2014/06/14 | Standard Class | BH-11710 | Brosina Hoffman | Consumer  | United States | Los Angeles     | ... | 90032 | West  | FUR-FU-10001487 | Furniture       | Furnishings | Eldon Expressions Wood and Plastic Desk Accessories, Cherry Wood |  48.8600 | 7 | 0.00 |   14.1694 |\n",
       "\n"
      ],
      "text/plain": [
       "  Row.ID Order.ID       Order.Date Ship.Date \n",
       "1 1      CA-2016-152156 2016/11/08 2016/11/11\n",
       "2 2      CA-2016-152156 2016/11/08 2016/11/11\n",
       "3 3      CA-2016-138688 2016/06/12 2016/06/16\n",
       "4 4      US-2015-108966 2015/10/11 2015/10/18\n",
       "5 5      US-2015-108966 2015/10/11 2015/10/18\n",
       "6 6      CA-2014-115812 2014/06/09 2014/06/14\n",
       "  Ship.Mode      Customer.ID Customer.Name   Segment  \n",
       "1 Second Class   CG-12520    Claire Gute     Consumer \n",
       "2 Second Class   CG-12520    Claire Gute     Consumer \n",
       "3 Second Class   DV-13045    Darrin Van Huff Corporate\n",
       "4 Standard Class SO-20335    Sean O'Donnell  Consumer \n",
       "5 Standard Class SO-20335    Sean O'Donnell  Consumer \n",
       "6 Standard Class BH-11710    Brosina Hoffman Consumer \n",
       "  Country       City            ... Postal.Code Region\n",
       "1 United States Henderson       ... 42420       South \n",
       "2 United States Henderson       ... 42420       South \n",
       "3 United States Los Angeles     ... 90036       West  \n",
       "4 United States Fort Lauderdale ... 33311       South \n",
       "5 United States Fort Lauderdale ... 33311       South \n",
       "6 United States Los Angeles     ... 90032       West  \n",
       "  Product.ID      Category        Sub.Category\n",
       "1 FUR-BO-10001798 Furniture       Bookcases   \n",
       "2 FUR-CH-10000454 Furniture       Chairs      \n",
       "3 OFF-LA-10000240 Office Supplies Labels      \n",
       "4 FUR-TA-10000577 Furniture       Tables      \n",
       "5 OFF-ST-10000760 Office Supplies Storage     \n",
       "6 FUR-FU-10001487 Furniture       Furnishings \n",
       "  Product.Name                                                    \n",
       "1 Bush Somerset Collection Bookcase                               \n",
       "2 Hon Deluxe Fabric Upholstered Stacking Chairs, Rounded Back     \n",
       "3 Self-Adhesive Address Labels for Typewriters by Universal       \n",
       "4 Bretford CR4500 Series Slim Rectangular Table                   \n",
       "5 Eldon Fold 'N Roll Cart System                                  \n",
       "6 Eldon Expressions Wood and Plastic Desk Accessories, Cherry Wood\n",
       "  Sales    Quantity Discount Profit   \n",
       "1 261.9600 2        0.00       41.9136\n",
       "2 731.9400 3        0.00      219.5820\n",
       "3  14.6200 2        0.00        6.8714\n",
       "4 957.5775 5        0.45     -383.0310\n",
       "5  22.3680 2        0.20        2.5164\n",
       "6  48.8600 7        0.00       14.1694"
      ]
     },
     "metadata": {},
     "output_type": "display_data"
    }
   ],
   "source": [
    "# read dataset from csv file and ignore rows with NA values and empty strings or columns with NA values or empty values\n",
    "\n",
    "df <- read.csv(\"../data/Dataset- Superstore (2015-2018).csv\", header = TRUE, sep = \",\", stringsAsFactors = FALSE, na.strings=c(\"\",\"NA\"), dec = \".\", strip.white = TRUE, fileEncoding = \"UTF-8-BOM\", encoding = \"UTF-8\")\n",
    "head(df)"
   ]
  },
  {
   "cell_type": "code",
   "execution_count": 389,
   "metadata": {
    "vscode": {
     "languageId": "r"
    }
   },
   "outputs": [
    {
     "data": {
      "text/html": [
       "<style>\n",
       ".list-inline {list-style: none; margin:0; padding: 0}\n",
       ".list-inline>li {display: inline-block}\n",
       ".list-inline>li:not(:last-child)::after {content: \"\\00b7\"; padding: 0 .5ex}\n",
       "</style>\n",
       "<ol class=list-inline><li>9994</li><li>21</li></ol>\n"
      ],
      "text/latex": [
       "\\begin{enumerate*}\n",
       "\\item 9994\n",
       "\\item 21\n",
       "\\end{enumerate*}\n"
      ],
      "text/markdown": [
       "1. 9994\n",
       "2. 21\n",
       "\n",
       "\n"
      ],
      "text/plain": [
       "[1] 9994   21"
      ]
     },
     "metadata": {},
     "output_type": "display_data"
    }
   ],
   "source": [
    "# dimensão do dataset (linhas x colunas)\n",
    "dim(df)"
   ]
  },
  {
   "cell_type": "code",
   "execution_count": 390,
   "metadata": {
    "vscode": {
     "languageId": "r"
    }
   },
   "outputs": [
    {
     "name": "stdout",
     "output_type": "stream",
     "text": [
      "'data.frame':\t9994 obs. of  21 variables:\n",
      " $ Row.ID       : int  1 2 3 4 5 6 7 8 9 10 ...\n",
      " $ Order.ID     : chr  \"CA-2016-152156\" \"CA-2016-152156\" \"CA-2016-138688\" \"US-2015-108966\" ...\n",
      " $ Order.Date   : chr  \"2016/11/08\" \"2016/11/08\" \"2016/06/12\" \"2015/10/11\" ...\n",
      " $ Ship.Date    : chr  \"2016/11/11\" \"2016/11/11\" \"2016/06/16\" \"2015/10/18\" ...\n",
      " $ Ship.Mode    : chr  \"Second Class\" \"Second Class\" \"Second Class\" \"Standard Class\" ...\n",
      " $ Customer.ID  : chr  \"CG-12520\" \"CG-12520\" \"DV-13045\" \"SO-20335\" ...\n",
      " $ Customer.Name: chr  \"Claire Gute\" \"Claire Gute\" \"Darrin Van Huff\" \"Sean O'Donnell\" ...\n",
      " $ Segment      : chr  \"Consumer\" \"Consumer\" \"Corporate\" \"Consumer\" ...\n",
      " $ Country      : chr  \"United States\" \"United States\" \"United States\" \"United States\" ...\n",
      " $ City         : chr  \"Henderson\" \"Henderson\" \"Los Angeles\" \"Fort Lauderdale\" ...\n",
      " $ State        : chr  \"Kentucky\" \"Kentucky\" \"California\" \"Florida\" ...\n",
      " $ Postal.Code  : int  42420 42420 90036 33311 33311 90032 90032 90032 90032 90032 ...\n",
      " $ Region       : chr  \"South\" \"South\" \"West\" \"South\" ...\n",
      " $ Product.ID   : chr  \"FUR-BO-10001798\" \"FUR-CH-10000454\" \"OFF-LA-10000240\" \"FUR-TA-10000577\" ...\n",
      " $ Category     : chr  \"Furniture\" \"Furniture\" \"Office Supplies\" \"Furniture\" ...\n",
      " $ Sub.Category : chr  \"Bookcases\" \"Chairs\" \"Labels\" \"Tables\" ...\n",
      " $ Product.Name : chr  \"Bush Somerset Collection Bookcase\" \"Hon Deluxe Fabric Upholstered Stacking Chairs, Rounded Back\" \"Self-Adhesive Address Labels for Typewriters by Universal\" \"Bretford CR4500 Series Slim Rectangular Table\" ...\n",
      " $ Sales        : num  262 731.9 14.6 957.6 22.4 ...\n",
      " $ Quantity     : int  2 3 2 5 2 7 4 6 3 5 ...\n",
      " $ Discount     : num  0 0 0 0.45 0.2 0 0 0.2 0.2 0 ...\n",
      " $ Profit       : num  41.91 219.58 6.87 -383.03 2.52 ...\n"
     ]
    }
   ],
   "source": [
    "# info do dataset\n",
    "str(df)"
   ]
  },
  {
   "cell_type": "code",
   "execution_count": 391,
   "metadata": {
    "vscode": {
     "languageId": "r"
    }
   },
   "outputs": [
    {
     "data": {
      "text/plain": [
       "     Row.ID       Order.ID          Order.Date       \n",
       " Min.   :   1   Length:9994        Length:9994       \n",
       " 1st Qu.:2499   Class :character   Class :character  \n",
       " Median :4998   Mode  :character   Mode  :character  \n",
       " Mean   :4998                                        \n",
       " 3rd Qu.:7496                                        \n",
       " Max.   :9994                                        \n",
       "  Ship.Date          Ship.Mode         Customer.ID       \n",
       " Length:9994        Length:9994        Length:9994       \n",
       " Class :character   Class :character   Class :character  \n",
       " Mode  :character   Mode  :character   Mode  :character  \n",
       "                                                         \n",
       "                                                         \n",
       "                                                         \n",
       " Customer.Name        Segment            Country         \n",
       " Length:9994        Length:9994        Length:9994       \n",
       " Class :character   Class :character   Class :character  \n",
       " Mode  :character   Mode  :character   Mode  :character  \n",
       "                                                         \n",
       "                                                         \n",
       "                                                         \n",
       "     City              State            Postal.Code   \n",
       " Length:9994        Length:9994        Min.   : 1040  \n",
       " Class :character   Class :character   1st Qu.:23223  \n",
       " Mode  :character   Mode  :character   Median :56431  \n",
       "                                       Mean   :55190  \n",
       "                                       3rd Qu.:90008  \n",
       "                                       Max.   :99301  \n",
       "    Region           Product.ID          Category        \n",
       " Length:9994        Length:9994        Length:9994       \n",
       " Class :character   Class :character   Class :character  \n",
       " Mode  :character   Mode  :character   Mode  :character  \n",
       "                                                         \n",
       "                                                         \n",
       "                                                         \n",
       " Sub.Category       Product.Name           Sales          \n",
       " Length:9994        Length:9994        Min.   :    0.444  \n",
       " Class :character   Class :character   1st Qu.:   17.280  \n",
       " Mode  :character   Mode  :character   Median :   54.490  \n",
       "                                       Mean   :  229.858  \n",
       "                                       3rd Qu.:  209.940  \n",
       "                                       Max.   :22638.480  \n",
       "    Quantity        Discount          Profit         \n",
       " Min.   : 1.00   Min.   :0.0000   Min.   :-6599.978  \n",
       " 1st Qu.: 2.00   1st Qu.:0.0000   1st Qu.:    1.729  \n",
       " Median : 3.00   Median :0.2000   Median :    8.666  \n",
       " Mean   : 3.79   Mean   :0.1562   Mean   :   28.657  \n",
       " 3rd Qu.: 5.00   3rd Qu.:0.2000   3rd Qu.:   29.364  \n",
       " Max.   :14.00   Max.   :0.8000   Max.   : 8399.976  "
      ]
     },
     "metadata": {},
     "output_type": "display_data"
    }
   ],
   "source": [
    "# dataset summary\n",
    "summary(df)"
   ]
  },
  {
   "attachments": {},
   "cell_type": "markdown",
   "metadata": {},
   "source": [
    "Tipos de dados por coluna"
   ]
  },
  {
   "cell_type": "code",
   "execution_count": 392,
   "metadata": {
    "vscode": {
     "languageId": "r"
    }
   },
   "outputs": [
    {
     "data": {
      "text/plain": [
       "\n",
       "character   integer   numeric \n",
       "       15         3         3 "
      ]
     },
     "metadata": {},
     "output_type": "display_data"
    }
   ],
   "source": [
    "table(sapply(df, class))"
   ]
  },
  {
   "attachments": {},
   "cell_type": "markdown",
   "metadata": {},
   "source": [
    "`Unique values` em cada coluna"
   ]
  },
  {
   "cell_type": "code",
   "execution_count": 393,
   "metadata": {
    "vscode": {
     "languageId": "r"
    }
   },
   "outputs": [
    {
     "data": {
      "text/html": [
       "<style>\n",
       ".dl-inline {width: auto; margin:0; padding: 0}\n",
       ".dl-inline>dt, .dl-inline>dd {float: none; width: auto; display: inline-block}\n",
       ".dl-inline>dt::after {content: \":\\0020\"; padding-right: .5ex}\n",
       ".dl-inline>dt:not(:first-of-type) {padding-left: .5ex}\n",
       "</style><dl class=dl-inline><dt>Row.ID</dt><dd>9994</dd><dt>Order.ID</dt><dd>5009</dd><dt>Order.Date</dt><dd>1237</dd><dt>Ship.Date</dt><dd>1334</dd><dt>Ship.Mode</dt><dd>4</dd><dt>Customer.ID</dt><dd>793</dd><dt>Customer.Name</dt><dd>793</dd><dt>Segment</dt><dd>3</dd><dt>Country</dt><dd>1</dd><dt>City</dt><dd>531</dd><dt>State</dt><dd>49</dd><dt>Postal.Code</dt><dd>631</dd><dt>Region</dt><dd>4</dd><dt>Product.ID</dt><dd>1862</dd><dt>Category</dt><dd>3</dd><dt>Sub.Category</dt><dd>17</dd><dt>Product.Name</dt><dd>1850</dd><dt>Sales</dt><dd>5825</dd><dt>Quantity</dt><dd>14</dd><dt>Discount</dt><dd>12</dd><dt>Profit</dt><dd>7287</dd></dl>\n"
      ],
      "text/latex": [
       "\\begin{description*}\n",
       "\\item[Row.ID] 9994\n",
       "\\item[Order.ID] 5009\n",
       "\\item[Order.Date] 1237\n",
       "\\item[Ship.Date] 1334\n",
       "\\item[Ship.Mode] 4\n",
       "\\item[Customer.ID] 793\n",
       "\\item[Customer.Name] 793\n",
       "\\item[Segment] 3\n",
       "\\item[Country] 1\n",
       "\\item[City] 531\n",
       "\\item[State] 49\n",
       "\\item[Postal.Code] 631\n",
       "\\item[Region] 4\n",
       "\\item[Product.ID] 1862\n",
       "\\item[Category] 3\n",
       "\\item[Sub.Category] 17\n",
       "\\item[Product.Name] 1850\n",
       "\\item[Sales] 5825\n",
       "\\item[Quantity] 14\n",
       "\\item[Discount] 12\n",
       "\\item[Profit] 7287\n",
       "\\end{description*}\n"
      ],
      "text/markdown": [
       "Row.ID\n",
       ":   9994Order.ID\n",
       ":   5009Order.Date\n",
       ":   1237Ship.Date\n",
       ":   1334Ship.Mode\n",
       ":   4Customer.ID\n",
       ":   793Customer.Name\n",
       ":   793Segment\n",
       ":   3Country\n",
       ":   1City\n",
       ":   531State\n",
       ":   49Postal.Code\n",
       ":   631Region\n",
       ":   4Product.ID\n",
       ":   1862Category\n",
       ":   3Sub.Category\n",
       ":   17Product.Name\n",
       ":   1850Sales\n",
       ":   5825Quantity\n",
       ":   14Discount\n",
       ":   12Profit\n",
       ":   7287\n",
       "\n"
      ],
      "text/plain": [
       "       Row.ID      Order.ID    Order.Date     Ship.Date \n",
       "         9994          5009          1237          1334 \n",
       "    Ship.Mode   Customer.ID Customer.Name       Segment \n",
       "            4           793           793             3 \n",
       "      Country          City         State   Postal.Code \n",
       "            1           531            49           631 \n",
       "       Region    Product.ID      Category  Sub.Category \n",
       "            4          1862             3            17 \n",
       " Product.Name         Sales      Quantity      Discount \n",
       "         1850          5825            14            12 \n",
       "       Profit \n",
       "         7287 "
      ]
     },
     "metadata": {},
     "output_type": "display_data"
    }
   ],
   "source": [
    "sapply(df, function(x) length(unique(x)))"
   ]
  },
  {
   "attachments": {},
   "cell_type": "markdown",
   "metadata": {},
   "source": [
    "Procurando por missing values"
   ]
  },
  {
   "cell_type": "code",
   "execution_count": 394,
   "metadata": {
    "vscode": {
     "languageId": "r"
    }
   },
   "outputs": [
    {
     "data": {
      "text/html": [
       "<style>\n",
       ".dl-inline {width: auto; margin:0; padding: 0}\n",
       ".dl-inline>dt, .dl-inline>dd {float: none; width: auto; display: inline-block}\n",
       ".dl-inline>dt::after {content: \":\\0020\"; padding-right: .5ex}\n",
       ".dl-inline>dt:not(:first-of-type) {padding-left: .5ex}\n",
       "</style><dl class=dl-inline><dt>Row.ID</dt><dd>0</dd><dt>Order.ID</dt><dd>0</dd><dt>Order.Date</dt><dd>0</dd><dt>Ship.Date</dt><dd>0</dd><dt>Ship.Mode</dt><dd>0</dd><dt>Customer.ID</dt><dd>0</dd><dt>Customer.Name</dt><dd>0</dd><dt>Segment</dt><dd>0</dd><dt>Country</dt><dd>0</dd><dt>City</dt><dd>0</dd><dt>State</dt><dd>0</dd><dt>Postal.Code</dt><dd>0</dd><dt>Region</dt><dd>0</dd><dt>Product.ID</dt><dd>0</dd><dt>Category</dt><dd>0</dd><dt>Sub.Category</dt><dd>0</dd><dt>Product.Name</dt><dd>0</dd><dt>Sales</dt><dd>0</dd><dt>Quantity</dt><dd>0</dd><dt>Discount</dt><dd>0</dd><dt>Profit</dt><dd>0</dd></dl>\n"
      ],
      "text/latex": [
       "\\begin{description*}\n",
       "\\item[Row.ID] 0\n",
       "\\item[Order.ID] 0\n",
       "\\item[Order.Date] 0\n",
       "\\item[Ship.Date] 0\n",
       "\\item[Ship.Mode] 0\n",
       "\\item[Customer.ID] 0\n",
       "\\item[Customer.Name] 0\n",
       "\\item[Segment] 0\n",
       "\\item[Country] 0\n",
       "\\item[City] 0\n",
       "\\item[State] 0\n",
       "\\item[Postal.Code] 0\n",
       "\\item[Region] 0\n",
       "\\item[Product.ID] 0\n",
       "\\item[Category] 0\n",
       "\\item[Sub.Category] 0\n",
       "\\item[Product.Name] 0\n",
       "\\item[Sales] 0\n",
       "\\item[Quantity] 0\n",
       "\\item[Discount] 0\n",
       "\\item[Profit] 0\n",
       "\\end{description*}\n"
      ],
      "text/markdown": [
       "Row.ID\n",
       ":   0Order.ID\n",
       ":   0Order.Date\n",
       ":   0Ship.Date\n",
       ":   0Ship.Mode\n",
       ":   0Customer.ID\n",
       ":   0Customer.Name\n",
       ":   0Segment\n",
       ":   0Country\n",
       ":   0City\n",
       ":   0State\n",
       ":   0Postal.Code\n",
       ":   0Region\n",
       ":   0Product.ID\n",
       ":   0Category\n",
       ":   0Sub.Category\n",
       ":   0Product.Name\n",
       ":   0Sales\n",
       ":   0Quantity\n",
       ":   0Discount\n",
       ":   0Profit\n",
       ":   0\n",
       "\n"
      ],
      "text/plain": [
       "       Row.ID      Order.ID    Order.Date     Ship.Date \n",
       "            0             0             0             0 \n",
       "    Ship.Mode   Customer.ID Customer.Name       Segment \n",
       "            0             0             0             0 \n",
       "      Country          City         State   Postal.Code \n",
       "            0             0             0             0 \n",
       "       Region    Product.ID      Category  Sub.Category \n",
       "            0             0             0             0 \n",
       " Product.Name         Sales      Quantity      Discount \n",
       "            0             0             0             0 \n",
       "       Profit \n",
       "            0 "
      ]
     },
     "metadata": {},
     "output_type": "display_data"
    }
   ],
   "source": [
    "sapply(df, function(x) sum(is.na(x)))"
   ]
  },
  {
   "cell_type": "code",
   "execution_count": 395,
   "metadata": {
    "vscode": {
     "languageId": "r"
    }
   },
   "outputs": [
    {
     "name": "stdout",
     "output_type": "stream",
     "text": [
      "Total de missing values: 0"
     ]
    }
   ],
   "source": [
    " cat(\"Total de missing values:\", sum(is.na(df)))"
   ]
  },
  {
   "attachments": {},
   "cell_type": "markdown",
   "metadata": {},
   "source": [
    "Procurando por outliers em Sales"
   ]
  },
  {
   "cell_type": "code",
   "execution_count": 396,
   "metadata": {
    "vscode": {
     "languageId": "r"
    }
   },
   "outputs": [
    {
     "data": {
      "image/png": "[encoded data removed]",
      "text/plain": [
       "Plot with title \"Boxplot de Vendas\""
      ]
     },
     "metadata": {
      "image/png": {
       "height": 420,
       "width": 420
      }
     },
     "output_type": "display_data"
    }
   ],
   "source": [
    "# procurando por outliers em Sales\n",
    "boxplot(df$Sales, main=\"Boxplot de Vendas\", ylab=\"Vendas\")\n",
    "\n",
    "# TODO: verificar o que fazer quanto a isto - TG"
   ]
  },
  {
   "attachments": {},
   "cell_type": "markdown",
   "metadata": {},
   "source": [
    "## Preparando os dados"
   ]
  },
  {
   "attachments": {},
   "cell_type": "markdown",
   "metadata": {},
   "source": [
    "Convertendo as colunas \"Order.Date\" e Ship.Date que est'ao como `<chr>` para `<date>`"
   ]
  },
  {
   "cell_type": "code",
   "execution_count": 397,
   "metadata": {
    "vscode": {
     "languageId": "r"
    }
   },
   "outputs": [],
   "source": [
    "# Transformar a coluna \"Order.Date\" e Ship.Date em objeto de data\n",
    "df$Order.Date <- as_date(df$Order.Date)\n",
    "df$Ship.Date <- as_date(df$Ship.Date)"
   ]
  },
  {
   "attachments": {},
   "cell_type": "markdown",
   "metadata": {},
   "source": []
  },
  {
   "cell_type": "code",
   "execution_count": 398,
   "metadata": {
    "vscode": {
     "languageId": "r"
    }
   },
   "outputs": [
    {
     "name": "stdout",
     "output_type": "stream",
     "text": [
      "[1] \"Linhas duplicadas encontradas:\"\n",
      "\u001b[90m# A tibble: 2,471 x 3\u001b[39m\n",
      "\u001b[90m# Groups:   Order.ID [2,471]\u001b[39m\n",
      "   Order.ID       Order.Date     n\n",
      "   \u001b[3m\u001b[90m<chr>\u001b[39m\u001b[23m          \u001b[3m\u001b[90m<date>\u001b[39m\u001b[23m     \u001b[3m\u001b[90m<int>\u001b[39m\u001b[23m\n",
      "\u001b[90m 1\u001b[39m CA-2014-100090 2014-07-08     2\n",
      "\u001b[90m 2\u001b[39m CA-2014-100363 2014-04-08     2\n",
      "\u001b[90m 3\u001b[39m CA-2014-100678 2014-04-18     4\n",
      "\u001b[90m 4\u001b[39m CA-2014-100706 2014-12-16     2\n",
      "\u001b[90m 5\u001b[39m CA-2014-100762 2014-11-24     4\n",
      "\u001b[90m 6\u001b[39m CA-2014-100895 2014-06-02     3\n",
      "\u001b[90m 7\u001b[39m CA-2014-100916 2014-10-21     3\n",
      "\u001b[90m 8\u001b[39m CA-2014-101560 2014-11-28     4\n",
      "\u001b[90m 9\u001b[39m CA-2014-101602 2014-12-15     2\n",
      "\u001b[90m10\u001b[39m CA-2014-101931 2014-10-28     5\n",
      "\u001b[90m# i 2,461 more rows\u001b[39m\n",
      "[1] \"Linhas duplicadas removidas.\"\n"
     ]
    }
   ],
   "source": [
    "# Verificar e remover linhas duplicadas\n",
    "dupes <- df %>%\n",
    "  group_by(Order.ID, Order.Date) %>%\n",
    "  \n",
    "  # Contar o número de linhas duplicadas da combinacão de Order.ID e Order.Date\n",
    "  tally() %>%\n",
    "  \n",
    "  # Filtrar apenas as linhas duplicadas - ocorrências maiores que 1\n",
    "  filter(n > 1)\n",
    "\n",
    "# Se houver linhas duplicadas, remover as linhas duplicadas\n",
    "if (nrow(dupes) > 0) {\n",
    "  print(\"Linhas duplicadas encontradas:\")\n",
    "  print(dupes)\n",
    "  df <- df %>%\n",
    "    # Remover linhas duplicadas - distinct mantém a primeira ocorrência\n",
    "    distinct(Order.ID, Order.Date, .keep_all = TRUE)\n",
    "  print(\"Linhas duplicadas removidas.\")\n",
    "}\n",
    "\n",
    "# Transformar o data.frame em um objeto tsibble\n",
    "tsib <- as_tsibble(df, key = Order.ID, index = Order.Date)"
   ]
  },
  {
   "attachments": {},
   "cell_type": "markdown",
   "metadata": {},
   "source": [
    "Convertendo para tsibble e testando o plot"
   ]
  },
  {
   "cell_type": "code",
   "execution_count": 399,
   "metadata": {
    "vscode": {
     "languageId": "r"
    }
   },
   "outputs": [
    {
     "data": {
      "image/png": "[encoded data removed]",
      "text/plain": [
       "plot without title"
      ]
     },
     "metadata": {
      "image/png": {
       "height": 420,
       "width": 420
      }
     },
     "output_type": "display_data"
    }
   ],
   "source": [
    "df_ts <- df %>%\n",
    "  select(Order.Date, Sales) %>%\n",
    "  group_by(Order.Date) %>%\n",
    "  summarise(Sales = sum(Sales)) %>%\n",
    "  ungroup() %>%\n",
    "  mutate(Order.Date = as.Date(Order.Date)) %>%\n",
    "  as_tsibble(index = Order.Date)\n",
    "\n",
    "df_ts %>%\n",
    "  autoplot(Sales) +\n",
    "  ggtitle(\"Vendas por data\") +\n",
    "  geom_line()\n"
   ]
  },
  {
   "cell_type": "code",
   "execution_count": 400,
   "metadata": {
    "vscode": {
     "languageId": "r"
    }
   },
   "outputs": [
    {
     "data": {
      "text/html": [
       "<table class=\"dataframe\">\n",
       "<caption>A tbl_ts: 6 × 21</caption>\n",
       "<thead>\n",
       "\t<tr><th scope=col>Row.ID</th><th scope=col>Order.ID</th><th scope=col>Order.Date</th><th scope=col>Ship.Date</th><th scope=col>Ship.Mode</th><th scope=col>Customer.ID</th><th scope=col>Customer.Name</th><th scope=col>Segment</th><th scope=col>Country</th><th scope=col>City</th><th scope=col>...</th><th scope=col>Postal.Code</th><th scope=col>Region</th><th scope=col>Product.ID</th><th scope=col>Category</th><th scope=col>Sub.Category</th><th scope=col>Product.Name</th><th scope=col>Sales</th><th scope=col>Quantity</th><th scope=col>Discount</th><th scope=col>Profit</th></tr>\n",
       "\t<tr><th scope=col>&lt;int&gt;</th><th scope=col>&lt;chr&gt;</th><th scope=col>&lt;date&gt;</th><th scope=col>&lt;date&gt;</th><th scope=col>&lt;chr&gt;</th><th scope=col>&lt;chr&gt;</th><th scope=col>&lt;chr&gt;</th><th scope=col>&lt;chr&gt;</th><th scope=col>&lt;chr&gt;</th><th scope=col>&lt;chr&gt;</th><th scope=col>...</th><th scope=col>&lt;int&gt;</th><th scope=col>&lt;chr&gt;</th><th scope=col>&lt;chr&gt;</th><th scope=col>&lt;chr&gt;</th><th scope=col>&lt;chr&gt;</th><th scope=col>&lt;chr&gt;</th><th scope=col>&lt;dbl&gt;</th><th scope=col>&lt;int&gt;</th><th scope=col>&lt;dbl&gt;</th><th scope=col>&lt;dbl&gt;</th></tr>\n",
       "</thead>\n",
       "<tbody>\n",
       "\t<tr><td>2718</td><td>CA-2014-100006</td><td>2014-09-07</td><td>2014-09-13</td><td>Standard Class</td><td>DK-13375</td><td><span style=white-space:pre-wrap>Dennis Kane        </span></td><td><span style=white-space:pre-wrap>Consumer   </span></td><td>United States</td><td>New York City</td><td>...</td><td>10024</td><td>East </td><td>TEC-PH-10002075</td><td><span style=white-space:pre-wrap>Technology     </span></td><td><span style=white-space:pre-wrap>Phones   </span></td><td><span style=white-space:pre-wrap>AT&amp;T EL51110 DECT                                             </span></td><td>377.970</td><td>3</td><td>0.0</td><td>109.6113</td></tr>\n",
       "\t<tr><td>6288</td><td>CA-2014-100090</td><td>2014-07-08</td><td>2014-07-12</td><td>Standard Class</td><td>EB-13705</td><td>Ed Braxton         </td><td>Corporate  </td><td>United States</td><td>San Francisco</td><td>...</td><td>94122</td><td>West </td><td>FUR-TA-10003715</td><td>Furniture      </td><td>Tables   </td><td>Hon 2111 Invitation Series Corner Table                       </td><td>502.488</td><td>3</td><td>0.2</td><td>-87.9354</td></tr>\n",
       "\t<tr><td>9515</td><td>CA-2014-100293</td><td>2014-03-14</td><td>2014-03-18</td><td>Standard Class</td><td>NF-18475</td><td>Neil Franz&lt;f6&gt;sisch</td><td>Home Office</td><td>United States</td><td>Jacksonville </td><td>...</td><td>32216</td><td>South</td><td>OFF-PA-10000176</td><td>Office Supplies</td><td><span style=white-space:pre-wrap>Paper    </span></td><td><span style=white-space:pre-wrap>Xerox 1887                                                    </span></td><td> 91.056</td><td>6</td><td>0.2</td><td> 31.8696</td></tr>\n",
       "\t<tr><td>3084</td><td>CA-2014-100328</td><td>2014-01-28</td><td>2014-02-03</td><td>Standard Class</td><td>JC-15340</td><td>Jasper Cacioppo    </td><td>Consumer   </td><td>United States</td><td>New York City</td><td>...</td><td>10024</td><td>East </td><td>OFF-BI-10000343</td><td>Office Supplies</td><td>Binders  </td><td>Pressboard Covers with Storage Hooks, 9 1/2\" x 11\", Light Blue</td><td>  3.928</td><td>1</td><td>0.2</td><td>  1.3257</td></tr>\n",
       "\t<tr><td>3836</td><td>CA-2014-100363</td><td>2014-04-08</td><td>2014-04-15</td><td>Standard Class</td><td>JM-15655</td><td>Jim Mitchum        </td><td>Corporate  </td><td>United States</td><td>Glendale     </td><td>...</td><td>85301</td><td>West </td><td>OFF-FA-10000611</td><td>Office Supplies</td><td>Fasteners</td><td>Binder Clips by OIC                                           </td><td>  2.368</td><td>2</td><td>0.2</td><td>  0.8288</td></tr>\n",
       "\t<tr><td>9441</td><td>CA-2014-100391</td><td>2014-05-25</td><td>2014-05-29</td><td>Standard Class</td><td>BW-11065</td><td>Barry Weirich      </td><td>Consumer   </td><td>United States</td><td>New York City</td><td>...</td><td>10035</td><td>East </td><td>OFF-PA-10001471</td><td>Office Supplies</td><td>Paper    </td><td>Strathmore Photo Frame Cards                                  </td><td> 14.620</td><td>2</td><td>0.0</td><td>  6.7252</td></tr>\n",
       "</tbody>\n",
       "</table>\n"
      ],
      "text/latex": [
       "A tbl\\_ts: 6 × 21\n",
       "\\begin{tabular}{lllllllllllllllllllll}\n",
       " Row.ID & Order.ID & Order.Date & Ship.Date & Ship.Mode & Customer.ID & Customer.Name & Segment & Country & City & ... & Postal.Code & Region & Product.ID & Category & Sub.Category & Product.Name & Sales & Quantity & Discount & Profit\\\\\n",
       " <int> & <chr> & <date> & <date> & <chr> & <chr> & <chr> & <chr> & <chr> & <chr> & ... & <int> & <chr> & <chr> & <chr> & <chr> & <chr> & <dbl> & <int> & <dbl> & <dbl>\\\\\n",
       "\\hline\n",
       "\t 2718 & CA-2014-100006 & 2014-09-07 & 2014-09-13 & Standard Class & DK-13375 & Dennis Kane         & Consumer    & United States & New York City & ... & 10024 & East  & TEC-PH-10002075 & Technology      & Phones    & AT\\&T EL51110 DECT                                              & 377.970 & 3 & 0.0 & 109.6113\\\\\n",
       "\t 6288 & CA-2014-100090 & 2014-07-08 & 2014-07-12 & Standard Class & EB-13705 & Ed Braxton          & Corporate   & United States & San Francisco & ... & 94122 & West  & FUR-TA-10003715 & Furniture       & Tables    & Hon 2111 Invitation Series Corner Table                        & 502.488 & 3 & 0.2 & -87.9354\\\\\n",
       "\t 9515 & CA-2014-100293 & 2014-03-14 & 2014-03-18 & Standard Class & NF-18475 & Neil Franz<f6>sisch & Home Office & United States & Jacksonville  & ... & 32216 & South & OFF-PA-10000176 & Office Supplies & Paper     & Xerox 1887                                                     &  91.056 & 6 & 0.2 &  31.8696\\\\\n",
       "\t 3084 & CA-2014-100328 & 2014-01-28 & 2014-02-03 & Standard Class & JC-15340 & Jasper Cacioppo     & Consumer    & United States & New York City & ... & 10024 & East  & OFF-BI-10000343 & Office Supplies & Binders   & Pressboard Covers with Storage Hooks, 9 1/2\" x 11\", Light Blue &   3.928 & 1 & 0.2 &   1.3257\\\\\n",
       "\t 3836 & CA-2014-100363 & 2014-04-08 & 2014-04-15 & Standard Class & JM-15655 & Jim Mitchum         & Corporate   & United States & Glendale      & ... & 85301 & West  & OFF-FA-10000611 & Office Supplies & Fasteners & Binder Clips by OIC                                            &   2.368 & 2 & 0.2 &   0.8288\\\\\n",
       "\t 9441 & CA-2014-100391 & 2014-05-25 & 2014-05-29 & Standard Class & BW-11065 & Barry Weirich       & Consumer    & United States & New York City & ... & 10035 & East  & OFF-PA-10001471 & Office Supplies & Paper     & Strathmore Photo Frame Cards                                   &  14.620 & 2 & 0.0 &   6.7252\\\\\n",
       "\\end{tabular}\n"
      ],
      "text/markdown": [
       "\n",
       "A tbl_ts: 6 × 21\n",
       "\n",
       "| Row.ID &lt;int&gt; | Order.ID &lt;chr&gt; | Order.Date &lt;date&gt; | Ship.Date &lt;date&gt; | Ship.Mode &lt;chr&gt; | Customer.ID &lt;chr&gt; | Customer.Name &lt;chr&gt; | Segment &lt;chr&gt; | Country &lt;chr&gt; | City &lt;chr&gt; | ... ... | Postal.Code &lt;int&gt; | Region &lt;chr&gt; | Product.ID &lt;chr&gt; | Category &lt;chr&gt; | Sub.Category &lt;chr&gt; | Product.Name &lt;chr&gt; | Sales &lt;dbl&gt; | Quantity &lt;int&gt; | Discount &lt;dbl&gt; | Profit &lt;dbl&gt; |\n",
       "|---|---|---|---|---|---|---|---|---|---|---|---|---|---|---|---|---|---|---|---|---|\n",
       "| 2718 | CA-2014-100006 | 2014-09-07 | 2014-09-13 | Standard Class | DK-13375 | Dennis Kane         | Consumer    | United States | New York City | ... | 10024 | East  | TEC-PH-10002075 | Technology      | Phones    | AT&amp;T EL51110 DECT                                              | 377.970 | 3 | 0.0 | 109.6113 |\n",
       "| 6288 | CA-2014-100090 | 2014-07-08 | 2014-07-12 | Standard Class | EB-13705 | Ed Braxton          | Corporate   | United States | San Francisco | ... | 94122 | West  | FUR-TA-10003715 | Furniture       | Tables    | Hon 2111 Invitation Series Corner Table                        | 502.488 | 3 | 0.2 | -87.9354 |\n",
       "| 9515 | CA-2014-100293 | 2014-03-14 | 2014-03-18 | Standard Class | NF-18475 | Neil Franz&lt;f6&gt;sisch | Home Office | United States | Jacksonville  | ... | 32216 | South | OFF-PA-10000176 | Office Supplies | Paper     | Xerox 1887                                                     |  91.056 | 6 | 0.2 |  31.8696 |\n",
       "| 3084 | CA-2014-100328 | 2014-01-28 | 2014-02-03 | Standard Class | JC-15340 | Jasper Cacioppo     | Consumer    | United States | New York City | ... | 10024 | East  | OFF-BI-10000343 | Office Supplies | Binders   | Pressboard Covers with Storage Hooks, 9 1/2\" x 11\", Light Blue |   3.928 | 1 | 0.2 |   1.3257 |\n",
       "| 3836 | CA-2014-100363 | 2014-04-08 | 2014-04-15 | Standard Class | JM-15655 | Jim Mitchum         | Corporate   | United States | Glendale      | ... | 85301 | West  | OFF-FA-10000611 | Office Supplies | Fasteners | Binder Clips by OIC                                            |   2.368 | 2 | 0.2 |   0.8288 |\n",
       "| 9441 | CA-2014-100391 | 2014-05-25 | 2014-05-29 | Standard Class | BW-11065 | Barry Weirich       | Consumer    | United States | New York City | ... | 10035 | East  | OFF-PA-10001471 | Office Supplies | Paper     | Strathmore Photo Frame Cards                                   |  14.620 | 2 | 0.0 |   6.7252 |\n",
       "\n"
      ],
      "text/plain": [
       "  Row.ID Order.ID       Order.Date Ship.Date \n",
       "1 2718   CA-2014-100006 2014-09-07 2014-09-13\n",
       "2 6288   CA-2014-100090 2014-07-08 2014-07-12\n",
       "3 9515   CA-2014-100293 2014-03-14 2014-03-18\n",
       "4 3084   CA-2014-100328 2014-01-28 2014-02-03\n",
       "5 3836   CA-2014-100363 2014-04-08 2014-04-15\n",
       "6 9441   CA-2014-100391 2014-05-25 2014-05-29\n",
       "  Ship.Mode      Customer.ID Customer.Name      \n",
       "1 Standard Class DK-13375    Dennis Kane        \n",
       "2 Standard Class EB-13705    Ed Braxton         \n",
       "3 Standard Class NF-18475    Neil Franz<f6>sisch\n",
       "4 Standard Class JC-15340    Jasper Cacioppo    \n",
       "5 Standard Class JM-15655    Jim Mitchum        \n",
       "6 Standard Class BW-11065    Barry Weirich      \n",
       "  Segment     Country       City          ... Postal.Code\n",
       "1 Consumer    United States New York City ... 10024      \n",
       "2 Corporate   United States San Francisco ... 94122      \n",
       "3 Home Office United States Jacksonville  ... 32216      \n",
       "4 Consumer    United States New York City ... 10024      \n",
       "5 Corporate   United States Glendale      ... 85301      \n",
       "6 Consumer    United States New York City ... 10035      \n",
       "  Region Product.ID      Category        Sub.Category\n",
       "1 East   TEC-PH-10002075 Technology      Phones      \n",
       "2 West   FUR-TA-10003715 Furniture       Tables      \n",
       "3 South  OFF-PA-10000176 Office Supplies Paper       \n",
       "4 East   OFF-BI-10000343 Office Supplies Binders     \n",
       "5 West   OFF-FA-10000611 Office Supplies Fasteners   \n",
       "6 East   OFF-PA-10001471 Office Supplies Paper       \n",
       "  Product.Name                                                  \n",
       "1 AT&T EL51110 DECT                                             \n",
       "2 Hon 2111 Invitation Series Corner Table                       \n",
       "3 Xerox 1887                                                    \n",
       "4 Pressboard Covers with Storage Hooks, 9 1/2\" x 11\", Light Blue\n",
       "5 Binder Clips by OIC                                           \n",
       "6 Strathmore Photo Frame Cards                                  \n",
       "  Sales   Quantity Discount Profit  \n",
       "1 377.970 3        0.0      109.6113\n",
       "2 502.488 3        0.2      -87.9354\n",
       "3  91.056 6        0.2       31.8696\n",
       "4   3.928 1        0.2        1.3257\n",
       "5   2.368 2        0.2        0.8288\n",
       "6  14.620 2        0.0        6.7252"
      ]
     },
     "metadata": {},
     "output_type": "display_data"
    }
   ],
   "source": [
    "head(tsib)"
   ]
  },
  {
   "attachments": {},
   "cell_type": "markdown",
   "metadata": {},
   "source": [
    "## Visualizações para verificações de sazonalidade"
   ]
  },
  {
   "attachments": {},
   "cell_type": "markdown",
   "metadata": {},
   "source": [
    "Estudando a `autocorrelação` e `ACF`"
   ]
  },
  {
   "cell_type": "code",
   "execution_count": 401,
   "metadata": {
    "vscode": {
     "languageId": "r"
    }
   },
   "outputs": [
    {
     "data": {
      "image/png": "[encoded data removed]",
      "text/plain": [
       "plot without title"
      ]
     },
     "metadata": {
      "image/png": {
       "height": 420,
       "width": 420
      }
     },
     "output_type": "display_data"
    }
   ],
   "source": [
    "# Criar a matriz de correlação\n",
    "cor_matrix <- cor(df[,c(\"Sales\", \"Quantity\", \"Discount\", \"Profit\")])\n",
    "\n",
    "# Plotar a matriz de correlação\n",
    "ggcorrplot(cor_matrix, hc.order = TRUE, type = \"upper\", lab = TRUE)"
   ]
  },
  {
   "attachments": {},
   "cell_type": "markdown",
   "metadata": {},
   "source": [
    "- Verifica-se uma correlação `positiva maior` entre as `vendas` e o `lucro`\n",
    "- Verifica-se uma correlação `negativa` entre o `lucro` e `desconto`\n",
    "- Verifica-se uma correlação `positiva modesta` entre a `quantidade` e `vendas`\n",
    "- Verifica-se uma correlação `negativa tênue` entre a `vendas` e `desconto`\n",
    "- Verifica-se uma correlação `positiva tênue` entre a `quantidade` e `desconto`"
   ]
  },
  {
   "cell_type": "code",
   "execution_count": 402,
   "metadata": {
    "vscode": {
     "languageId": "r"
    }
   },
   "outputs": [
    {
     "data": {
      "image/png": "[encoded data removed]",
      "text/plain": [
       "plot without title"
      ]
     },
     "metadata": {
      "image/png": {
       "height": 420,
       "width": 420
      }
     },
     "output_type": "display_data"
    }
   ],
   "source": [
    "# Plotando a ACF de \"Sales\"\n",
    "ggAcf(tsib$Sales)"
   ]
  },
  {
   "attachments": {},
   "cell_type": "markdown",
   "metadata": {},
   "source": [
    "Aumentando o lag para tentar identificar padrões"
   ]
  },
  {
   "cell_type": "code",
   "execution_count": 403,
   "metadata": {
    "vscode": {
     "languageId": "r"
    }
   },
   "outputs": [
    {
     "data": {
      "image/png": "[encoded data removed]",
      "text/plain": [
       "plot without title"
      ]
     },
     "metadata": {
      "image/png": {
       "height": 420,
       "width": 420
      }
     },
     "output_type": "display_data"
    }
   ],
   "source": [
    "# aumentando o lag para visualizar mais gerações\n",
    "ggAcf(tsib$Sales, lag.max = 100)"
   ]
  },
  {
   "attachments": {},
   "cell_type": "markdown",
   "metadata": {},
   "source": [
    "Verificando Profit"
   ]
  },
  {
   "cell_type": "code",
   "execution_count": 404,
   "metadata": {
    "vscode": {
     "languageId": "r"
    }
   },
   "outputs": [
    {
     "data": {
      "image/png": "[encoded data removed]",
      "text/plain": [
       "plot without title"
      ]
     },
     "metadata": {
      "image/png": {
       "height": 420,
       "width": 420
      }
     },
     "output_type": "display_data"
    }
   ],
   "source": [
    "ggAcf(tsib$Profit, lag.max = 100)"
   ]
  },
  {
   "attachments": {},
   "cell_type": "markdown",
   "metadata": {},
   "source": [
    "Verificando o comportamento de `Sales`, `Quantity`, `Profit` e `Discount` com agregamento mensal"
   ]
  },
  {
   "cell_type": "code",
   "execution_count": 405,
   "metadata": {
    "vscode": {
     "languageId": "r"
    }
   },
   "outputs": [
    {
     "data": {
      "text/html": [
       "<table class=\"dataframe\">\n",
       "<caption>A tbl_ts: 48 × 5</caption>\n",
       "<thead>\n",
       "\t<tr><th scope=col>year_month</th><th scope=col>Sales</th><th scope=col>Quantity</th><th scope=col>Profit</th><th scope=col>Discount</th></tr>\n",
       "\t<tr><th scope=col>&lt;dbl&gt;</th><th scope=col>&lt;dbl&gt;</th><th scope=col>&lt;int&gt;</th><th scope=col>&lt;dbl&gt;</th><th scope=col>&lt;dbl&gt;</th></tr>\n",
       "</thead>\n",
       "<tbody>\n",
       "\t<tr><td>201401</td><td> 6417.102</td><td> 114</td><td> 1322.8412</td><td> 4.45</td></tr>\n",
       "\t<tr><td>201402</td><td> 1860.736</td><td> 104</td><td>  547.6046</td><td> 5.90</td></tr>\n",
       "\t<tr><td>201403</td><td>19023.950</td><td> 250</td><td> 1212.3814</td><td>11.90</td></tr>\n",
       "\t<tr><td>201404</td><td>12415.656</td><td> 249</td><td> 1897.6388</td><td> 6.80</td></tr>\n",
       "\t<tr><td>201405</td><td>15939.349</td><td> 272</td><td> 2116.0751</td><td>10.95</td></tr>\n",
       "\t<tr><td>201406</td><td>13837.698</td><td> 275</td><td> 2724.4740</td><td>10.40</td></tr>\n",
       "\t<tr><td>201407</td><td>13562.944</td><td> 231</td><td>-2199.3749</td><td>10.00</td></tr>\n",
       "\t<tr><td>201408</td><td>14667.032</td><td> 282</td><td> 2388.8566</td><td> 9.10</td></tr>\n",
       "\t<tr><td>201409</td><td>26681.761</td><td> 491</td><td> 1695.0435</td><td>23.15</td></tr>\n",
       "\t<tr><td>201410</td><td>13501.259</td><td> 293</td><td>  639.9629</td><td>11.60</td></tr>\n",
       "\t<tr><td>201411</td><td>33182.735</td><td> 567</td><td> 3259.4889</td><td>23.20</td></tr>\n",
       "\t<tr><td>201412</td><td>36905.774</td><td> 555</td><td> 5201.9446</td><td>27.90</td></tr>\n",
       "\t<tr><td>201501</td><td>10876.268</td><td> 129</td><td>-1962.9362</td><td> 4.20</td></tr>\n",
       "\t<tr><td>201502</td><td> 7178.193</td><td> 140</td><td> 2222.1196</td><td> 4.30</td></tr>\n",
       "\t<tr><td>201503</td><td>16185.652</td><td> 276</td><td> 2974.7642</td><td>11.00</td></tr>\n",
       "\t<tr><td>201504</td><td>13873.637</td><td> 240</td><td>   55.6754</td><td>12.35</td></tr>\n",
       "\t<tr><td>201505</td><td>14107.253</td><td> 292</td><td> 1861.2597</td><td>11.55</td></tr>\n",
       "\t<tr><td>201506</td><td>13281.756</td><td> 236</td><td> 2251.5108</td><td>10.80</td></tr>\n",
       "\t<tr><td>201507</td><td>11818.287</td><td> 229</td><td> 1202.4416</td><td>12.25</td></tr>\n",
       "\t<tr><td>201508</td><td>18997.201</td><td> 267</td><td> 3848.4560</td><td> 8.90</td></tr>\n",
       "\t<tr><td>201509</td><td>27161.584</td><td> 539</td><td> 1939.6420</td><td>20.25</td></tr>\n",
       "\t<tr><td>201510</td><td>16833.985</td><td> 323</td><td> 1623.8108</td><td>15.10</td></tr>\n",
       "\t<tr><td>201511</td><td>39154.531</td><td> 661</td><td> 5852.1365</td><td>26.79</td></tr>\n",
       "\t<tr><td>201512</td><td>32410.577</td><td> 597</td><td> 2675.5333</td><td>22.25</td></tr>\n",
       "\t<tr><td>201601</td><td>10871.001</td><td> 182</td><td> 2365.2036</td><td> 5.80</td></tr>\n",
       "\t<tr><td>201602</td><td>17602.606</td><td> 167</td><td> 4087.5706</td><td> 5.30</td></tr>\n",
       "\t<tr><td>201603</td><td>19516.761</td><td> 302</td><td> -227.8062</td><td>14.92</td></tr>\n",
       "\t<tr><td>201604</td><td>26868.998</td><td> 342</td><td> 4884.4514</td><td>13.00</td></tr>\n",
       "\t<tr><td>201605</td><td>35449.818</td><td> 409</td><td> 5020.6368</td><td>19.70</td></tr>\n",
       "\t<tr><td>201606</td><td>24496.227</td><td> 370</td><td> 2794.6698</td><td>13.50</td></tr>\n",
       "\t<tr><td>201607</td><td>16087.580</td><td> 359</td><td> 1978.8554</td><td>16.80</td></tr>\n",
       "\t<tr><td>201608</td><td>14750.264</td><td> 346</td><td>  356.8515</td><td>17.35</td></tr>\n",
       "\t<tr><td>201609</td><td>30724.170</td><td> 679</td><td> 2873.9932</td><td>31.32</td></tr>\n",
       "\t<tr><td>201610</td><td>19639.751</td><td> 430</td><td>  879.1301</td><td>17.05</td></tr>\n",
       "\t<tr><td>201611</td><td>38113.410</td><td> 674</td><td> 4449.1299</td><td>28.35</td></tr>\n",
       "\t<tr><td>201612</td><td>58606.279</td><td> 747</td><td>12992.8570</td><td>25.42</td></tr>\n",
       "\t<tr><td>201701</td><td>22749.976</td><td> 274</td><td> 4728.5683</td><td> 9.60</td></tr>\n",
       "\t<tr><td>201702</td><td> 9769.588</td><td> 180</td><td>  374.4746</td><td> 8.67</td></tr>\n",
       "\t<tr><td>201703</td><td>20081.992</td><td> 449</td><td> 2952.4944</td><td>16.34</td></tr>\n",
       "\t<tr><td>201704</td><td>17424.475</td><td> 430</td><td> 1700.1245</td><td>20.95</td></tr>\n",
       "\t<tr><td>201705</td><td>20244.376</td><td> 468</td><td> 3373.4210</td><td>16.62</td></tr>\n",
       "\t<tr><td>201706</td><td>32929.086</td><td> 521</td><td> 5643.9232</td><td>24.45</td></tr>\n",
       "\t<tr><td>201707</td><td>18629.000</td><td> 388</td><td> 3221.4040</td><td>16.00</td></tr>\n",
       "\t<tr><td>201708</td><td>32833.176</td><td> 425</td><td> 3519.0427</td><td>16.40</td></tr>\n",
       "\t<tr><td>201709</td><td>36546.915</td><td> 841</td><td> 5021.9393</td><td>32.35</td></tr>\n",
       "\t<tr><td>201710</td><td>38363.974</td><td> 551</td><td> 5211.5555</td><td>26.00</td></tr>\n",
       "\t<tr><td>201711</td><td>62912.310</td><td>1080</td><td> 6645.2956</td><td>41.07</td></tr>\n",
       "\t<tr><td>201712</td><td>44775.418</td><td> 818</td><td> 2316.6065</td><td>34.40</td></tr>\n",
       "</tbody>\n",
       "</table>\n"
      ],
      "text/latex": [
       "A tbl\\_ts: 48 × 5\n",
       "\\begin{tabular}{lllll}\n",
       " year\\_month & Sales & Quantity & Profit & Discount\\\\\n",
       " <dbl> & <dbl> & <int> & <dbl> & <dbl>\\\\\n",
       "\\hline\n",
       "\t 201401 &  6417.102 &  114 &  1322.8412 &  4.45\\\\\n",
       "\t 201402 &  1860.736 &  104 &   547.6046 &  5.90\\\\\n",
       "\t 201403 & 19023.950 &  250 &  1212.3814 & 11.90\\\\\n",
       "\t 201404 & 12415.656 &  249 &  1897.6388 &  6.80\\\\\n",
       "\t 201405 & 15939.349 &  272 &  2116.0751 & 10.95\\\\\n",
       "\t 201406 & 13837.698 &  275 &  2724.4740 & 10.40\\\\\n",
       "\t 201407 & 13562.944 &  231 & -2199.3749 & 10.00\\\\\n",
       "\t 201408 & 14667.032 &  282 &  2388.8566 &  9.10\\\\\n",
       "\t 201409 & 26681.761 &  491 &  1695.0435 & 23.15\\\\\n",
       "\t 201410 & 13501.259 &  293 &   639.9629 & 11.60\\\\\n",
       "\t 201411 & 33182.735 &  567 &  3259.4889 & 23.20\\\\\n",
       "\t 201412 & 36905.774 &  555 &  5201.9446 & 27.90\\\\\n",
       "\t 201501 & 10876.268 &  129 & -1962.9362 &  4.20\\\\\n",
       "\t 201502 &  7178.193 &  140 &  2222.1196 &  4.30\\\\\n",
       "\t 201503 & 16185.652 &  276 &  2974.7642 & 11.00\\\\\n",
       "\t 201504 & 13873.637 &  240 &    55.6754 & 12.35\\\\\n",
       "\t 201505 & 14107.253 &  292 &  1861.2597 & 11.55\\\\\n",
       "\t 201506 & 13281.756 &  236 &  2251.5108 & 10.80\\\\\n",
       "\t 201507 & 11818.287 &  229 &  1202.4416 & 12.25\\\\\n",
       "\t 201508 & 18997.201 &  267 &  3848.4560 &  8.90\\\\\n",
       "\t 201509 & 27161.584 &  539 &  1939.6420 & 20.25\\\\\n",
       "\t 201510 & 16833.985 &  323 &  1623.8108 & 15.10\\\\\n",
       "\t 201511 & 39154.531 &  661 &  5852.1365 & 26.79\\\\\n",
       "\t 201512 & 32410.577 &  597 &  2675.5333 & 22.25\\\\\n",
       "\t 201601 & 10871.001 &  182 &  2365.2036 &  5.80\\\\\n",
       "\t 201602 & 17602.606 &  167 &  4087.5706 &  5.30\\\\\n",
       "\t 201603 & 19516.761 &  302 &  -227.8062 & 14.92\\\\\n",
       "\t 201604 & 26868.998 &  342 &  4884.4514 & 13.00\\\\\n",
       "\t 201605 & 35449.818 &  409 &  5020.6368 & 19.70\\\\\n",
       "\t 201606 & 24496.227 &  370 &  2794.6698 & 13.50\\\\\n",
       "\t 201607 & 16087.580 &  359 &  1978.8554 & 16.80\\\\\n",
       "\t 201608 & 14750.264 &  346 &   356.8515 & 17.35\\\\\n",
       "\t 201609 & 30724.170 &  679 &  2873.9932 & 31.32\\\\\n",
       "\t 201610 & 19639.751 &  430 &   879.1301 & 17.05\\\\\n",
       "\t 201611 & 38113.410 &  674 &  4449.1299 & 28.35\\\\\n",
       "\t 201612 & 58606.279 &  747 & 12992.8570 & 25.42\\\\\n",
       "\t 201701 & 22749.976 &  274 &  4728.5683 &  9.60\\\\\n",
       "\t 201702 &  9769.588 &  180 &   374.4746 &  8.67\\\\\n",
       "\t 201703 & 20081.992 &  449 &  2952.4944 & 16.34\\\\\n",
       "\t 201704 & 17424.475 &  430 &  1700.1245 & 20.95\\\\\n",
       "\t 201705 & 20244.376 &  468 &  3373.4210 & 16.62\\\\\n",
       "\t 201706 & 32929.086 &  521 &  5643.9232 & 24.45\\\\\n",
       "\t 201707 & 18629.000 &  388 &  3221.4040 & 16.00\\\\\n",
       "\t 201708 & 32833.176 &  425 &  3519.0427 & 16.40\\\\\n",
       "\t 201709 & 36546.915 &  841 &  5021.9393 & 32.35\\\\\n",
       "\t 201710 & 38363.974 &  551 &  5211.5555 & 26.00\\\\\n",
       "\t 201711 & 62912.310 & 1080 &  6645.2956 & 41.07\\\\\n",
       "\t 201712 & 44775.418 &  818 &  2316.6065 & 34.40\\\\\n",
       "\\end{tabular}\n"
      ],
      "text/markdown": [
       "\n",
       "A tbl_ts: 48 × 5\n",
       "\n",
       "| year_month &lt;dbl&gt; | Sales &lt;dbl&gt; | Quantity &lt;int&gt; | Profit &lt;dbl&gt; | Discount &lt;dbl&gt; |\n",
       "|---|---|---|---|---|\n",
       "| 201401 |  6417.102 |  114 |  1322.8412 |  4.45 |\n",
       "| 201402 |  1860.736 |  104 |   547.6046 |  5.90 |\n",
       "| 201403 | 19023.950 |  250 |  1212.3814 | 11.90 |\n",
       "| 201404 | 12415.656 |  249 |  1897.6388 |  6.80 |\n",
       "| 201405 | 15939.349 |  272 |  2116.0751 | 10.95 |\n",
       "| 201406 | 13837.698 |  275 |  2724.4740 | 10.40 |\n",
       "| 201407 | 13562.944 |  231 | -2199.3749 | 10.00 |\n",
       "| 201408 | 14667.032 |  282 |  2388.8566 |  9.10 |\n",
       "| 201409 | 26681.761 |  491 |  1695.0435 | 23.15 |\n",
       "| 201410 | 13501.259 |  293 |   639.9629 | 11.60 |\n",
       "| 201411 | 33182.735 |  567 |  3259.4889 | 23.20 |\n",
       "| 201412 | 36905.774 |  555 |  5201.9446 | 27.90 |\n",
       "| 201501 | 10876.268 |  129 | -1962.9362 |  4.20 |\n",
       "| 201502 |  7178.193 |  140 |  2222.1196 |  4.30 |\n",
       "| 201503 | 16185.652 |  276 |  2974.7642 | 11.00 |\n",
       "| 201504 | 13873.637 |  240 |    55.6754 | 12.35 |\n",
       "| 201505 | 14107.253 |  292 |  1861.2597 | 11.55 |\n",
       "| 201506 | 13281.756 |  236 |  2251.5108 | 10.80 |\n",
       "| 201507 | 11818.287 |  229 |  1202.4416 | 12.25 |\n",
       "| 201508 | 18997.201 |  267 |  3848.4560 |  8.90 |\n",
       "| 201509 | 27161.584 |  539 |  1939.6420 | 20.25 |\n",
       "| 201510 | 16833.985 |  323 |  1623.8108 | 15.10 |\n",
       "| 201511 | 39154.531 |  661 |  5852.1365 | 26.79 |\n",
       "| 201512 | 32410.577 |  597 |  2675.5333 | 22.25 |\n",
       "| 201601 | 10871.001 |  182 |  2365.2036 |  5.80 |\n",
       "| 201602 | 17602.606 |  167 |  4087.5706 |  5.30 |\n",
       "| 201603 | 19516.761 |  302 |  -227.8062 | 14.92 |\n",
       "| 201604 | 26868.998 |  342 |  4884.4514 | 13.00 |\n",
       "| 201605 | 35449.818 |  409 |  5020.6368 | 19.70 |\n",
       "| 201606 | 24496.227 |  370 |  2794.6698 | 13.50 |\n",
       "| 201607 | 16087.580 |  359 |  1978.8554 | 16.80 |\n",
       "| 201608 | 14750.264 |  346 |   356.8515 | 17.35 |\n",
       "| 201609 | 30724.170 |  679 |  2873.9932 | 31.32 |\n",
       "| 201610 | 19639.751 |  430 |   879.1301 | 17.05 |\n",
       "| 201611 | 38113.410 |  674 |  4449.1299 | 28.35 |\n",
       "| 201612 | 58606.279 |  747 | 12992.8570 | 25.42 |\n",
       "| 201701 | 22749.976 |  274 |  4728.5683 |  9.60 |\n",
       "| 201702 |  9769.588 |  180 |   374.4746 |  8.67 |\n",
       "| 201703 | 20081.992 |  449 |  2952.4944 | 16.34 |\n",
       "| 201704 | 17424.475 |  430 |  1700.1245 | 20.95 |\n",
       "| 201705 | 20244.376 |  468 |  3373.4210 | 16.62 |\n",
       "| 201706 | 32929.086 |  521 |  5643.9232 | 24.45 |\n",
       "| 201707 | 18629.000 |  388 |  3221.4040 | 16.00 |\n",
       "| 201708 | 32833.176 |  425 |  3519.0427 | 16.40 |\n",
       "| 201709 | 36546.915 |  841 |  5021.9393 | 32.35 |\n",
       "| 201710 | 38363.974 |  551 |  5211.5555 | 26.00 |\n",
       "| 201711 | 62912.310 | 1080 |  6645.2956 | 41.07 |\n",
       "| 201712 | 44775.418 |  818 |  2316.6065 | 34.40 |\n",
       "\n"
      ],
      "text/plain": [
       "   year_month Sales     Quantity Profit     Discount\n",
       "1  201401      6417.102  114      1322.8412  4.45   \n",
       "2  201402      1860.736  104       547.6046  5.90   \n",
       "3  201403     19023.950  250      1212.3814 11.90   \n",
       "4  201404     12415.656  249      1897.6388  6.80   \n",
       "5  201405     15939.349  272      2116.0751 10.95   \n",
       "6  201406     13837.698  275      2724.4740 10.40   \n",
       "7  201407     13562.944  231     -2199.3749 10.00   \n",
       "8  201408     14667.032  282      2388.8566  9.10   \n",
       "9  201409     26681.761  491      1695.0435 23.15   \n",
       "10 201410     13501.259  293       639.9629 11.60   \n",
       "11 201411     33182.735  567      3259.4889 23.20   \n",
       "12 201412     36905.774  555      5201.9446 27.90   \n",
       "13 201501     10876.268  129     -1962.9362  4.20   \n",
       "14 201502      7178.193  140      2222.1196  4.30   \n",
       "15 201503     16185.652  276      2974.7642 11.00   \n",
       "16 201504     13873.637  240        55.6754 12.35   \n",
       "17 201505     14107.253  292      1861.2597 11.55   \n",
       "18 201506     13281.756  236      2251.5108 10.80   \n",
       "19 201507     11818.287  229      1202.4416 12.25   \n",
       "20 201508     18997.201  267      3848.4560  8.90   \n",
       "21 201509     27161.584  539      1939.6420 20.25   \n",
       "22 201510     16833.985  323      1623.8108 15.10   \n",
       "23 201511     39154.531  661      5852.1365 26.79   \n",
       "24 201512     32410.577  597      2675.5333 22.25   \n",
       "25 201601     10871.001  182      2365.2036  5.80   \n",
       "26 201602     17602.606  167      4087.5706  5.30   \n",
       "27 201603     19516.761  302      -227.8062 14.92   \n",
       "28 201604     26868.998  342      4884.4514 13.00   \n",
       "29 201605     35449.818  409      5020.6368 19.70   \n",
       "30 201606     24496.227  370      2794.6698 13.50   \n",
       "31 201607     16087.580  359      1978.8554 16.80   \n",
       "32 201608     14750.264  346       356.8515 17.35   \n",
       "33 201609     30724.170  679      2873.9932 31.32   \n",
       "34 201610     19639.751  430       879.1301 17.05   \n",
       "35 201611     38113.410  674      4449.1299 28.35   \n",
       "36 201612     58606.279  747     12992.8570 25.42   \n",
       "37 201701     22749.976  274      4728.5683  9.60   \n",
       "38 201702      9769.588  180       374.4746  8.67   \n",
       "39 201703     20081.992  449      2952.4944 16.34   \n",
       "40 201704     17424.475  430      1700.1245 20.95   \n",
       "41 201705     20244.376  468      3373.4210 16.62   \n",
       "42 201706     32929.086  521      5643.9232 24.45   \n",
       "43 201707     18629.000  388      3221.4040 16.00   \n",
       "44 201708     32833.176  425      3519.0427 16.40   \n",
       "45 201709     36546.915  841      5021.9393 32.35   \n",
       "46 201710     38363.974  551      5211.5555 26.00   \n",
       "47 201711     62912.310 1080      6645.2956 41.07   \n",
       "48 201712     44775.418  818      2316.6065 34.40   "
      ]
     },
     "metadata": {},
     "output_type": "display_data"
    }
   ],
   "source": [
    "# criando uma nova coluna com o ano e mês\n",
    "tsib_monthly <- tsib %>%\n",
    "\n",
    "  # multiplicando por 100 pra criar uma valor sequencial\n",
    "  mutate(year_month = year(Order.Date) * 100 + month(Order.Date))\n",
    "\n",
    "# agregando os dados por mês\n",
    "tsib_monthly <- tsib_monthly %>%\n",
    "  index_by(year_month) %>%\n",
    "  summarise(Sales = sum(Sales), Quantity = sum(Quantity), Profit = sum(Profit), Discount = sum(Discount))\n",
    "\n",
    "tsib_monthly"
   ]
  },
  {
   "attachments": {},
   "cell_type": "markdown",
   "metadata": {},
   "source": [
    "Verificando o comportamento das vendas por mês"
   ]
  },
  {
   "cell_type": "code",
   "execution_count": 406,
   "metadata": {
    "vscode": {
     "languageId": "r"
    }
   },
   "outputs": [
    {
     "data": {
      "image/png": "[encoded data removed]",
      "text/plain": [
       "plot without title"
      ]
     },
     "metadata": {
      "image/png": {
       "height": 420,
       "width": 420
      }
     },
     "output_type": "display_data"
    }
   ],
   "source": [
    "tsib_monthly %>%\n",
    "  autoplot(Sales)"
   ]
  },
  {
   "cell_type": "code",
   "execution_count": 407,
   "metadata": {
    "vscode": {
     "languageId": "r"
    }
   },
   "outputs": [
    {
     "data": {
      "image/png": "[encoded data removed]",
      "text/plain": [
       "plot without title"
      ]
     },
     "metadata": {
      "image/png": {
       "height": 420,
       "width": 420
      }
     },
     "output_type": "display_data"
    }
   ],
   "source": [
    "tsib_monthly %>%\n",
    "  autoplot(Quantity)"
   ]
  },
  {
   "cell_type": "code",
   "execution_count": 408,
   "metadata": {
    "vscode": {
     "languageId": "r"
    }
   },
   "outputs": [
    {
     "data": {
      "image/png": "[encoded data removed]",
      "text/plain": [
       "plot without title"
      ]
     },
     "metadata": {
      "image/png": {
       "height": 420,
       "width": 420
      }
     },
     "output_type": "display_data"
    }
   ],
   "source": [
    "tsib_monthly %>%\n",
    "  autoplot(Profit)"
   ]
  },
  {
   "cell_type": "code",
   "execution_count": 409,
   "metadata": {
    "vscode": {
     "languageId": "r"
    }
   },
   "outputs": [
    {
     "data": {
      "image/png": "[encoded data removed]",
      "text/plain": [
       "plot without title"
      ]
     },
     "metadata": {
      "image/png": {
       "height": 420,
       "width": 420
      }
     },
     "output_type": "display_data"
    }
   ],
   "source": [
    "tsib_monthly %>%\n",
    "  autoplot(Discount)"
   ]
  },
  {
   "attachments": {},
   "cell_type": "markdown",
   "metadata": {},
   "source": [
    "- É possivel perceber que as vendas disparam no início do ano e caem vertiginosamente até assumir valores bem baixo no fim do ano dando início a outro ciclo de crescimento de modo que é possível perceber efeitos de tendência e sazonalidade.\n",
    "- Posso optar por `Sales` ou qualquer uma das demais vistas acima para previsão visto que o padrão e comportamento é basicamente o mesmo\n",
    "- A partir daqui vou trabalhar com `Sales`, mas seria proveitoso também utilizar `Profit` em análises futuras pois este deve considerar o lucro frente aos fatores de custos e despesas."
   ]
  },
  {
   "cell_type": "code",
   "execution_count": 410,
   "metadata": {
    "vscode": {
     "languageId": "r"
    }
   },
   "outputs": [
    {
     "data": {
      "text/html": [
       "<table class=\"dataframe\">\n",
       "<caption>A tbl_ts: 6 × 5</caption>\n",
       "<thead>\n",
       "\t<tr><th scope=col>year_month</th><th scope=col>Sales</th><th scope=col>Quantity</th><th scope=col>Profit</th><th scope=col>Discount</th></tr>\n",
       "\t<tr><th scope=col>&lt;dbl&gt;</th><th scope=col>&lt;dbl&gt;</th><th scope=col>&lt;int&gt;</th><th scope=col>&lt;dbl&gt;</th><th scope=col>&lt;dbl&gt;</th></tr>\n",
       "</thead>\n",
       "<tbody>\n",
       "\t<tr><td>201401</td><td> 6417.102</td><td>114</td><td>1322.8412</td><td> 4.45</td></tr>\n",
       "\t<tr><td>201402</td><td> 1860.736</td><td>104</td><td> 547.6046</td><td> 5.90</td></tr>\n",
       "\t<tr><td>201403</td><td>19023.950</td><td>250</td><td>1212.3814</td><td>11.90</td></tr>\n",
       "\t<tr><td>201404</td><td>12415.656</td><td>249</td><td>1897.6388</td><td> 6.80</td></tr>\n",
       "\t<tr><td>201405</td><td>15939.349</td><td>272</td><td>2116.0751</td><td>10.95</td></tr>\n",
       "\t<tr><td>201406</td><td>13837.698</td><td>275</td><td>2724.4740</td><td>10.40</td></tr>\n",
       "</tbody>\n",
       "</table>\n"
      ],
      "text/latex": [
       "A tbl\\_ts: 6 × 5\n",
       "\\begin{tabular}{lllll}\n",
       " year\\_month & Sales & Quantity & Profit & Discount\\\\\n",
       " <dbl> & <dbl> & <int> & <dbl> & <dbl>\\\\\n",
       "\\hline\n",
       "\t 201401 &  6417.102 & 114 & 1322.8412 &  4.45\\\\\n",
       "\t 201402 &  1860.736 & 104 &  547.6046 &  5.90\\\\\n",
       "\t 201403 & 19023.950 & 250 & 1212.3814 & 11.90\\\\\n",
       "\t 201404 & 12415.656 & 249 & 1897.6388 &  6.80\\\\\n",
       "\t 201405 & 15939.349 & 272 & 2116.0751 & 10.95\\\\\n",
       "\t 201406 & 13837.698 & 275 & 2724.4740 & 10.40\\\\\n",
       "\\end{tabular}\n"
      ],
      "text/markdown": [
       "\n",
       "A tbl_ts: 6 × 5\n",
       "\n",
       "| year_month &lt;dbl&gt; | Sales &lt;dbl&gt; | Quantity &lt;int&gt; | Profit &lt;dbl&gt; | Discount &lt;dbl&gt; |\n",
       "|---|---|---|---|---|\n",
       "| 201401 |  6417.102 | 114 | 1322.8412 |  4.45 |\n",
       "| 201402 |  1860.736 | 104 |  547.6046 |  5.90 |\n",
       "| 201403 | 19023.950 | 250 | 1212.3814 | 11.90 |\n",
       "| 201404 | 12415.656 | 249 | 1897.6388 |  6.80 |\n",
       "| 201405 | 15939.349 | 272 | 2116.0751 | 10.95 |\n",
       "| 201406 | 13837.698 | 275 | 2724.4740 | 10.40 |\n",
       "\n"
      ],
      "text/plain": [
       "  year_month Sales     Quantity Profit    Discount\n",
       "1 201401      6417.102 114      1322.8412  4.45   \n",
       "2 201402      1860.736 104       547.6046  5.90   \n",
       "3 201403     19023.950 250      1212.3814 11.90   \n",
       "4 201404     12415.656 249      1897.6388  6.80   \n",
       "5 201405     15939.349 272      2116.0751 10.95   \n",
       "6 201406     13837.698 275      2724.4740 10.40   "
      ]
     },
     "metadata": {},
     "output_type": "display_data"
    }
   ],
   "source": [
    "#tsib_monthly_filled <- tsib_monthly %>%\n",
    "#  fill_gaps(Sales = 0)\n",
    "  \n",
    "# Agregar os dados por mês\n",
    "tsib_monthly <- tsib_monthly %>%\n",
    "  index_by(year_month) %>%\n",
    "  summarise(Sales = sum(Sales), Quantity = sum(Quantity), Profit = sum(Profit), Discount = sum(Discount))\n",
    "head(tsib_monthly)"
   ]
  },
  {
   "attachments": {},
   "cell_type": "markdown",
   "metadata": {},
   "source": [
    "Plotando a Série Temporal de Vendas"
   ]
  },
  {
   "cell_type": "code",
   "execution_count": 411,
   "metadata": {
    "vscode": {
     "languageId": "r"
    }
   },
   "outputs": [
    {
     "data": {
      "image/png": "[encoded data removed]",
      "text/plain": [
       "plot without title"
      ]
     },
     "metadata": {
      "image/png": {
       "height": 420,
       "width": 420
      }
     },
     "output_type": "display_data"
    }
   ],
   "source": [
    "# Plotar a série temporal de vendas\n",
    "ggplot(tsib, aes(x = Order.Date, y = Sales)) +\n",
    "  geom_line() +\n",
    "  labs(title = \"Vendas ao longo do tempo\",\n",
    "       x = \"Data do pedido\",\n",
    "       y = \"Vendas\")"
   ]
  },
  {
   "attachments": {},
   "cell_type": "markdown",
   "metadata": {},
   "source": [
    "# Decomposições da Série Temporal"
   ]
  },
  {
   "attachments": {},
   "cell_type": "markdown",
   "metadata": {},
   "source": [
    "A fim de garantir, removendo `missing values` e `substituindo por 0`"
   ]
  },
  {
   "cell_type": "code",
   "execution_count": 412,
   "metadata": {
    "vscode": {
     "languageId": "r"
    }
   },
   "outputs": [],
   "source": [
    "df_ts_filled <- df_ts %>%\n",
    "  tsibble::fill_gaps(Sales = 0)"
   ]
  },
  {
   "cell_type": "code",
   "execution_count": 441,
   "metadata": {
    "vscode": {
     "languageId": "r"
    }
   },
   "outputs": [
    {
     "name": "stdout",
     "output_type": "stream",
     "text": [
      "Não há lacunas nos dados.\n"
     ]
    }
   ],
   "source": [
    "# Verificar se há lacunas mais uma vez para evitar erros apontando que não há peridiocidade\n",
    "missing_months <- df_ts_filled %>%\n",
    "  filter(is.na(Sales)) %>%\n",
    "  pull(Sales)\n",
    "if (length(missing_months) > 0) {\n",
    "  cat(\"Há lacunas nos dados:\\n\")\n",
    "  cat(missing_months, \"\\n\")\n",
    "} else {\n",
    "  cat(\"Não há lacunas nos dados.\\n\")\n",
    "}"
   ]
  },
  {
   "attachments": {},
   "cell_type": "markdown",
   "metadata": {},
   "source": [
    "Decompondo a Série Temporal de Vendas"
   ]
  },
  {
   "cell_type": "code",
   "execution_count": 413,
   "metadata": {
    "vscode": {
     "languageId": "r"
    }
   },
   "outputs": [
    {
     "data": {
      "text/html": [
       "<table class=\"dataframe\">\n",
       "<caption>A dcmp_ts: 1458 × 8</caption>\n",
       "<thead>\n",
       "\t<tr><th scope=col>.model</th><th scope=col>Order.Date</th><th scope=col>Sales</th><th scope=col>trend</th><th scope=col>season_week</th><th scope=col>season_year</th><th scope=col>remainder</th><th scope=col>season_adjust</th></tr>\n",
       "\t<tr><th scope=col>&lt;chr&gt;</th><th scope=col>&lt;date&gt;</th><th scope=col>&lt;dbl&gt;</th><th scope=col>&lt;dbl&gt;</th><th scope=col>&lt;dbl&gt;</th><th scope=col>&lt;dbl&gt;</th><th scope=col>&lt;dbl&gt;</th><th scope=col>&lt;dbl&gt;</th></tr>\n",
       "</thead>\n",
       "<tbody>\n",
       "\t<tr><td>stl</td><td>2014-01-03</td><td>  16.448</td><td>546.6315</td><td>-130.954620</td><td> -74.49014</td><td> -324.738771</td><td> 221.8928</td></tr>\n",
       "\t<tr><td>stl</td><td>2014-01-04</td><td>  11.784</td><td>546.7766</td><td> -16.386812</td><td> 100.29131</td><td> -618.897061</td><td> -72.1205</td></tr>\n",
       "\t<tr><td>stl</td><td>2014-01-05</td><td>  19.536</td><td>546.9216</td><td>-217.957855</td><td>-251.74324</td><td>  -57.684507</td><td> 489.2371</td></tr>\n",
       "\t<tr><td>stl</td><td>2014-01-06</td><td>2606.040</td><td>547.0666</td><td> 639.148224</td><td>  49.27667</td><td> 1370.548466</td><td>1917.6151</td></tr>\n",
       "\t<tr><td>stl</td><td>2014-01-07</td><td>  76.728</td><td>547.2117</td><td>  -7.658663</td><td>-672.60359</td><td>  209.778564</td><td> 756.9902</td></tr>\n",
       "\t<tr><td>stl</td><td>2014-01-08</td><td>   0.000</td><td>547.3567</td><td>-153.322583</td><td> 350.21816</td><td> -744.252301</td><td>-196.8956</td></tr>\n",
       "\t<tr><td>stl</td><td>2014-01-09</td><td>   9.344</td><td>547.5018</td><td>-118.034998</td><td>-459.93243</td><td>   39.809668</td><td> 587.3114</td></tr>\n",
       "\t<tr><td>stl</td><td>2014-01-10</td><td>   2.890</td><td>547.6468</td><td>-117.870656</td><td>-465.08310</td><td>   38.196950</td><td> 585.8438</td></tr>\n",
       "\t<tr><td>stl</td><td>2014-01-11</td><td>   9.940</td><td>547.7918</td><td>  -8.702446</td><td>-597.03211</td><td>   67.882715</td><td> 615.6746</td></tr>\n",
       "\t<tr><td>stl</td><td>2014-01-12</td><td>   0.000</td><td>547.9369</td><td>-214.640843</td><td>-338.67121</td><td>    5.375167</td><td> 553.3120</td></tr>\n",
       "\t<tr><td>stl</td><td>2014-01-13</td><td>1920.558</td><td>548.0819</td><td> 602.671877</td><td>  40.18157</td><td>  729.622635</td><td>1277.7046</td></tr>\n",
       "\t<tr><td>stl</td><td>2014-01-14</td><td>  61.960</td><td>548.2270</td><td>  -4.587361</td><td>-639.91234</td><td>  158.232741</td><td> 706.4597</td></tr>\n",
       "\t<tr><td>stl</td><td>2014-01-15</td><td> 149.950</td><td>548.3720</td><td>-143.964253</td><td>-481.80780</td><td>  227.350055</td><td> 775.7221</td></tr>\n",
       "\t<tr><td>stl</td><td>2014-01-16</td><td> 127.104</td><td>548.5170</td><td>-118.271950</td><td>-719.73177</td><td>  416.590683</td><td> 965.1077</td></tr>\n",
       "\t<tr><td>stl</td><td>2014-01-17</td><td>   0.000</td><td>548.6621</td><td>-104.904373</td><td> 628.85724</td><td>-1072.614951</td><td>-523.9529</td></tr>\n",
       "\t<tr><td>stl</td><td>2014-01-18</td><td>  64.864</td><td>548.8071</td><td>  -1.471056</td><td>-548.24198</td><td>   65.769914</td><td> 614.5770</td></tr>\n",
       "\t<tr><td>stl</td><td>2014-01-19</td><td>  32.340</td><td>548.9522</td><td>-212.138874</td><td>-526.72542</td><td>  222.252138</td><td> 771.2043</td></tr>\n",
       "\t<tr><td>stl</td><td>2014-01-20</td><td> 800.464</td><td>549.0972</td><td> 565.173496</td><td>-359.78762</td><td>   45.980931</td><td> 595.0781</td></tr>\n",
       "\t<tr><td>stl</td><td>2014-01-21</td><td>  25.248</td><td>549.2422</td><td>  -2.483524</td><td>-543.39121</td><td>   21.880502</td><td> 571.1227</td></tr>\n",
       "\t<tr><td>stl</td><td>2014-01-22</td><td>   0.000</td><td>549.3873</td><td>-135.294747</td><td>-403.40019</td><td>  -10.692340</td><td> 538.6949</td></tr>\n",
       "\t<tr><td>stl</td><td>2014-01-23</td><td>  46.020</td><td>549.5323</td><td>-118.763453</td><td> -28.14561</td><td> -356.603251</td><td> 192.9291</td></tr>\n",
       "\t<tr><td>stl</td><td>2014-01-24</td><td>   0.000</td><td>549.6774</td><td> -80.438840</td><td>-749.07383</td><td>  279.835318</td><td> 829.5127</td></tr>\n",
       "\t<tr><td>stl</td><td>2014-01-25</td><td>   0.000</td><td>549.8224</td><td>  28.199661</td><td>-530.44169</td><td>  -47.580364</td><td> 502.2420</td></tr>\n",
       "\t<tr><td>stl</td><td>2014-01-26</td><td>  73.500</td><td>549.9674</td><td>-196.281992</td><td>-572.90813</td><td>  292.722687</td><td> 842.6901</td></tr>\n",
       "\t<tr><td>stl</td><td>2014-01-27</td><td>  57.230</td><td>550.1125</td><td> 458.828817</td><td> 121.07608</td><td>-1072.787372</td><td>-522.6749</td></tr>\n",
       "\t<tr><td>stl</td><td>2014-01-28</td><td>   3.928</td><td>550.2575</td><td>  -4.665227</td><td> 499.54947</td><td>-1041.213758</td><td>-490.9562</td></tr>\n",
       "\t<tr><td>stl</td><td>2014-01-29</td><td>   0.000</td><td>550.4026</td><td> -97.370275</td><td>-420.00021</td><td>  -33.032072</td><td> 517.3705</td></tr>\n",
       "\t<tr><td>stl</td><td>2014-01-30</td><td>  10.560</td><td>550.5476</td><td>-121.470940</td><td> -83.23385</td><td> -335.282806</td><td> 215.2648</td></tr>\n",
       "\t<tr><td>stl</td><td>2014-01-31</td><td> 290.666</td><td>550.6926</td><td> -54.998549</td><td>-104.35813</td><td> -100.669954</td><td> 450.0227</td></tr>\n",
       "\t<tr><td>stl</td><td>2014-02-01</td><td> 468.900</td><td>550.8377</td><td>  57.558737</td><td>-371.56416</td><td>  232.067749</td><td> 782.9054</td></tr>\n",
       "\t<tr><td>...</td><td>...</td><td>...</td><td>...</td><td>...</td><td>...</td><td>...</td><td>...</td></tr>\n",
       "\t<tr><td>stl</td><td>2017-12-01</td><td>1722.774</td><td>1148.786</td><td> 1377.0921</td><td> 487.40790</td><td>-1290.51176</td><td> -141.7260245</td></tr>\n",
       "\t<tr><td>stl</td><td>2017-12-02</td><td>5378.294</td><td>1149.822</td><td>  590.5567</td><td>1789.08399</td><td> 1848.83147</td><td> 2998.6533133</td></tr>\n",
       "\t<tr><td>stl</td><td>2017-12-03</td><td> 902.832</td><td>1150.858</td><td>  300.1257</td><td> 547.50710</td><td>-1095.65871</td><td>   55.1992466</td></tr>\n",
       "\t<tr><td>stl</td><td>2017-12-04</td><td>1263.680</td><td>1151.894</td><td> -447.3077</td><td> 287.99395</td><td>  271.09966</td><td> 1422.9937271</td></tr>\n",
       "\t<tr><td>stl</td><td>2017-12-05</td><td> 552.646</td><td>1152.930</td><td> -694.3048</td><td>1073.85174</td><td> -979.83116</td><td>  173.0990188</td></tr>\n",
       "\t<tr><td>stl</td><td>2017-12-06</td><td>  10.680</td><td>1153.966</td><td>-1492.4141</td><td> 193.87407</td><td>  155.25373</td><td> 1309.2200176</td></tr>\n",
       "\t<tr><td>stl</td><td>2017-12-07</td><td>2848.962</td><td>1155.002</td><td>  504.8681</td><td> 223.09460</td><td>  965.99692</td><td> 2120.9993150</td></tr>\n",
       "\t<tr><td>stl</td><td>2017-12-08</td><td>1476.262</td><td>1156.039</td><td> 1312.1866</td><td>-119.85149</td><td> -872.11158</td><td>  283.9269268</td></tr>\n",
       "\t<tr><td>stl</td><td>2017-12-09</td><td>2331.123</td><td>1157.075</td><td>  486.1340</td><td>  89.27034</td><td>  598.64405</td><td> 1755.7186654</td></tr>\n",
       "\t<tr><td>stl</td><td>2017-12-10</td><td>2541.491</td><td>1158.111</td><td>  348.8940</td><td> 150.29706</td><td>  884.18926</td><td> 2042.2999804</td></tr>\n",
       "\t<tr><td>stl</td><td>2017-12-11</td><td>1134.815</td><td>1159.147</td><td> -501.3961</td><td> 262.15216</td><td>  214.91213</td><td> 1374.0589627</td></tr>\n",
       "\t<tr><td>stl</td><td>2017-12-12</td><td>   0.000</td><td>1160.183</td><td> -662.7428</td><td> -10.14080</td><td> -487.29939</td><td>  672.8835554</td></tr>\n",
       "\t<tr><td>stl</td><td>2017-12-13</td><td> 328.056</td><td>1161.219</td><td>-1463.0020</td><td>1451.94344</td><td> -822.10448</td><td>  339.1145786</td></tr>\n",
       "\t<tr><td>stl</td><td>2017-12-14</td><td>2855.346</td><td>1162.255</td><td>  554.7579</td><td> 825.79977</td><td>  312.53318</td><td> 1474.7883426</td></tr>\n",
       "\t<tr><td>stl</td><td>2017-12-15</td><td>  55.792</td><td>1163.291</td><td> 1262.7070</td><td> 243.34548</td><td>-2613.55179</td><td>-1450.2605156</td></tr>\n",
       "\t<tr><td>stl</td><td>2017-12-16</td><td> 145.088</td><td>1164.327</td><td>  395.6125</td><td>-654.70231</td><td> -760.14961</td><td>  404.1777766</td></tr>\n",
       "\t<tr><td>stl</td><td>2017-12-17</td><td>1851.372</td><td>1165.363</td><td>  408.2241</td><td>2545.20577</td><td>-2267.42131</td><td>-1102.0578188</td></tr>\n",
       "\t<tr><td>stl</td><td>2017-12-18</td><td> 255.404</td><td>1166.400</td><td> -549.2637</td><td> 674.82847</td><td>-1036.56032</td><td>  129.8392791</td></tr>\n",
       "\t<tr><td>stl</td><td>2017-12-19</td><td>1715.652</td><td>1167.436</td><td> -629.5131</td><td> 503.75927</td><td>  673.97008</td><td> 1841.4057883</td></tr>\n",
       "\t<tr><td>stl</td><td>2017-12-20</td><td> 286.380</td><td>1168.472</td><td>-1435.8868</td><td> 599.60295</td><td>  -45.80801</td><td> 1122.6638168</td></tr>\n",
       "\t<tr><td>stl</td><td>2017-12-21</td><td>1899.120</td><td>1169.508</td><td>  599.5228</td><td>  13.33557</td><td>  116.75370</td><td> 1286.2616304</td></tr>\n",
       "\t<tr><td>stl</td><td>2017-12-22</td><td>4116.031</td><td>1170.544</td><td> 1218.7876</td><td> 428.69288</td><td> 1298.00647</td><td> 2468.5505163</td></tr>\n",
       "\t<tr><td>stl</td><td>2017-12-23</td><td> 400.146</td><td>1171.580</td><td>  364.5892</td><td> 524.04407</td><td>-1660.06739</td><td> -488.4872329</td></tr>\n",
       "\t<tr><td>stl</td><td>2017-12-24</td><td>5040.642</td><td>1172.616</td><td>  437.4607</td><td>1192.63663</td><td> 2237.92837</td><td> 3410.5446298</td></tr>\n",
       "\t<tr><td>stl</td><td>2017-12-25</td><td> 834.682</td><td>1173.652</td><td> -579.5580</td><td>1413.56572</td><td>-1172.97812</td><td>    0.6742554</td></tr>\n",
       "\t<tr><td>stl</td><td>2017-12-26</td><td> 814.594</td><td>1174.688</td><td> -610.2041</td><td> 700.17481</td><td> -450.06519</td><td>  724.6232955</td></tr>\n",
       "\t<tr><td>stl</td><td>2017-12-27</td><td> 164.388</td><td>1175.725</td><td>-1419.9654</td><td> 534.69721</td><td> -126.06841</td><td> 1049.6561807</td></tr>\n",
       "\t<tr><td>stl</td><td>2017-12-28</td><td>1361.944</td><td>1176.761</td><td>  633.1407</td><td>-262.97517</td><td> -184.98219</td><td>  991.7785156</td></tr>\n",
       "\t<tr><td>stl</td><td>2017-12-29</td><td>1937.858</td><td>1177.797</td><td> 1176.0351</td><td>  86.95944</td><td> -502.93335</td><td>  674.8634640</td></tr>\n",
       "\t<tr><td>stl</td><td>2017-12-30</td><td> 549.364</td><td>1178.833</td><td>  335.0411</td><td> 177.80377</td><td>-1142.31375</td><td>   36.5191710</td></tr>\n",
       "</tbody>\n",
       "</table>\n"
      ],
      "text/latex": [
       "A dcmp\\_ts: 1458 × 8\n",
       "\\begin{tabular}{llllllll}\n",
       " .model & Order.Date & Sales & trend & season\\_week & season\\_year & remainder & season\\_adjust\\\\\n",
       " <chr> & <date> & <dbl> & <dbl> & <dbl> & <dbl> & <dbl> & <dbl>\\\\\n",
       "\\hline\n",
       "\t stl & 2014-01-03 &   16.448 & 546.6315 & -130.954620 &  -74.49014 &  -324.738771 &  221.8928\\\\\n",
       "\t stl & 2014-01-04 &   11.784 & 546.7766 &  -16.386812 &  100.29131 &  -618.897061 &  -72.1205\\\\\n",
       "\t stl & 2014-01-05 &   19.536 & 546.9216 & -217.957855 & -251.74324 &   -57.684507 &  489.2371\\\\\n",
       "\t stl & 2014-01-06 & 2606.040 & 547.0666 &  639.148224 &   49.27667 &  1370.548466 & 1917.6151\\\\\n",
       "\t stl & 2014-01-07 &   76.728 & 547.2117 &   -7.658663 & -672.60359 &   209.778564 &  756.9902\\\\\n",
       "\t stl & 2014-01-08 &    0.000 & 547.3567 & -153.322583 &  350.21816 &  -744.252301 & -196.8956\\\\\n",
       "\t stl & 2014-01-09 &    9.344 & 547.5018 & -118.034998 & -459.93243 &    39.809668 &  587.3114\\\\\n",
       "\t stl & 2014-01-10 &    2.890 & 547.6468 & -117.870656 & -465.08310 &    38.196950 &  585.8438\\\\\n",
       "\t stl & 2014-01-11 &    9.940 & 547.7918 &   -8.702446 & -597.03211 &    67.882715 &  615.6746\\\\\n",
       "\t stl & 2014-01-12 &    0.000 & 547.9369 & -214.640843 & -338.67121 &     5.375167 &  553.3120\\\\\n",
       "\t stl & 2014-01-13 & 1920.558 & 548.0819 &  602.671877 &   40.18157 &   729.622635 & 1277.7046\\\\\n",
       "\t stl & 2014-01-14 &   61.960 & 548.2270 &   -4.587361 & -639.91234 &   158.232741 &  706.4597\\\\\n",
       "\t stl & 2014-01-15 &  149.950 & 548.3720 & -143.964253 & -481.80780 &   227.350055 &  775.7221\\\\\n",
       "\t stl & 2014-01-16 &  127.104 & 548.5170 & -118.271950 & -719.73177 &   416.590683 &  965.1077\\\\\n",
       "\t stl & 2014-01-17 &    0.000 & 548.6621 & -104.904373 &  628.85724 & -1072.614951 & -523.9529\\\\\n",
       "\t stl & 2014-01-18 &   64.864 & 548.8071 &   -1.471056 & -548.24198 &    65.769914 &  614.5770\\\\\n",
       "\t stl & 2014-01-19 &   32.340 & 548.9522 & -212.138874 & -526.72542 &   222.252138 &  771.2043\\\\\n",
       "\t stl & 2014-01-20 &  800.464 & 549.0972 &  565.173496 & -359.78762 &    45.980931 &  595.0781\\\\\n",
       "\t stl & 2014-01-21 &   25.248 & 549.2422 &   -2.483524 & -543.39121 &    21.880502 &  571.1227\\\\\n",
       "\t stl & 2014-01-22 &    0.000 & 549.3873 & -135.294747 & -403.40019 &   -10.692340 &  538.6949\\\\\n",
       "\t stl & 2014-01-23 &   46.020 & 549.5323 & -118.763453 &  -28.14561 &  -356.603251 &  192.9291\\\\\n",
       "\t stl & 2014-01-24 &    0.000 & 549.6774 &  -80.438840 & -749.07383 &   279.835318 &  829.5127\\\\\n",
       "\t stl & 2014-01-25 &    0.000 & 549.8224 &   28.199661 & -530.44169 &   -47.580364 &  502.2420\\\\\n",
       "\t stl & 2014-01-26 &   73.500 & 549.9674 & -196.281992 & -572.90813 &   292.722687 &  842.6901\\\\\n",
       "\t stl & 2014-01-27 &   57.230 & 550.1125 &  458.828817 &  121.07608 & -1072.787372 & -522.6749\\\\\n",
       "\t stl & 2014-01-28 &    3.928 & 550.2575 &   -4.665227 &  499.54947 & -1041.213758 & -490.9562\\\\\n",
       "\t stl & 2014-01-29 &    0.000 & 550.4026 &  -97.370275 & -420.00021 &   -33.032072 &  517.3705\\\\\n",
       "\t stl & 2014-01-30 &   10.560 & 550.5476 & -121.470940 &  -83.23385 &  -335.282806 &  215.2648\\\\\n",
       "\t stl & 2014-01-31 &  290.666 & 550.6926 &  -54.998549 & -104.35813 &  -100.669954 &  450.0227\\\\\n",
       "\t stl & 2014-02-01 &  468.900 & 550.8377 &   57.558737 & -371.56416 &   232.067749 &  782.9054\\\\\n",
       "\t ... & ... & ... & ... & ... & ... & ... & ...\\\\\n",
       "\t stl & 2017-12-01 & 1722.774 & 1148.786 &  1377.0921 &  487.40790 & -1290.51176 &  -141.7260245\\\\\n",
       "\t stl & 2017-12-02 & 5378.294 & 1149.822 &   590.5567 & 1789.08399 &  1848.83147 &  2998.6533133\\\\\n",
       "\t stl & 2017-12-03 &  902.832 & 1150.858 &   300.1257 &  547.50710 & -1095.65871 &    55.1992466\\\\\n",
       "\t stl & 2017-12-04 & 1263.680 & 1151.894 &  -447.3077 &  287.99395 &   271.09966 &  1422.9937271\\\\\n",
       "\t stl & 2017-12-05 &  552.646 & 1152.930 &  -694.3048 & 1073.85174 &  -979.83116 &   173.0990188\\\\\n",
       "\t stl & 2017-12-06 &   10.680 & 1153.966 & -1492.4141 &  193.87407 &   155.25373 &  1309.2200176\\\\\n",
       "\t stl & 2017-12-07 & 2848.962 & 1155.002 &   504.8681 &  223.09460 &   965.99692 &  2120.9993150\\\\\n",
       "\t stl & 2017-12-08 & 1476.262 & 1156.039 &  1312.1866 & -119.85149 &  -872.11158 &   283.9269268\\\\\n",
       "\t stl & 2017-12-09 & 2331.123 & 1157.075 &   486.1340 &   89.27034 &   598.64405 &  1755.7186654\\\\\n",
       "\t stl & 2017-12-10 & 2541.491 & 1158.111 &   348.8940 &  150.29706 &   884.18926 &  2042.2999804\\\\\n",
       "\t stl & 2017-12-11 & 1134.815 & 1159.147 &  -501.3961 &  262.15216 &   214.91213 &  1374.0589627\\\\\n",
       "\t stl & 2017-12-12 &    0.000 & 1160.183 &  -662.7428 &  -10.14080 &  -487.29939 &   672.8835554\\\\\n",
       "\t stl & 2017-12-13 &  328.056 & 1161.219 & -1463.0020 & 1451.94344 &  -822.10448 &   339.1145786\\\\\n",
       "\t stl & 2017-12-14 & 2855.346 & 1162.255 &   554.7579 &  825.79977 &   312.53318 &  1474.7883426\\\\\n",
       "\t stl & 2017-12-15 &   55.792 & 1163.291 &  1262.7070 &  243.34548 & -2613.55179 & -1450.2605156\\\\\n",
       "\t stl & 2017-12-16 &  145.088 & 1164.327 &   395.6125 & -654.70231 &  -760.14961 &   404.1777766\\\\\n",
       "\t stl & 2017-12-17 & 1851.372 & 1165.363 &   408.2241 & 2545.20577 & -2267.42131 & -1102.0578188\\\\\n",
       "\t stl & 2017-12-18 &  255.404 & 1166.400 &  -549.2637 &  674.82847 & -1036.56032 &   129.8392791\\\\\n",
       "\t stl & 2017-12-19 & 1715.652 & 1167.436 &  -629.5131 &  503.75927 &   673.97008 &  1841.4057883\\\\\n",
       "\t stl & 2017-12-20 &  286.380 & 1168.472 & -1435.8868 &  599.60295 &   -45.80801 &  1122.6638168\\\\\n",
       "\t stl & 2017-12-21 & 1899.120 & 1169.508 &   599.5228 &   13.33557 &   116.75370 &  1286.2616304\\\\\n",
       "\t stl & 2017-12-22 & 4116.031 & 1170.544 &  1218.7876 &  428.69288 &  1298.00647 &  2468.5505163\\\\\n",
       "\t stl & 2017-12-23 &  400.146 & 1171.580 &   364.5892 &  524.04407 & -1660.06739 &  -488.4872329\\\\\n",
       "\t stl & 2017-12-24 & 5040.642 & 1172.616 &   437.4607 & 1192.63663 &  2237.92837 &  3410.5446298\\\\\n",
       "\t stl & 2017-12-25 &  834.682 & 1173.652 &  -579.5580 & 1413.56572 & -1172.97812 &     0.6742554\\\\\n",
       "\t stl & 2017-12-26 &  814.594 & 1174.688 &  -610.2041 &  700.17481 &  -450.06519 &   724.6232955\\\\\n",
       "\t stl & 2017-12-27 &  164.388 & 1175.725 & -1419.9654 &  534.69721 &  -126.06841 &  1049.6561807\\\\\n",
       "\t stl & 2017-12-28 & 1361.944 & 1176.761 &   633.1407 & -262.97517 &  -184.98219 &   991.7785156\\\\\n",
       "\t stl & 2017-12-29 & 1937.858 & 1177.797 &  1176.0351 &   86.95944 &  -502.93335 &   674.8634640\\\\\n",
       "\t stl & 2017-12-30 &  549.364 & 1178.833 &   335.0411 &  177.80377 & -1142.31375 &    36.5191710\\\\\n",
       "\\end{tabular}\n"
      ],
      "text/markdown": [
       "\n",
       "A dcmp_ts: 1458 × 8\n",
       "\n",
       "| .model &lt;chr&gt; | Order.Date &lt;date&gt; | Sales &lt;dbl&gt; | trend &lt;dbl&gt; | season_week &lt;dbl&gt; | season_year &lt;dbl&gt; | remainder &lt;dbl&gt; | season_adjust &lt;dbl&gt; |\n",
       "|---|---|---|---|---|---|---|---|\n",
       "| stl | 2014-01-03 |   16.448 | 546.6315 | -130.954620 |  -74.49014 |  -324.738771 |  221.8928 |\n",
       "| stl | 2014-01-04 |   11.784 | 546.7766 |  -16.386812 |  100.29131 |  -618.897061 |  -72.1205 |\n",
       "| stl | 2014-01-05 |   19.536 | 546.9216 | -217.957855 | -251.74324 |   -57.684507 |  489.2371 |\n",
       "| stl | 2014-01-06 | 2606.040 | 547.0666 |  639.148224 |   49.27667 |  1370.548466 | 1917.6151 |\n",
       "| stl | 2014-01-07 |   76.728 | 547.2117 |   -7.658663 | -672.60359 |   209.778564 |  756.9902 |\n",
       "| stl | 2014-01-08 |    0.000 | 547.3567 | -153.322583 |  350.21816 |  -744.252301 | -196.8956 |\n",
       "| stl | 2014-01-09 |    9.344 | 547.5018 | -118.034998 | -459.93243 |    39.809668 |  587.3114 |\n",
       "| stl | 2014-01-10 |    2.890 | 547.6468 | -117.870656 | -465.08310 |    38.196950 |  585.8438 |\n",
       "| stl | 2014-01-11 |    9.940 | 547.7918 |   -8.702446 | -597.03211 |    67.882715 |  615.6746 |\n",
       "| stl | 2014-01-12 |    0.000 | 547.9369 | -214.640843 | -338.67121 |     5.375167 |  553.3120 |\n",
       "| stl | 2014-01-13 | 1920.558 | 548.0819 |  602.671877 |   40.18157 |   729.622635 | 1277.7046 |\n",
       "| stl | 2014-01-14 |   61.960 | 548.2270 |   -4.587361 | -639.91234 |   158.232741 |  706.4597 |\n",
       "| stl | 2014-01-15 |  149.950 | 548.3720 | -143.964253 | -481.80780 |   227.350055 |  775.7221 |\n",
       "| stl | 2014-01-16 |  127.104 | 548.5170 | -118.271950 | -719.73177 |   416.590683 |  965.1077 |\n",
       "| stl | 2014-01-17 |    0.000 | 548.6621 | -104.904373 |  628.85724 | -1072.614951 | -523.9529 |\n",
       "| stl | 2014-01-18 |   64.864 | 548.8071 |   -1.471056 | -548.24198 |    65.769914 |  614.5770 |\n",
       "| stl | 2014-01-19 |   32.340 | 548.9522 | -212.138874 | -526.72542 |   222.252138 |  771.2043 |\n",
       "| stl | 2014-01-20 |  800.464 | 549.0972 |  565.173496 | -359.78762 |    45.980931 |  595.0781 |\n",
       "| stl | 2014-01-21 |   25.248 | 549.2422 |   -2.483524 | -543.39121 |    21.880502 |  571.1227 |\n",
       "| stl | 2014-01-22 |    0.000 | 549.3873 | -135.294747 | -403.40019 |   -10.692340 |  538.6949 |\n",
       "| stl | 2014-01-23 |   46.020 | 549.5323 | -118.763453 |  -28.14561 |  -356.603251 |  192.9291 |\n",
       "| stl | 2014-01-24 |    0.000 | 549.6774 |  -80.438840 | -749.07383 |   279.835318 |  829.5127 |\n",
       "| stl | 2014-01-25 |    0.000 | 549.8224 |   28.199661 | -530.44169 |   -47.580364 |  502.2420 |\n",
       "| stl | 2014-01-26 |   73.500 | 549.9674 | -196.281992 | -572.90813 |   292.722687 |  842.6901 |\n",
       "| stl | 2014-01-27 |   57.230 | 550.1125 |  458.828817 |  121.07608 | -1072.787372 | -522.6749 |\n",
       "| stl | 2014-01-28 |    3.928 | 550.2575 |   -4.665227 |  499.54947 | -1041.213758 | -490.9562 |\n",
       "| stl | 2014-01-29 |    0.000 | 550.4026 |  -97.370275 | -420.00021 |   -33.032072 |  517.3705 |\n",
       "| stl | 2014-01-30 |   10.560 | 550.5476 | -121.470940 |  -83.23385 |  -335.282806 |  215.2648 |\n",
       "| stl | 2014-01-31 |  290.666 | 550.6926 |  -54.998549 | -104.35813 |  -100.669954 |  450.0227 |\n",
       "| stl | 2014-02-01 |  468.900 | 550.8377 |   57.558737 | -371.56416 |   232.067749 |  782.9054 |\n",
       "| ... | ... | ... | ... | ... | ... | ... | ... |\n",
       "| stl | 2017-12-01 | 1722.774 | 1148.786 |  1377.0921 |  487.40790 | -1290.51176 |  -141.7260245 |\n",
       "| stl | 2017-12-02 | 5378.294 | 1149.822 |   590.5567 | 1789.08399 |  1848.83147 |  2998.6533133 |\n",
       "| stl | 2017-12-03 |  902.832 | 1150.858 |   300.1257 |  547.50710 | -1095.65871 |    55.1992466 |\n",
       "| stl | 2017-12-04 | 1263.680 | 1151.894 |  -447.3077 |  287.99395 |   271.09966 |  1422.9937271 |\n",
       "| stl | 2017-12-05 |  552.646 | 1152.930 |  -694.3048 | 1073.85174 |  -979.83116 |   173.0990188 |\n",
       "| stl | 2017-12-06 |   10.680 | 1153.966 | -1492.4141 |  193.87407 |   155.25373 |  1309.2200176 |\n",
       "| stl | 2017-12-07 | 2848.962 | 1155.002 |   504.8681 |  223.09460 |   965.99692 |  2120.9993150 |\n",
       "| stl | 2017-12-08 | 1476.262 | 1156.039 |  1312.1866 | -119.85149 |  -872.11158 |   283.9269268 |\n",
       "| stl | 2017-12-09 | 2331.123 | 1157.075 |   486.1340 |   89.27034 |   598.64405 |  1755.7186654 |\n",
       "| stl | 2017-12-10 | 2541.491 | 1158.111 |   348.8940 |  150.29706 |   884.18926 |  2042.2999804 |\n",
       "| stl | 2017-12-11 | 1134.815 | 1159.147 |  -501.3961 |  262.15216 |   214.91213 |  1374.0589627 |\n",
       "| stl | 2017-12-12 |    0.000 | 1160.183 |  -662.7428 |  -10.14080 |  -487.29939 |   672.8835554 |\n",
       "| stl | 2017-12-13 |  328.056 | 1161.219 | -1463.0020 | 1451.94344 |  -822.10448 |   339.1145786 |\n",
       "| stl | 2017-12-14 | 2855.346 | 1162.255 |   554.7579 |  825.79977 |   312.53318 |  1474.7883426 |\n",
       "| stl | 2017-12-15 |   55.792 | 1163.291 |  1262.7070 |  243.34548 | -2613.55179 | -1450.2605156 |\n",
       "| stl | 2017-12-16 |  145.088 | 1164.327 |   395.6125 | -654.70231 |  -760.14961 |   404.1777766 |\n",
       "| stl | 2017-12-17 | 1851.372 | 1165.363 |   408.2241 | 2545.20577 | -2267.42131 | -1102.0578188 |\n",
       "| stl | 2017-12-18 |  255.404 | 1166.400 |  -549.2637 |  674.82847 | -1036.56032 |   129.8392791 |\n",
       "| stl | 2017-12-19 | 1715.652 | 1167.436 |  -629.5131 |  503.75927 |   673.97008 |  1841.4057883 |\n",
       "| stl | 2017-12-20 |  286.380 | 1168.472 | -1435.8868 |  599.60295 |   -45.80801 |  1122.6638168 |\n",
       "| stl | 2017-12-21 | 1899.120 | 1169.508 |   599.5228 |   13.33557 |   116.75370 |  1286.2616304 |\n",
       "| stl | 2017-12-22 | 4116.031 | 1170.544 |  1218.7876 |  428.69288 |  1298.00647 |  2468.5505163 |\n",
       "| stl | 2017-12-23 |  400.146 | 1171.580 |   364.5892 |  524.04407 | -1660.06739 |  -488.4872329 |\n",
       "| stl | 2017-12-24 | 5040.642 | 1172.616 |   437.4607 | 1192.63663 |  2237.92837 |  3410.5446298 |\n",
       "| stl | 2017-12-25 |  834.682 | 1173.652 |  -579.5580 | 1413.56572 | -1172.97812 |     0.6742554 |\n",
       "| stl | 2017-12-26 |  814.594 | 1174.688 |  -610.2041 |  700.17481 |  -450.06519 |   724.6232955 |\n",
       "| stl | 2017-12-27 |  164.388 | 1175.725 | -1419.9654 |  534.69721 |  -126.06841 |  1049.6561807 |\n",
       "| stl | 2017-12-28 | 1361.944 | 1176.761 |   633.1407 | -262.97517 |  -184.98219 |   991.7785156 |\n",
       "| stl | 2017-12-29 | 1937.858 | 1177.797 |  1176.0351 |   86.95944 |  -502.93335 |   674.8634640 |\n",
       "| stl | 2017-12-30 |  549.364 | 1178.833 |   335.0411 |  177.80377 | -1142.31375 |    36.5191710 |\n",
       "\n"
      ],
      "text/plain": [
       "     .model Order.Date Sales    trend    season_week\n",
       "1    stl    2014-01-03   16.448 546.6315 -130.954620\n",
       "2    stl    2014-01-04   11.784 546.7766  -16.386812\n",
       "3    stl    2014-01-05   19.536 546.9216 -217.957855\n",
       "4    stl    2014-01-06 2606.040 547.0666  639.148224\n",
       "5    stl    2014-01-07   76.728 547.2117   -7.658663\n",
       "6    stl    2014-01-08    0.000 547.3567 -153.322583\n",
       "7    stl    2014-01-09    9.344 547.5018 -118.034998\n",
       "8    stl    2014-01-10    2.890 547.6468 -117.870656\n",
       "9    stl    2014-01-11    9.940 547.7918   -8.702446\n",
       "10   stl    2014-01-12    0.000 547.9369 -214.640843\n",
       "11   stl    2014-01-13 1920.558 548.0819  602.671877\n",
       "12   stl    2014-01-14   61.960 548.2270   -4.587361\n",
       "13   stl    2014-01-15  149.950 548.3720 -143.964253\n",
       "14   stl    2014-01-16  127.104 548.5170 -118.271950\n",
       "15   stl    2014-01-17    0.000 548.6621 -104.904373\n",
       "16   stl    2014-01-18   64.864 548.8071   -1.471056\n",
       "17   stl    2014-01-19   32.340 548.9522 -212.138874\n",
       "18   stl    2014-01-20  800.464 549.0972  565.173496\n",
       "19   stl    2014-01-21   25.248 549.2422   -2.483524\n",
       "20   stl    2014-01-22    0.000 549.3873 -135.294747\n",
       "21   stl    2014-01-23   46.020 549.5323 -118.763453\n",
       "22   stl    2014-01-24    0.000 549.6774  -80.438840\n",
       "23   stl    2014-01-25    0.000 549.8224   28.199661\n",
       "24   stl    2014-01-26   73.500 549.9674 -196.281992\n",
       "25   stl    2014-01-27   57.230 550.1125  458.828817\n",
       "26   stl    2014-01-28    3.928 550.2575   -4.665227\n",
       "27   stl    2014-01-29    0.000 550.4026  -97.370275\n",
       "28   stl    2014-01-30   10.560 550.5476 -121.470940\n",
       "29   stl    2014-01-31  290.666 550.6926  -54.998549\n",
       "30   stl    2014-02-01  468.900 550.8377   57.558737\n",
       "...  ...    ...        ...      ...      ...        \n",
       "1429 stl    2017-12-01 1722.774 1148.786  1377.0921 \n",
       "1430 stl    2017-12-02 5378.294 1149.822   590.5567 \n",
       "1431 stl    2017-12-03  902.832 1150.858   300.1257 \n",
       "1432 stl    2017-12-04 1263.680 1151.894  -447.3077 \n",
       "1433 stl    2017-12-05  552.646 1152.930  -694.3048 \n",
       "1434 stl    2017-12-06   10.680 1153.966 -1492.4141 \n",
       "1435 stl    2017-12-07 2848.962 1155.002   504.8681 \n",
       "1436 stl    2017-12-08 1476.262 1156.039  1312.1866 \n",
       "1437 stl    2017-12-09 2331.123 1157.075   486.1340 \n",
       "1438 stl    2017-12-10 2541.491 1158.111   348.8940 \n",
       "1439 stl    2017-12-11 1134.815 1159.147  -501.3961 \n",
       "1440 stl    2017-12-12    0.000 1160.183  -662.7428 \n",
       "1441 stl    2017-12-13  328.056 1161.219 -1463.0020 \n",
       "1442 stl    2017-12-14 2855.346 1162.255   554.7579 \n",
       "1443 stl    2017-12-15   55.792 1163.291  1262.7070 \n",
       "1444 stl    2017-12-16  145.088 1164.327   395.6125 \n",
       "1445 stl    2017-12-17 1851.372 1165.363   408.2241 \n",
       "1446 stl    2017-12-18  255.404 1166.400  -549.2637 \n",
       "1447 stl    2017-12-19 1715.652 1167.436  -629.5131 \n",
       "1448 stl    2017-12-20  286.380 1168.472 -1435.8868 \n",
       "1449 stl    2017-12-21 1899.120 1169.508   599.5228 \n",
       "1450 stl    2017-12-22 4116.031 1170.544  1218.7876 \n",
       "1451 stl    2017-12-23  400.146 1171.580   364.5892 \n",
       "1452 stl    2017-12-24 5040.642 1172.616   437.4607 \n",
       "1453 stl    2017-12-25  834.682 1173.652  -579.5580 \n",
       "1454 stl    2017-12-26  814.594 1174.688  -610.2041 \n",
       "1455 stl    2017-12-27  164.388 1175.725 -1419.9654 \n",
       "1456 stl    2017-12-28 1361.944 1176.761   633.1407 \n",
       "1457 stl    2017-12-29 1937.858 1177.797  1176.0351 \n",
       "1458 stl    2017-12-30  549.364 1178.833   335.0411 \n",
       "     season_year remainder    season_adjust\n",
       "1     -74.49014   -324.738771  221.8928    \n",
       "2     100.29131   -618.897061  -72.1205    \n",
       "3    -251.74324    -57.684507  489.2371    \n",
       "4      49.27667   1370.548466 1917.6151    \n",
       "5    -672.60359    209.778564  756.9902    \n",
       "6     350.21816   -744.252301 -196.8956    \n",
       "7    -459.93243     39.809668  587.3114    \n",
       "8    -465.08310     38.196950  585.8438    \n",
       "9    -597.03211     67.882715  615.6746    \n",
       "10   -338.67121      5.375167  553.3120    \n",
       "11     40.18157    729.622635 1277.7046    \n",
       "12   -639.91234    158.232741  706.4597    \n",
       "13   -481.80780    227.350055  775.7221    \n",
       "14   -719.73177    416.590683  965.1077    \n",
       "15    628.85724  -1072.614951 -523.9529    \n",
       "16   -548.24198     65.769914  614.5770    \n",
       "17   -526.72542    222.252138  771.2043    \n",
       "18   -359.78762     45.980931  595.0781    \n",
       "19   -543.39121     21.880502  571.1227    \n",
       "20   -403.40019    -10.692340  538.6949    \n",
       "21    -28.14561   -356.603251  192.9291    \n",
       "22   -749.07383    279.835318  829.5127    \n",
       "23   -530.44169    -47.580364  502.2420    \n",
       "24   -572.90813    292.722687  842.6901    \n",
       "25    121.07608  -1072.787372 -522.6749    \n",
       "26    499.54947  -1041.213758 -490.9562    \n",
       "27   -420.00021    -33.032072  517.3705    \n",
       "28    -83.23385   -335.282806  215.2648    \n",
       "29   -104.35813   -100.669954  450.0227    \n",
       "30   -371.56416    232.067749  782.9054    \n",
       "...  ...         ...          ...          \n",
       "1429  487.40790  -1290.51176   -141.7260245\n",
       "1430 1789.08399   1848.83147   2998.6533133\n",
       "1431  547.50710  -1095.65871     55.1992466\n",
       "1432  287.99395    271.09966   1422.9937271\n",
       "1433 1073.85174   -979.83116    173.0990188\n",
       "1434  193.87407    155.25373   1309.2200176\n",
       "1435  223.09460    965.99692   2120.9993150\n",
       "1436 -119.85149   -872.11158    283.9269268\n",
       "1437   89.27034    598.64405   1755.7186654\n",
       "1438  150.29706    884.18926   2042.2999804\n",
       "1439  262.15216    214.91213   1374.0589627\n",
       "1440  -10.14080   -487.29939    672.8835554\n",
       "1441 1451.94344   -822.10448    339.1145786\n",
       "1442  825.79977    312.53318   1474.7883426\n",
       "1443  243.34548  -2613.55179  -1450.2605156\n",
       "1444 -654.70231   -760.14961    404.1777766\n",
       "1445 2545.20577  -2267.42131  -1102.0578188\n",
       "1446  674.82847  -1036.56032    129.8392791\n",
       "1447  503.75927    673.97008   1841.4057883\n",
       "1448  599.60295    -45.80801   1122.6638168\n",
       "1449   13.33557    116.75370   1286.2616304\n",
       "1450  428.69288   1298.00647   2468.5505163\n",
       "1451  524.04407  -1660.06739   -488.4872329\n",
       "1452 1192.63663   2237.92837   3410.5446298\n",
       "1453 1413.56572  -1172.97812      0.6742554\n",
       "1454  700.17481   -450.06519    724.6232955\n",
       "1455  534.69721   -126.06841   1049.6561807\n",
       "1456 -262.97517   -184.98219    991.7785156\n",
       "1457   86.95944   -502.93335    674.8634640\n",
       "1458  177.80377  -1142.31375     36.5191710"
      ]
     },
     "metadata": {},
     "output_type": "display_data"
    }
   ],
   "source": [
    "dcmp <- df_ts_filled %>%\n",
    "  model(stl = STL(Sales))\n",
    "components(dcmp)"
   ]
  },
  {
   "cell_type": "code",
   "execution_count": 414,
   "metadata": {
    "vscode": {
     "languageId": "r"
    }
   },
   "outputs": [
    {
     "data": {
      "image/png": "[encoded data removed]",
      "text/plain": [
       "plot without title"
      ]
     },
     "metadata": {
      "image/png": {
       "height": 420,
       "width": 420
      }
     },
     "output_type": "display_data"
    }
   ],
   "source": [
    "df_ts_filled %>%\n",
    "  autoplot(Sales, color='gray') +\n",
    "  autolayer(components(dcmp), season_adjust, color='#0072B2') +\n",
    "  labs(y=\"Vendas\", title=\"Total de vendas por data ao longo dos anos de 2014 a 2018\")"
   ]
  },
  {
   "attachments": {},
   "cell_type": "markdown",
   "metadata": {},
   "source": [
    "Decomposição clássica aditiva"
   ]
  },
  {
   "cell_type": "code",
   "execution_count": 415,
   "metadata": {
    "vscode": {
     "languageId": "r"
    }
   },
   "outputs": [
    {
     "data": {
      "image/png": "[encoded data removed]",
      "text/plain": [
       "plot without title"
      ]
     },
     "metadata": {
      "image/png": {
       "height": 420,
       "width": 420
      }
     },
     "output_type": "display_data"
    }
   ],
   "source": [
    "# decompondo a serie temporal com decomposição clássica\n",
    "df_ts_filled %>%\n",
    "  model(classical_decomposition(Sales, type = \"additive\")) %>%\n",
    "  components() %>%\n",
    "  autoplot()"
   ]
  },
  {
   "attachments": {},
   "cell_type": "markdown",
   "metadata": {},
   "source": [
    "Multiplicativa"
   ]
  },
  {
   "cell_type": "code",
   "execution_count": 416,
   "metadata": {
    "vscode": {
     "languageId": "r"
    }
   },
   "outputs": [
    {
     "data": {
      "image/png": "[encoded data removed]",
      "text/plain": [
       "plot without title"
      ]
     },
     "metadata": {
      "image/png": {
       "height": 420,
       "width": 420
      }
     },
     "output_type": "display_data"
    }
   ],
   "source": [
    "df_ts_filled %>%\n",
    "  model(classical_decomposition(Sales, type = \"multiplicative\")) %>%\n",
    "  components() %>%\n",
    "  replace_na(list(y = 0)) %>%\n",
    "  autoplot()"
   ]
  },
  {
   "attachments": {},
   "cell_type": "markdown",
   "metadata": {},
   "source": [
    "`ETS` - Error, Trend, Seasonality"
   ]
  },
  {
   "cell_type": "code",
   "execution_count": 417,
   "metadata": {
    "vscode": {
     "languageId": "r"
    }
   },
   "outputs": [
    {
     "data": {
      "image/png": "[encoded data removed]",
      "text/plain": [
       "plot without title"
      ]
     },
     "metadata": {
      "image/png": {
       "height": 420,
       "width": 420
      }
     },
     "output_type": "display_data"
    }
   ],
   "source": [
    "df_ts_filled %>% \n",
    "  model(ets = ETS(Sales)) %>% \n",
    "  components() %>%\n",
    "  autoplot() +\n",
    "  labs(title = \"ETS de Sales\")"
   ]
  },
  {
   "attachments": {},
   "cell_type": "markdown",
   "metadata": {},
   "source": [
    "`STL` - Seasonal and Trend decomposition using Loess"
   ]
  },
  {
   "cell_type": "code",
   "execution_count": 418,
   "metadata": {
    "vscode": {
     "languageId": "r"
    }
   },
   "outputs": [
    {
     "data": {
      "image/png": "[encoded data removed]",
      "text/plain": [
       "plot without title"
      ]
     },
     "metadata": {
      "image/png": {
       "height": 420,
       "width": 420
      }
     },
     "output_type": "display_data"
    }
   ],
   "source": [
    "df_ts_filled %>%\n",
    "  model(STL(Sales ~ trend(window=15) +\n",
    "                       season(window=\"periodic\"),\n",
    "            robust = TRUE)\n",
    "  ) %>% components() |>\n",
    "  autoplot()"
   ]
  },
  {
   "attachments": {},
   "cell_type": "markdown",
   "metadata": {},
   "source": [
    "- Possível verificar tendência crescente e sazonalidade anual.\n",
    "\n",
    "- A decomposição aditiva é mais adequada para séries com tendência e sazonalidade constantes, enquanto a multiplicativa é mais adequada para séries com tendência e sazonalidade variáveis.\n",
    "\n",
    "- A decomposição `ETS (Error-Trend-Seasonality)` permite melhor verificar a componente de sazonalidade da série temporal."
   ]
  },
  {
   "attachments": {},
   "cell_type": "markdown",
   "metadata": {},
   "source": [
    "# Forecast"
   ]
  },
  {
   "attachments": {},
   "cell_type": "markdown",
   "metadata": {},
   "source": [
    "`Fit` usando o modelo `TSLM`"
   ]
  },
  {
   "cell_type": "code",
   "execution_count": 419,
   "metadata": {
    "vscode": {
     "languageId": "r"
    }
   },
   "outputs": [
    {
     "data": {
      "text/html": [
       "<table class=\"dataframe\">\n",
       "<caption>A mdl_df: 1 × 1</caption>\n",
       "<thead>\n",
       "\t<tr><th scope=col>trend_model</th></tr>\n",
       "\t<tr><th scope=col>&lt;model&gt;</th></tr>\n",
       "</thead>\n",
       "<tbody>\n",
       "\t<tr><td>&lt;TSLM&gt;</td></tr>\n",
       "</tbody>\n",
       "</table>\n"
      ],
      "text/latex": [
       "A mdl\\_df: 1 × 1\n",
       "\\begin{tabular}{l}\n",
       " trend\\_model\\\\\n",
       " <model>\\\\\n",
       "\\hline\n",
       "\t <TSLM>\\\\\n",
       "\\end{tabular}\n"
      ],
      "text/markdown": [
       "\n",
       "A mdl_df: 1 × 1\n",
       "\n",
       "| trend_model &lt;model&gt; |\n",
       "|---|\n",
       "| &lt;TSLM&gt; |\n",
       "\n"
      ],
      "text/plain": [
       "  trend_model\n",
       "1 <TSLM>     "
      ]
     },
     "metadata": {},
     "output_type": "display_data"
    }
   ],
   "source": [
    "fit <- df_ts_filled |>\n",
    "  model(trend_model = TSLM(Sales ~ trend()))\n",
    "fit"
   ]
  },
  {
   "attachments": {},
   "cell_type": "markdown",
   "metadata": {},
   "source": [
    "Produzindo Forecast para 3 anos"
   ]
  },
  {
   "cell_type": "code",
   "execution_count": 420,
   "metadata": {
    "vscode": {
     "languageId": "r"
    }
   },
   "outputs": [
    {
     "data": {
      "text/html": [
       "<table class=\"dataframe\">\n",
       "<caption>A fbl_ts: 1096 × 4</caption>\n",
       "<thead>\n",
       "\t<tr><th scope=col>.model</th><th scope=col>Order.Date</th><th scope=col>Sales</th><th scope=col>.mean</th></tr>\n",
       "\t<tr><th scope=col>&lt;chr&gt;</th><th scope=col>&lt;date&gt;</th><th scope=col>&lt;dist&gt;</th><th scope=col>&lt;dbl&gt;</th></tr>\n",
       "</thead>\n",
       "<tbody>\n",
       "\t<tr><td>trend_model</td><td>2017-12-31</td><td>N(1153, 1409293)</td><td>1152.573</td></tr>\n",
       "\t<tr><td>trend_model</td><td>2018-01-01</td><td>N(1153, 1409301)</td><td>1153.118</td></tr>\n",
       "\t<tr><td>trend_model</td><td>2018-01-02</td><td>N(1154, 1409309)</td><td>1153.664</td></tr>\n",
       "\t<tr><td>trend_model</td><td>2018-01-03</td><td>N(1154, 1409317)</td><td>1154.210</td></tr>\n",
       "\t<tr><td>trend_model</td><td>2018-01-04</td><td>N(1155, 1409325)</td><td>1154.756</td></tr>\n",
       "\t<tr><td>trend_model</td><td>2018-01-05</td><td>N(1155, 1409333)</td><td>1155.302</td></tr>\n",
       "\t<tr><td>trend_model</td><td>2018-01-06</td><td>N(1156, 1409341)</td><td>1155.848</td></tr>\n",
       "\t<tr><td>trend_model</td><td>2018-01-07</td><td>N(1156, 1409349)</td><td>1156.394</td></tr>\n",
       "\t<tr><td>trend_model</td><td>2018-01-08</td><td>N(1157, 1409357)</td><td>1156.940</td></tr>\n",
       "\t<tr><td>trend_model</td><td>2018-01-09</td><td>N(1157, 1409365)</td><td>1157.485</td></tr>\n",
       "\t<tr><td>trend_model</td><td>2018-01-10</td><td>N(1158, 1409373)</td><td>1158.031</td></tr>\n",
       "\t<tr><td>trend_model</td><td>2018-01-11</td><td>N(1159, 1409381)</td><td>1158.577</td></tr>\n",
       "\t<tr><td>trend_model</td><td>2018-01-12</td><td>N(1159, 1409389)</td><td>1159.123</td></tr>\n",
       "\t<tr><td>trend_model</td><td>2018-01-13</td><td>N(1160, 1409397)</td><td>1159.669</td></tr>\n",
       "\t<tr><td>trend_model</td><td>2018-01-14</td><td>N(1160, 1409406)</td><td>1160.215</td></tr>\n",
       "\t<tr><td>trend_model</td><td>2018-01-15</td><td>N(1161, 1409414)</td><td>1160.761</td></tr>\n",
       "\t<tr><td>trend_model</td><td>2018-01-16</td><td>N(1161, 1409422)</td><td>1161.306</td></tr>\n",
       "\t<tr><td>trend_model</td><td>2018-01-17</td><td>N(1162, 1409430)</td><td>1161.852</td></tr>\n",
       "\t<tr><td>trend_model</td><td>2018-01-18</td><td>N(1162, 1409438)</td><td>1162.398</td></tr>\n",
       "\t<tr><td>trend_model</td><td>2018-01-19</td><td>N(1163, 1409446)</td><td>1162.944</td></tr>\n",
       "\t<tr><td>trend_model</td><td>2018-01-20</td><td>N(1163, 1409454)</td><td>1163.490</td></tr>\n",
       "\t<tr><td>trend_model</td><td>2018-01-21</td><td>N(1164, 1409462)</td><td>1164.036</td></tr>\n",
       "\t<tr><td>trend_model</td><td>2018-01-22</td><td>N(1165, 1409471)</td><td>1164.582</td></tr>\n",
       "\t<tr><td>trend_model</td><td>2018-01-23</td><td>N(1165, 1409479)</td><td>1165.128</td></tr>\n",
       "\t<tr><td>trend_model</td><td>2018-01-24</td><td>N(1166, 1409487)</td><td>1165.673</td></tr>\n",
       "\t<tr><td>trend_model</td><td>2018-01-25</td><td>N(1166, 1409495)</td><td>1166.219</td></tr>\n",
       "\t<tr><td>trend_model</td><td>2018-01-26</td><td>N(1167, 1409503)</td><td>1166.765</td></tr>\n",
       "\t<tr><td>trend_model</td><td>2018-01-27</td><td>N(1167, 1409512)</td><td>1167.311</td></tr>\n",
       "\t<tr><td>trend_model</td><td>2018-01-28</td><td>N(1168, 1409520)</td><td>1167.857</td></tr>\n",
       "\t<tr><td>trend_model</td><td>2018-01-29</td><td>N(1168, 1409528)</td><td>1168.403</td></tr>\n",
       "\t<tr><td>...</td><td>...</td><td>...</td><td>...</td></tr>\n",
       "\t<tr><td>trend_model</td><td>2020-12-01</td><td>N(1734, 1423940)</td><td>1734.465</td></tr>\n",
       "\t<tr><td>trend_model</td><td>2020-12-02</td><td>N(1735, 1423960)</td><td>1735.011</td></tr>\n",
       "\t<tr><td>trend_model</td><td>2020-12-03</td><td>N(1736, 1423979)</td><td>1735.557</td></tr>\n",
       "\t<tr><td>trend_model</td><td>2020-12-04</td><td>N(1736, 1423999)</td><td>1736.103</td></tr>\n",
       "\t<tr><td>trend_model</td><td>2020-12-05</td><td>N(1737, 1424018)</td><td>1736.649</td></tr>\n",
       "\t<tr><td>trend_model</td><td>2020-12-06</td><td>N(1737, 1424038)</td><td>1737.195</td></tr>\n",
       "\t<tr><td>trend_model</td><td>2020-12-07</td><td>N(1738, 1424057)</td><td>1737.741</td></tr>\n",
       "\t<tr><td>trend_model</td><td>2020-12-08</td><td>N(1738, 1424077)</td><td>1738.287</td></tr>\n",
       "\t<tr><td>trend_model</td><td>2020-12-09</td><td>N(1739, 1424097)</td><td>1738.832</td></tr>\n",
       "\t<tr><td>trend_model</td><td>2020-12-10</td><td>N(1739, 1424116)</td><td>1739.378</td></tr>\n",
       "\t<tr><td>trend_model</td><td>2020-12-11</td><td>N(1740, 1424136)</td><td>1739.924</td></tr>\n",
       "\t<tr><td>trend_model</td><td>2020-12-12</td><td>N(1740, 1424156)</td><td>1740.470</td></tr>\n",
       "\t<tr><td>trend_model</td><td>2020-12-13</td><td>N(1741, 1424175)</td><td>1741.016</td></tr>\n",
       "\t<tr><td>trend_model</td><td>2020-12-14</td><td>N(1742, 1424195)</td><td>1741.562</td></tr>\n",
       "\t<tr><td>trend_model</td><td>2020-12-15</td><td>N(1742, 1424215)</td><td>1742.108</td></tr>\n",
       "\t<tr><td>trend_model</td><td>2020-12-16</td><td>N(1743, 1424234)</td><td>1742.653</td></tr>\n",
       "\t<tr><td>trend_model</td><td>2020-12-17</td><td>N(1743, 1424254)</td><td>1743.199</td></tr>\n",
       "\t<tr><td>trend_model</td><td>2020-12-18</td><td>N(1744, 1424274)</td><td>1743.745</td></tr>\n",
       "\t<tr><td>trend_model</td><td>2020-12-19</td><td>N(1744, 1424293)</td><td>1744.291</td></tr>\n",
       "\t<tr><td>trend_model</td><td>2020-12-20</td><td>N(1745, 1424313)</td><td>1744.837</td></tr>\n",
       "\t<tr><td>trend_model</td><td>2020-12-21</td><td>N(1745, 1424333)</td><td>1745.383</td></tr>\n",
       "\t<tr><td>trend_model</td><td>2020-12-22</td><td>N(1746, 1424353)</td><td>1745.929</td></tr>\n",
       "\t<tr><td>trend_model</td><td>2020-12-23</td><td>N(1746, 1424372)</td><td>1746.475</td></tr>\n",
       "\t<tr><td>trend_model</td><td>2020-12-24</td><td>N(1747, 1424392)</td><td>1747.020</td></tr>\n",
       "\t<tr><td>trend_model</td><td>2020-12-25</td><td>N(1748, 1424412)</td><td>1747.566</td></tr>\n",
       "\t<tr><td>trend_model</td><td>2020-12-26</td><td>N(1748, 1424432)</td><td>1748.112</td></tr>\n",
       "\t<tr><td>trend_model</td><td>2020-12-27</td><td>N(1749, 1424452)</td><td>1748.658</td></tr>\n",
       "\t<tr><td>trend_model</td><td>2020-12-28</td><td>N(1749, 1424472)</td><td>1749.204</td></tr>\n",
       "\t<tr><td>trend_model</td><td>2020-12-29</td><td>N(1750, 1424491)</td><td>1749.750</td></tr>\n",
       "\t<tr><td>trend_model</td><td>2020-12-30</td><td>N(1750, 1424511)</td><td>1750.296</td></tr>\n",
       "</tbody>\n",
       "</table>\n"
      ],
      "text/latex": [
       "A fbl\\_ts: 1096 × 4\n",
       "\\begin{tabular}{llll}\n",
       " .model & Order.Date & Sales & .mean\\\\\n",
       " <chr> & <date> & <dist> & <dbl>\\\\\n",
       "\\hline\n",
       "\t trend\\_model & 2017-12-31 & N(1153, 1409293) & 1152.573\\\\\n",
       "\t trend\\_model & 2018-01-01 & N(1153, 1409301) & 1153.118\\\\\n",
       "\t trend\\_model & 2018-01-02 & N(1154, 1409309) & 1153.664\\\\\n",
       "\t trend\\_model & 2018-01-03 & N(1154, 1409317) & 1154.210\\\\\n",
       "\t trend\\_model & 2018-01-04 & N(1155, 1409325) & 1154.756\\\\\n",
       "\t trend\\_model & 2018-01-05 & N(1155, 1409333) & 1155.302\\\\\n",
       "\t trend\\_model & 2018-01-06 & N(1156, 1409341) & 1155.848\\\\\n",
       "\t trend\\_model & 2018-01-07 & N(1156, 1409349) & 1156.394\\\\\n",
       "\t trend\\_model & 2018-01-08 & N(1157, 1409357) & 1156.940\\\\\n",
       "\t trend\\_model & 2018-01-09 & N(1157, 1409365) & 1157.485\\\\\n",
       "\t trend\\_model & 2018-01-10 & N(1158, 1409373) & 1158.031\\\\\n",
       "\t trend\\_model & 2018-01-11 & N(1159, 1409381) & 1158.577\\\\\n",
       "\t trend\\_model & 2018-01-12 & N(1159, 1409389) & 1159.123\\\\\n",
       "\t trend\\_model & 2018-01-13 & N(1160, 1409397) & 1159.669\\\\\n",
       "\t trend\\_model & 2018-01-14 & N(1160, 1409406) & 1160.215\\\\\n",
       "\t trend\\_model & 2018-01-15 & N(1161, 1409414) & 1160.761\\\\\n",
       "\t trend\\_model & 2018-01-16 & N(1161, 1409422) & 1161.306\\\\\n",
       "\t trend\\_model & 2018-01-17 & N(1162, 1409430) & 1161.852\\\\\n",
       "\t trend\\_model & 2018-01-18 & N(1162, 1409438) & 1162.398\\\\\n",
       "\t trend\\_model & 2018-01-19 & N(1163, 1409446) & 1162.944\\\\\n",
       "\t trend\\_model & 2018-01-20 & N(1163, 1409454) & 1163.490\\\\\n",
       "\t trend\\_model & 2018-01-21 & N(1164, 1409462) & 1164.036\\\\\n",
       "\t trend\\_model & 2018-01-22 & N(1165, 1409471) & 1164.582\\\\\n",
       "\t trend\\_model & 2018-01-23 & N(1165, 1409479) & 1165.128\\\\\n",
       "\t trend\\_model & 2018-01-24 & N(1166, 1409487) & 1165.673\\\\\n",
       "\t trend\\_model & 2018-01-25 & N(1166, 1409495) & 1166.219\\\\\n",
       "\t trend\\_model & 2018-01-26 & N(1167, 1409503) & 1166.765\\\\\n",
       "\t trend\\_model & 2018-01-27 & N(1167, 1409512) & 1167.311\\\\\n",
       "\t trend\\_model & 2018-01-28 & N(1168, 1409520) & 1167.857\\\\\n",
       "\t trend\\_model & 2018-01-29 & N(1168, 1409528) & 1168.403\\\\\n",
       "\t ... & ... & ... & ...\\\\\n",
       "\t trend\\_model & 2020-12-01 & N(1734, 1423940) & 1734.465\\\\\n",
       "\t trend\\_model & 2020-12-02 & N(1735, 1423960) & 1735.011\\\\\n",
       "\t trend\\_model & 2020-12-03 & N(1736, 1423979) & 1735.557\\\\\n",
       "\t trend\\_model & 2020-12-04 & N(1736, 1423999) & 1736.103\\\\\n",
       "\t trend\\_model & 2020-12-05 & N(1737, 1424018) & 1736.649\\\\\n",
       "\t trend\\_model & 2020-12-06 & N(1737, 1424038) & 1737.195\\\\\n",
       "\t trend\\_model & 2020-12-07 & N(1738, 1424057) & 1737.741\\\\\n",
       "\t trend\\_model & 2020-12-08 & N(1738, 1424077) & 1738.287\\\\\n",
       "\t trend\\_model & 2020-12-09 & N(1739, 1424097) & 1738.832\\\\\n",
       "\t trend\\_model & 2020-12-10 & N(1739, 1424116) & 1739.378\\\\\n",
       "\t trend\\_model & 2020-12-11 & N(1740, 1424136) & 1739.924\\\\\n",
       "\t trend\\_model & 2020-12-12 & N(1740, 1424156) & 1740.470\\\\\n",
       "\t trend\\_model & 2020-12-13 & N(1741, 1424175) & 1741.016\\\\\n",
       "\t trend\\_model & 2020-12-14 & N(1742, 1424195) & 1741.562\\\\\n",
       "\t trend\\_model & 2020-12-15 & N(1742, 1424215) & 1742.108\\\\\n",
       "\t trend\\_model & 2020-12-16 & N(1743, 1424234) & 1742.653\\\\\n",
       "\t trend\\_model & 2020-12-17 & N(1743, 1424254) & 1743.199\\\\\n",
       "\t trend\\_model & 2020-12-18 & N(1744, 1424274) & 1743.745\\\\\n",
       "\t trend\\_model & 2020-12-19 & N(1744, 1424293) & 1744.291\\\\\n",
       "\t trend\\_model & 2020-12-20 & N(1745, 1424313) & 1744.837\\\\\n",
       "\t trend\\_model & 2020-12-21 & N(1745, 1424333) & 1745.383\\\\\n",
       "\t trend\\_model & 2020-12-22 & N(1746, 1424353) & 1745.929\\\\\n",
       "\t trend\\_model & 2020-12-23 & N(1746, 1424372) & 1746.475\\\\\n",
       "\t trend\\_model & 2020-12-24 & N(1747, 1424392) & 1747.020\\\\\n",
       "\t trend\\_model & 2020-12-25 & N(1748, 1424412) & 1747.566\\\\\n",
       "\t trend\\_model & 2020-12-26 & N(1748, 1424432) & 1748.112\\\\\n",
       "\t trend\\_model & 2020-12-27 & N(1749, 1424452) & 1748.658\\\\\n",
       "\t trend\\_model & 2020-12-28 & N(1749, 1424472) & 1749.204\\\\\n",
       "\t trend\\_model & 2020-12-29 & N(1750, 1424491) & 1749.750\\\\\n",
       "\t trend\\_model & 2020-12-30 & N(1750, 1424511) & 1750.296\\\\\n",
       "\\end{tabular}\n"
      ],
      "text/markdown": [
       "\n",
       "A fbl_ts: 1096 × 4\n",
       "\n",
       "| .model &lt;chr&gt; | Order.Date &lt;date&gt; | Sales &lt;dist&gt; | .mean &lt;dbl&gt; |\n",
       "|---|---|---|---|\n",
       "| trend_model | 2017-12-31 | N(1153, 1409293) | 1152.573 |\n",
       "| trend_model | 2018-01-01 | N(1153, 1409301) | 1153.118 |\n",
       "| trend_model | 2018-01-02 | N(1154, 1409309) | 1153.664 |\n",
       "| trend_model | 2018-01-03 | N(1154, 1409317) | 1154.210 |\n",
       "| trend_model | 2018-01-04 | N(1155, 1409325) | 1154.756 |\n",
       "| trend_model | 2018-01-05 | N(1155, 1409333) | 1155.302 |\n",
       "| trend_model | 2018-01-06 | N(1156, 1409341) | 1155.848 |\n",
       "| trend_model | 2018-01-07 | N(1156, 1409349) | 1156.394 |\n",
       "| trend_model | 2018-01-08 | N(1157, 1409357) | 1156.940 |\n",
       "| trend_model | 2018-01-09 | N(1157, 1409365) | 1157.485 |\n",
       "| trend_model | 2018-01-10 | N(1158, 1409373) | 1158.031 |\n",
       "| trend_model | 2018-01-11 | N(1159, 1409381) | 1158.577 |\n",
       "| trend_model | 2018-01-12 | N(1159, 1409389) | 1159.123 |\n",
       "| trend_model | 2018-01-13 | N(1160, 1409397) | 1159.669 |\n",
       "| trend_model | 2018-01-14 | N(1160, 1409406) | 1160.215 |\n",
       "| trend_model | 2018-01-15 | N(1161, 1409414) | 1160.761 |\n",
       "| trend_model | 2018-01-16 | N(1161, 1409422) | 1161.306 |\n",
       "| trend_model | 2018-01-17 | N(1162, 1409430) | 1161.852 |\n",
       "| trend_model | 2018-01-18 | N(1162, 1409438) | 1162.398 |\n",
       "| trend_model | 2018-01-19 | N(1163, 1409446) | 1162.944 |\n",
       "| trend_model | 2018-01-20 | N(1163, 1409454) | 1163.490 |\n",
       "| trend_model | 2018-01-21 | N(1164, 1409462) | 1164.036 |\n",
       "| trend_model | 2018-01-22 | N(1165, 1409471) | 1164.582 |\n",
       "| trend_model | 2018-01-23 | N(1165, 1409479) | 1165.128 |\n",
       "| trend_model | 2018-01-24 | N(1166, 1409487) | 1165.673 |\n",
       "| trend_model | 2018-01-25 | N(1166, 1409495) | 1166.219 |\n",
       "| trend_model | 2018-01-26 | N(1167, 1409503) | 1166.765 |\n",
       "| trend_model | 2018-01-27 | N(1167, 1409512) | 1167.311 |\n",
       "| trend_model | 2018-01-28 | N(1168, 1409520) | 1167.857 |\n",
       "| trend_model | 2018-01-29 | N(1168, 1409528) | 1168.403 |\n",
       "| ... | ... | ... | ... |\n",
       "| trend_model | 2020-12-01 | N(1734, 1423940) | 1734.465 |\n",
       "| trend_model | 2020-12-02 | N(1735, 1423960) | 1735.011 |\n",
       "| trend_model | 2020-12-03 | N(1736, 1423979) | 1735.557 |\n",
       "| trend_model | 2020-12-04 | N(1736, 1423999) | 1736.103 |\n",
       "| trend_model | 2020-12-05 | N(1737, 1424018) | 1736.649 |\n",
       "| trend_model | 2020-12-06 | N(1737, 1424038) | 1737.195 |\n",
       "| trend_model | 2020-12-07 | N(1738, 1424057) | 1737.741 |\n",
       "| trend_model | 2020-12-08 | N(1738, 1424077) | 1738.287 |\n",
       "| trend_model | 2020-12-09 | N(1739, 1424097) | 1738.832 |\n",
       "| trend_model | 2020-12-10 | N(1739, 1424116) | 1739.378 |\n",
       "| trend_model | 2020-12-11 | N(1740, 1424136) | 1739.924 |\n",
       "| trend_model | 2020-12-12 | N(1740, 1424156) | 1740.470 |\n",
       "| trend_model | 2020-12-13 | N(1741, 1424175) | 1741.016 |\n",
       "| trend_model | 2020-12-14 | N(1742, 1424195) | 1741.562 |\n",
       "| trend_model | 2020-12-15 | N(1742, 1424215) | 1742.108 |\n",
       "| trend_model | 2020-12-16 | N(1743, 1424234) | 1742.653 |\n",
       "| trend_model | 2020-12-17 | N(1743, 1424254) | 1743.199 |\n",
       "| trend_model | 2020-12-18 | N(1744, 1424274) | 1743.745 |\n",
       "| trend_model | 2020-12-19 | N(1744, 1424293) | 1744.291 |\n",
       "| trend_model | 2020-12-20 | N(1745, 1424313) | 1744.837 |\n",
       "| trend_model | 2020-12-21 | N(1745, 1424333) | 1745.383 |\n",
       "| trend_model | 2020-12-22 | N(1746, 1424353) | 1745.929 |\n",
       "| trend_model | 2020-12-23 | N(1746, 1424372) | 1746.475 |\n",
       "| trend_model | 2020-12-24 | N(1747, 1424392) | 1747.020 |\n",
       "| trend_model | 2020-12-25 | N(1748, 1424412) | 1747.566 |\n",
       "| trend_model | 2020-12-26 | N(1748, 1424432) | 1748.112 |\n",
       "| trend_model | 2020-12-27 | N(1749, 1424452) | 1748.658 |\n",
       "| trend_model | 2020-12-28 | N(1749, 1424472) | 1749.204 |\n",
       "| trend_model | 2020-12-29 | N(1750, 1424491) | 1749.750 |\n",
       "| trend_model | 2020-12-30 | N(1750, 1424511) | 1750.296 |\n",
       "\n"
      ],
      "text/plain": [
       "     .model      Order.Date Sales            .mean   \n",
       "1    trend_model 2017-12-31 N(1153, 1409293) 1152.573\n",
       "2    trend_model 2018-01-01 N(1153, 1409301) 1153.118\n",
       "3    trend_model 2018-01-02 N(1154, 1409309) 1153.664\n",
       "4    trend_model 2018-01-03 N(1154, 1409317) 1154.210\n",
       "5    trend_model 2018-01-04 N(1155, 1409325) 1154.756\n",
       "6    trend_model 2018-01-05 N(1155, 1409333) 1155.302\n",
       "7    trend_model 2018-01-06 N(1156, 1409341) 1155.848\n",
       "8    trend_model 2018-01-07 N(1156, 1409349) 1156.394\n",
       "9    trend_model 2018-01-08 N(1157, 1409357) 1156.940\n",
       "10   trend_model 2018-01-09 N(1157, 1409365) 1157.485\n",
       "11   trend_model 2018-01-10 N(1158, 1409373) 1158.031\n",
       "12   trend_model 2018-01-11 N(1159, 1409381) 1158.577\n",
       "13   trend_model 2018-01-12 N(1159, 1409389) 1159.123\n",
       "14   trend_model 2018-01-13 N(1160, 1409397) 1159.669\n",
       "15   trend_model 2018-01-14 N(1160, 1409406) 1160.215\n",
       "16   trend_model 2018-01-15 N(1161, 1409414) 1160.761\n",
       "17   trend_model 2018-01-16 N(1161, 1409422) 1161.306\n",
       "18   trend_model 2018-01-17 N(1162, 1409430) 1161.852\n",
       "19   trend_model 2018-01-18 N(1162, 1409438) 1162.398\n",
       "20   trend_model 2018-01-19 N(1163, 1409446) 1162.944\n",
       "21   trend_model 2018-01-20 N(1163, 1409454) 1163.490\n",
       "22   trend_model 2018-01-21 N(1164, 1409462) 1164.036\n",
       "23   trend_model 2018-01-22 N(1165, 1409471) 1164.582\n",
       "24   trend_model 2018-01-23 N(1165, 1409479) 1165.128\n",
       "25   trend_model 2018-01-24 N(1166, 1409487) 1165.673\n",
       "26   trend_model 2018-01-25 N(1166, 1409495) 1166.219\n",
       "27   trend_model 2018-01-26 N(1167, 1409503) 1166.765\n",
       "28   trend_model 2018-01-27 N(1167, 1409512) 1167.311\n",
       "29   trend_model 2018-01-28 N(1168, 1409520) 1167.857\n",
       "30   trend_model 2018-01-29 N(1168, 1409528) 1168.403\n",
       "...  ...         ...        ...              ...     \n",
       "1067 trend_model 2020-12-01 N(1734, 1423940) 1734.465\n",
       "1068 trend_model 2020-12-02 N(1735, 1423960) 1735.011\n",
       "1069 trend_model 2020-12-03 N(1736, 1423979) 1735.557\n",
       "1070 trend_model 2020-12-04 N(1736, 1423999) 1736.103\n",
       "1071 trend_model 2020-12-05 N(1737, 1424018) 1736.649\n",
       "1072 trend_model 2020-12-06 N(1737, 1424038) 1737.195\n",
       "1073 trend_model 2020-12-07 N(1738, 1424057) 1737.741\n",
       "1074 trend_model 2020-12-08 N(1738, 1424077) 1738.287\n",
       "1075 trend_model 2020-12-09 N(1739, 1424097) 1738.832\n",
       "1076 trend_model 2020-12-10 N(1739, 1424116) 1739.378\n",
       "1077 trend_model 2020-12-11 N(1740, 1424136) 1739.924\n",
       "1078 trend_model 2020-12-12 N(1740, 1424156) 1740.470\n",
       "1079 trend_model 2020-12-13 N(1741, 1424175) 1741.016\n",
       "1080 trend_model 2020-12-14 N(1742, 1424195) 1741.562\n",
       "1081 trend_model 2020-12-15 N(1742, 1424215) 1742.108\n",
       "1082 trend_model 2020-12-16 N(1743, 1424234) 1742.653\n",
       "1083 trend_model 2020-12-17 N(1743, 1424254) 1743.199\n",
       "1084 trend_model 2020-12-18 N(1744, 1424274) 1743.745\n",
       "1085 trend_model 2020-12-19 N(1744, 1424293) 1744.291\n",
       "1086 trend_model 2020-12-20 N(1745, 1424313) 1744.837\n",
       "1087 trend_model 2020-12-21 N(1745, 1424333) 1745.383\n",
       "1088 trend_model 2020-12-22 N(1746, 1424353) 1745.929\n",
       "1089 trend_model 2020-12-23 N(1746, 1424372) 1746.475\n",
       "1090 trend_model 2020-12-24 N(1747, 1424392) 1747.020\n",
       "1091 trend_model 2020-12-25 N(1748, 1424412) 1747.566\n",
       "1092 trend_model 2020-12-26 N(1748, 1424432) 1748.112\n",
       "1093 trend_model 2020-12-27 N(1749, 1424452) 1748.658\n",
       "1094 trend_model 2020-12-28 N(1749, 1424472) 1749.204\n",
       "1095 trend_model 2020-12-29 N(1750, 1424491) 1749.750\n",
       "1096 trend_model 2020-12-30 N(1750, 1424511) 1750.296"
      ]
     },
     "metadata": {},
     "output_type": "display_data"
    }
   ],
   "source": [
    "fit |> forecast(h = \"3 years\")"
   ]
  },
  {
   "attachments": {},
   "cell_type": "markdown",
   "metadata": {},
   "source": [
    "Visualizando o Forecast"
   ]
  },
  {
   "cell_type": "code",
   "execution_count": 432,
   "metadata": {
    "vscode": {
     "languageId": "r"
    }
   },
   "outputs": [
    {
     "data": {
      "image/png": "[encoded data removed]",
      "text/plain": [
       "plot without title"
      ]
     },
     "metadata": {
      "image/png": {
       "height": 420,
       "width": 420
      }
     },
     "output_type": "display_data"
    }
   ],
   "source": [
    "fit %>% forecast(h = \"3 years\") |>\n",
    "  \n",
    "  autoplot(df_ts_filled) +\n",
    "    labs(title = \"Forecast para 3 anos\", y = \"Vendas\")"
   ]
  },
  {
   "attachments": {},
   "cell_type": "markdown",
   "metadata": {},
   "source": [
    "## Baselines para o Forecast\n",
    "- `MEAN`\n",
    "- `NAIVE`\n",
    "- `SNAIVE`\n",
    "- `DRIFT`"
   ]
  },
  {
   "attachments": {},
   "cell_type": "markdown",
   "metadata": {},
   "source": [
    "Usando `MEAN` para prever os próximos 3 anos\n",
    "\n",
    "  * Forecast de todos os valores futuros é igual a média dos dados históricos $\\{y_1,\\dots,y_T\\}$.\n",
    "  * Forecasts: $\\hat{y}_{T+h|T} = \\bar{y} = (y_1+\\dots+y_T)/T$"
   ]
  },
  {
   "cell_type": "code",
   "execution_count": 422,
   "metadata": {
    "vscode": {
     "languageId": "r"
    }
   },
   "outputs": [],
   "source": [
    "#filter com Sales not na (pra garantir) e maior que 0 \n",
    "sales <- df_ts_filled |>\n",
    "  filter(!is.na(Sales) & Sales > 0) |>\n",
    "  mutate(average = mean(Sales))"
   ]
  },
  {
   "cell_type": "code",
   "execution_count": 423,
   "metadata": {
    "vscode": {
     "languageId": "r"
    }
   },
   "outputs": [
    {
     "data": {
      "text/html": [
       "<table class=\"dataframe\">\n",
       "<caption>A tbl_ts: 6 × 3</caption>\n",
       "<thead>\n",
       "\t<tr><th scope=col>Order.Date</th><th scope=col>Sales</th><th scope=col>average</th></tr>\n",
       "\t<tr><th scope=col>&lt;date&gt;</th><th scope=col>&lt;dbl&gt;</th><th scope=col>&lt;dbl&gt;</th></tr>\n",
       "</thead>\n",
       "<tbody>\n",
       "\t<tr><td>2014-01-03</td><td>  16.448</td><td>889.1367</td></tr>\n",
       "\t<tr><td>2014-01-04</td><td>  11.784</td><td>889.1367</td></tr>\n",
       "\t<tr><td>2014-01-05</td><td>  19.536</td><td>889.1367</td></tr>\n",
       "\t<tr><td>2014-01-06</td><td>2606.040</td><td>889.1367</td></tr>\n",
       "\t<tr><td>2014-01-07</td><td>  76.728</td><td>889.1367</td></tr>\n",
       "\t<tr><td>2014-01-09</td><td>   9.344</td><td>889.1367</td></tr>\n",
       "</tbody>\n",
       "</table>\n"
      ],
      "text/latex": [
       "A tbl\\_ts: 6 × 3\n",
       "\\begin{tabular}{lll}\n",
       " Order.Date & Sales & average\\\\\n",
       " <date> & <dbl> & <dbl>\\\\\n",
       "\\hline\n",
       "\t 2014-01-03 &   16.448 & 889.1367\\\\\n",
       "\t 2014-01-04 &   11.784 & 889.1367\\\\\n",
       "\t 2014-01-05 &   19.536 & 889.1367\\\\\n",
       "\t 2014-01-06 & 2606.040 & 889.1367\\\\\n",
       "\t 2014-01-07 &   76.728 & 889.1367\\\\\n",
       "\t 2014-01-09 &    9.344 & 889.1367\\\\\n",
       "\\end{tabular}\n"
      ],
      "text/markdown": [
       "\n",
       "A tbl_ts: 6 × 3\n",
       "\n",
       "| Order.Date &lt;date&gt; | Sales &lt;dbl&gt; | average &lt;dbl&gt; |\n",
       "|---|---|---|\n",
       "| 2014-01-03 |   16.448 | 889.1367 |\n",
       "| 2014-01-04 |   11.784 | 889.1367 |\n",
       "| 2014-01-05 |   19.536 | 889.1367 |\n",
       "| 2014-01-06 | 2606.040 | 889.1367 |\n",
       "| 2014-01-07 |   76.728 | 889.1367 |\n",
       "| 2014-01-09 |    9.344 | 889.1367 |\n",
       "\n"
      ],
      "text/plain": [
       "  Order.Date Sales    average \n",
       "1 2014-01-03   16.448 889.1367\n",
       "2 2014-01-04   11.784 889.1367\n",
       "3 2014-01-05   19.536 889.1367\n",
       "4 2014-01-06 2606.040 889.1367\n",
       "5 2014-01-07   76.728 889.1367\n",
       "6 2014-01-09    9.344 889.1367"
      ]
     },
     "metadata": {},
     "output_type": "display_data"
    }
   ],
   "source": [
    "head(sales)"
   ]
  },
  {
   "cell_type": "code",
   "execution_count": 424,
   "metadata": {
    "vscode": {
     "languageId": "r"
    }
   },
   "outputs": [
    {
     "data": {
      "text/html": [
       "<table class=\"dataframe\">\n",
       "<caption>A tibble: 2 × 3</caption>\n",
       "<thead>\n",
       "\t<tr><th scope=col>Order.Date</th><th scope=col>Sales</th><th scope=col>average</th></tr>\n",
       "\t<tr><th scope=col>&lt;date&gt;</th><th scope=col>&lt;dbl&gt;</th><th scope=col>&lt;dbl&gt;</th></tr>\n",
       "</thead>\n",
       "<tbody>\n",
       "\t<tr><td>2017-12-30</td><td>549.364</td><td>889.1367</td></tr>\n",
       "\t<tr><td>2022-12-30</td><td>549.364</td><td>889.1367</td></tr>\n",
       "</tbody>\n",
       "</table>\n"
      ],
      "text/latex": [
       "A tibble: 2 × 3\n",
       "\\begin{tabular}{lll}\n",
       " Order.Date & Sales & average\\\\\n",
       " <date> & <dbl> & <dbl>\\\\\n",
       "\\hline\n",
       "\t 2017-12-30 & 549.364 & 889.1367\\\\\n",
       "\t 2022-12-30 & 549.364 & 889.1367\\\\\n",
       "\\end{tabular}\n"
      ],
      "text/markdown": [
       "\n",
       "A tibble: 2 × 3\n",
       "\n",
       "| Order.Date &lt;date&gt; | Sales &lt;dbl&gt; | average &lt;dbl&gt; |\n",
       "|---|---|---|\n",
       "| 2017-12-30 | 549.364 | 889.1367 |\n",
       "| 2022-12-30 | 549.364 | 889.1367 |\n",
       "\n"
      ],
      "text/plain": [
       "  Order.Date Sales   average \n",
       "1 2017-12-30 549.364 889.1367\n",
       "2 2022-12-30 549.364 889.1367"
      ]
     },
     "metadata": {},
     "output_type": "display_data"
    }
   ],
   "source": [
    "fc <- sales |>\n",
    "  filter(row_number() == n()) %>% as_tibble() |>\n",
    "  unnest(Order.Date = list(as.Date(Order.Date) + months(c(0, 12*5))))\n",
    "\n",
    "fc"
   ]
  },
  {
   "cell_type": "code",
   "execution_count": 425,
   "metadata": {
    "vscode": {
     "languageId": "r"
    }
   },
   "outputs": [
    {
     "data": {
      "image/png": "[encoded data removed]",
      "text/plain": [
       "plot without title"
      ]
     },
     "metadata": {
      "image/png": {
       "height": 420,
       "width": 420
      }
     },
     "output_type": "display_data"
    }
   ],
   "source": [
    "sales |>\n",
    "  ggplot(aes(x = Order.Date, y = Sales)) +\n",
    "  geom_line() +\n",
    "  geom_line(aes(y = average), colour = \"#0072B2\", linetype = \"dashed\") +\n",
    "  geom_line(aes(y = average), data = fc, colour = \"#0072B2\") +\n",
    "  labs(title = \"Vendas ao longo do ano\",\n",
    "       x = \"Data do pedido\",\n",
    "       y = \"Vendas\")"
   ]
  },
  {
   "cell_type": "code",
   "execution_count": 426,
   "metadata": {
    "vscode": {
     "languageId": "r"
    }
   },
   "outputs": [
    {
     "name": "stderr",
     "output_type": "stream",
     "text": [
      "Plot variable not specified, automatically selected `.vars = Sales`\n"
     ]
    },
    {
     "data": {
      "image/png": "[encoded data removed]",
      "text/plain": [
       "plot without title"
      ]
     },
     "metadata": {
      "image/png": {
       "height": 420,
       "width": 420
      }
     },
     "output_type": "display_data"
    }
   ],
   "source": [
    "df_ts_filled %>%\n",
    "  filter(!is.na(Sales) & Sales > 0) %>%\n",
    "  mutate(Sales = mean(Sales)) %>%\n",
    "  autoplot() +\n",
    "  labs(title = \"Previsão de vendas com a média\",\n",
    "       x = \"Data do pedido\",\n",
    "       y = \"Vendas\")"
   ]
  },
  {
   "attachments": {},
   "cell_type": "markdown",
   "metadata": {},
   "source": [
    "`Naive` method\n",
    "\n",
    "  * Forecasts iguais ao último valor observado.\n",
    "  * Forecasts: $\\hat{y}_{T+h|T} =y_T$.\n",
    "  * Consequência da hipótese de mercado eficiente."
   ]
  },
  {
   "cell_type": "code",
   "execution_count": 427,
   "metadata": {
    "vscode": {
     "languageId": "r"
    }
   },
   "outputs": [],
   "source": [
    "sales <- df_ts_filled |>\n",
    "  filter(!is.na(Sales) & Sales > 0)"
   ]
  },
  {
   "cell_type": "code",
   "execution_count": 428,
   "metadata": {
    "vscode": {
     "languageId": "r"
    }
   },
   "outputs": [
    {
     "data": {
      "image/png": "[encoded data removed]",
      "text/plain": [
       "plot without title"
      ]
     },
     "metadata": {
      "image/png": {
       "height": 420,
       "width": 420
      }
     },
     "output_type": "display_data"
    }
   ],
   "source": [
    "sales |>\n",
    "  filter(!is.na(Sales) & Sales > 0 & Sales ) |>\n",
    "  model(NAIVE(Sales)) |>\n",
    "  forecast(h = \"3 years\") |>\n",
    "  autoplot(filter(sales, year(Order.Date) >= 2014), level = NULL) +\n",
    "  geom_point(data = slice(sales, n()), aes(y=Sales), colour = \"#0072B2\") +\n",
    "  labs(title = \"Vendas ao longo do ano\",\n",
    "       x = \"Data do pedido\",\n",
    "       y = \"Vendas\")"
   ]
  },
  {
   "attachments": {},
   "cell_type": "markdown",
   "metadata": {},
   "source": [
    "`SNAIVE(y ~ lag(m))`: Seasonal naive method\n",
    "\n",
    "  * Forecasts iguais ao último valor da mesma sazonalidade.\n",
    "  * Forecasts: $\\hat{y}_{T+h|T} =y_{T+h-m(k+1)}$, onde $m=$ período sazonal e $k$ é a parte inteira de $(h-1)/m$."
   ]
  },
  {
   "cell_type": "code",
   "execution_count": 429,
   "metadata": {
    "vscode": {
     "languageId": "r"
    }
   },
   "outputs": [
    {
     "data": {
      "image/png": "[encoded data removed]",
      "text/plain": [
       "plot without title"
      ]
     },
     "metadata": {
      "image/png": {
       "height": 420,
       "width": 420
      }
     },
     "output_type": "display_data"
    }
   ],
   "source": [
    "sales |>\n",
    "  model(SNAIVE(Sales ~ lag(\"year\"))) |>\n",
    "  forecast(h = \"3 years\") %>%\n",
    "  autoplot(filter(sales, year(Order.Date) >= 2014), level = NULL) +\n",
    "  geom_point(data = slice(sales, (n()-3):n()), aes(y=Sales), colour = \"#0072B2\") +\n",
    "  labs(title = \"Vendas ao longo dos anos projetado para 3 anos de 2014 a 2021\",\n",
    "       x = \"Data do pedido\",\n",
    "       y = \"Vendas\")"
   ]
  },
  {
   "attachments": {},
   "cell_type": "markdown",
   "metadata": {},
   "source": [
    "`RW(y ~ drift())`: Drift method\n",
    "\n",
    " * Forecasts iguais ao último valor mais a mudança média.\n",
    " * Forecasts:\n",
    " \n",
    " \\begin{align*}\n",
    " \\hat{y}_{T+h|T} & =  y_{T} + \\frac{h}{T-1}\\sum_{t=2}^T (y_t-y_{t-1})\\\\\n",
    "                 & = y_T + \\frac{h}{T-1}(y_T -y_1).\n",
    " \\end{align*}\n",
    "   * Extrapolar uma linha entre a primeira e a última observações."
   ]
  },
  {
   "cell_type": "code",
   "execution_count": 433,
   "metadata": {
    "vscode": {
     "languageId": "r"
    }
   },
   "outputs": [
    {
     "data": {
      "image/png": "[encoded data removed]",
      "text/plain": [
       "plot without title"
      ]
     },
     "metadata": {
      "image/png": {
       "height": 420,
       "width": 420
      }
     },
     "output_type": "display_data"
    }
   ],
   "source": [
    "df_ts_filled |>\n",
    "  filter(!is.na(Sales)) |>\n",
    "  model(RW(Sales ~ drift())) |>\n",
    "  forecast(h = \"3 years\") |>\n",
    "  autoplot(df_ts_filled, level = NULL) +\n",
    "  geom_line(data = slice(df_ts_filled, range(cumsum(!is.na(Sales)))),\n",
    "            aes(y=Sales), linetype = \"dashed\", colour = \"#0072B2\") +\n",
    "  labs(title = \"Vendas ao longo dos anos projetado para 3 anos de 2014 a 2021\",\n",
    "       x = \"Data do pedido\",\n",
    "       y = \"Vendas\")"
   ]
  },
  {
   "cell_type": "code",
   "execution_count": null,
   "metadata": {
    "vscode": {
     "languageId": "r"
    }
   },
   "outputs": [
    {
     "data": {
      "image/png": "[encoded data removed]",
      "text/plain": [
       "plot without title"
      ]
     },
     "metadata": {
      "image/png": {
       "height": 420,
       "width": 420
      }
     },
     "output_type": "display_data"
    }
   ],
   "source": [
    "# MEAN, NAIVE e DRIFT\n",
    "df_ts_filled %>%\n",
    "  model(\n",
    "    Mean = MEAN(Sales),\n",
    "    Naive = NAIVE(Sales),\n",
    "    Drift = RW(Sales ~ drift())\n",
    "  ) |>\n",
    "  \n",
    "  forecast(h=42) %>%\n",
    "  autoplot(df_ts_filled, level = NULL) +\n",
    "  labs(title = \"Vendas por ano\", y=\"Vendas\") +\n",
    "  guides(colour=guide_legend(title=\"Forecast\"))\n",
    "\n",
    "  # TODO: ampliar para melhor visualizar drift, mean e naive"
   ]
  },
  {
   "attachments": {},
   "cell_type": "markdown",
   "metadata": {},
   "source": [
    "Fitting do modelo"
   ]
  },
  {
   "cell_type": "code",
   "execution_count": 444,
   "metadata": {
    "vscode": {
     "languageId": "r"
    }
   },
   "outputs": [
    {
     "data": {
      "text/html": [
       "<table class=\"dataframe\">\n",
       "<caption>A mdl_df: 1 × 5</caption>\n",
       "<thead>\n",
       "\t<tr><th scope=col>Seasonal_naive</th><th scope=col>Naive</th><th scope=col>Drift</th><th scope=col>Mean</th><th scope=col>trend_model</th></tr>\n",
       "\t<tr><th scope=col>&lt;model&gt;</th><th scope=col>&lt;model&gt;</th><th scope=col>&lt;model&gt;</th><th scope=col>&lt;model&gt;</th><th scope=col>&lt;model&gt;</th></tr>\n",
       "</thead>\n",
       "<tbody>\n",
       "\t<tr><td>&lt;SNAIVE&gt;</td><td>&lt;NAIVE&gt;</td><td>&lt;RW w/ drift&gt;</td><td>&lt;MEAN&gt;</td><td>&lt;TSLM&gt;</td></tr>\n",
       "</tbody>\n",
       "</table>\n"
      ],
      "text/latex": [
       "A mdl\\_df: 1 × 5\n",
       "\\begin{tabular}{lllll}\n",
       " Seasonal\\_naive & Naive & Drift & Mean & trend\\_model\\\\\n",
       " <model> & <model> & <model> & <model> & <model>\\\\\n",
       "\\hline\n",
       "\t <SNAIVE> & <NAIVE> & <RW w/ drift> & <MEAN> & <TSLM>\\\\\n",
       "\\end{tabular}\n"
      ],
      "text/markdown": [
       "\n",
       "A mdl_df: 1 × 5\n",
       "\n",
       "| Seasonal_naive &lt;model&gt; | Naive &lt;model&gt; | Drift &lt;model&gt; | Mean &lt;model&gt; | trend_model &lt;model&gt; |\n",
       "|---|---|---|---|---|\n",
       "| &lt;SNAIVE&gt; | &lt;NAIVE&gt; | &lt;RW w/ drift&gt; | &lt;MEAN&gt; | &lt;TSLM&gt; |\n",
       "\n"
      ],
      "text/plain": [
       "  Seasonal_naive Naive   Drift         Mean   trend_model\n",
       "1 <SNAIVE>       <NAIVE> <RW w/ drift> <MEAN> <TSLM>     "
      ]
     },
     "metadata": {},
     "output_type": "display_data"
    }
   ],
   "source": [
    "sales_fit <-  df_ts_filled |>\n",
    "  filter(!is.na(Sales)) |>\n",
    "  model(\n",
    "    Seasonal_naive = SNAIVE(Sales),\n",
    "    Naive = NAIVE(Sales),\n",
    "    Drift = RW(Sales ~ drift()),\n",
    "    Mean = MEAN(Sales),\n",
    "    trend_model = TSLM(Sales ~ trend()))\n",
    "  \n",
    "  sales_fit"
   ]
  },
  {
   "attachments": {},
   "cell_type": "markdown",
   "metadata": {},
   "source": [
    "Forecasting para 3 anos"
   ]
  },
  {
   "cell_type": "code",
   "execution_count": 445,
   "metadata": {
    "vscode": {
     "languageId": "r"
    }
   },
   "outputs": [],
   "source": [
    "sales_fc <- sales_fit |>\n",
    "  forecast(h = \"3 years\")"
   ]
  },
  {
   "cell_type": "code",
   "execution_count": 448,
   "metadata": {
    "vscode": {
     "languageId": "r"
    }
   },
   "outputs": [
    {
     "data": {
      "text/html": [
       "<table class=\"dataframe\">\n",
       "<caption>A fbl_ts: 6 × 4</caption>\n",
       "<thead>\n",
       "\t<tr><th scope=col>.model</th><th scope=col>Order.Date</th><th scope=col>Sales</th><th scope=col>.mean</th></tr>\n",
       "\t<tr><th scope=col>&lt;chr&gt;</th><th scope=col>&lt;date&gt;</th><th scope=col>&lt;dist&gt;</th><th scope=col>&lt;dbl&gt;</th></tr>\n",
       "</thead>\n",
       "<tbody>\n",
       "\t<tr><td>Seasonal_naive</td><td>2017-12-31</td><td>N(5041, 2388507)</td><td>5040.642</td></tr>\n",
       "\t<tr><td>Seasonal_naive</td><td>2018-01-01</td><td>N(835, 2388507)</td><td> 834.682</td></tr>\n",
       "\t<tr><td>Seasonal_naive</td><td>2018-01-02</td><td>N(815, 2388507)</td><td> 814.594</td></tr>\n",
       "\t<tr><td>Seasonal_naive</td><td>2018-01-03</td><td>N(164, 2388507)</td><td> 164.388</td></tr>\n",
       "\t<tr><td>Seasonal_naive</td><td>2018-01-04</td><td>N(1362, 2388507)</td><td>1361.944</td></tr>\n",
       "\t<tr><td>Seasonal_naive</td><td>2018-01-05</td><td>N(1938, 2388507)</td><td>1937.858</td></tr>\n",
       "</tbody>\n",
       "</table>\n"
      ],
      "text/latex": [
       "A fbl\\_ts: 6 × 4\n",
       "\\begin{tabular}{llll}\n",
       " .model & Order.Date & Sales & .mean\\\\\n",
       " <chr> & <date> & <dist> & <dbl>\\\\\n",
       "\\hline\n",
       "\t Seasonal\\_naive & 2017-12-31 & N(5041, 2388507) & 5040.642\\\\\n",
       "\t Seasonal\\_naive & 2018-01-01 & N(835, 2388507) &  834.682\\\\\n",
       "\t Seasonal\\_naive & 2018-01-02 & N(815, 2388507) &  814.594\\\\\n",
       "\t Seasonal\\_naive & 2018-01-03 & N(164, 2388507) &  164.388\\\\\n",
       "\t Seasonal\\_naive & 2018-01-04 & N(1362, 2388507) & 1361.944\\\\\n",
       "\t Seasonal\\_naive & 2018-01-05 & N(1938, 2388507) & 1937.858\\\\\n",
       "\\end{tabular}\n"
      ],
      "text/markdown": [
       "\n",
       "A fbl_ts: 6 × 4\n",
       "\n",
       "| .model &lt;chr&gt; | Order.Date &lt;date&gt; | Sales &lt;dist&gt; | .mean &lt;dbl&gt; |\n",
       "|---|---|---|---|\n",
       "| Seasonal_naive | 2017-12-31 | N(5041, 2388507) | 5040.642 |\n",
       "| Seasonal_naive | 2018-01-01 | N(835, 2388507) |  834.682 |\n",
       "| Seasonal_naive | 2018-01-02 | N(815, 2388507) |  814.594 |\n",
       "| Seasonal_naive | 2018-01-03 | N(164, 2388507) |  164.388 |\n",
       "| Seasonal_naive | 2018-01-04 | N(1362, 2388507) | 1361.944 |\n",
       "| Seasonal_naive | 2018-01-05 | N(1938, 2388507) | 1937.858 |\n",
       "\n"
      ],
      "text/plain": [
       "  .model         Order.Date Sales            .mean   \n",
       "1 Seasonal_naive 2017-12-31 N(5041, 2388507) 5040.642\n",
       "2 Seasonal_naive 2018-01-01 N(835, 2388507)   834.682\n",
       "3 Seasonal_naive 2018-01-02 N(815, 2388507)   814.594\n",
       "4 Seasonal_naive 2018-01-03 N(164, 2388507)   164.388\n",
       "5 Seasonal_naive 2018-01-04 N(1362, 2388507) 1361.944\n",
       "6 Seasonal_naive 2018-01-05 N(1938, 2388507) 1937.858"
      ]
     },
     "metadata": {},
     "output_type": "display_data"
    }
   ],
   "source": [
    "head(sales_fc)"
   ]
  },
  {
   "cell_type": "code",
   "execution_count": 449,
   "metadata": {
    "vscode": {
     "languageId": "r"
    }
   },
   "outputs": [
    {
     "data": {
      "image/png": "[encoded data removed]",
      "text/plain": [
       "plot without title"
      ]
     },
     "metadata": {
      "image/png": {
       "height": 420,
       "width": 420
      }
     },
     "output_type": "display_data"
    }
   ],
   "source": [
    "sales_fc |>\n",
    "  autoplot(df_ts_filled, level = NULL) +\n",
    "  labs(title = \"Vendas por ano\", y=\"Vendas\") +\n",
    "  guides(colour = guide_legend(title = \"Forecast\"))"
   ]
  },
  {
   "cell_type": "code",
   "execution_count": 450,
   "metadata": {
    "vscode": {
     "languageId": "r"
    }
   },
   "outputs": [
    {
     "data": {
      "text/html": [
       "<table class=\"dataframe\">\n",
       "<caption>A tibble: 1 × 3</caption>\n",
       "<thead>\n",
       "\t<tr><th scope=col>.model</th><th scope=col>lb_stat</th><th scope=col>lb_pvalue</th></tr>\n",
       "\t<tr><th scope=col>&lt;chr&gt;</th><th scope=col>&lt;dbl&gt;</th><th scope=col>&lt;dbl&gt;</th></tr>\n",
       "</thead>\n",
       "<tbody>\n",
       "\t<tr><td>trend_model</td><td>62.7542</td><td>1.087483e-09</td></tr>\n",
       "</tbody>\n",
       "</table>\n"
      ],
      "text/latex": [
       "A tibble: 1 × 3\n",
       "\\begin{tabular}{lll}\n",
       " .model & lb\\_stat & lb\\_pvalue\\\\\n",
       " <chr> & <dbl> & <dbl>\\\\\n",
       "\\hline\n",
       "\t trend\\_model & 62.7542 & 1.087483e-09\\\\\n",
       "\\end{tabular}\n"
      ],
      "text/markdown": [
       "\n",
       "A tibble: 1 × 3\n",
       "\n",
       "| .model &lt;chr&gt; | lb_stat &lt;dbl&gt; | lb_pvalue &lt;dbl&gt; |\n",
       "|---|---|---|\n",
       "| trend_model | 62.7542 | 1.087483e-09 |\n",
       "\n"
      ],
      "text/plain": [
       "  .model      lb_stat lb_pvalue   \n",
       "1 trend_model 62.7542 1.087483e-09"
      ]
     },
     "metadata": {},
     "output_type": "display_data"
    },
    {
     "data": {
      "image/png": "[encoded data removed]",
      "text/plain": [
       "plot without title"
      ]
     },
     "metadata": {
      "image/png": {
       "height": 420,
       "width": 420
      }
     },
     "output_type": "display_data"
    }
   ],
   "source": [
    "augment(fit) |> features(.resid, ljung_box, lag=10, dof=0)\n",
    "gg_tsresiduals(fit)"
   ]
  },
  {
   "attachments": {},
   "cell_type": "markdown",
   "metadata": {},
   "source": [
    "- O modelo `SNAIVE` apresentou o menor erro de previsão, seguido do `RW` e `NAIVE`.\n",
    "- O modelo `MEAN` apresentou o maior erro de previsão.\n",
    "- O modelo `SNAIVE` é o mais adequado para previsão de vendas visto que ele considera a sazonalidade e a tendência da série temporal.\n",
    "- O modelo `RW` é o segundo mais adequado para previsão de vendas visto que ele considera a tendência da série temporal.\n",
    "- O modelo `NAIVE` é o terceiro mais adequado para previsão de vendas visto que ele não considera a tendência da série temporal.\n",
    "- O modelo `MEAN` é o menos adequado para previsão de vendas visto que ele não considera a tendência da série temporal.\n",
    "- O ACF dos resíduos apontam para white noise."
   ]
  }
 ],
 "metadata": {
  "kernelspec": {
   "display_name": "R",
   "language": "R",
   "name": "ir"
  },
  "language_info": {
   "codemirror_mode": "r",
   "file_extension": ".r",
   "mimetype": "text/x-r-source",
   "name": "R",
   "pygments_lexer": "r",
   "version": "4.1.3"
  },
  "orig_nbformat": 4
 },
 "nbformat": 4,
 "nbformat_minor": 2
}
