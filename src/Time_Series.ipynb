{
 "cells": [
  {
   "attachments": {},
   "cell_type": "markdown",
   "metadata": {},
   "source": [
    "### Importando libraries"
   ]
  },
  {
   "cell_type": "code",
   "execution_count": 114,
   "metadata": {
    "vscode": {
     "languageId": "r"
    }
   },
   "outputs": [],
   "source": [
    "# importing libraries\n",
    "library(dplyr)"
   ]
  },
  {
   "cell_type": "code",
   "execution_count": 115,
   "metadata": {
    "vscode": {
     "languageId": "r"
    }
   },
   "outputs": [],
   "source": [
    "library(tsibble)\n",
    "library(forecast)\n",
    "library(ggplot2)"
   ]
  },
  {
   "cell_type": "code",
   "execution_count": 116,
   "metadata": {
    "vscode": {
     "languageId": "r"
    }
   },
   "outputs": [],
   "source": [
    "library(fpp3)"
   ]
  },
  {
   "attachments": {},
   "cell_type": "markdown",
   "metadata": {},
   "source": [
    "### Explorando os dados"
   ]
  },
  {
   "cell_type": "code",
   "execution_count": 117,
   "metadata": {
    "vscode": {
     "languageId": "r"
    }
   },
   "outputs": [
    {
     "data": {
      "text/html": [
       "<table class=\"dataframe\">\n",
       "<caption>A data.frame: 6 × 21</caption>\n",
       "<thead>\n",
       "\t<tr><th></th><th scope=col>ï..Row.ID</th><th scope=col>Order.ID</th><th scope=col>Order.Date</th><th scope=col>Ship.Date</th><th scope=col>Ship.Mode</th><th scope=col>Customer.ID</th><th scope=col>Customer.Name</th><th scope=col>Segment</th><th scope=col>Country</th><th scope=col>City</th><th scope=col>...</th><th scope=col>Postal.Code</th><th scope=col>Region</th><th scope=col>Product.ID</th><th scope=col>Category</th><th scope=col>Sub.Category</th><th scope=col>Product.Name</th><th scope=col>Sales</th><th scope=col>Quantity</th><th scope=col>Discount</th><th scope=col>Profit</th></tr>\n",
       "\t<tr><th></th><th scope=col>&lt;int&gt;</th><th scope=col>&lt;chr&gt;</th><th scope=col>&lt;chr&gt;</th><th scope=col>&lt;chr&gt;</th><th scope=col>&lt;chr&gt;</th><th scope=col>&lt;chr&gt;</th><th scope=col>&lt;chr&gt;</th><th scope=col>&lt;chr&gt;</th><th scope=col>&lt;chr&gt;</th><th scope=col>&lt;chr&gt;</th><th scope=col>...</th><th scope=col>&lt;int&gt;</th><th scope=col>&lt;chr&gt;</th><th scope=col>&lt;chr&gt;</th><th scope=col>&lt;chr&gt;</th><th scope=col>&lt;chr&gt;</th><th scope=col>&lt;chr&gt;</th><th scope=col>&lt;dbl&gt;</th><th scope=col>&lt;int&gt;</th><th scope=col>&lt;dbl&gt;</th><th scope=col>&lt;dbl&gt;</th></tr>\n",
       "</thead>\n",
       "<tbody>\n",
       "\t<tr><th scope=row>1</th><td>1</td><td>CA-2016-152156</td><td>2016/11/08</td><td>2016/11/11</td><td>Second Class  </td><td>CG-12520</td><td>Claire Gute    </td><td>Consumer </td><td>United States</td><td>Henderson      </td><td>...</td><td>42420</td><td>South</td><td>FUR-BO-10001798</td><td>Furniture      </td><td>Bookcases  </td><td>Bush Somerset Collection Bookcase                               </td><td>261.9600</td><td>2</td><td>0.00</td><td>  41.9136</td></tr>\n",
       "\t<tr><th scope=row>2</th><td>2</td><td>CA-2016-152156</td><td>2016/11/08</td><td>2016/11/11</td><td>Second Class  </td><td>CG-12520</td><td>Claire Gute    </td><td>Consumer </td><td>United States</td><td>Henderson      </td><td>...</td><td>42420</td><td>South</td><td>FUR-CH-10000454</td><td>Furniture      </td><td>Chairs     </td><td>Hon Deluxe Fabric Upholstered Stacking Chairs, Rounded Back     </td><td>731.9400</td><td>3</td><td>0.00</td><td> 219.5820</td></tr>\n",
       "\t<tr><th scope=row>3</th><td>3</td><td>CA-2016-138688</td><td>2016/06/12</td><td>2016/06/16</td><td>Second Class  </td><td>DV-13045</td><td>Darrin Van Huff</td><td>Corporate</td><td>United States</td><td>Los Angeles    </td><td>...</td><td>90036</td><td>West </td><td>OFF-LA-10000240</td><td>Office Supplies</td><td>Labels     </td><td>Self-Adhesive Address Labels for Typewriters by Universal       </td><td> 14.6200</td><td>2</td><td>0.00</td><td>   6.8714</td></tr>\n",
       "\t<tr><th scope=row>4</th><td>4</td><td>US-2015-108966</td><td>2015/10/11</td><td>2015/10/18</td><td>Standard Class</td><td>SO-20335</td><td>Sean O'Donnell </td><td>Consumer </td><td>United States</td><td>Fort Lauderdale</td><td>...</td><td>33311</td><td>South</td><td>FUR-TA-10000577</td><td>Furniture      </td><td>Tables     </td><td>Bretford CR4500 Series Slim Rectangular Table                   </td><td>957.5775</td><td>5</td><td>0.45</td><td>-383.0310</td></tr>\n",
       "\t<tr><th scope=row>5</th><td>5</td><td>US-2015-108966</td><td>2015/10/11</td><td>2015/10/18</td><td>Standard Class</td><td>SO-20335</td><td>Sean O'Donnell </td><td>Consumer </td><td>United States</td><td>Fort Lauderdale</td><td>...</td><td>33311</td><td>South</td><td>OFF-ST-10000760</td><td>Office Supplies</td><td>Storage    </td><td>Eldon Fold 'N Roll Cart System                                  </td><td> 22.3680</td><td>2</td><td>0.20</td><td>   2.5164</td></tr>\n",
       "\t<tr><th scope=row>6</th><td>6</td><td>CA-2014-115812</td><td>2014/06/09</td><td>2014/06/14</td><td>Standard Class</td><td>BH-11710</td><td>Brosina Hoffman</td><td>Consumer </td><td>United States</td><td>Los Angeles    </td><td>...</td><td>90032</td><td>West </td><td>FUR-FU-10001487</td><td>Furniture      </td><td>Furnishings</td><td>Eldon Expressions Wood and Plastic Desk Accessories, Cherry Wood</td><td> 48.8600</td><td>7</td><td>0.00</td><td>  14.1694</td></tr>\n",
       "</tbody>\n",
       "</table>\n"
      ],
      "text/latex": [
       "A data.frame: 6 × 21\n",
       "\\begin{tabular}{r|lllllllllllllllllllll}\n",
       "  & ï..Row.ID & Order.ID & Order.Date & Ship.Date & Ship.Mode & Customer.ID & Customer.Name & Segment & Country & City & ... & Postal.Code & Region & Product.ID & Category & Sub.Category & Product.Name & Sales & Quantity & Discount & Profit\\\\\n",
       "  & <int> & <chr> & <chr> & <chr> & <chr> & <chr> & <chr> & <chr> & <chr> & <chr> & ... & <int> & <chr> & <chr> & <chr> & <chr> & <chr> & <dbl> & <int> & <dbl> & <dbl>\\\\\n",
       "\\hline\n",
       "\t1 & 1 & CA-2016-152156 & 2016/11/08 & 2016/11/11 & Second Class   & CG-12520 & Claire Gute     & Consumer  & United States & Henderson       & ... & 42420 & South & FUR-BO-10001798 & Furniture       & Bookcases   & Bush Somerset Collection Bookcase                                & 261.9600 & 2 & 0.00 &   41.9136\\\\\n",
       "\t2 & 2 & CA-2016-152156 & 2016/11/08 & 2016/11/11 & Second Class   & CG-12520 & Claire Gute     & Consumer  & United States & Henderson       & ... & 42420 & South & FUR-CH-10000454 & Furniture       & Chairs      & Hon Deluxe Fabric Upholstered Stacking Chairs, Rounded Back      & 731.9400 & 3 & 0.00 &  219.5820\\\\\n",
       "\t3 & 3 & CA-2016-138688 & 2016/06/12 & 2016/06/16 & Second Class   & DV-13045 & Darrin Van Huff & Corporate & United States & Los Angeles     & ... & 90036 & West  & OFF-LA-10000240 & Office Supplies & Labels      & Self-Adhesive Address Labels for Typewriters by Universal        &  14.6200 & 2 & 0.00 &    6.8714\\\\\n",
       "\t4 & 4 & US-2015-108966 & 2015/10/11 & 2015/10/18 & Standard Class & SO-20335 & Sean O'Donnell  & Consumer  & United States & Fort Lauderdale & ... & 33311 & South & FUR-TA-10000577 & Furniture       & Tables      & Bretford CR4500 Series Slim Rectangular Table                    & 957.5775 & 5 & 0.45 & -383.0310\\\\\n",
       "\t5 & 5 & US-2015-108966 & 2015/10/11 & 2015/10/18 & Standard Class & SO-20335 & Sean O'Donnell  & Consumer  & United States & Fort Lauderdale & ... & 33311 & South & OFF-ST-10000760 & Office Supplies & Storage     & Eldon Fold 'N Roll Cart System                                   &  22.3680 & 2 & 0.20 &    2.5164\\\\\n",
       "\t6 & 6 & CA-2014-115812 & 2014/06/09 & 2014/06/14 & Standard Class & BH-11710 & Brosina Hoffman & Consumer  & United States & Los Angeles     & ... & 90032 & West  & FUR-FU-10001487 & Furniture       & Furnishings & Eldon Expressions Wood and Plastic Desk Accessories, Cherry Wood &  48.8600 & 7 & 0.00 &   14.1694\\\\\n",
       "\\end{tabular}\n"
      ],
      "text/markdown": [
       "\n",
       "A data.frame: 6 × 21\n",
       "\n",
       "| <!--/--> | ï..Row.ID &lt;int&gt; | Order.ID &lt;chr&gt; | Order.Date &lt;chr&gt; | Ship.Date &lt;chr&gt; | Ship.Mode &lt;chr&gt; | Customer.ID &lt;chr&gt; | Customer.Name &lt;chr&gt; | Segment &lt;chr&gt; | Country &lt;chr&gt; | City &lt;chr&gt; | ... ... | Postal.Code &lt;int&gt; | Region &lt;chr&gt; | Product.ID &lt;chr&gt; | Category &lt;chr&gt; | Sub.Category &lt;chr&gt; | Product.Name &lt;chr&gt; | Sales &lt;dbl&gt; | Quantity &lt;int&gt; | Discount &lt;dbl&gt; | Profit &lt;dbl&gt; |\n",
       "|---|---|---|---|---|---|---|---|---|---|---|---|---|---|---|---|---|---|---|---|---|---|\n",
       "| 1 | 1 | CA-2016-152156 | 2016/11/08 | 2016/11/11 | Second Class   | CG-12520 | Claire Gute     | Consumer  | United States | Henderson       | ... | 42420 | South | FUR-BO-10001798 | Furniture       | Bookcases   | Bush Somerset Collection Bookcase                                | 261.9600 | 2 | 0.00 |   41.9136 |\n",
       "| 2 | 2 | CA-2016-152156 | 2016/11/08 | 2016/11/11 | Second Class   | CG-12520 | Claire Gute     | Consumer  | United States | Henderson       | ... | 42420 | South | FUR-CH-10000454 | Furniture       | Chairs      | Hon Deluxe Fabric Upholstered Stacking Chairs, Rounded Back      | 731.9400 | 3 | 0.00 |  219.5820 |\n",
       "| 3 | 3 | CA-2016-138688 | 2016/06/12 | 2016/06/16 | Second Class   | DV-13045 | Darrin Van Huff | Corporate | United States | Los Angeles     | ... | 90036 | West  | OFF-LA-10000240 | Office Supplies | Labels      | Self-Adhesive Address Labels for Typewriters by Universal        |  14.6200 | 2 | 0.00 |    6.8714 |\n",
       "| 4 | 4 | US-2015-108966 | 2015/10/11 | 2015/10/18 | Standard Class | SO-20335 | Sean O'Donnell  | Consumer  | United States | Fort Lauderdale | ... | 33311 | South | FUR-TA-10000577 | Furniture       | Tables      | Bretford CR4500 Series Slim Rectangular Table                    | 957.5775 | 5 | 0.45 | -383.0310 |\n",
       "| 5 | 5 | US-2015-108966 | 2015/10/11 | 2015/10/18 | Standard Class | SO-20335 | Sean O'Donnell  | Consumer  | United States | Fort Lauderdale | ... | 33311 | South | OFF-ST-10000760 | Office Supplies | Storage     | Eldon Fold 'N Roll Cart System                                   |  22.3680 | 2 | 0.20 |    2.5164 |\n",
       "| 6 | 6 | CA-2014-115812 | 2014/06/09 | 2014/06/14 | Standard Class | BH-11710 | Brosina Hoffman | Consumer  | United States | Los Angeles     | ... | 90032 | West  | FUR-FU-10001487 | Furniture       | Furnishings | Eldon Expressions Wood and Plastic Desk Accessories, Cherry Wood |  48.8600 | 7 | 0.00 |   14.1694 |\n",
       "\n"
      ],
      "text/plain": [
       "  ï..Row.ID Order.ID       Order.Date Ship.Date  Ship.Mode      Customer.ID\n",
       "1 1         CA-2016-152156 2016/11/08 2016/11/11 Second Class   CG-12520   \n",
       "2 2         CA-2016-152156 2016/11/08 2016/11/11 Second Class   CG-12520   \n",
       "3 3         CA-2016-138688 2016/06/12 2016/06/16 Second Class   DV-13045   \n",
       "4 4         US-2015-108966 2015/10/11 2015/10/18 Standard Class SO-20335   \n",
       "5 5         US-2015-108966 2015/10/11 2015/10/18 Standard Class SO-20335   \n",
       "6 6         CA-2014-115812 2014/06/09 2014/06/14 Standard Class BH-11710   \n",
       "  Customer.Name   Segment   Country       City            ... Postal.Code\n",
       "1 Claire Gute     Consumer  United States Henderson       ... 42420      \n",
       "2 Claire Gute     Consumer  United States Henderson       ... 42420      \n",
       "3 Darrin Van Huff Corporate United States Los Angeles     ... 90036      \n",
       "4 Sean O'Donnell  Consumer  United States Fort Lauderdale ... 33311      \n",
       "5 Sean O'Donnell  Consumer  United States Fort Lauderdale ... 33311      \n",
       "6 Brosina Hoffman Consumer  United States Los Angeles     ... 90032      \n",
       "  Region Product.ID      Category        Sub.Category\n",
       "1 South  FUR-BO-10001798 Furniture       Bookcases   \n",
       "2 South  FUR-CH-10000454 Furniture       Chairs      \n",
       "3 West   OFF-LA-10000240 Office Supplies Labels      \n",
       "4 South  FUR-TA-10000577 Furniture       Tables      \n",
       "5 South  OFF-ST-10000760 Office Supplies Storage     \n",
       "6 West   FUR-FU-10001487 Furniture       Furnishings \n",
       "  Product.Name                                                     Sales   \n",
       "1 Bush Somerset Collection Bookcase                                261.9600\n",
       "2 Hon Deluxe Fabric Upholstered Stacking Chairs, Rounded Back      731.9400\n",
       "3 Self-Adhesive Address Labels for Typewriters by Universal         14.6200\n",
       "4 Bretford CR4500 Series Slim Rectangular Table                    957.5775\n",
       "5 Eldon Fold 'N Roll Cart System                                    22.3680\n",
       "6 Eldon Expressions Wood and Plastic Desk Accessories, Cherry Wood  48.8600\n",
       "  Quantity Discount Profit   \n",
       "1 2        0.00       41.9136\n",
       "2 3        0.00      219.5820\n",
       "3 2        0.00        6.8714\n",
       "4 5        0.45     -383.0310\n",
       "5 2        0.20        2.5164\n",
       "6 7        0.00       14.1694"
      ]
     },
     "metadata": {},
     "output_type": "display_data"
    }
   ],
   "source": [
    "# read dataset from csv file\n",
    "df <- read.csv(\"../data/Dataset- Superstore (2015-2018).csv\")\n",
    "head(df)"
   ]
  },
  {
   "cell_type": "code",
   "execution_count": 118,
   "metadata": {
    "vscode": {
     "languageId": "r"
    }
   },
   "outputs": [
    {
     "data": {
      "text/html": [
       "<style>\n",
       ".list-inline {list-style: none; margin:0; padding: 0}\n",
       ".list-inline>li {display: inline-block}\n",
       ".list-inline>li:not(:last-child)::after {content: \"\\00b7\"; padding: 0 .5ex}\n",
       "</style>\n",
       "<ol class=list-inline><li>9994</li><li>21</li></ol>\n"
      ],
      "text/latex": [
       "\\begin{enumerate*}\n",
       "\\item 9994\n",
       "\\item 21\n",
       "\\end{enumerate*}\n"
      ],
      "text/markdown": [
       "1. 9994\n",
       "2. 21\n",
       "\n",
       "\n"
      ],
      "text/plain": [
       "[1] 9994   21"
      ]
     },
     "metadata": {},
     "output_type": "display_data"
    }
   ],
   "source": [
    "# finding the number of rows and columns\n",
    "dim(df)"
   ]
  },
  {
   "cell_type": "code",
   "execution_count": 119,
   "metadata": {
    "vscode": {
     "languageId": "r"
    }
   },
   "outputs": [
    {
     "name": "stdout",
     "output_type": "stream",
     "text": [
      "'data.frame':\t9994 obs. of  21 variables:\n",
      " $ ï..Row.ID    : int  1 2 3 4 5 6 7 8 9 10 ...\n",
      " $ Order.ID     : chr  \"CA-2016-152156\" \"CA-2016-152156\" \"CA-2016-138688\" \"US-2015-108966\" ...\n",
      " $ Order.Date   : chr  \"2016/11/08\" \"2016/11/08\" \"2016/06/12\" \"2015/10/11\" ...\n",
      " $ Ship.Date    : chr  \"2016/11/11\" \"2016/11/11\" \"2016/06/16\" \"2015/10/18\" ...\n",
      " $ Ship.Mode    : chr  \"Second Class\" \"Second Class\" \"Second Class\" \"Standard Class\" ...\n",
      " $ Customer.ID  : chr  \"CG-12520\" \"CG-12520\" \"DV-13045\" \"SO-20335\" ...\n",
      " $ Customer.Name: chr  \"Claire Gute\" \"Claire Gute\" \"Darrin Van Huff\" \"Sean O'Donnell\" ...\n",
      " $ Segment      : chr  \"Consumer\" \"Consumer\" \"Corporate\" \"Consumer\" ...\n",
      " $ Country      : chr  \"United States\" \"United States\" \"United States\" \"United States\" ...\n",
      " $ City         : chr  \"Henderson\" \"Henderson\" \"Los Angeles\" \"Fort Lauderdale\" ...\n",
      " $ State        : chr  \"Kentucky\" \"Kentucky\" \"California\" \"Florida\" ...\n",
      " $ Postal.Code  : int  42420 42420 90036 33311 33311 90032 90032 90032 90032 90032 ...\n",
      " $ Region       : chr  \"South\" \"South\" \"West\" \"South\" ...\n",
      " $ Product.ID   : chr  \"FUR-BO-10001798\" \"FUR-CH-10000454\" \"OFF-LA-10000240\" \"FUR-TA-10000577\" ...\n",
      " $ Category     : chr  \"Furniture\" \"Furniture\" \"Office Supplies\" \"Furniture\" ...\n",
      " $ Sub.Category : chr  \"Bookcases\" \"Chairs\" \"Labels\" \"Tables\" ...\n",
      " $ Product.Name : chr  \"Bush Somerset Collection Bookcase\" \"Hon Deluxe Fabric Upholstered Stacking Chairs, Rounded Back\" \"Self-Adhesive Address Labels for Typewriters by Universal\" \"Bretford CR4500 Series Slim Rectangular Table\" ...\n",
      " $ Sales        : num  262 731.9 14.6 957.6 22.4 ...\n",
      " $ Quantity     : int  2 3 2 5 2 7 4 6 3 5 ...\n",
      " $ Discount     : num  0 0 0 0.45 0.2 0 0 0.2 0.2 0 ...\n",
      " $ Profit       : num  41.91 219.58 6.87 -383.03 2.52 ...\n"
     ]
    }
   ],
   "source": [
    "# dataset information\n",
    "str(df)"
   ]
  },
  {
   "cell_type": "code",
   "execution_count": 120,
   "metadata": {
    "vscode": {
     "languageId": "r"
    }
   },
   "outputs": [
    {
     "data": {
      "text/plain": [
       "   ï..Row.ID      Order.ID          Order.Date         Ship.Date        \n",
       " Min.   :   1   Length:9994        Length:9994        Length:9994       \n",
       " 1st Qu.:2499   Class :character   Class :character   Class :character  \n",
       " Median :4998   Mode  :character   Mode  :character   Mode  :character  \n",
       " Mean   :4998                                                           \n",
       " 3rd Qu.:7496                                                           \n",
       " Max.   :9994                                                           \n",
       "  Ship.Mode         Customer.ID        Customer.Name        Segment         \n",
       " Length:9994        Length:9994        Length:9994        Length:9994       \n",
       " Class :character   Class :character   Class :character   Class :character  \n",
       " Mode  :character   Mode  :character   Mode  :character   Mode  :character  \n",
       "                                                                            \n",
       "                                                                            \n",
       "                                                                            \n",
       "   Country              City              State            Postal.Code   \n",
       " Length:9994        Length:9994        Length:9994        Min.   : 1040  \n",
       " Class :character   Class :character   Class :character   1st Qu.:23223  \n",
       " Mode  :character   Mode  :character   Mode  :character   Median :56431  \n",
       "                                                          Mean   :55190  \n",
       "                                                          3rd Qu.:90008  \n",
       "                                                          Max.   :99301  \n",
       "    Region           Product.ID          Category         Sub.Category      \n",
       " Length:9994        Length:9994        Length:9994        Length:9994       \n",
       " Class :character   Class :character   Class :character   Class :character  \n",
       " Mode  :character   Mode  :character   Mode  :character   Mode  :character  \n",
       "                                                                            \n",
       "                                                                            \n",
       "                                                                            \n",
       " Product.Name           Sales              Quantity        Discount     \n",
       " Length:9994        Min.   :    0.444   Min.   : 1.00   Min.   :0.0000  \n",
       " Class :character   1st Qu.:   17.280   1st Qu.: 2.00   1st Qu.:0.0000  \n",
       " Mode  :character   Median :   54.490   Median : 3.00   Median :0.2000  \n",
       "                    Mean   :  229.858   Mean   : 3.79   Mean   :0.1562  \n",
       "                    3rd Qu.:  209.940   3rd Qu.: 5.00   3rd Qu.:0.2000  \n",
       "                    Max.   :22638.480   Max.   :14.00   Max.   :0.8000  \n",
       "     Profit         \n",
       " Min.   :-6599.978  \n",
       " 1st Qu.:    1.729  \n",
       " Median :    8.666  \n",
       " Mean   :   28.657  \n",
       " 3rd Qu.:   29.364  \n",
       " Max.   : 8399.976  "
      ]
     },
     "metadata": {},
     "output_type": "display_data"
    }
   ],
   "source": [
    "# dataset summary\n",
    "summary(df)"
   ]
  },
  {
   "cell_type": "code",
   "execution_count": 121,
   "metadata": {
    "vscode": {
     "languageId": "r"
    }
   },
   "outputs": [
    {
     "data": {
      "text/plain": [
       "\n",
       "character   integer   numeric \n",
       "       15         3         3 "
      ]
     },
     "metadata": {},
     "output_type": "display_data"
    }
   ],
   "source": [
    "# occurences of each datatype\n",
    "table(sapply(df, class))"
   ]
  },
  {
   "cell_type": "code",
   "execution_count": 122,
   "metadata": {
    "vscode": {
     "languageId": "r"
    }
   },
   "outputs": [
    {
     "data": {
      "text/html": [
       "<style>\n",
       ".dl-inline {width: auto; margin:0; padding: 0}\n",
       ".dl-inline>dt, .dl-inline>dd {float: none; width: auto; display: inline-block}\n",
       ".dl-inline>dt::after {content: \":\\0020\"; padding-right: .5ex}\n",
       ".dl-inline>dt:not(:first-of-type) {padding-left: .5ex}\n",
       "</style><dl class=dl-inline><dt>ï..Row.ID</dt><dd>9994</dd><dt>Order.ID</dt><dd>5009</dd><dt>Order.Date</dt><dd>1237</dd><dt>Ship.Date</dt><dd>1334</dd><dt>Ship.Mode</dt><dd>4</dd><dt>Customer.ID</dt><dd>793</dd><dt>Customer.Name</dt><dd>793</dd><dt>Segment</dt><dd>3</dd><dt>Country</dt><dd>1</dd><dt>City</dt><dd>531</dd><dt>State</dt><dd>49</dd><dt>Postal.Code</dt><dd>631</dd><dt>Region</dt><dd>4</dd><dt>Product.ID</dt><dd>1862</dd><dt>Category</dt><dd>3</dd><dt>Sub.Category</dt><dd>17</dd><dt>Product.Name</dt><dd>1850</dd><dt>Sales</dt><dd>5825</dd><dt>Quantity</dt><dd>14</dd><dt>Discount</dt><dd>12</dd><dt>Profit</dt><dd>7287</dd></dl>\n"
      ],
      "text/latex": [
       "\\begin{description*}\n",
       "\\item[ï..Row.ID] 9994\n",
       "\\item[Order.ID] 5009\n",
       "\\item[Order.Date] 1237\n",
       "\\item[Ship.Date] 1334\n",
       "\\item[Ship.Mode] 4\n",
       "\\item[Customer.ID] 793\n",
       "\\item[Customer.Name] 793\n",
       "\\item[Segment] 3\n",
       "\\item[Country] 1\n",
       "\\item[City] 531\n",
       "\\item[State] 49\n",
       "\\item[Postal.Code] 631\n",
       "\\item[Region] 4\n",
       "\\item[Product.ID] 1862\n",
       "\\item[Category] 3\n",
       "\\item[Sub.Category] 17\n",
       "\\item[Product.Name] 1850\n",
       "\\item[Sales] 5825\n",
       "\\item[Quantity] 14\n",
       "\\item[Discount] 12\n",
       "\\item[Profit] 7287\n",
       "\\end{description*}\n"
      ],
      "text/markdown": [
       "ï..Row.ID\n",
       ":   9994Order.ID\n",
       ":   5009Order.Date\n",
       ":   1237Ship.Date\n",
       ":   1334Ship.Mode\n",
       ":   4Customer.ID\n",
       ":   793Customer.Name\n",
       ":   793Segment\n",
       ":   3Country\n",
       ":   1City\n",
       ":   531State\n",
       ":   49Postal.Code\n",
       ":   631Region\n",
       ":   4Product.ID\n",
       ":   1862Category\n",
       ":   3Sub.Category\n",
       ":   17Product.Name\n",
       ":   1850Sales\n",
       ":   5825Quantity\n",
       ":   14Discount\n",
       ":   12Profit\n",
       ":   7287\n",
       "\n"
      ],
      "text/plain": [
       "    ï..Row.ID      Order.ID    Order.Date     Ship.Date     Ship.Mode \n",
       "         9994          5009          1237          1334             4 \n",
       "  Customer.ID Customer.Name       Segment       Country          City \n",
       "          793           793             3             1           531 \n",
       "        State   Postal.Code        Region    Product.ID      Category \n",
       "           49           631             4          1862             3 \n",
       " Sub.Category  Product.Name         Sales      Quantity      Discount \n",
       "           17          1850          5825            14            12 \n",
       "       Profit \n",
       "         7287 "
      ]
     },
     "metadata": {},
     "output_type": "display_data"
    }
   ],
   "source": [
    "# finding the number of unique values in each column\n",
    "sapply(df, function(x) length(unique(x)))"
   ]
  },
  {
   "cell_type": "code",
   "execution_count": 123,
   "metadata": {
    "vscode": {
     "languageId": "r"
    }
   },
   "outputs": [
    {
     "data": {
      "text/html": [
       "<style>\n",
       ".dl-inline {width: auto; margin:0; padding: 0}\n",
       ".dl-inline>dt, .dl-inline>dd {float: none; width: auto; display: inline-block}\n",
       ".dl-inline>dt::after {content: \":\\0020\"; padding-right: .5ex}\n",
       ".dl-inline>dt:not(:first-of-type) {padding-left: .5ex}\n",
       "</style><dl class=dl-inline><dt>ï..Row.ID</dt><dd>0</dd><dt>Order.ID</dt><dd>0</dd><dt>Order.Date</dt><dd>0</dd><dt>Ship.Date</dt><dd>0</dd><dt>Ship.Mode</dt><dd>0</dd><dt>Customer.ID</dt><dd>0</dd><dt>Customer.Name</dt><dd>0</dd><dt>Segment</dt><dd>0</dd><dt>Country</dt><dd>0</dd><dt>City</dt><dd>0</dd><dt>State</dt><dd>0</dd><dt>Postal.Code</dt><dd>0</dd><dt>Region</dt><dd>0</dd><dt>Product.ID</dt><dd>0</dd><dt>Category</dt><dd>0</dd><dt>Sub.Category</dt><dd>0</dd><dt>Product.Name</dt><dd>0</dd><dt>Sales</dt><dd>0</dd><dt>Quantity</dt><dd>0</dd><dt>Discount</dt><dd>0</dd><dt>Profit</dt><dd>0</dd></dl>\n"
      ],
      "text/latex": [
       "\\begin{description*}\n",
       "\\item[ï..Row.ID] 0\n",
       "\\item[Order.ID] 0\n",
       "\\item[Order.Date] 0\n",
       "\\item[Ship.Date] 0\n",
       "\\item[Ship.Mode] 0\n",
       "\\item[Customer.ID] 0\n",
       "\\item[Customer.Name] 0\n",
       "\\item[Segment] 0\n",
       "\\item[Country] 0\n",
       "\\item[City] 0\n",
       "\\item[State] 0\n",
       "\\item[Postal.Code] 0\n",
       "\\item[Region] 0\n",
       "\\item[Product.ID] 0\n",
       "\\item[Category] 0\n",
       "\\item[Sub.Category] 0\n",
       "\\item[Product.Name] 0\n",
       "\\item[Sales] 0\n",
       "\\item[Quantity] 0\n",
       "\\item[Discount] 0\n",
       "\\item[Profit] 0\n",
       "\\end{description*}\n"
      ],
      "text/markdown": [
       "ï..Row.ID\n",
       ":   0Order.ID\n",
       ":   0Order.Date\n",
       ":   0Ship.Date\n",
       ":   0Ship.Mode\n",
       ":   0Customer.ID\n",
       ":   0Customer.Name\n",
       ":   0Segment\n",
       ":   0Country\n",
       ":   0City\n",
       ":   0State\n",
       ":   0Postal.Code\n",
       ":   0Region\n",
       ":   0Product.ID\n",
       ":   0Category\n",
       ":   0Sub.Category\n",
       ":   0Product.Name\n",
       ":   0Sales\n",
       ":   0Quantity\n",
       ":   0Discount\n",
       ":   0Profit\n",
       ":   0\n",
       "\n"
      ],
      "text/plain": [
       "    ï..Row.ID      Order.ID    Order.Date     Ship.Date     Ship.Mode \n",
       "            0             0             0             0             0 \n",
       "  Customer.ID Customer.Name       Segment       Country          City \n",
       "            0             0             0             0             0 \n",
       "        State   Postal.Code        Region    Product.ID      Category \n",
       "            0             0             0             0             0 \n",
       " Sub.Category  Product.Name         Sales      Quantity      Discount \n",
       "            0             0             0             0             0 \n",
       "       Profit \n",
       "            0 "
      ]
     },
     "metadata": {},
     "output_type": "display_data"
    }
   ],
   "source": [
    "# finding the number of missing values in each column\n",
    "sapply(df, function(x) sum(is.na(x)))"
   ]
  },
  {
   "cell_type": "code",
   "execution_count": 124,
   "metadata": {
    "vscode": {
     "languageId": "r"
    }
   },
   "outputs": [
    {
     "name": "stdout",
     "output_type": "stream",
     "text": [
      "Total of missing values: 0"
     ]
    }
   ],
   "source": [
    " cat(\"Total of missing values:\", sum(is.na(df)))"
   ]
  },
  {
   "cell_type": "code",
   "execution_count": 125,
   "metadata": {
    "vscode": {
     "languageId": "r"
    }
   },
   "outputs": [
    {
     "data": {
      "image/png": "[encoded data removed]",
      "text/plain": [
       "Plot with title \"Boxplot de Vendas\""
      ]
     },
     "metadata": {
      "image/png": {
       "height": 420,
       "width": 420
      }
     },
     "output_type": "display_data"
    }
   ],
   "source": [
    "# procurando por outliers em Sales\n",
    "boxplot(df$Sales, main=\"Boxplot de Vendas\", ylab=\"Vendas\")"
   ]
  },
  {
   "cell_type": "code",
   "execution_count": 126,
   "metadata": {
    "vscode": {
     "languageId": "r"
    }
   },
   "outputs": [
    {
     "name": "stdout",
     "output_type": "stream",
     "text": [
      "[1] \"Linhas duplicadas encontradas:\"\n",
      "\u001b[90m# A tibble: 2,471 x 3\u001b[39m\n",
      "\u001b[90m# Groups:   Order.ID [2,471]\u001b[39m\n",
      "   Order.ID       Order.Date     n\n",
      "   \u001b[3m\u001b[90m<chr>\u001b[39m\u001b[23m          \u001b[3m\u001b[90m<date>\u001b[39m\u001b[23m     \u001b[3m\u001b[90m<int>\u001b[39m\u001b[23m\n",
      "\u001b[90m 1\u001b[39m CA-2014-100090 2014-07-08     2\n",
      "\u001b[90m 2\u001b[39m CA-2014-100363 2014-04-08     2\n",
      "\u001b[90m 3\u001b[39m CA-2014-100678 2014-04-18     4\n",
      "\u001b[90m 4\u001b[39m CA-2014-100706 2014-12-16     2\n",
      "\u001b[90m 5\u001b[39m CA-2014-100762 2014-11-24     4\n",
      "\u001b[90m 6\u001b[39m CA-2014-100895 2014-06-02     3\n",
      "\u001b[90m 7\u001b[39m CA-2014-100916 2014-10-21     3\n",
      "\u001b[90m 8\u001b[39m CA-2014-101560 2014-11-28     4\n",
      "\u001b[90m 9\u001b[39m CA-2014-101602 2014-12-15     2\n",
      "\u001b[90m10\u001b[39m CA-2014-101931 2014-10-28     5\n",
      "\u001b[90m# i 2,461 more rows\u001b[39m\n",
      "[1] \"Linhas duplicadas removidas.\"\n"
     ]
    }
   ],
   "source": [
    "# Transformar a coluna \"Order.Date\" e Ship.Date em objeto de data\n",
    "df$Order.Date <- as_date(df$Order.Date)\n",
    "df$Ship.Date <- as_date(df$Ship.Date)\n",
    "\n",
    "\n",
    "\n",
    "# Verificar e remover linhas duplicadas\n",
    "dupes <- df %>%\n",
    "  group_by(Order.ID, Order.Date) %>%\n",
    "  \n",
    "  # Contar o número de linhas duplicadas da combinacão de Order.ID e Order.Date\n",
    "  tally() %>%\n",
    "  \n",
    "  # Filtrar apenas as linhas duplicadas - ocorrências maiores que 1\n",
    "  filter(n > 1)\n",
    "\n",
    "# Se houver linhas duplicadas, remover as linhas duplicadas\n",
    "if (nrow(dupes) > 0) {\n",
    "  print(\"Linhas duplicadas encontradas:\")\n",
    "  print(dupes)\n",
    "  df <- df %>%\n",
    "    # Remover linhas duplicadas - distinct mantém a primeira ocorrência\n",
    "    distinct(Order.ID, Order.Date, .keep_all = TRUE)\n",
    "  print(\"Linhas duplicadas removidas.\")\n",
    "}\n",
    "\n",
    "# Transformar o data.frame em um objeto tsibble\n",
    "tsib <- as_tsibble(df, key = Order.ID, index = Order.Date)\n"
   ]
  },
  {
   "cell_type": "code",
   "execution_count": 127,
   "metadata": {
    "vscode": {
     "languageId": "r"
    }
   },
   "outputs": [
    {
     "data": {
      "text/html": [
       "<table class=\"dataframe\">\n",
       "<caption>A tbl_ts: 6 × 21</caption>\n",
       "<thead>\n",
       "\t<tr><th scope=col>ï..Row.ID</th><th scope=col>Order.ID</th><th scope=col>Order.Date</th><th scope=col>Ship.Date</th><th scope=col>Ship.Mode</th><th scope=col>Customer.ID</th><th scope=col>Customer.Name</th><th scope=col>Segment</th><th scope=col>Country</th><th scope=col>City</th><th scope=col>...</th><th scope=col>Postal.Code</th><th scope=col>Region</th><th scope=col>Product.ID</th><th scope=col>Category</th><th scope=col>Sub.Category</th><th scope=col>Product.Name</th><th scope=col>Sales</th><th scope=col>Quantity</th><th scope=col>Discount</th><th scope=col>Profit</th></tr>\n",
       "\t<tr><th scope=col>&lt;int&gt;</th><th scope=col>&lt;chr&gt;</th><th scope=col>&lt;date&gt;</th><th scope=col>&lt;date&gt;</th><th scope=col>&lt;chr&gt;</th><th scope=col>&lt;chr&gt;</th><th scope=col>&lt;chr&gt;</th><th scope=col>&lt;chr&gt;</th><th scope=col>&lt;chr&gt;</th><th scope=col>&lt;chr&gt;</th><th scope=col>...</th><th scope=col>&lt;int&gt;</th><th scope=col>&lt;chr&gt;</th><th scope=col>&lt;chr&gt;</th><th scope=col>&lt;chr&gt;</th><th scope=col>&lt;chr&gt;</th><th scope=col>&lt;chr&gt;</th><th scope=col>&lt;dbl&gt;</th><th scope=col>&lt;int&gt;</th><th scope=col>&lt;dbl&gt;</th><th scope=col>&lt;dbl&gt;</th></tr>\n",
       "</thead>\n",
       "<tbody>\n",
       "\t<tr><td>2718</td><td>CA-2014-100006</td><td>2014-09-07</td><td>2014-09-13</td><td>Standard Class</td><td>DK-13375</td><td><span style=white-space:pre-wrap>Dennis Kane      </span></td><td><span style=white-space:pre-wrap>Consumer   </span></td><td>United States</td><td>New York City</td><td>...</td><td>10024</td><td>East </td><td>TEC-PH-10002075</td><td><span style=white-space:pre-wrap>Technology     </span></td><td><span style=white-space:pre-wrap>Phones   </span></td><td><span style=white-space:pre-wrap>AT&amp;T EL51110 DECT                                             </span></td><td>377.970</td><td>3</td><td>0.0</td><td>109.6113</td></tr>\n",
       "\t<tr><td>6288</td><td>CA-2014-100090</td><td>2014-07-08</td><td>2014-07-12</td><td>Standard Class</td><td>EB-13705</td><td>Ed Braxton       </td><td>Corporate  </td><td>United States</td><td>San Francisco</td><td>...</td><td>94122</td><td>West </td><td>FUR-TA-10003715</td><td>Furniture      </td><td>Tables   </td><td>Hon 2111 Invitation Series Corner Table                       </td><td>502.488</td><td>3</td><td>0.2</td><td>-87.9354</td></tr>\n",
       "\t<tr><td>9515</td><td>CA-2014-100293</td><td>2014-03-14</td><td>2014-03-18</td><td>Standard Class</td><td>NF-18475</td><td>Neil FranzÃ¶sisch</td><td>Home Office</td><td>United States</td><td>Jacksonville </td><td>...</td><td>32216</td><td>South</td><td>OFF-PA-10000176</td><td>Office Supplies</td><td>Paper    </td><td>Xerox 1887                                                    </td><td> 91.056</td><td>6</td><td>0.2</td><td> 31.8696</td></tr>\n",
       "\t<tr><td>3084</td><td>CA-2014-100328</td><td>2014-01-28</td><td>2014-02-03</td><td>Standard Class</td><td>JC-15340</td><td>Jasper Cacioppo  </td><td>Consumer   </td><td>United States</td><td>New York City</td><td>...</td><td>10024</td><td>East </td><td>OFF-BI-10000343</td><td>Office Supplies</td><td>Binders  </td><td>Pressboard Covers with Storage Hooks, 9 1/2\" x 11\", Light Blue</td><td>  3.928</td><td>1</td><td>0.2</td><td>  1.3257</td></tr>\n",
       "\t<tr><td>3836</td><td>CA-2014-100363</td><td>2014-04-08</td><td>2014-04-15</td><td>Standard Class</td><td>JM-15655</td><td>Jim Mitchum      </td><td>Corporate  </td><td>United States</td><td>Glendale     </td><td>...</td><td>85301</td><td>West </td><td>OFF-FA-10000611</td><td>Office Supplies</td><td>Fasteners</td><td>Binder Clips by OIC                                           </td><td>  2.368</td><td>2</td><td>0.2</td><td>  0.8288</td></tr>\n",
       "\t<tr><td>9441</td><td>CA-2014-100391</td><td>2014-05-25</td><td>2014-05-29</td><td>Standard Class</td><td>BW-11065</td><td>Barry Weirich    </td><td>Consumer   </td><td>United States</td><td>New York City</td><td>...</td><td>10035</td><td>East </td><td>OFF-PA-10001471</td><td>Office Supplies</td><td>Paper    </td><td>Strathmore Photo Frame Cards                                  </td><td> 14.620</td><td>2</td><td>0.0</td><td>  6.7252</td></tr>\n",
       "</tbody>\n",
       "</table>\n"
      ],
      "text/latex": [
       "A tbl\\_ts: 6 × 21\n",
       "\\begin{tabular}{lllllllllllllllllllll}\n",
       " ï..Row.ID & Order.ID & Order.Date & Ship.Date & Ship.Mode & Customer.ID & Customer.Name & Segment & Country & City & ... & Postal.Code & Region & Product.ID & Category & Sub.Category & Product.Name & Sales & Quantity & Discount & Profit\\\\\n",
       " <int> & <chr> & <date> & <date> & <chr> & <chr> & <chr> & <chr> & <chr> & <chr> & ... & <int> & <chr> & <chr> & <chr> & <chr> & <chr> & <dbl> & <int> & <dbl> & <dbl>\\\\\n",
       "\\hline\n",
       "\t 2718 & CA-2014-100006 & 2014-09-07 & 2014-09-13 & Standard Class & DK-13375 & Dennis Kane       & Consumer    & United States & New York City & ... & 10024 & East  & TEC-PH-10002075 & Technology      & Phones    & AT\\&T EL51110 DECT                                              & 377.970 & 3 & 0.0 & 109.6113\\\\\n",
       "\t 6288 & CA-2014-100090 & 2014-07-08 & 2014-07-12 & Standard Class & EB-13705 & Ed Braxton        & Corporate   & United States & San Francisco & ... & 94122 & West  & FUR-TA-10003715 & Furniture       & Tables    & Hon 2111 Invitation Series Corner Table                        & 502.488 & 3 & 0.2 & -87.9354\\\\\n",
       "\t 9515 & CA-2014-100293 & 2014-03-14 & 2014-03-18 & Standard Class & NF-18475 & Neil FranzÃ¶sisch & Home Office & United States & Jacksonville  & ... & 32216 & South & OFF-PA-10000176 & Office Supplies & Paper     & Xerox 1887                                                     &  91.056 & 6 & 0.2 &  31.8696\\\\\n",
       "\t 3084 & CA-2014-100328 & 2014-01-28 & 2014-02-03 & Standard Class & JC-15340 & Jasper Cacioppo   & Consumer    & United States & New York City & ... & 10024 & East  & OFF-BI-10000343 & Office Supplies & Binders   & Pressboard Covers with Storage Hooks, 9 1/2\" x 11\", Light Blue &   3.928 & 1 & 0.2 &   1.3257\\\\\n",
       "\t 3836 & CA-2014-100363 & 2014-04-08 & 2014-04-15 & Standard Class & JM-15655 & Jim Mitchum       & Corporate   & United States & Glendale      & ... & 85301 & West  & OFF-FA-10000611 & Office Supplies & Fasteners & Binder Clips by OIC                                            &   2.368 & 2 & 0.2 &   0.8288\\\\\n",
       "\t 9441 & CA-2014-100391 & 2014-05-25 & 2014-05-29 & Standard Class & BW-11065 & Barry Weirich     & Consumer    & United States & New York City & ... & 10035 & East  & OFF-PA-10001471 & Office Supplies & Paper     & Strathmore Photo Frame Cards                                   &  14.620 & 2 & 0.0 &   6.7252\\\\\n",
       "\\end{tabular}\n"
      ],
      "text/markdown": [
       "\n",
       "A tbl_ts: 6 × 21\n",
       "\n",
       "| ï..Row.ID &lt;int&gt; | Order.ID &lt;chr&gt; | Order.Date &lt;date&gt; | Ship.Date &lt;date&gt; | Ship.Mode &lt;chr&gt; | Customer.ID &lt;chr&gt; | Customer.Name &lt;chr&gt; | Segment &lt;chr&gt; | Country &lt;chr&gt; | City &lt;chr&gt; | ... ... | Postal.Code &lt;int&gt; | Region &lt;chr&gt; | Product.ID &lt;chr&gt; | Category &lt;chr&gt; | Sub.Category &lt;chr&gt; | Product.Name &lt;chr&gt; | Sales &lt;dbl&gt; | Quantity &lt;int&gt; | Discount &lt;dbl&gt; | Profit &lt;dbl&gt; |\n",
       "|---|---|---|---|---|---|---|---|---|---|---|---|---|---|---|---|---|---|---|---|---|\n",
       "| 2718 | CA-2014-100006 | 2014-09-07 | 2014-09-13 | Standard Class | DK-13375 | Dennis Kane       | Consumer    | United States | New York City | ... | 10024 | East  | TEC-PH-10002075 | Technology      | Phones    | AT&amp;T EL51110 DECT                                              | 377.970 | 3 | 0.0 | 109.6113 |\n",
       "| 6288 | CA-2014-100090 | 2014-07-08 | 2014-07-12 | Standard Class | EB-13705 | Ed Braxton        | Corporate   | United States | San Francisco | ... | 94122 | West  | FUR-TA-10003715 | Furniture       | Tables    | Hon 2111 Invitation Series Corner Table                        | 502.488 | 3 | 0.2 | -87.9354 |\n",
       "| 9515 | CA-2014-100293 | 2014-03-14 | 2014-03-18 | Standard Class | NF-18475 | Neil FranzÃ¶sisch | Home Office | United States | Jacksonville  | ... | 32216 | South | OFF-PA-10000176 | Office Supplies | Paper     | Xerox 1887                                                     |  91.056 | 6 | 0.2 |  31.8696 |\n",
       "| 3084 | CA-2014-100328 | 2014-01-28 | 2014-02-03 | Standard Class | JC-15340 | Jasper Cacioppo   | Consumer    | United States | New York City | ... | 10024 | East  | OFF-BI-10000343 | Office Supplies | Binders   | Pressboard Covers with Storage Hooks, 9 1/2\" x 11\", Light Blue |   3.928 | 1 | 0.2 |   1.3257 |\n",
       "| 3836 | CA-2014-100363 | 2014-04-08 | 2014-04-15 | Standard Class | JM-15655 | Jim Mitchum       | Corporate   | United States | Glendale      | ... | 85301 | West  | OFF-FA-10000611 | Office Supplies | Fasteners | Binder Clips by OIC                                            |   2.368 | 2 | 0.2 |   0.8288 |\n",
       "| 9441 | CA-2014-100391 | 2014-05-25 | 2014-05-29 | Standard Class | BW-11065 | Barry Weirich     | Consumer    | United States | New York City | ... | 10035 | East  | OFF-PA-10001471 | Office Supplies | Paper     | Strathmore Photo Frame Cards                                   |  14.620 | 2 | 0.0 |   6.7252 |\n",
       "\n"
      ],
      "text/plain": [
       "  ï..Row.ID Order.ID       Order.Date Ship.Date  Ship.Mode      Customer.ID\n",
       "1 2718      CA-2014-100006 2014-09-07 2014-09-13 Standard Class DK-13375   \n",
       "2 6288      CA-2014-100090 2014-07-08 2014-07-12 Standard Class EB-13705   \n",
       "3 9515      CA-2014-100293 2014-03-14 2014-03-18 Standard Class NF-18475   \n",
       "4 3084      CA-2014-100328 2014-01-28 2014-02-03 Standard Class JC-15340   \n",
       "5 3836      CA-2014-100363 2014-04-08 2014-04-15 Standard Class JM-15655   \n",
       "6 9441      CA-2014-100391 2014-05-25 2014-05-29 Standard Class BW-11065   \n",
       "  Customer.Name     Segment     Country       City          ... Postal.Code\n",
       "1 Dennis Kane       Consumer    United States New York City ... 10024      \n",
       "2 Ed Braxton        Corporate   United States San Francisco ... 94122      \n",
       "3 Neil FranzÃ¶sisch Home Office United States Jacksonville  ... 32216      \n",
       "4 Jasper Cacioppo   Consumer    United States New York City ... 10024      \n",
       "5 Jim Mitchum       Corporate   United States Glendale      ... 85301      \n",
       "6 Barry Weirich     Consumer    United States New York City ... 10035      \n",
       "  Region Product.ID      Category        Sub.Category\n",
       "1 East   TEC-PH-10002075 Technology      Phones      \n",
       "2 West   FUR-TA-10003715 Furniture       Tables      \n",
       "3 South  OFF-PA-10000176 Office Supplies Paper       \n",
       "4 East   OFF-BI-10000343 Office Supplies Binders     \n",
       "5 West   OFF-FA-10000611 Office Supplies Fasteners   \n",
       "6 East   OFF-PA-10001471 Office Supplies Paper       \n",
       "  Product.Name                                                   Sales  \n",
       "1 AT&T EL51110 DECT                                              377.970\n",
       "2 Hon 2111 Invitation Series Corner Table                        502.488\n",
       "3 Xerox 1887                                                      91.056\n",
       "4 Pressboard Covers with Storage Hooks, 9 1/2\" x 11\", Light Blue   3.928\n",
       "5 Binder Clips by OIC                                              2.368\n",
       "6 Strathmore Photo Frame Cards                                    14.620\n",
       "  Quantity Discount Profit  \n",
       "1 3        0.0      109.6113\n",
       "2 3        0.2      -87.9354\n",
       "3 6        0.2       31.8696\n",
       "4 1        0.2        1.3257\n",
       "5 2        0.2        0.8288\n",
       "6 2        0.0        6.7252"
      ]
     },
     "metadata": {},
     "output_type": "display_data"
    }
   ],
   "source": [
    "head(tsib)"
   ]
  },
  {
   "cell_type": "code",
   "execution_count": 128,
   "metadata": {
    "vscode": {
     "languageId": "r"
    }
   },
   "outputs": [
    {
     "name": "stdout",
     "output_type": "stream",
     "text": [
      "\n",
      "Autocorrelations of series 'tsib$Sales', by lag\n",
      "\n",
      "     0      1      2      3      4      5      6      7      8      9     10 \n",
      " 1.000 -0.014  0.015 -0.016 -0.013  0.000  0.014  0.012 -0.001 -0.001 -0.012 \n",
      "    11     12     13     14     15     16     17     18     19     20     21 \n",
      "-0.012 -0.016 -0.002 -0.015 -0.012  0.016 -0.024  0.022 -0.005  0.021  0.009 \n",
      "    22     23     24     25     26     27     28     29     30     31     32 \n",
      " 0.005 -0.012 -0.027 -0.018  0.011 -0.011 -0.010 -0.007 -0.013 -0.018  0.011 \n",
      "    33     34     35     36 \n",
      "-0.003  0.006 -0.004  0.024 \n"
     ]
    },
    {
     "data": {
      "image/png": "[encoded data removed]",
      "text/plain": [
       "Plot with title \"Series  tsib$Sales\""
      ]
     },
     "metadata": {
      "image/png": {
       "height": 420,
       "width": 420
      }
     },
     "output_type": "display_data"
    }
   ],
   "source": [
    "# Plotar a função de autocorrelação\n",
    "print(acf(tsib$Sales))\n"
   ]
  },
  {
   "cell_type": "code",
   "execution_count": 129,
   "metadata": {
    "vscode": {
     "languageId": "r"
    }
   },
   "outputs": [
    {
     "data": {
      "text/html": [
       "<table class=\"dataframe\">\n",
       "<caption>A tbl_ts: 48 × 3</caption>\n",
       "<thead>\n",
       "\t<tr><th scope=col>year_month</th><th scope=col>Sales</th><th scope=col>Quantity</th></tr>\n",
       "\t<tr><th scope=col>&lt;dbl&gt;</th><th scope=col>&lt;dbl&gt;</th><th scope=col>&lt;int&gt;</th></tr>\n",
       "</thead>\n",
       "<tbody>\n",
       "\t<tr><td>201401</td><td> 6417.102</td><td> 114</td></tr>\n",
       "\t<tr><td>201402</td><td> 1860.736</td><td> 104</td></tr>\n",
       "\t<tr><td>201403</td><td>19023.950</td><td> 250</td></tr>\n",
       "\t<tr><td>201404</td><td>12415.656</td><td> 249</td></tr>\n",
       "\t<tr><td>201405</td><td>15939.349</td><td> 272</td></tr>\n",
       "\t<tr><td>201406</td><td>13837.698</td><td> 275</td></tr>\n",
       "\t<tr><td>201407</td><td>13562.944</td><td> 231</td></tr>\n",
       "\t<tr><td>201408</td><td>14667.032</td><td> 282</td></tr>\n",
       "\t<tr><td>201409</td><td>26681.761</td><td> 491</td></tr>\n",
       "\t<tr><td>201410</td><td>13501.259</td><td> 293</td></tr>\n",
       "\t<tr><td>201411</td><td>33182.735</td><td> 567</td></tr>\n",
       "\t<tr><td>201412</td><td>36905.774</td><td> 555</td></tr>\n",
       "\t<tr><td>201501</td><td>10876.268</td><td> 129</td></tr>\n",
       "\t<tr><td>201502</td><td> 7178.193</td><td> 140</td></tr>\n",
       "\t<tr><td>201503</td><td>16185.652</td><td> 276</td></tr>\n",
       "\t<tr><td>201504</td><td>13873.637</td><td> 240</td></tr>\n",
       "\t<tr><td>201505</td><td>14107.253</td><td> 292</td></tr>\n",
       "\t<tr><td>201506</td><td>13281.756</td><td> 236</td></tr>\n",
       "\t<tr><td>201507</td><td>11818.287</td><td> 229</td></tr>\n",
       "\t<tr><td>201508</td><td>18997.201</td><td> 267</td></tr>\n",
       "\t<tr><td>201509</td><td>27161.584</td><td> 539</td></tr>\n",
       "\t<tr><td>201510</td><td>16833.985</td><td> 323</td></tr>\n",
       "\t<tr><td>201511</td><td>39154.531</td><td> 661</td></tr>\n",
       "\t<tr><td>201512</td><td>32410.577</td><td> 597</td></tr>\n",
       "\t<tr><td>201601</td><td>10871.001</td><td> 182</td></tr>\n",
       "\t<tr><td>201602</td><td>17602.606</td><td> 167</td></tr>\n",
       "\t<tr><td>201603</td><td>19516.761</td><td> 302</td></tr>\n",
       "\t<tr><td>201604</td><td>26868.998</td><td> 342</td></tr>\n",
       "\t<tr><td>201605</td><td>35449.818</td><td> 409</td></tr>\n",
       "\t<tr><td>201606</td><td>24496.227</td><td> 370</td></tr>\n",
       "\t<tr><td>201607</td><td>16087.580</td><td> 359</td></tr>\n",
       "\t<tr><td>201608</td><td>14750.264</td><td> 346</td></tr>\n",
       "\t<tr><td>201609</td><td>30724.170</td><td> 679</td></tr>\n",
       "\t<tr><td>201610</td><td>19639.751</td><td> 430</td></tr>\n",
       "\t<tr><td>201611</td><td>38113.410</td><td> 674</td></tr>\n",
       "\t<tr><td>201612</td><td>58606.279</td><td> 747</td></tr>\n",
       "\t<tr><td>201701</td><td>22749.976</td><td> 274</td></tr>\n",
       "\t<tr><td>201702</td><td> 9769.588</td><td> 180</td></tr>\n",
       "\t<tr><td>201703</td><td>20081.992</td><td> 449</td></tr>\n",
       "\t<tr><td>201704</td><td>17424.475</td><td> 430</td></tr>\n",
       "\t<tr><td>201705</td><td>20244.376</td><td> 468</td></tr>\n",
       "\t<tr><td>201706</td><td>32929.086</td><td> 521</td></tr>\n",
       "\t<tr><td>201707</td><td>18629.000</td><td> 388</td></tr>\n",
       "\t<tr><td>201708</td><td>32833.176</td><td> 425</td></tr>\n",
       "\t<tr><td>201709</td><td>36546.915</td><td> 841</td></tr>\n",
       "\t<tr><td>201710</td><td>38363.974</td><td> 551</td></tr>\n",
       "\t<tr><td>201711</td><td>62912.310</td><td>1080</td></tr>\n",
       "\t<tr><td>201712</td><td>44775.418</td><td> 818</td></tr>\n",
       "</tbody>\n",
       "</table>\n"
      ],
      "text/latex": [
       "A tbl\\_ts: 48 × 3\n",
       "\\begin{tabular}{lll}\n",
       " year\\_month & Sales & Quantity\\\\\n",
       " <dbl> & <dbl> & <int>\\\\\n",
       "\\hline\n",
       "\t 201401 &  6417.102 &  114\\\\\n",
       "\t 201402 &  1860.736 &  104\\\\\n",
       "\t 201403 & 19023.950 &  250\\\\\n",
       "\t 201404 & 12415.656 &  249\\\\\n",
       "\t 201405 & 15939.349 &  272\\\\\n",
       "\t 201406 & 13837.698 &  275\\\\\n",
       "\t 201407 & 13562.944 &  231\\\\\n",
       "\t 201408 & 14667.032 &  282\\\\\n",
       "\t 201409 & 26681.761 &  491\\\\\n",
       "\t 201410 & 13501.259 &  293\\\\\n",
       "\t 201411 & 33182.735 &  567\\\\\n",
       "\t 201412 & 36905.774 &  555\\\\\n",
       "\t 201501 & 10876.268 &  129\\\\\n",
       "\t 201502 &  7178.193 &  140\\\\\n",
       "\t 201503 & 16185.652 &  276\\\\\n",
       "\t 201504 & 13873.637 &  240\\\\\n",
       "\t 201505 & 14107.253 &  292\\\\\n",
       "\t 201506 & 13281.756 &  236\\\\\n",
       "\t 201507 & 11818.287 &  229\\\\\n",
       "\t 201508 & 18997.201 &  267\\\\\n",
       "\t 201509 & 27161.584 &  539\\\\\n",
       "\t 201510 & 16833.985 &  323\\\\\n",
       "\t 201511 & 39154.531 &  661\\\\\n",
       "\t 201512 & 32410.577 &  597\\\\\n",
       "\t 201601 & 10871.001 &  182\\\\\n",
       "\t 201602 & 17602.606 &  167\\\\\n",
       "\t 201603 & 19516.761 &  302\\\\\n",
       "\t 201604 & 26868.998 &  342\\\\\n",
       "\t 201605 & 35449.818 &  409\\\\\n",
       "\t 201606 & 24496.227 &  370\\\\\n",
       "\t 201607 & 16087.580 &  359\\\\\n",
       "\t 201608 & 14750.264 &  346\\\\\n",
       "\t 201609 & 30724.170 &  679\\\\\n",
       "\t 201610 & 19639.751 &  430\\\\\n",
       "\t 201611 & 38113.410 &  674\\\\\n",
       "\t 201612 & 58606.279 &  747\\\\\n",
       "\t 201701 & 22749.976 &  274\\\\\n",
       "\t 201702 &  9769.588 &  180\\\\\n",
       "\t 201703 & 20081.992 &  449\\\\\n",
       "\t 201704 & 17424.475 &  430\\\\\n",
       "\t 201705 & 20244.376 &  468\\\\\n",
       "\t 201706 & 32929.086 &  521\\\\\n",
       "\t 201707 & 18629.000 &  388\\\\\n",
       "\t 201708 & 32833.176 &  425\\\\\n",
       "\t 201709 & 36546.915 &  841\\\\\n",
       "\t 201710 & 38363.974 &  551\\\\\n",
       "\t 201711 & 62912.310 & 1080\\\\\n",
       "\t 201712 & 44775.418 &  818\\\\\n",
       "\\end{tabular}\n"
      ],
      "text/markdown": [
       "\n",
       "A tbl_ts: 48 × 3\n",
       "\n",
       "| year_month &lt;dbl&gt; | Sales &lt;dbl&gt; | Quantity &lt;int&gt; |\n",
       "|---|---|---|\n",
       "| 201401 |  6417.102 |  114 |\n",
       "| 201402 |  1860.736 |  104 |\n",
       "| 201403 | 19023.950 |  250 |\n",
       "| 201404 | 12415.656 |  249 |\n",
       "| 201405 | 15939.349 |  272 |\n",
       "| 201406 | 13837.698 |  275 |\n",
       "| 201407 | 13562.944 |  231 |\n",
       "| 201408 | 14667.032 |  282 |\n",
       "| 201409 | 26681.761 |  491 |\n",
       "| 201410 | 13501.259 |  293 |\n",
       "| 201411 | 33182.735 |  567 |\n",
       "| 201412 | 36905.774 |  555 |\n",
       "| 201501 | 10876.268 |  129 |\n",
       "| 201502 |  7178.193 |  140 |\n",
       "| 201503 | 16185.652 |  276 |\n",
       "| 201504 | 13873.637 |  240 |\n",
       "| 201505 | 14107.253 |  292 |\n",
       "| 201506 | 13281.756 |  236 |\n",
       "| 201507 | 11818.287 |  229 |\n",
       "| 201508 | 18997.201 |  267 |\n",
       "| 201509 | 27161.584 |  539 |\n",
       "| 201510 | 16833.985 |  323 |\n",
       "| 201511 | 39154.531 |  661 |\n",
       "| 201512 | 32410.577 |  597 |\n",
       "| 201601 | 10871.001 |  182 |\n",
       "| 201602 | 17602.606 |  167 |\n",
       "| 201603 | 19516.761 |  302 |\n",
       "| 201604 | 26868.998 |  342 |\n",
       "| 201605 | 35449.818 |  409 |\n",
       "| 201606 | 24496.227 |  370 |\n",
       "| 201607 | 16087.580 |  359 |\n",
       "| 201608 | 14750.264 |  346 |\n",
       "| 201609 | 30724.170 |  679 |\n",
       "| 201610 | 19639.751 |  430 |\n",
       "| 201611 | 38113.410 |  674 |\n",
       "| 201612 | 58606.279 |  747 |\n",
       "| 201701 | 22749.976 |  274 |\n",
       "| 201702 |  9769.588 |  180 |\n",
       "| 201703 | 20081.992 |  449 |\n",
       "| 201704 | 17424.475 |  430 |\n",
       "| 201705 | 20244.376 |  468 |\n",
       "| 201706 | 32929.086 |  521 |\n",
       "| 201707 | 18629.000 |  388 |\n",
       "| 201708 | 32833.176 |  425 |\n",
       "| 201709 | 36546.915 |  841 |\n",
       "| 201710 | 38363.974 |  551 |\n",
       "| 201711 | 62912.310 | 1080 |\n",
       "| 201712 | 44775.418 |  818 |\n",
       "\n"
      ],
      "text/plain": [
       "   year_month Sales     Quantity\n",
       "1  201401      6417.102  114    \n",
       "2  201402      1860.736  104    \n",
       "3  201403     19023.950  250    \n",
       "4  201404     12415.656  249    \n",
       "5  201405     15939.349  272    \n",
       "6  201406     13837.698  275    \n",
       "7  201407     13562.944  231    \n",
       "8  201408     14667.032  282    \n",
       "9  201409     26681.761  491    \n",
       "10 201410     13501.259  293    \n",
       "11 201411     33182.735  567    \n",
       "12 201412     36905.774  555    \n",
       "13 201501     10876.268  129    \n",
       "14 201502      7178.193  140    \n",
       "15 201503     16185.652  276    \n",
       "16 201504     13873.637  240    \n",
       "17 201505     14107.253  292    \n",
       "18 201506     13281.756  236    \n",
       "19 201507     11818.287  229    \n",
       "20 201508     18997.201  267    \n",
       "21 201509     27161.584  539    \n",
       "22 201510     16833.985  323    \n",
       "23 201511     39154.531  661    \n",
       "24 201512     32410.577  597    \n",
       "25 201601     10871.001  182    \n",
       "26 201602     17602.606  167    \n",
       "27 201603     19516.761  302    \n",
       "28 201604     26868.998  342    \n",
       "29 201605     35449.818  409    \n",
       "30 201606     24496.227  370    \n",
       "31 201607     16087.580  359    \n",
       "32 201608     14750.264  346    \n",
       "33 201609     30724.170  679    \n",
       "34 201610     19639.751  430    \n",
       "35 201611     38113.410  674    \n",
       "36 201612     58606.279  747    \n",
       "37 201701     22749.976  274    \n",
       "38 201702      9769.588  180    \n",
       "39 201703     20081.992  449    \n",
       "40 201704     17424.475  430    \n",
       "41 201705     20244.376  468    \n",
       "42 201706     32929.086  521    \n",
       "43 201707     18629.000  388    \n",
       "44 201708     32833.176  425    \n",
       "45 201709     36546.915  841    \n",
       "46 201710     38363.974  551    \n",
       "47 201711     62912.310 1080    \n",
       "48 201712     44775.418  818    "
      ]
     },
     "metadata": {},
     "output_type": "display_data"
    }
   ],
   "source": [
    "# Criar uma nova coluna com o ano e mês\n",
    "tsib <- tsib %>%\n",
    "\n",
    "  # multiplicando por 100 pra criar uma valor sequencial\n",
    "  mutate(year_month = year(Order.Date) * 100 + month(Order.Date))\n",
    "\n",
    "# Agregar os dados por mês\n",
    "tsib_monthly <- tsib %>%\n",
    "  index_by(year_month) %>%\n",
    "  summarise(Sales = sum(Sales), Quantity = sum(Quantity))\n",
    "\n",
    "tsib_monthly\n"
   ]
  },
  {
   "cell_type": "code",
   "execution_count": 130,
   "metadata": {
    "vscode": {
     "languageId": "r"
    }
   },
   "outputs": [
    {
     "data": {
      "text/html": [
       "<table class=\"dataframe\">\n",
       "<caption>A tbl_ts: 48 × 3</caption>\n",
       "<thead>\n",
       "\t<tr><th scope=col>year_month</th><th scope=col>Sales</th><th scope=col>Quantity</th></tr>\n",
       "\t<tr><th scope=col>&lt;dbl&gt;</th><th scope=col>&lt;dbl&gt;</th><th scope=col>&lt;int&gt;</th></tr>\n",
       "</thead>\n",
       "<tbody>\n",
       "\t<tr><td>201401</td><td> 6417.102</td><td> 114</td></tr>\n",
       "\t<tr><td>201402</td><td> 1860.736</td><td> 104</td></tr>\n",
       "\t<tr><td>201403</td><td>19023.950</td><td> 250</td></tr>\n",
       "\t<tr><td>201404</td><td>12415.656</td><td> 249</td></tr>\n",
       "\t<tr><td>201405</td><td>15939.349</td><td> 272</td></tr>\n",
       "\t<tr><td>201406</td><td>13837.698</td><td> 275</td></tr>\n",
       "\t<tr><td>201407</td><td>13562.944</td><td> 231</td></tr>\n",
       "\t<tr><td>201408</td><td>14667.032</td><td> 282</td></tr>\n",
       "\t<tr><td>201409</td><td>26681.761</td><td> 491</td></tr>\n",
       "\t<tr><td>201410</td><td>13501.259</td><td> 293</td></tr>\n",
       "\t<tr><td>201411</td><td>33182.735</td><td> 567</td></tr>\n",
       "\t<tr><td>201412</td><td>36905.774</td><td> 555</td></tr>\n",
       "\t<tr><td>201501</td><td>10876.268</td><td> 129</td></tr>\n",
       "\t<tr><td>201502</td><td> 7178.193</td><td> 140</td></tr>\n",
       "\t<tr><td>201503</td><td>16185.652</td><td> 276</td></tr>\n",
       "\t<tr><td>201504</td><td>13873.637</td><td> 240</td></tr>\n",
       "\t<tr><td>201505</td><td>14107.253</td><td> 292</td></tr>\n",
       "\t<tr><td>201506</td><td>13281.756</td><td> 236</td></tr>\n",
       "\t<tr><td>201507</td><td>11818.287</td><td> 229</td></tr>\n",
       "\t<tr><td>201508</td><td>18997.201</td><td> 267</td></tr>\n",
       "\t<tr><td>201509</td><td>27161.584</td><td> 539</td></tr>\n",
       "\t<tr><td>201510</td><td>16833.985</td><td> 323</td></tr>\n",
       "\t<tr><td>201511</td><td>39154.531</td><td> 661</td></tr>\n",
       "\t<tr><td>201512</td><td>32410.577</td><td> 597</td></tr>\n",
       "\t<tr><td>201601</td><td>10871.001</td><td> 182</td></tr>\n",
       "\t<tr><td>201602</td><td>17602.606</td><td> 167</td></tr>\n",
       "\t<tr><td>201603</td><td>19516.761</td><td> 302</td></tr>\n",
       "\t<tr><td>201604</td><td>26868.998</td><td> 342</td></tr>\n",
       "\t<tr><td>201605</td><td>35449.818</td><td> 409</td></tr>\n",
       "\t<tr><td>201606</td><td>24496.227</td><td> 370</td></tr>\n",
       "\t<tr><td>201607</td><td>16087.580</td><td> 359</td></tr>\n",
       "\t<tr><td>201608</td><td>14750.264</td><td> 346</td></tr>\n",
       "\t<tr><td>201609</td><td>30724.170</td><td> 679</td></tr>\n",
       "\t<tr><td>201610</td><td>19639.751</td><td> 430</td></tr>\n",
       "\t<tr><td>201611</td><td>38113.410</td><td> 674</td></tr>\n",
       "\t<tr><td>201612</td><td>58606.279</td><td> 747</td></tr>\n",
       "\t<tr><td>201701</td><td>22749.976</td><td> 274</td></tr>\n",
       "\t<tr><td>201702</td><td> 9769.588</td><td> 180</td></tr>\n",
       "\t<tr><td>201703</td><td>20081.992</td><td> 449</td></tr>\n",
       "\t<tr><td>201704</td><td>17424.475</td><td> 430</td></tr>\n",
       "\t<tr><td>201705</td><td>20244.376</td><td> 468</td></tr>\n",
       "\t<tr><td>201706</td><td>32929.086</td><td> 521</td></tr>\n",
       "\t<tr><td>201707</td><td>18629.000</td><td> 388</td></tr>\n",
       "\t<tr><td>201708</td><td>32833.176</td><td> 425</td></tr>\n",
       "\t<tr><td>201709</td><td>36546.915</td><td> 841</td></tr>\n",
       "\t<tr><td>201710</td><td>38363.974</td><td> 551</td></tr>\n",
       "\t<tr><td>201711</td><td>62912.310</td><td>1080</td></tr>\n",
       "\t<tr><td>201712</td><td>44775.418</td><td> 818</td></tr>\n",
       "</tbody>\n",
       "</table>\n"
      ],
      "text/latex": [
       "A tbl\\_ts: 48 × 3\n",
       "\\begin{tabular}{lll}\n",
       " year\\_month & Sales & Quantity\\\\\n",
       " <dbl> & <dbl> & <int>\\\\\n",
       "\\hline\n",
       "\t 201401 &  6417.102 &  114\\\\\n",
       "\t 201402 &  1860.736 &  104\\\\\n",
       "\t 201403 & 19023.950 &  250\\\\\n",
       "\t 201404 & 12415.656 &  249\\\\\n",
       "\t 201405 & 15939.349 &  272\\\\\n",
       "\t 201406 & 13837.698 &  275\\\\\n",
       "\t 201407 & 13562.944 &  231\\\\\n",
       "\t 201408 & 14667.032 &  282\\\\\n",
       "\t 201409 & 26681.761 &  491\\\\\n",
       "\t 201410 & 13501.259 &  293\\\\\n",
       "\t 201411 & 33182.735 &  567\\\\\n",
       "\t 201412 & 36905.774 &  555\\\\\n",
       "\t 201501 & 10876.268 &  129\\\\\n",
       "\t 201502 &  7178.193 &  140\\\\\n",
       "\t 201503 & 16185.652 &  276\\\\\n",
       "\t 201504 & 13873.637 &  240\\\\\n",
       "\t 201505 & 14107.253 &  292\\\\\n",
       "\t 201506 & 13281.756 &  236\\\\\n",
       "\t 201507 & 11818.287 &  229\\\\\n",
       "\t 201508 & 18997.201 &  267\\\\\n",
       "\t 201509 & 27161.584 &  539\\\\\n",
       "\t 201510 & 16833.985 &  323\\\\\n",
       "\t 201511 & 39154.531 &  661\\\\\n",
       "\t 201512 & 32410.577 &  597\\\\\n",
       "\t 201601 & 10871.001 &  182\\\\\n",
       "\t 201602 & 17602.606 &  167\\\\\n",
       "\t 201603 & 19516.761 &  302\\\\\n",
       "\t 201604 & 26868.998 &  342\\\\\n",
       "\t 201605 & 35449.818 &  409\\\\\n",
       "\t 201606 & 24496.227 &  370\\\\\n",
       "\t 201607 & 16087.580 &  359\\\\\n",
       "\t 201608 & 14750.264 &  346\\\\\n",
       "\t 201609 & 30724.170 &  679\\\\\n",
       "\t 201610 & 19639.751 &  430\\\\\n",
       "\t 201611 & 38113.410 &  674\\\\\n",
       "\t 201612 & 58606.279 &  747\\\\\n",
       "\t 201701 & 22749.976 &  274\\\\\n",
       "\t 201702 &  9769.588 &  180\\\\\n",
       "\t 201703 & 20081.992 &  449\\\\\n",
       "\t 201704 & 17424.475 &  430\\\\\n",
       "\t 201705 & 20244.376 &  468\\\\\n",
       "\t 201706 & 32929.086 &  521\\\\\n",
       "\t 201707 & 18629.000 &  388\\\\\n",
       "\t 201708 & 32833.176 &  425\\\\\n",
       "\t 201709 & 36546.915 &  841\\\\\n",
       "\t 201710 & 38363.974 &  551\\\\\n",
       "\t 201711 & 62912.310 & 1080\\\\\n",
       "\t 201712 & 44775.418 &  818\\\\\n",
       "\\end{tabular}\n"
      ],
      "text/markdown": [
       "\n",
       "A tbl_ts: 48 × 3\n",
       "\n",
       "| year_month &lt;dbl&gt; | Sales &lt;dbl&gt; | Quantity &lt;int&gt; |\n",
       "|---|---|---|\n",
       "| 201401 |  6417.102 |  114 |\n",
       "| 201402 |  1860.736 |  104 |\n",
       "| 201403 | 19023.950 |  250 |\n",
       "| 201404 | 12415.656 |  249 |\n",
       "| 201405 | 15939.349 |  272 |\n",
       "| 201406 | 13837.698 |  275 |\n",
       "| 201407 | 13562.944 |  231 |\n",
       "| 201408 | 14667.032 |  282 |\n",
       "| 201409 | 26681.761 |  491 |\n",
       "| 201410 | 13501.259 |  293 |\n",
       "| 201411 | 33182.735 |  567 |\n",
       "| 201412 | 36905.774 |  555 |\n",
       "| 201501 | 10876.268 |  129 |\n",
       "| 201502 |  7178.193 |  140 |\n",
       "| 201503 | 16185.652 |  276 |\n",
       "| 201504 | 13873.637 |  240 |\n",
       "| 201505 | 14107.253 |  292 |\n",
       "| 201506 | 13281.756 |  236 |\n",
       "| 201507 | 11818.287 |  229 |\n",
       "| 201508 | 18997.201 |  267 |\n",
       "| 201509 | 27161.584 |  539 |\n",
       "| 201510 | 16833.985 |  323 |\n",
       "| 201511 | 39154.531 |  661 |\n",
       "| 201512 | 32410.577 |  597 |\n",
       "| 201601 | 10871.001 |  182 |\n",
       "| 201602 | 17602.606 |  167 |\n",
       "| 201603 | 19516.761 |  302 |\n",
       "| 201604 | 26868.998 |  342 |\n",
       "| 201605 | 35449.818 |  409 |\n",
       "| 201606 | 24496.227 |  370 |\n",
       "| 201607 | 16087.580 |  359 |\n",
       "| 201608 | 14750.264 |  346 |\n",
       "| 201609 | 30724.170 |  679 |\n",
       "| 201610 | 19639.751 |  430 |\n",
       "| 201611 | 38113.410 |  674 |\n",
       "| 201612 | 58606.279 |  747 |\n",
       "| 201701 | 22749.976 |  274 |\n",
       "| 201702 |  9769.588 |  180 |\n",
       "| 201703 | 20081.992 |  449 |\n",
       "| 201704 | 17424.475 |  430 |\n",
       "| 201705 | 20244.376 |  468 |\n",
       "| 201706 | 32929.086 |  521 |\n",
       "| 201707 | 18629.000 |  388 |\n",
       "| 201708 | 32833.176 |  425 |\n",
       "| 201709 | 36546.915 |  841 |\n",
       "| 201710 | 38363.974 |  551 |\n",
       "| 201711 | 62912.310 | 1080 |\n",
       "| 201712 | 44775.418 |  818 |\n",
       "\n"
      ],
      "text/plain": [
       "   year_month Sales     Quantity\n",
       "1  201401      6417.102  114    \n",
       "2  201402      1860.736  104    \n",
       "3  201403     19023.950  250    \n",
       "4  201404     12415.656  249    \n",
       "5  201405     15939.349  272    \n",
       "6  201406     13837.698  275    \n",
       "7  201407     13562.944  231    \n",
       "8  201408     14667.032  282    \n",
       "9  201409     26681.761  491    \n",
       "10 201410     13501.259  293    \n",
       "11 201411     33182.735  567    \n",
       "12 201412     36905.774  555    \n",
       "13 201501     10876.268  129    \n",
       "14 201502      7178.193  140    \n",
       "15 201503     16185.652  276    \n",
       "16 201504     13873.637  240    \n",
       "17 201505     14107.253  292    \n",
       "18 201506     13281.756  236    \n",
       "19 201507     11818.287  229    \n",
       "20 201508     18997.201  267    \n",
       "21 201509     27161.584  539    \n",
       "22 201510     16833.985  323    \n",
       "23 201511     39154.531  661    \n",
       "24 201512     32410.577  597    \n",
       "25 201601     10871.001  182    \n",
       "26 201602     17602.606  167    \n",
       "27 201603     19516.761  302    \n",
       "28 201604     26868.998  342    \n",
       "29 201605     35449.818  409    \n",
       "30 201606     24496.227  370    \n",
       "31 201607     16087.580  359    \n",
       "32 201608     14750.264  346    \n",
       "33 201609     30724.170  679    \n",
       "34 201610     19639.751  430    \n",
       "35 201611     38113.410  674    \n",
       "36 201612     58606.279  747    \n",
       "37 201701     22749.976  274    \n",
       "38 201702      9769.588  180    \n",
       "39 201703     20081.992  449    \n",
       "40 201704     17424.475  430    \n",
       "41 201705     20244.376  468    \n",
       "42 201706     32929.086  521    \n",
       "43 201707     18629.000  388    \n",
       "44 201708     32833.176  425    \n",
       "45 201709     36546.915  841    \n",
       "46 201710     38363.974  551    \n",
       "47 201711     62912.310 1080    \n",
       "48 201712     44775.418  818    "
      ]
     },
     "metadata": {},
     "output_type": "display_data"
    }
   ],
   "source": [
    "# Agregar os dados por mês\n",
    "tsib_monthly <- tsib %>%\n",
    "  index_by(year_month) %>%\n",
    "  summarise(Sales = sum(Sales), Quantity = sum(Quantity))\n",
    "tsib_monthly"
   ]
  },
  {
   "cell_type": "code",
   "execution_count": 131,
   "metadata": {
    "vscode": {
     "languageId": "r"
    }
   },
   "outputs": [
    {
     "name": "stderr",
     "output_type": "stream",
     "text": [
      "Warning message in xy.coords(x, y, xlabel, ylabel, log):\n",
      "\"NAs introduzidos por coerção\"\n"
     ]
    },
    {
     "ename": "ERROR",
     "evalue": "\u001b[1m\u001b[33mError\u001b[39m in `as.double()`:\u001b[22m\n\u001b[33m!\u001b[39m Can't convert `x` <lst_mdl> to <double>.\n",
     "output_type": "error",
     "traceback": [
      "\u001b[1m\u001b[33mError\u001b[39m in `as.double()`:\u001b[22m\n\u001b[33m!\u001b[39m Can't convert `x` <lst_mdl> to <double>.\nTraceback:\n",
      "1. plot(tsib_decomposed)",
      "2. plot.data.frame(tsib_decomposed)",
      "3. plot2(x, ...)",
      "4. plot(x[[1L]], x[[2L]], xlab = xlab, ylab = ylab, ...)",
      "5. plot.default(x[[1L]], x[[2L]], xlab = xlab, ylab = ylab, ...)",
      "6. xy.coords(x, y, xlabel, ylabel, log)",
      "7. as.double(y)",
      "8. as.double.vctrs_vctr(y)",
      "9. vec_cast(x, double())",
      "10. (function () \n  . vec_default_cast(x = x, to = to, x_arg = x_arg, to_arg = to_arg, \n  .     call = call, `vctrs:::from_dispatch` = `vctrs:::from_dispatch`, \n  .     `vctrs:::s3_fallback` = `vctrs:::s3_fallback`))()",
      "11. vec_default_cast(x = x, to = to, x_arg = x_arg, to_arg = to_arg, \n  .     call = call, `vctrs:::from_dispatch` = `vctrs:::from_dispatch`, \n  .     `vctrs:::s3_fallback` = `vctrs:::s3_fallback`)",
      "12. withRestarts(stop_incompatible_cast(x, to, x_arg = x_arg, to_arg = to_arg, \n  .     `vctrs:::from_dispatch` = match_from_dispatch(...), call = call), \n  .     vctrs_restart_cast = function(out) {\n  .         out\n  .     })",
      "13. withOneRestart(expr, restarts[[1L]])",
      "14. doWithOneRestart(return(expr), restart)",
      "15. stop_incompatible_cast(x, to, x_arg = x_arg, to_arg = to_arg, \n  .     `vctrs:::from_dispatch` = match_from_dispatch(...), call = call)",
      "16. stop_incompatible_type(x = x, y = to, to = to, ..., x_arg = x_arg, \n  .     y_arg = to_arg, to_arg = to_arg, action = \"convert\", details = details, \n  .     message = message, class = class, call = call)",
      "17. stop_incompatible(x, y, x_arg = x_arg, y_arg = y_arg, details = details, \n  .     ..., message = message, class = c(class, subclass, \"vctrs_error_incompatible_type\"), \n  .     call = call)",
      "18. stop_vctrs(message, class = c(class, \"vctrs_error_incompatible\"), \n  .     x = x, y = y, details = details, ..., call = call)",
      "19. abort(message, class = c(class, \"vctrs_error\"), ..., call = call)",
      "20. signal_abort(cnd, .file)"
     ]
    },
    {
     "data": {
      "image/png": "[encoded data removed]",
      "text/plain": [
       "plot without title"
      ]
     },
     "metadata": {
      "image/png": {
       "height": 420,
       "width": 420
      }
     },
     "output_type": "display_data"
    }
   ],
   "source": [
    "# Plotar a série temporal de vendas\n",
    "ggplot(tsib, aes(x = Order.Date, y = Sales)) +\n",
    "  geom_line() +\n",
    "  labs(title = \"Vendas ao longo do tempo\",\n",
    "       x = \"Data do pedido\",\n",
    "       y = \"Vendas\")\n",
    "\n",
    "# Decompor a série temporal de vendas em tendência, sazonalidade e erro\n",
    "tsib_decomposed <- tsib %>%\n",
    "  model(stl = STL(Sales))\n",
    "\n",
    "# Visualizar a decomposição da série temporal\n",
    "plot(tsib_decomposed)\n"
   ]
  }
 ],
 "metadata": {
  "kernelspec": {
   "display_name": "R",
   "language": "R",
   "name": "ir"
  },
  "language_info": {
   "codemirror_mode": "r",
   "file_extension": ".r",
   "mimetype": "text/x-r-source",
   "name": "R",
   "pygments_lexer": "r",
   "version": "4.1.3"
  },
  "orig_nbformat": 4
 },
 "nbformat": 4,
 "nbformat_minor": 2
}
